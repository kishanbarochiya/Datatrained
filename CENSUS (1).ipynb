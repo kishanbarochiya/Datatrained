{
 "cells": [
  {
   "cell_type": "markdown",
   "metadata": {},
   "source": [
    "CENSUS INCOME PREDICTION MODEL:\n",
    "    \n",
    "Here, we have data of Census Income which was extracted from the 1994 Census bureau database by Ronny Kohavi and Barry Becker. \n",
    "\n",
    "GOAL:\n",
    "    \n",
    "The prediction task is to determine whether a person makes over $50K a year."
   ]
  },
  {
   "cell_type": "markdown",
   "metadata": {},
   "source": [
    "Import libraries"
   ]
  },
  {
   "cell_type": "code",
   "execution_count": 1,
   "metadata": {},
   "outputs": [],
   "source": [
    "import pandas as pd\n",
    "import numpy as np\n",
    "import matplotlib.pyplot as plt\n",
    "import seaborn as sns\n",
    "%matplotlib inline\n",
    "from sklearn.preprocessing import StandardScaler # To fit all data on same scale\n",
    "from sklearn.model_selection import train_test_split # To split data in 2 parts\n",
    "from sklearn.linear_model import LogisticRegression #models to perform on data\n",
    "from sklearn.metrics import accuracy_score,confusion_matrix,classification_report,f1_score\n",
    "from sklearn.svm import SVC\n",
    "from sklearn.ensemble import RandomForestClassifier\n",
    "from sklearn.neighbors import KNeighborsClassifier\n",
    "from sklearn.naive_bayes import GaussianNB\n",
    "from sklearn.linear_model import Perceptron\n",
    "from sklearn.linear_model import SGDClassifier\n",
    "from sklearn.tree import DecisionTreeClassifier\n",
    "from sklearn.ensemble import AdaBoostClassifier,GradientBoostingClassifier\n",
    "from sklearn.model_selection import GridSearchCV\n",
    "from sklearn.model_selection import cross_val_score\n",
    "from sklearn.ensemble import VotingClassifier\n",
    "from sklearn.metrics import roc_curve,roc_auc_score"
   ]
  },
  {
   "cell_type": "code",
   "execution_count": 2,
   "metadata": {},
   "outputs": [
    {
     "data": {
      "text/html": [
       "<div>\n",
       "<style scoped>\n",
       "    .dataframe tbody tr th:only-of-type {\n",
       "        vertical-align: middle;\n",
       "    }\n",
       "\n",
       "    .dataframe tbody tr th {\n",
       "        vertical-align: top;\n",
       "    }\n",
       "\n",
       "    .dataframe thead th {\n",
       "        text-align: right;\n",
       "    }\n",
       "</style>\n",
       "<table border=\"1\" class=\"dataframe\">\n",
       "  <thead>\n",
       "    <tr style=\"text-align: right;\">\n",
       "      <th></th>\n",
       "      <th>Age</th>\n",
       "      <th>Workclass</th>\n",
       "      <th>Fnlwgt</th>\n",
       "      <th>Education</th>\n",
       "      <th>Education_num</th>\n",
       "      <th>Marital_status</th>\n",
       "      <th>Occupation</th>\n",
       "      <th>Relationship</th>\n",
       "      <th>Race</th>\n",
       "      <th>Sex</th>\n",
       "      <th>Capital_gain</th>\n",
       "      <th>Capital_loss</th>\n",
       "      <th>Hours_per_week</th>\n",
       "      <th>Native_country</th>\n",
       "      <th>Income</th>\n",
       "    </tr>\n",
       "  </thead>\n",
       "  <tbody>\n",
       "    <tr>\n",
       "      <th>0</th>\n",
       "      <td>50</td>\n",
       "      <td>Self-emp-not-inc</td>\n",
       "      <td>83311</td>\n",
       "      <td>Bachelors</td>\n",
       "      <td>13</td>\n",
       "      <td>Married-civ-spouse</td>\n",
       "      <td>Exec-managerial</td>\n",
       "      <td>Husband</td>\n",
       "      <td>White</td>\n",
       "      <td>Male</td>\n",
       "      <td>0</td>\n",
       "      <td>0</td>\n",
       "      <td>13</td>\n",
       "      <td>United-States</td>\n",
       "      <td>&lt;=50K</td>\n",
       "    </tr>\n",
       "    <tr>\n",
       "      <th>1</th>\n",
       "      <td>38</td>\n",
       "      <td>Private</td>\n",
       "      <td>215646</td>\n",
       "      <td>HS-grad</td>\n",
       "      <td>9</td>\n",
       "      <td>Divorced</td>\n",
       "      <td>Handlers-cleaners</td>\n",
       "      <td>Not-in-family</td>\n",
       "      <td>White</td>\n",
       "      <td>Male</td>\n",
       "      <td>0</td>\n",
       "      <td>0</td>\n",
       "      <td>40</td>\n",
       "      <td>United-States</td>\n",
       "      <td>&lt;=50K</td>\n",
       "    </tr>\n",
       "    <tr>\n",
       "      <th>2</th>\n",
       "      <td>53</td>\n",
       "      <td>Private</td>\n",
       "      <td>234721</td>\n",
       "      <td>11th</td>\n",
       "      <td>7</td>\n",
       "      <td>Married-civ-spouse</td>\n",
       "      <td>Handlers-cleaners</td>\n",
       "      <td>Husband</td>\n",
       "      <td>Black</td>\n",
       "      <td>Male</td>\n",
       "      <td>0</td>\n",
       "      <td>0</td>\n",
       "      <td>40</td>\n",
       "      <td>United-States</td>\n",
       "      <td>&lt;=50K</td>\n",
       "    </tr>\n",
       "    <tr>\n",
       "      <th>3</th>\n",
       "      <td>28</td>\n",
       "      <td>Private</td>\n",
       "      <td>338409</td>\n",
       "      <td>Bachelors</td>\n",
       "      <td>13</td>\n",
       "      <td>Married-civ-spouse</td>\n",
       "      <td>Prof-specialty</td>\n",
       "      <td>Wife</td>\n",
       "      <td>Black</td>\n",
       "      <td>Female</td>\n",
       "      <td>0</td>\n",
       "      <td>0</td>\n",
       "      <td>40</td>\n",
       "      <td>Cuba</td>\n",
       "      <td>&lt;=50K</td>\n",
       "    </tr>\n",
       "    <tr>\n",
       "      <th>4</th>\n",
       "      <td>37</td>\n",
       "      <td>Private</td>\n",
       "      <td>284582</td>\n",
       "      <td>Masters</td>\n",
       "      <td>14</td>\n",
       "      <td>Married-civ-spouse</td>\n",
       "      <td>Exec-managerial</td>\n",
       "      <td>Wife</td>\n",
       "      <td>White</td>\n",
       "      <td>Female</td>\n",
       "      <td>0</td>\n",
       "      <td>0</td>\n",
       "      <td>40</td>\n",
       "      <td>United-States</td>\n",
       "      <td>&lt;=50K</td>\n",
       "    </tr>\n",
       "  </tbody>\n",
       "</table>\n",
       "</div>"
      ],
      "text/plain": [
       "   Age          Workclass  Fnlwgt   Education  Education_num  \\\n",
       "0   50   Self-emp-not-inc   83311   Bachelors             13   \n",
       "1   38            Private  215646     HS-grad              9   \n",
       "2   53            Private  234721        11th              7   \n",
       "3   28            Private  338409   Bachelors             13   \n",
       "4   37            Private  284582     Masters             14   \n",
       "\n",
       "        Marital_status          Occupation    Relationship    Race      Sex  \\\n",
       "0   Married-civ-spouse     Exec-managerial         Husband   White     Male   \n",
       "1             Divorced   Handlers-cleaners   Not-in-family   White     Male   \n",
       "2   Married-civ-spouse   Handlers-cleaners         Husband   Black     Male   \n",
       "3   Married-civ-spouse      Prof-specialty            Wife   Black   Female   \n",
       "4   Married-civ-spouse     Exec-managerial            Wife   White   Female   \n",
       "\n",
       "   Capital_gain  Capital_loss  Hours_per_week  Native_country  Income  \n",
       "0             0             0              13   United-States   <=50K  \n",
       "1             0             0              40   United-States   <=50K  \n",
       "2             0             0              40   United-States   <=50K  \n",
       "3             0             0              40            Cuba   <=50K  \n",
       "4             0             0              40   United-States   <=50K  "
      ]
     },
     "execution_count": 2,
     "metadata": {},
     "output_type": "execute_result"
    }
   ],
   "source": [
    "df = pd.read_csv(\"census_income.csv\")\n",
    "df.head()\n",
    "\n",
    "#LOAD THE DATASET"
   ]
  },
  {
   "cell_type": "code",
   "execution_count": 3,
   "metadata": {},
   "outputs": [
    {
     "data": {
      "text/plain": [
       "(32560, 15)"
      ]
     },
     "execution_count": 3,
     "metadata": {},
     "output_type": "execute_result"
    }
   ],
   "source": [
    "df.shape\n",
    "#we have total 32560 rows and 15 columns"
   ]
  },
  {
   "cell_type": "code",
   "execution_count": 4,
   "metadata": {},
   "outputs": [
    {
     "data": {
      "text/plain": [
       "Age               0\n",
       "Workclass         0\n",
       "Fnlwgt            0\n",
       "Education         0\n",
       "Education_num     0\n",
       "Marital_status    0\n",
       "Occupation        0\n",
       "Relationship      0\n",
       "Race              0\n",
       "Sex               0\n",
       "Capital_gain      0\n",
       "Capital_loss      0\n",
       "Hours_per_week    0\n",
       "Native_country    0\n",
       "Income            0\n",
       "dtype: int64"
      ]
     },
     "execution_count": 4,
     "metadata": {},
     "output_type": "execute_result"
    }
   ],
   "source": [
    "df.isnull().sum()\n",
    "#yeh, data is pretty clean and their is no null values"
   ]
  },
  {
   "cell_type": "code",
   "execution_count": 5,
   "metadata": {},
   "outputs": [
    {
     "data": {
      "text/html": [
       "<div>\n",
       "<style scoped>\n",
       "    .dataframe tbody tr th:only-of-type {\n",
       "        vertical-align: middle;\n",
       "    }\n",
       "\n",
       "    .dataframe tbody tr th {\n",
       "        vertical-align: top;\n",
       "    }\n",
       "\n",
       "    .dataframe thead th {\n",
       "        text-align: right;\n",
       "    }\n",
       "</style>\n",
       "<table border=\"1\" class=\"dataframe\">\n",
       "  <thead>\n",
       "    <tr style=\"text-align: right;\">\n",
       "      <th></th>\n",
       "      <th>Age</th>\n",
       "      <th>Fnlwgt</th>\n",
       "      <th>Education_num</th>\n",
       "      <th>Capital_gain</th>\n",
       "      <th>Capital_loss</th>\n",
       "      <th>Hours_per_week</th>\n",
       "    </tr>\n",
       "  </thead>\n",
       "  <tbody>\n",
       "    <tr>\n",
       "      <th>17738</th>\n",
       "      <td>42</td>\n",
       "      <td>187294</td>\n",
       "      <td>10</td>\n",
       "      <td>0</td>\n",
       "      <td>0</td>\n",
       "      <td>40</td>\n",
       "    </tr>\n",
       "    <tr>\n",
       "      <th>18081</th>\n",
       "      <td>28</td>\n",
       "      <td>190391</td>\n",
       "      <td>13</td>\n",
       "      <td>0</td>\n",
       "      <td>0</td>\n",
       "      <td>50</td>\n",
       "    </tr>\n",
       "    <tr>\n",
       "      <th>15070</th>\n",
       "      <td>39</td>\n",
       "      <td>174924</td>\n",
       "      <td>9</td>\n",
       "      <td>14344</td>\n",
       "      <td>0</td>\n",
       "      <td>40</td>\n",
       "    </tr>\n",
       "    <tr>\n",
       "      <th>7054</th>\n",
       "      <td>50</td>\n",
       "      <td>133963</td>\n",
       "      <td>9</td>\n",
       "      <td>0</td>\n",
       "      <td>0</td>\n",
       "      <td>35</td>\n",
       "    </tr>\n",
       "    <tr>\n",
       "      <th>4068</th>\n",
       "      <td>25</td>\n",
       "      <td>104662</td>\n",
       "      <td>9</td>\n",
       "      <td>0</td>\n",
       "      <td>0</td>\n",
       "      <td>22</td>\n",
       "    </tr>\n",
       "    <tr>\n",
       "      <th>21006</th>\n",
       "      <td>61</td>\n",
       "      <td>101265</td>\n",
       "      <td>10</td>\n",
       "      <td>0</td>\n",
       "      <td>0</td>\n",
       "      <td>43</td>\n",
       "    </tr>\n",
       "    <tr>\n",
       "      <th>3389</th>\n",
       "      <td>45</td>\n",
       "      <td>214627</td>\n",
       "      <td>16</td>\n",
       "      <td>15020</td>\n",
       "      <td>0</td>\n",
       "      <td>40</td>\n",
       "    </tr>\n",
       "    <tr>\n",
       "      <th>16901</th>\n",
       "      <td>52</td>\n",
       "      <td>137428</td>\n",
       "      <td>9</td>\n",
       "      <td>0</td>\n",
       "      <td>0</td>\n",
       "      <td>45</td>\n",
       "    </tr>\n",
       "    <tr>\n",
       "      <th>7546</th>\n",
       "      <td>20</td>\n",
       "      <td>141481</td>\n",
       "      <td>7</td>\n",
       "      <td>0</td>\n",
       "      <td>0</td>\n",
       "      <td>50</td>\n",
       "    </tr>\n",
       "    <tr>\n",
       "      <th>17389</th>\n",
       "      <td>22</td>\n",
       "      <td>390817</td>\n",
       "      <td>3</td>\n",
       "      <td>0</td>\n",
       "      <td>0</td>\n",
       "      <td>40</td>\n",
       "    </tr>\n",
       "  </tbody>\n",
       "</table>\n",
       "</div>"
      ],
      "text/plain": [
       "       Age  Fnlwgt  Education_num  Capital_gain  Capital_loss  Hours_per_week\n",
       "17738   42  187294             10             0             0              40\n",
       "18081   28  190391             13             0             0              50\n",
       "15070   39  174924              9         14344             0              40\n",
       "7054    50  133963              9             0             0              35\n",
       "4068    25  104662              9             0             0              22\n",
       "21006   61  101265             10             0             0              43\n",
       "3389    45  214627             16         15020             0              40\n",
       "16901   52  137428              9             0             0              45\n",
       "7546    20  141481              7             0             0              50\n",
       "17389   22  390817              3             0             0              40"
      ]
     },
     "execution_count": 5,
     "metadata": {},
     "output_type": "execute_result"
    }
   ],
   "source": [
    "num = ['float64','int64']\n",
    "my_df = df.select_dtypes(include=num)\n",
    "my_df.sample(n=10)\n",
    "\n",
    "#all int or float type column"
   ]
  },
  {
   "cell_type": "code",
   "execution_count": 6,
   "metadata": {},
   "outputs": [
    {
     "data": {
      "text/html": [
       "<div>\n",
       "<style scoped>\n",
       "    .dataframe tbody tr th:only-of-type {\n",
       "        vertical-align: middle;\n",
       "    }\n",
       "\n",
       "    .dataframe tbody tr th {\n",
       "        vertical-align: top;\n",
       "    }\n",
       "\n",
       "    .dataframe thead th {\n",
       "        text-align: right;\n",
       "    }\n",
       "</style>\n",
       "<table border=\"1\" class=\"dataframe\">\n",
       "  <thead>\n",
       "    <tr style=\"text-align: right;\">\n",
       "      <th></th>\n",
       "      <th>Workclass</th>\n",
       "      <th>Education</th>\n",
       "      <th>Marital_status</th>\n",
       "      <th>Occupation</th>\n",
       "      <th>Relationship</th>\n",
       "      <th>Race</th>\n",
       "      <th>Sex</th>\n",
       "      <th>Native_country</th>\n",
       "      <th>Income</th>\n",
       "    </tr>\n",
       "  </thead>\n",
       "  <tbody>\n",
       "    <tr>\n",
       "      <th>17572</th>\n",
       "      <td>Local-gov</td>\n",
       "      <td>Some-college</td>\n",
       "      <td>Married-civ-spouse</td>\n",
       "      <td>Exec-managerial</td>\n",
       "      <td>Husband</td>\n",
       "      <td>White</td>\n",
       "      <td>Male</td>\n",
       "      <td>United-States</td>\n",
       "      <td>&gt;50K</td>\n",
       "    </tr>\n",
       "    <tr>\n",
       "      <th>7709</th>\n",
       "      <td>Local-gov</td>\n",
       "      <td>Bachelors</td>\n",
       "      <td>Married-civ-spouse</td>\n",
       "      <td>Prof-specialty</td>\n",
       "      <td>Husband</td>\n",
       "      <td>White</td>\n",
       "      <td>Male</td>\n",
       "      <td>United-States</td>\n",
       "      <td>&lt;=50K</td>\n",
       "    </tr>\n",
       "    <tr>\n",
       "      <th>29211</th>\n",
       "      <td>Private</td>\n",
       "      <td>Some-college</td>\n",
       "      <td>Never-married</td>\n",
       "      <td>Handlers-cleaners</td>\n",
       "      <td>Other-relative</td>\n",
       "      <td>Black</td>\n",
       "      <td>Male</td>\n",
       "      <td>?</td>\n",
       "      <td>&lt;=50K</td>\n",
       "    </tr>\n",
       "    <tr>\n",
       "      <th>3629</th>\n",
       "      <td>Local-gov</td>\n",
       "      <td>Bachelors</td>\n",
       "      <td>Divorced</td>\n",
       "      <td>Prof-specialty</td>\n",
       "      <td>Unmarried</td>\n",
       "      <td>White</td>\n",
       "      <td>Female</td>\n",
       "      <td>United-States</td>\n",
       "      <td>&lt;=50K</td>\n",
       "    </tr>\n",
       "    <tr>\n",
       "      <th>4099</th>\n",
       "      <td>Private</td>\n",
       "      <td>Bachelors</td>\n",
       "      <td>Never-married</td>\n",
       "      <td>Craft-repair</td>\n",
       "      <td>Unmarried</td>\n",
       "      <td>White</td>\n",
       "      <td>Male</td>\n",
       "      <td>United-States</td>\n",
       "      <td>&lt;=50K</td>\n",
       "    </tr>\n",
       "    <tr>\n",
       "      <th>10406</th>\n",
       "      <td>Private</td>\n",
       "      <td>HS-grad</td>\n",
       "      <td>Never-married</td>\n",
       "      <td>Other-service</td>\n",
       "      <td>Own-child</td>\n",
       "      <td>White</td>\n",
       "      <td>Female</td>\n",
       "      <td>United-States</td>\n",
       "      <td>&lt;=50K</td>\n",
       "    </tr>\n",
       "    <tr>\n",
       "      <th>17018</th>\n",
       "      <td>Private</td>\n",
       "      <td>Bachelors</td>\n",
       "      <td>Never-married</td>\n",
       "      <td>Adm-clerical</td>\n",
       "      <td>Own-child</td>\n",
       "      <td>White</td>\n",
       "      <td>Female</td>\n",
       "      <td>United-States</td>\n",
       "      <td>&lt;=50K</td>\n",
       "    </tr>\n",
       "    <tr>\n",
       "      <th>10279</th>\n",
       "      <td>Self-emp-inc</td>\n",
       "      <td>HS-grad</td>\n",
       "      <td>Married-civ-spouse</td>\n",
       "      <td>Exec-managerial</td>\n",
       "      <td>Husband</td>\n",
       "      <td>White</td>\n",
       "      <td>Male</td>\n",
       "      <td>United-States</td>\n",
       "      <td>&lt;=50K</td>\n",
       "    </tr>\n",
       "    <tr>\n",
       "      <th>17880</th>\n",
       "      <td>Private</td>\n",
       "      <td>HS-grad</td>\n",
       "      <td>Widowed</td>\n",
       "      <td>Sales</td>\n",
       "      <td>Not-in-family</td>\n",
       "      <td>White</td>\n",
       "      <td>Female</td>\n",
       "      <td>United-States</td>\n",
       "      <td>&lt;=50K</td>\n",
       "    </tr>\n",
       "    <tr>\n",
       "      <th>14115</th>\n",
       "      <td>Private</td>\n",
       "      <td>HS-grad</td>\n",
       "      <td>Never-married</td>\n",
       "      <td>Adm-clerical</td>\n",
       "      <td>Unmarried</td>\n",
       "      <td>White</td>\n",
       "      <td>Female</td>\n",
       "      <td>United-States</td>\n",
       "      <td>&lt;=50K</td>\n",
       "    </tr>\n",
       "  </tbody>\n",
       "</table>\n",
       "</div>"
      ],
      "text/plain": [
       "           Workclass      Education       Marital_status          Occupation  \\\n",
       "17572      Local-gov   Some-college   Married-civ-spouse     Exec-managerial   \n",
       "7709       Local-gov      Bachelors   Married-civ-spouse      Prof-specialty   \n",
       "29211        Private   Some-college        Never-married   Handlers-cleaners   \n",
       "3629       Local-gov      Bachelors             Divorced      Prof-specialty   \n",
       "4099         Private      Bachelors        Never-married        Craft-repair   \n",
       "10406        Private        HS-grad        Never-married       Other-service   \n",
       "17018        Private      Bachelors        Never-married        Adm-clerical   \n",
       "10279   Self-emp-inc        HS-grad   Married-civ-spouse     Exec-managerial   \n",
       "17880        Private        HS-grad              Widowed               Sales   \n",
       "14115        Private        HS-grad        Never-married        Adm-clerical   \n",
       "\n",
       "          Relationship    Race      Sex  Native_country  Income  \n",
       "17572          Husband   White     Male   United-States    >50K  \n",
       "7709           Husband   White     Male   United-States   <=50K  \n",
       "29211   Other-relative   Black     Male               ?   <=50K  \n",
       "3629         Unmarried   White   Female   United-States   <=50K  \n",
       "4099         Unmarried   White     Male   United-States   <=50K  \n",
       "10406        Own-child   White   Female   United-States   <=50K  \n",
       "17018        Own-child   White   Female   United-States   <=50K  \n",
       "10279          Husband   White     Male   United-States   <=50K  \n",
       "17880    Not-in-family   White   Female   United-States   <=50K  \n",
       "14115        Unmarried   White   Female   United-States   <=50K  "
      ]
     },
     "execution_count": 6,
     "metadata": {},
     "output_type": "execute_result"
    }
   ],
   "source": [
    "objt = ['object']\n",
    "my_df1 = df.select_dtypes(include=objt)\n",
    "my_df1.sample(n=10)\n",
    "\n",
    "#Object type columns"
   ]
  },
  {
   "cell_type": "code",
   "execution_count": 7,
   "metadata": {},
   "outputs": [],
   "source": [
    "categorical_df=[j for j in df if df[j].dtype == 'object']"
   ]
  },
  {
   "cell_type": "code",
   "execution_count": 8,
   "metadata": {},
   "outputs": [
    {
     "name": "stdout",
     "output_type": "stream",
     "text": [
      "Workclass [' Self-emp-not-inc' ' Private' ' State-gov' ' Federal-gov' ' Local-gov'\n",
      " ' ?' ' Self-emp-inc' ' Without-pay' ' Never-worked']\n",
      "Education [' Bachelors' ' HS-grad' ' 11th' ' Masters' ' 9th' ' Some-college'\n",
      " ' Assoc-acdm' ' Assoc-voc' ' 7th-8th' ' Doctorate' ' Prof-school'\n",
      " ' 5th-6th' ' 10th' ' 1st-4th' ' Preschool' ' 12th']\n",
      "Marital_status [' Married-civ-spouse' ' Divorced' ' Married-spouse-absent'\n",
      " ' Never-married' ' Separated' ' Married-AF-spouse' ' Widowed']\n",
      "Occupation [' Exec-managerial' ' Handlers-cleaners' ' Prof-specialty'\n",
      " ' Other-service' ' Adm-clerical' ' Sales' ' Craft-repair'\n",
      " ' Transport-moving' ' Farming-fishing' ' Machine-op-inspct'\n",
      " ' Tech-support' ' ?' ' Protective-serv' ' Armed-Forces'\n",
      " ' Priv-house-serv']\n",
      "Relationship [' Husband' ' Not-in-family' ' Wife' ' Own-child' ' Unmarried'\n",
      " ' Other-relative']\n",
      "Race [' White' ' Black' ' Asian-Pac-Islander' ' Amer-Indian-Eskimo' ' Other']\n",
      "Sex [' Male' ' Female']\n",
      "Native_country [' United-States' ' Cuba' ' Jamaica' ' India' ' ?' ' Mexico' ' South'\n",
      " ' Puerto-Rico' ' Honduras' ' England' ' Canada' ' Germany' ' Iran'\n",
      " ' Philippines' ' Italy' ' Poland' ' Columbia' ' Cambodia' ' Thailand'\n",
      " ' Ecuador' ' Laos' ' Taiwan' ' Haiti' ' Portugal' ' Dominican-Republic'\n",
      " ' El-Salvador' ' France' ' Guatemala' ' China' ' Japan' ' Yugoslavia'\n",
      " ' Peru' ' Outlying-US(Guam-USVI-etc)' ' Scotland' ' Trinadad&Tobago'\n",
      " ' Greece' ' Nicaragua' ' Vietnam' ' Hong' ' Ireland' ' Hungary'\n",
      " ' Holand-Netherlands']\n",
      "Income [' <=50K' ' >50K']\n"
     ]
    }
   ],
   "source": [
    "for i in categorical_df:\n",
    "    columns = df[i].unique()\n",
    "    print(i,columns)\n",
    "    \n",
    "#ALL UNIQUE VALUES IN CATAGORICAL DATA"
   ]
  },
  {
   "cell_type": "markdown",
   "metadata": {},
   "source": [
    "Here, we have many unique values so we will sort our data and make it easy"
   ]
  },
  {
   "cell_type": "code",
   "execution_count": 9,
   "metadata": {},
   "outputs": [],
   "source": [
    "df['Workclass']= df['Workclass'].replace([' State-gov',' Federal-gov',' Local-gov'],['government','government','government'],inplace = False)\n",
    "df['Workclass']= df['Workclass'].replace([' Self-emp-not-inc',' Self-emp-inc'],['self-employed','self-employed'],inplace = False)\n",
    "df['Workclass']= df['Workclass'].replace([' ?',' Without-pay',' Never-worked'],['other','other','other'],inplace = False)"
   ]
  },
  {
   "cell_type": "code",
   "execution_count": 10,
   "metadata": {},
   "outputs": [
    {
     "data": {
      "text/plain": [
       "array(['self-employed', ' Private', 'government', 'other'], dtype=object)"
      ]
     },
     "execution_count": 10,
     "metadata": {},
     "output_type": "execute_result"
    }
   ],
   "source": [
    "df['Workclass'].unique()"
   ]
  },
  {
   "cell_type": "code",
   "execution_count": 11,
   "metadata": {},
   "outputs": [],
   "source": [
    "df['Education']= df['Education'].replace([' Preschool',' 1st-4th',' 5th-6th',' 7th-8th'],['primary','primary','primary','primary'],inplace = False)\n",
    "df['Education']= df['Education'].replace([' 9th',' 10th',' 11th',' 12th',' HS-grad'],['Secondary','Secondary','Secondary','Secondary','Secondary'],inplace = False)\n",
    "df['Education']= df['Education'].replace([' Some-college',' Assoc-acdm',' Assoc-voc',' Prof-school',' Doctorate',' Bachelors',' Masters'],['other','other','other','other','other','Bachelors','Masters'],inplace = False)"
   ]
  },
  {
   "cell_type": "code",
   "execution_count": 12,
   "metadata": {},
   "outputs": [
    {
     "data": {
      "text/plain": [
       "array(['Bachelors', 'Secondary', 'Masters', 'other', 'primary'],\n",
       "      dtype=object)"
      ]
     },
     "execution_count": 12,
     "metadata": {},
     "output_type": "execute_result"
    }
   ],
   "source": [
    "df['Education'].unique()"
   ]
  },
  {
   "cell_type": "code",
   "execution_count": 13,
   "metadata": {},
   "outputs": [],
   "source": [
    "df['Marital_status']= df['Marital_status'].replace([' Married-civ-spouse',' Married-spouse-absent',' Married-AF-spouse'],['married','married','married'],inplace = False)\n",
    "df['Marital_status']= df['Marital_status'].replace([' Never-married',' Divorced',' Widowed',' Separated'],['single','other','other','other'],inplace = False)\n"
   ]
  },
  {
   "cell_type": "code",
   "execution_count": 14,
   "metadata": {},
   "outputs": [
    {
     "data": {
      "text/plain": [
       "array(['married', 'other', 'single'], dtype=object)"
      ]
     },
     "execution_count": 14,
     "metadata": {},
     "output_type": "execute_result"
    }
   ],
   "source": [
    "df['Marital_status'].unique()"
   ]
  },
  {
   "cell_type": "code",
   "execution_count": 15,
   "metadata": {},
   "outputs": [],
   "source": [
    "df['Occupation']= df['Occupation'].replace([' Adm-clerical',' Prof-specialty',' Exec-managerial'],['class1','class1','class1'],inplace = False)\n",
    "df['Occupation']= df['Occupation'].replace([' Sales',' Protective-serv',' Tech-support',' Machine-op-inspct'],['class2','class2','class2','class2'],inplace = False)\n",
    "df['Occupation']= df['Occupation'].replace([' Handlers-cleaners',' ?',' Other-service',' Craft-repair',' Transport-moving',' Farming-fishing',' Armed-Forces',' Priv-house-serv'],['class3','class3','class3','class3','class3','class3','class3','class3'],inplace = False)"
   ]
  },
  {
   "cell_type": "code",
   "execution_count": 16,
   "metadata": {},
   "outputs": [
    {
     "data": {
      "text/plain": [
       "array(['class1', 'class3', 'class2'], dtype=object)"
      ]
     },
     "execution_count": 16,
     "metadata": {},
     "output_type": "execute_result"
    }
   ],
   "source": [
    "df['Occupation'].unique()"
   ]
  },
  {
   "cell_type": "code",
   "execution_count": 17,
   "metadata": {},
   "outputs": [
    {
     "data": {
      "text/plain": [
       "array(['spouse', 'others', 'child', 'single'], dtype=object)"
      ]
     },
     "execution_count": 17,
     "metadata": {},
     "output_type": "execute_result"
    }
   ],
   "source": [
    "df['Relationship']= df['Relationship'].replace([' Husband',' Wife',' Own-child',' Unmarried',' Not-in-family',' Other-relative'],['spouse','spouse','child','single','others','others'],inplace = False)\n",
    "df['Relationship'].unique()"
   ]
  },
  {
   "cell_type": "code",
   "execution_count": 18,
   "metadata": {},
   "outputs": [
    {
     "data": {
      "text/plain": [
       "array(['white', 'black', 'other'], dtype=object)"
      ]
     },
     "execution_count": 18,
     "metadata": {},
     "output_type": "execute_result"
    }
   ],
   "source": [
    "df['Race']= df['Race'].replace([' White',' Black',' Asian-Pac-Islander',' Amer-Indian-Eskimo',' Other'],['white','black','other','other','other'],inplace = False)\n",
    "df['Race'].unique()"
   ]
  },
  {
   "cell_type": "code",
   "execution_count": 19,
   "metadata": {},
   "outputs": [
    {
     "data": {
      "text/plain": [
       "array(['male', 'female'], dtype=object)"
      ]
     },
     "execution_count": 19,
     "metadata": {},
     "output_type": "execute_result"
    }
   ],
   "source": [
    "df['Sex']= df['Sex'].replace([' Male',' Female'],['male','female'],inplace = False)\n",
    "df['Sex'].unique()"
   ]
  },
  {
   "cell_type": "code",
   "execution_count": 20,
   "metadata": {},
   "outputs": [],
   "source": [
    "df.Native_country = df.Native_country.str.replace(' ', '')\n",
    "df.Income  = df.Income .str.replace(' ', '')"
   ]
  },
  {
   "cell_type": "code",
   "execution_count": 21,
   "metadata": {},
   "outputs": [
    {
     "data": {
      "text/plain": [
       "array(['United-States', 'Cuba', 'Jamaica', 'India', '?', 'Mexico',\n",
       "       'South', 'Puerto-Rico', 'Honduras', 'England', 'Canada', 'Germany',\n",
       "       'Iran', 'Philippines', 'Italy', 'Poland', 'Columbia', 'Cambodia',\n",
       "       'Thailand', 'Ecuador', 'Laos', 'Taiwan', 'Haiti', 'Portugal',\n",
       "       'Dominican-Republic', 'El-Salvador', 'France', 'Guatemala',\n",
       "       'China', 'Japan', 'Yugoslavia', 'Peru',\n",
       "       'Outlying-US(Guam-USVI-etc)', 'Scotland', 'Trinadad&Tobago',\n",
       "       'Greece', 'Nicaragua', 'Vietnam', 'Hong', 'Ireland', 'Hungary',\n",
       "       'Holand-Netherlands'], dtype=object)"
      ]
     },
     "execution_count": 21,
     "metadata": {},
     "output_type": "execute_result"
    }
   ],
   "source": [
    "df['Native_country'].unique()"
   ]
  },
  {
   "cell_type": "code",
   "execution_count": 22,
   "metadata": {},
   "outputs": [
    {
     "name": "stdout",
     "output_type": "stream",
     "text": [
      "Workclass ['self-employed' ' Private' 'government' 'other']\n",
      "Education ['Bachelors' 'Secondary' 'Masters' 'other' 'primary']\n",
      "Marital_status ['married' 'other' 'single']\n",
      "Occupation ['class1' 'class3' 'class2']\n",
      "Relationship ['spouse' 'others' 'child' 'single']\n",
      "Race ['white' 'black' 'other']\n",
      "Sex ['male' 'female']\n",
      "Native_country ['United-States' 'Cuba' 'Jamaica' 'India' '?' 'Mexico' 'South'\n",
      " 'Puerto-Rico' 'Honduras' 'England' 'Canada' 'Germany' 'Iran'\n",
      " 'Philippines' 'Italy' 'Poland' 'Columbia' 'Cambodia' 'Thailand' 'Ecuador'\n",
      " 'Laos' 'Taiwan' 'Haiti' 'Portugal' 'Dominican-Republic' 'El-Salvador'\n",
      " 'France' 'Guatemala' 'China' 'Japan' 'Yugoslavia' 'Peru'\n",
      " 'Outlying-US(Guam-USVI-etc)' 'Scotland' 'Trinadad&Tobago' 'Greece'\n",
      " 'Nicaragua' 'Vietnam' 'Hong' 'Ireland' 'Hungary' 'Holand-Netherlands']\n",
      "Income ['<=50K' '>50K']\n"
     ]
    }
   ],
   "source": [
    "for i in categorical_df:\n",
    "    columns = df[i].unique()\n",
    "    print(i,columns)"
   ]
  },
  {
   "cell_type": "code",
   "execution_count": 23,
   "metadata": {},
   "outputs": [
    {
     "data": {
      "text/html": [
       "<div>\n",
       "<style scoped>\n",
       "    .dataframe tbody tr th:only-of-type {\n",
       "        vertical-align: middle;\n",
       "    }\n",
       "\n",
       "    .dataframe tbody tr th {\n",
       "        vertical-align: top;\n",
       "    }\n",
       "\n",
       "    .dataframe thead th {\n",
       "        text-align: right;\n",
       "    }\n",
       "</style>\n",
       "<table border=\"1\" class=\"dataframe\">\n",
       "  <thead>\n",
       "    <tr style=\"text-align: right;\">\n",
       "      <th></th>\n",
       "      <th>Age</th>\n",
       "      <th>Workclass</th>\n",
       "      <th>Fnlwgt</th>\n",
       "      <th>Education</th>\n",
       "      <th>Education_num</th>\n",
       "      <th>Marital_status</th>\n",
       "      <th>Occupation</th>\n",
       "      <th>Relationship</th>\n",
       "      <th>Race</th>\n",
       "      <th>Sex</th>\n",
       "      <th>Capital_gain</th>\n",
       "      <th>Capital_loss</th>\n",
       "      <th>Hours_per_week</th>\n",
       "      <th>Native_country</th>\n",
       "      <th>Income</th>\n",
       "    </tr>\n",
       "  </thead>\n",
       "  <tbody>\n",
       "    <tr>\n",
       "      <th>0</th>\n",
       "      <td>50</td>\n",
       "      <td>self-employed</td>\n",
       "      <td>83311</td>\n",
       "      <td>Bachelors</td>\n",
       "      <td>13</td>\n",
       "      <td>married</td>\n",
       "      <td>class1</td>\n",
       "      <td>spouse</td>\n",
       "      <td>white</td>\n",
       "      <td>male</td>\n",
       "      <td>0</td>\n",
       "      <td>0</td>\n",
       "      <td>13</td>\n",
       "      <td>United-States</td>\n",
       "      <td>&lt;=50K</td>\n",
       "    </tr>\n",
       "    <tr>\n",
       "      <th>1</th>\n",
       "      <td>38</td>\n",
       "      <td>Private</td>\n",
       "      <td>215646</td>\n",
       "      <td>Secondary</td>\n",
       "      <td>9</td>\n",
       "      <td>other</td>\n",
       "      <td>class3</td>\n",
       "      <td>others</td>\n",
       "      <td>white</td>\n",
       "      <td>male</td>\n",
       "      <td>0</td>\n",
       "      <td>0</td>\n",
       "      <td>40</td>\n",
       "      <td>United-States</td>\n",
       "      <td>&lt;=50K</td>\n",
       "    </tr>\n",
       "    <tr>\n",
       "      <th>2</th>\n",
       "      <td>53</td>\n",
       "      <td>Private</td>\n",
       "      <td>234721</td>\n",
       "      <td>Secondary</td>\n",
       "      <td>7</td>\n",
       "      <td>married</td>\n",
       "      <td>class3</td>\n",
       "      <td>spouse</td>\n",
       "      <td>black</td>\n",
       "      <td>male</td>\n",
       "      <td>0</td>\n",
       "      <td>0</td>\n",
       "      <td>40</td>\n",
       "      <td>United-States</td>\n",
       "      <td>&lt;=50K</td>\n",
       "    </tr>\n",
       "    <tr>\n",
       "      <th>3</th>\n",
       "      <td>28</td>\n",
       "      <td>Private</td>\n",
       "      <td>338409</td>\n",
       "      <td>Bachelors</td>\n",
       "      <td>13</td>\n",
       "      <td>married</td>\n",
       "      <td>class1</td>\n",
       "      <td>spouse</td>\n",
       "      <td>black</td>\n",
       "      <td>female</td>\n",
       "      <td>0</td>\n",
       "      <td>0</td>\n",
       "      <td>40</td>\n",
       "      <td>Cuba</td>\n",
       "      <td>&lt;=50K</td>\n",
       "    </tr>\n",
       "    <tr>\n",
       "      <th>4</th>\n",
       "      <td>37</td>\n",
       "      <td>Private</td>\n",
       "      <td>284582</td>\n",
       "      <td>Masters</td>\n",
       "      <td>14</td>\n",
       "      <td>married</td>\n",
       "      <td>class1</td>\n",
       "      <td>spouse</td>\n",
       "      <td>white</td>\n",
       "      <td>female</td>\n",
       "      <td>0</td>\n",
       "      <td>0</td>\n",
       "      <td>40</td>\n",
       "      <td>United-States</td>\n",
       "      <td>&lt;=50K</td>\n",
       "    </tr>\n",
       "  </tbody>\n",
       "</table>\n",
       "</div>"
      ],
      "text/plain": [
       "   Age      Workclass  Fnlwgt  Education  Education_num Marital_status  \\\n",
       "0   50  self-employed   83311  Bachelors             13        married   \n",
       "1   38        Private  215646  Secondary              9          other   \n",
       "2   53        Private  234721  Secondary              7        married   \n",
       "3   28        Private  338409  Bachelors             13        married   \n",
       "4   37        Private  284582    Masters             14        married   \n",
       "\n",
       "  Occupation Relationship   Race     Sex  Capital_gain  Capital_loss  \\\n",
       "0     class1       spouse  white    male             0             0   \n",
       "1     class3       others  white    male             0             0   \n",
       "2     class3       spouse  black    male             0             0   \n",
       "3     class1       spouse  black  female             0             0   \n",
       "4     class1       spouse  white  female             0             0   \n",
       "\n",
       "   Hours_per_week Native_country Income  \n",
       "0              13  United-States  <=50K  \n",
       "1              40  United-States  <=50K  \n",
       "2              40  United-States  <=50K  \n",
       "3              40           Cuba  <=50K  \n",
       "4              40  United-States  <=50K  "
      ]
     },
     "execution_count": 23,
     "metadata": {},
     "output_type": "execute_result"
    }
   ],
   "source": [
    "df.head()"
   ]
  },
  {
   "cell_type": "code",
   "execution_count": 24,
   "metadata": {},
   "outputs": [
    {
     "data": {
      "text/plain": [
       "<matplotlib.axes._subplots.AxesSubplot at 0x1b7949814c0>"
      ]
     },
     "execution_count": 24,
     "metadata": {},
     "output_type": "execute_result"
    },
    {
     "data": {
      "image/png": "[encoded data removed]",
      "text/plain": [
       "<Figure size 432x288 with 1 Axes>"
      ]
     },
     "metadata": {
      "needs_background": "light"
     },
     "output_type": "display_data"
    }
   ],
   "source": [
    "sns.distplot(df['Age'])\n",
    "\n",
    "#In or dataset, most of inspection is between 20 to 40 year age."
   ]
  },
  {
   "cell_type": "code",
   "execution_count": 25,
   "metadata": {},
   "outputs": [
    {
     "data": {
      "image/png": "[encoded data removed]",
      "text/plain": [
       "<Figure size 432x288 with 1 Axes>"
      ]
     },
     "metadata": {
      "needs_background": "light"
     },
     "output_type": "display_data"
    }
   ],
   "source": [
    "sns.countplot(x ='Workclass', data = df)\n",
    "plt.show()"
   ]
  },
  {
   "cell_type": "markdown",
   "metadata": {},
   "source": [
    "In our dataset, Private job employees are in good numbers"
   ]
  },
  {
   "cell_type": "code",
   "execution_count": 26,
   "metadata": {},
   "outputs": [
    {
     "data": {
      "image/png": "[encoded data removed]",
      "text/plain": [
       "<Figure size 432x288 with 1 Axes>"
      ]
     },
     "metadata": {
      "needs_background": "light"
     },
     "output_type": "display_data"
    }
   ],
   "source": [
    "sns.countplot(x ='Education', data = df)\n",
    "plt.show()"
   ]
  },
  {
   "cell_type": "markdown",
   "metadata": {},
   "source": [
    "most of people have completed their secondary education only. There are low number of person who have master degree"
   ]
  },
  {
   "cell_type": "code",
   "execution_count": 27,
   "metadata": {},
   "outputs": [
    {
     "data": {
      "image/png": "[encoded data removed]",
      "text/plain": [
       "<Figure size 432x288 with 1 Axes>"
      ]
     },
     "metadata": {
      "needs_background": "light"
     },
     "output_type": "display_data"
    }
   ],
   "source": [
    "sns.countplot(x ='Marital_status', data = df)\n",
    "plt.show()"
   ]
  },
  {
   "cell_type": "markdown",
   "metadata": {},
   "source": [
    "in dataset, there are high number of inspection where people are married"
   ]
  },
  {
   "cell_type": "code",
   "execution_count": 28,
   "metadata": {},
   "outputs": [
    {
     "data": {
      "image/png": "[encoded data removed]",
      "text/plain": [
       "<Figure size 432x288 with 1 Axes>"
      ]
     },
     "metadata": {
      "needs_background": "light"
     },
     "output_type": "display_data"
    }
   ],
   "source": [
    "sns.countplot(x ='Occupation', data = df)\n",
    "plt.show()"
   ]
  },
  {
   "cell_type": "code",
   "execution_count": 29,
   "metadata": {},
   "outputs": [
    {
     "data": {
      "image/png": "[encoded data removed]",
      "text/plain": [
       "<Figure size 432x288 with 1 Axes>"
      ]
     },
     "metadata": {
      "needs_background": "light"
     },
     "output_type": "display_data"
    }
   ],
   "source": [
    "sns.countplot(x ='Relationship', data = df)\n",
    "plt.show()"
   ]
  },
  {
   "cell_type": "code",
   "execution_count": 30,
   "metadata": {},
   "outputs": [
    {
     "data": {
      "image/png": "[encoded data removed]",
      "text/plain": [
       "<Figure size 432x288 with 1 Axes>"
      ]
     },
     "metadata": {
      "needs_background": "light"
     },
     "output_type": "display_data"
    }
   ],
   "source": [
    "sns.countplot(x ='Race', data = df)\n",
    "plt.show()"
   ]
  },
  {
   "cell_type": "markdown",
   "metadata": {},
   "source": [
    "NO of white people are in high range."
   ]
  },
  {
   "cell_type": "code",
   "execution_count": 31,
   "metadata": {},
   "outputs": [
    {
     "data": {
      "image/png": "[encoded data removed]",
      "text/plain": [
       "<Figure size 432x288 with 1 Axes>"
      ]
     },
     "metadata": {
      "needs_background": "light"
     },
     "output_type": "display_data"
    }
   ],
   "source": [
    "sns.countplot(x ='Sex', data = df)\n",
    "plt.show()"
   ]
  },
  {
   "cell_type": "code",
   "execution_count": 32,
   "metadata": {},
   "outputs": [
    {
     "data": {
      "image/png": "[encoded data removed]",
      "text/plain": [
       "<Figure size 432x288 with 1 Axes>"
      ]
     },
     "metadata": {
      "needs_background": "light"
     },
     "output_type": "display_data"
    }
   ],
   "source": [
    "sns.countplot(x ='Income', data = df)\n",
    "plt.show()"
   ]
  },
  {
   "cell_type": "markdown",
   "metadata": {},
   "source": [
    "we can visulise that 70:30 ratio of lower then 50 income and higher then 50k income"
   ]
  },
  {
   "cell_type": "code",
   "execution_count": 33,
   "metadata": {},
   "outputs": [
    {
     "data": {
      "text/plain": [
       "<=50K    75.918305\n",
       ">50K     24.081695\n",
       "Name: Income, dtype: float64"
      ]
     },
     "execution_count": 33,
     "metadata": {},
     "output_type": "execute_result"
    }
   ],
   "source": [
    "df['Income'].value_counts(normalize=True)*100"
   ]
  },
  {
   "cell_type": "code",
   "execution_count": 34,
   "metadata": {},
   "outputs": [
    {
     "data": {
      "text/plain": [
       "<seaborn.axisgrid.FacetGrid at 0x1b7952c6ac0>"
      ]
     },
     "execution_count": 34,
     "metadata": {},
     "output_type": "execute_result"
    },
    {
     "data": {
      "image/png": "[encoded data removed]",
      "text/plain": [
       "<Figure size 791.875x360 with 2 Axes>"
      ]
     },
     "metadata": {
      "needs_background": "light"
     },
     "output_type": "display_data"
    }
   ],
   "source": [
    "sns.catplot(x ='Workclass', hue ='Income',\n",
    "kind ='count', col ='Sex', data = df)"
   ]
  },
  {
   "cell_type": "markdown",
   "metadata": {},
   "source": [
    "In male,\n",
    "\n",
    "High number of objection are from private sector\n",
    "\n",
    "comperitively self-employed have high income\n",
    "\n",
    "government employee have 60:40 ratio for more then 50k Income.\n",
    "    \n",
    "    \n",
    "In Female,\n",
    "\n",
    "High number of objection are from private sector\n",
    "\n",
    "comperitively self-employed have high income\n",
    "\n",
    "government employee have 60:40 ratio for more then 50k Income"
   ]
  },
  {
   "cell_type": "code",
   "execution_count": 35,
   "metadata": {},
   "outputs": [
    {
     "data": {
      "text/plain": [
       "<seaborn.axisgrid.FacetGrid at 0x1b795279880>"
      ]
     },
     "execution_count": 35,
     "metadata": {},
     "output_type": "execute_result"
    },
    {
     "data": {
      "image/png": "[encoded data removed]",
      "text/plain": [
       "<Figure size 791.875x360 with 2 Axes>"
      ]
     },
     "metadata": {
      "needs_background": "light"
     },
     "output_type": "display_data"
    }
   ],
   "source": [
    "sns.catplot(x ='Education', hue ='Income',\n",
    "kind ='count', col ='Sex', data = df)"
   ]
  },
  {
   "cell_type": "markdown",
   "metadata": {},
   "source": [
    "For male\n",
    "\n",
    "Bachelors person have equal chances for income more then 50k\n",
    "\n",
    "master degree holder person have very high chances for more then 50k income\n",
    "\n",
    "primary educated person have very low chances for more then 50k income\n",
    "\n",
    "\n",
    "For Female:\n",
    "    \n",
    "\n",
    "Bachelors person have good chances for income more then 50k\n",
    "\n",
    "master degree holder person have high chances for more then 50k income\n",
    "\n",
    "primary educated person have very low chances for more then 50k income"
   ]
  },
  {
   "cell_type": "code",
   "execution_count": 36,
   "metadata": {},
   "outputs": [
    {
     "data": {
      "text/plain": [
       "<seaborn.axisgrid.FacetGrid at 0x1b7953e8040>"
      ]
     },
     "execution_count": 36,
     "metadata": {},
     "output_type": "execute_result"
    },
    {
     "data": {
      "image/png": "[encoded data removed]",
      "text/plain": [
       "<Figure size 791.875x360 with 2 Axes>"
      ]
     },
     "metadata": {
      "needs_background": "light"
     },
     "output_type": "display_data"
    }
   ],
   "source": [
    "sns.catplot(x ='Occupation', hue ='Income',\n",
    "kind ='count', col ='Sex', data = df)"
   ]
  },
  {
   "cell_type": "markdown",
   "metadata": {},
   "source": [
    "FOR Male:\n",
    "    \n",
    "For class 1 people have higher chances for more then 50k income\n",
    "\n",
    "class 3 people have low chances for more then 50k income\n",
    "\n",
    "For Female:\n",
    "\n",
    "Class 3 people have very very low chance for more then 50k income\n"
   ]
  },
  {
   "cell_type": "code",
   "execution_count": 37,
   "metadata": {},
   "outputs": [
    {
     "data": {
      "text/plain": [
       "<seaborn.axisgrid.FacetGrid at 0x1b795854730>"
      ]
     },
     "execution_count": 37,
     "metadata": {},
     "output_type": "execute_result"
    },
    {
     "data": {
      "image/png": "[encoded data removed]",
      "text/plain": [
       "<Figure size 791.875x360 with 2 Axes>"
      ]
     },
     "metadata": {
      "needs_background": "light"
     },
     "output_type": "display_data"
    }
   ],
   "source": [
    "sns.catplot(x ='Race', hue ='Income',\n",
    "kind ='count', col ='Sex', data = df)"
   ]
  },
  {
   "cell_type": "markdown",
   "metadata": {},
   "source": [
    "White people have higher chances for more then 50k income while black people have low chances for more then 50k income"
   ]
  },
  {
   "cell_type": "code",
   "execution_count": 38,
   "metadata": {},
   "outputs": [
    {
     "data": {
      "text/plain": [
       "<seaborn.axisgrid.FacetGrid at 0x1b795471b20>"
      ]
     },
     "execution_count": 38,
     "metadata": {},
     "output_type": "execute_result"
    },
    {
     "data": {
      "image/png": "[encoded data removed]",
      "text/plain": [
       "<Figure size 1151.88x360 with 3 Axes>"
      ]
     },
     "metadata": {
      "needs_background": "light"
     },
     "output_type": "display_data"
    }
   ],
   "source": [
    "sns.catplot(x ='Race', hue ='Income',\n",
    "kind ='count', col ='Occupation', data = df)"
   ]
  },
  {
   "cell_type": "markdown",
   "metadata": {},
   "source": [
    "Most of white person have class 1 job with good income while black people have higher no in class 3 job"
   ]
  },
  {
   "cell_type": "code",
   "execution_count": 39,
   "metadata": {},
   "outputs": [
    {
     "data": {
      "text/plain": [
       "<matplotlib.axes._subplots.AxesSubplot at 0x1b795403130>"
      ]
     },
     "execution_count": 39,
     "metadata": {},
     "output_type": "execute_result"
    },
    {
     "data": {
      "image/png": "[encoded data removed]",
      "text/plain": [
       "<Figure size 432x288 with 1 Axes>"
      ]
     },
     "metadata": {
      "needs_background": "light"
     },
     "output_type": "display_data"
    }
   ],
   "source": [
    "sns.scatterplot(x='Age',y='Fnlwgt',data=df)"
   ]
  },
  {
   "cell_type": "markdown",
   "metadata": {},
   "source": [
    "Final weight is decrease as age is going to increase"
   ]
  },
  {
   "cell_type": "code",
   "execution_count": 40,
   "metadata": {},
   "outputs": [
    {
     "data": {
      "text/plain": [
       "<matplotlib.axes._subplots.AxesSubplot at 0x1b795400b80>"
      ]
     },
     "execution_count": 40,
     "metadata": {},
     "output_type": "execute_result"
    },
    {
     "data": {
      "image/png": "[encoded data removed]",
      "text/plain": [
       "<Figure size 432x288 with 1 Axes>"
      ]
     },
     "metadata": {
      "needs_background": "light"
     },
     "output_type": "display_data"
    }
   ],
   "source": [
    "sns.scatterplot(x='Income',y='Fnlwgt',data=df)"
   ]
  },
  {
   "cell_type": "code",
   "execution_count": 41,
   "metadata": {},
   "outputs": [
    {
     "data": {
      "text/plain": [
       "<seaborn.axisgrid.FacetGrid at 0x1b7953eb4f0>"
      ]
     },
     "execution_count": 41,
     "metadata": {},
     "output_type": "execute_result"
    },
    {
     "data": {
      "image/png": "[encoded data removed]",
      "text/plain": [
       "<Figure size 1800x360 with 5 Axes>"
      ]
     },
     "metadata": {
      "needs_background": "light"
     },
     "output_type": "display_data"
    }
   ],
   "source": [
    "sns.catplot(x ='Sex',y ='Hours_per_week', col ='Education', data = df)"
   ]
  },
  {
   "cell_type": "markdown",
   "metadata": {},
   "source": [
    "Secondary education people have comparatively high no of hour work /week \n",
    "\n",
    "Master education person have low no of working hours"
   ]
  },
  {
   "cell_type": "code",
   "execution_count": 42,
   "metadata": {},
   "outputs": [
    {
     "data": {
      "text/plain": [
       "<seaborn.axisgrid.FacetGrid at 0x1b795400850>"
      ]
     },
     "execution_count": 42,
     "metadata": {},
     "output_type": "execute_result"
    },
    {
     "data": {
      "image/png": "[encoded data removed]",
      "text/plain": [
       "<Figure size 720x360 with 2 Axes>"
      ]
     },
     "metadata": {
      "needs_background": "light"
     },
     "output_type": "display_data"
    }
   ],
   "source": [
    "sns.catplot(x ='Education',y ='Hours_per_week', col ='Sex', data = df)"
   ]
  },
  {
   "cell_type": "code",
   "execution_count": 43,
   "metadata": {},
   "outputs": [
    {
     "data": {
      "text/plain": [
       "<seaborn.axisgrid.FacetGrid at 0x1b7968ef460>"
      ]
     },
     "execution_count": 43,
     "metadata": {},
     "output_type": "execute_result"
    },
    {
     "data": {
      "image/png": "[encoded data removed]",
      "text/plain": [
       "<Figure size 720x360 with 2 Axes>"
      ]
     },
     "metadata": {
      "needs_background": "light"
     },
     "output_type": "display_data"
    }
   ],
   "source": [
    "sns.catplot(x ='Occupation',y ='Hours_per_week', col ='Sex', data = df)"
   ]
  },
  {
   "cell_type": "markdown",
   "metadata": {},
   "source": [
    "Class 3 person have higher working hours\n",
    "\n",
    " as compare to male, Female have low working hours in every class"
   ]
  },
  {
   "cell_type": "code",
   "execution_count": 44,
   "metadata": {},
   "outputs": [
    {
     "data": {
      "image/png": "[encoded data removed]",
      "text/plain": [
       "<Figure size 576x432 with 2 Axes>"
      ]
     },
     "metadata": {
      "needs_background": "light"
     },
     "output_type": "display_data"
    }
   ],
   "source": [
    "plt.figure(figsize=(8,6))\n",
    "sns.heatmap(df.corr(),vmax=1,linewidth=0.1,cmap='YlGnBu')\n",
    "plt.xticks(rotation=90)\n",
    "plt.show()"
   ]
  },
  {
   "cell_type": "code",
   "execution_count": 45,
   "metadata": {},
   "outputs": [
    {
     "data": {
      "text/html": [
       "<div>\n",
       "<style scoped>\n",
       "    .dataframe tbody tr th:only-of-type {\n",
       "        vertical-align: middle;\n",
       "    }\n",
       "\n",
       "    .dataframe tbody tr th {\n",
       "        vertical-align: top;\n",
       "    }\n",
       "\n",
       "    .dataframe thead th {\n",
       "        text-align: right;\n",
       "    }\n",
       "</style>\n",
       "<table border=\"1\" class=\"dataframe\">\n",
       "  <thead>\n",
       "    <tr style=\"text-align: right;\">\n",
       "      <th></th>\n",
       "      <th>Age</th>\n",
       "      <th>Workclass</th>\n",
       "      <th>Fnlwgt</th>\n",
       "      <th>Education</th>\n",
       "      <th>Education_num</th>\n",
       "      <th>Marital_status</th>\n",
       "      <th>Occupation</th>\n",
       "      <th>Relationship</th>\n",
       "      <th>Race</th>\n",
       "      <th>Sex</th>\n",
       "      <th>Capital_gain</th>\n",
       "      <th>Capital_loss</th>\n",
       "      <th>Hours_per_week</th>\n",
       "      <th>Native_country</th>\n",
       "      <th>Income</th>\n",
       "    </tr>\n",
       "  </thead>\n",
       "  <tbody>\n",
       "    <tr>\n",
       "      <th>0</th>\n",
       "      <td>50</td>\n",
       "      <td>self-employed</td>\n",
       "      <td>83311</td>\n",
       "      <td>Bachelors</td>\n",
       "      <td>13</td>\n",
       "      <td>married</td>\n",
       "      <td>class1</td>\n",
       "      <td>spouse</td>\n",
       "      <td>white</td>\n",
       "      <td>male</td>\n",
       "      <td>0</td>\n",
       "      <td>0</td>\n",
       "      <td>13</td>\n",
       "      <td>United-States</td>\n",
       "      <td>&lt;=50K</td>\n",
       "    </tr>\n",
       "    <tr>\n",
       "      <th>1</th>\n",
       "      <td>38</td>\n",
       "      <td>Private</td>\n",
       "      <td>215646</td>\n",
       "      <td>Secondary</td>\n",
       "      <td>9</td>\n",
       "      <td>other</td>\n",
       "      <td>class3</td>\n",
       "      <td>others</td>\n",
       "      <td>white</td>\n",
       "      <td>male</td>\n",
       "      <td>0</td>\n",
       "      <td>0</td>\n",
       "      <td>40</td>\n",
       "      <td>United-States</td>\n",
       "      <td>&lt;=50K</td>\n",
       "    </tr>\n",
       "    <tr>\n",
       "      <th>2</th>\n",
       "      <td>53</td>\n",
       "      <td>Private</td>\n",
       "      <td>234721</td>\n",
       "      <td>Secondary</td>\n",
       "      <td>7</td>\n",
       "      <td>married</td>\n",
       "      <td>class3</td>\n",
       "      <td>spouse</td>\n",
       "      <td>black</td>\n",
       "      <td>male</td>\n",
       "      <td>0</td>\n",
       "      <td>0</td>\n",
       "      <td>40</td>\n",
       "      <td>United-States</td>\n",
       "      <td>&lt;=50K</td>\n",
       "    </tr>\n",
       "    <tr>\n",
       "      <th>3</th>\n",
       "      <td>28</td>\n",
       "      <td>Private</td>\n",
       "      <td>338409</td>\n",
       "      <td>Bachelors</td>\n",
       "      <td>13</td>\n",
       "      <td>married</td>\n",
       "      <td>class1</td>\n",
       "      <td>spouse</td>\n",
       "      <td>black</td>\n",
       "      <td>female</td>\n",
       "      <td>0</td>\n",
       "      <td>0</td>\n",
       "      <td>40</td>\n",
       "      <td>Cuba</td>\n",
       "      <td>&lt;=50K</td>\n",
       "    </tr>\n",
       "    <tr>\n",
       "      <th>4</th>\n",
       "      <td>37</td>\n",
       "      <td>Private</td>\n",
       "      <td>284582</td>\n",
       "      <td>Masters</td>\n",
       "      <td>14</td>\n",
       "      <td>married</td>\n",
       "      <td>class1</td>\n",
       "      <td>spouse</td>\n",
       "      <td>white</td>\n",
       "      <td>female</td>\n",
       "      <td>0</td>\n",
       "      <td>0</td>\n",
       "      <td>40</td>\n",
       "      <td>United-States</td>\n",
       "      <td>&lt;=50K</td>\n",
       "    </tr>\n",
       "  </tbody>\n",
       "</table>\n",
       "</div>"
      ],
      "text/plain": [
       "   Age      Workclass  Fnlwgt  Education  Education_num Marital_status  \\\n",
       "0   50  self-employed   83311  Bachelors             13        married   \n",
       "1   38        Private  215646  Secondary              9          other   \n",
       "2   53        Private  234721  Secondary              7        married   \n",
       "3   28        Private  338409  Bachelors             13        married   \n",
       "4   37        Private  284582    Masters             14        married   \n",
       "\n",
       "  Occupation Relationship   Race     Sex  Capital_gain  Capital_loss  \\\n",
       "0     class1       spouse  white    male             0             0   \n",
       "1     class3       others  white    male             0             0   \n",
       "2     class3       spouse  black    male             0             0   \n",
       "3     class1       spouse  black  female             0             0   \n",
       "4     class1       spouse  white  female             0             0   \n",
       "\n",
       "   Hours_per_week Native_country Income  \n",
       "0              13  United-States  <=50K  \n",
       "1              40  United-States  <=50K  \n",
       "2              40  United-States  <=50K  \n",
       "3              40           Cuba  <=50K  \n",
       "4              40  United-States  <=50K  "
      ]
     },
     "execution_count": 45,
     "metadata": {},
     "output_type": "execute_result"
    }
   ],
   "source": [
    "df.head()"
   ]
  },
  {
   "cell_type": "markdown",
   "metadata": {},
   "source": [
    "Let we encode all catagorical value for further process"
   ]
  },
  {
   "cell_type": "code",
   "execution_count": 46,
   "metadata": {},
   "outputs": [
    {
     "data": {
      "text/html": [
       "<div>\n",
       "<style scoped>\n",
       "    .dataframe tbody tr th:only-of-type {\n",
       "        vertical-align: middle;\n",
       "    }\n",
       "\n",
       "    .dataframe tbody tr th {\n",
       "        vertical-align: top;\n",
       "    }\n",
       "\n",
       "    .dataframe thead th {\n",
       "        text-align: right;\n",
       "    }\n",
       "</style>\n",
       "<table border=\"1\" class=\"dataframe\">\n",
       "  <thead>\n",
       "    <tr style=\"text-align: right;\">\n",
       "      <th></th>\n",
       "      <th>Age</th>\n",
       "      <th>Workclass</th>\n",
       "      <th>Fnlwgt</th>\n",
       "      <th>Education</th>\n",
       "      <th>Education_num</th>\n",
       "      <th>Marital_status</th>\n",
       "      <th>Occupation</th>\n",
       "      <th>Relationship</th>\n",
       "      <th>Race</th>\n",
       "      <th>Sex</th>\n",
       "      <th>Capital_gain</th>\n",
       "      <th>Capital_loss</th>\n",
       "      <th>Hours_per_week</th>\n",
       "      <th>Native_country</th>\n",
       "      <th>Income</th>\n",
       "    </tr>\n",
       "  </thead>\n",
       "  <tbody>\n",
       "    <tr>\n",
       "      <th>0</th>\n",
       "      <td>50</td>\n",
       "      <td>3</td>\n",
       "      <td>83311</td>\n",
       "      <td>0</td>\n",
       "      <td>13</td>\n",
       "      <td>0</td>\n",
       "      <td>0</td>\n",
       "      <td>3</td>\n",
       "      <td>2</td>\n",
       "      <td>1</td>\n",
       "      <td>0</td>\n",
       "      <td>0</td>\n",
       "      <td>13</td>\n",
       "      <td>39</td>\n",
       "      <td>0</td>\n",
       "    </tr>\n",
       "    <tr>\n",
       "      <th>1</th>\n",
       "      <td>38</td>\n",
       "      <td>0</td>\n",
       "      <td>215646</td>\n",
       "      <td>2</td>\n",
       "      <td>9</td>\n",
       "      <td>1</td>\n",
       "      <td>2</td>\n",
       "      <td>1</td>\n",
       "      <td>2</td>\n",
       "      <td>1</td>\n",
       "      <td>0</td>\n",
       "      <td>0</td>\n",
       "      <td>40</td>\n",
       "      <td>39</td>\n",
       "      <td>0</td>\n",
       "    </tr>\n",
       "    <tr>\n",
       "      <th>2</th>\n",
       "      <td>53</td>\n",
       "      <td>0</td>\n",
       "      <td>234721</td>\n",
       "      <td>2</td>\n",
       "      <td>7</td>\n",
       "      <td>0</td>\n",
       "      <td>2</td>\n",
       "      <td>3</td>\n",
       "      <td>0</td>\n",
       "      <td>1</td>\n",
       "      <td>0</td>\n",
       "      <td>0</td>\n",
       "      <td>40</td>\n",
       "      <td>39</td>\n",
       "      <td>0</td>\n",
       "    </tr>\n",
       "    <tr>\n",
       "      <th>3</th>\n",
       "      <td>28</td>\n",
       "      <td>0</td>\n",
       "      <td>338409</td>\n",
       "      <td>0</td>\n",
       "      <td>13</td>\n",
       "      <td>0</td>\n",
       "      <td>0</td>\n",
       "      <td>3</td>\n",
       "      <td>0</td>\n",
       "      <td>0</td>\n",
       "      <td>0</td>\n",
       "      <td>0</td>\n",
       "      <td>40</td>\n",
       "      <td>5</td>\n",
       "      <td>0</td>\n",
       "    </tr>\n",
       "    <tr>\n",
       "      <th>4</th>\n",
       "      <td>37</td>\n",
       "      <td>0</td>\n",
       "      <td>284582</td>\n",
       "      <td>1</td>\n",
       "      <td>14</td>\n",
       "      <td>0</td>\n",
       "      <td>0</td>\n",
       "      <td>3</td>\n",
       "      <td>2</td>\n",
       "      <td>0</td>\n",
       "      <td>0</td>\n",
       "      <td>0</td>\n",
       "      <td>40</td>\n",
       "      <td>39</td>\n",
       "      <td>0</td>\n",
       "    </tr>\n",
       "  </tbody>\n",
       "</table>\n",
       "</div>"
      ],
      "text/plain": [
       "   Age  Workclass  Fnlwgt  Education  Education_num  Marital_status  \\\n",
       "0   50          3   83311          0             13               0   \n",
       "1   38          0  215646          2              9               1   \n",
       "2   53          0  234721          2              7               0   \n",
       "3   28          0  338409          0             13               0   \n",
       "4   37          0  284582          1             14               0   \n",
       "\n",
       "   Occupation  Relationship  Race  Sex  Capital_gain  Capital_loss  \\\n",
       "0           0             3     2    1             0             0   \n",
       "1           2             1     2    1             0             0   \n",
       "2           2             3     0    1             0             0   \n",
       "3           0             3     0    0             0             0   \n",
       "4           0             3     2    0             0             0   \n",
       "\n",
       "   Hours_per_week  Native_country  Income  \n",
       "0              13              39       0  \n",
       "1              40              39       0  \n",
       "2              40              39       0  \n",
       "3              40               5       0  \n",
       "4              40              39       0  "
      ]
     },
     "execution_count": 46,
     "metadata": {},
     "output_type": "execute_result"
    }
   ],
   "source": [
    "from sklearn.preprocessing import LabelEncoder\n",
    "\n",
    "lb= LabelEncoder()\n",
    "df['Workclass'] = lb.fit_transform(df['Workclass'])\n",
    "df['Education'] = lb.fit_transform(df['Education'])\n",
    "df['Marital_status'] = lb.fit_transform(df['Marital_status'])\n",
    "df['Relationship'] = lb.fit_transform(df['Relationship'])\n",
    "df['Occupation'] = lb.fit_transform(df['Occupation'])\n",
    "df['Race'] = lb.fit_transform(df['Race'])\n",
    "df['Sex'] = lb.fit_transform(df['Sex'])\n",
    "df['Native_country'] = lb.fit_transform(df['Native_country'])\n",
    "df['Income'] = lb.fit_transform(df['Income'])\n",
    "\n",
    "df.head()"
   ]
  },
  {
   "cell_type": "code",
   "execution_count": 47,
   "metadata": {},
   "outputs": [
    {
     "data": {
      "image/png": "[encoded data removed]",
      "text/plain": [
       "<Figure size 576x432 with 2 Axes>"
      ]
     },
     "metadata": {
      "needs_background": "light"
     },
     "output_type": "display_data"
    }
   ],
   "source": [
    "plt.figure(figsize=(8,6))\n",
    "sns.heatmap(df.corr(),vmax=1,linewidth=0.1,cmap='YlGnBu')\n",
    "plt.xticks(rotation=90)\n",
    "plt.show()"
   ]
  },
  {
   "cell_type": "markdown",
   "metadata": {},
   "source": [
    "Age have relation with workclass and relationship\n",
    "\n",
    "income have relation with education, relationship\n",
    "\n",
    "Occupation have relation with education\n"
   ]
  },
  {
   "cell_type": "code",
   "execution_count": 48,
   "metadata": {},
   "outputs": [
    {
     "data": {
      "text/plain": [
       "<matplotlib.axes._subplots.AxesSubplot at 0x1b797098af0>"
      ]
     },
     "execution_count": 48,
     "metadata": {},
     "output_type": "execute_result"
    },
    {
     "data": {
      "image/png": "[encoded data removed]",
      "text/plain": [
       "<Figure size 432x288 with 1 Axes>"
      ]
     },
     "metadata": {
      "needs_background": "light"
     },
     "output_type": "display_data"
    }
   ],
   "source": [
    "sns.scatterplot(x='Age',y='Income',data=df)"
   ]
  },
  {
   "cell_type": "code",
   "execution_count": 49,
   "metadata": {},
   "outputs": [
    {
     "name": "stdout",
     "output_type": "stream",
     "text": [
      "(32560, 15)\n",
      "(30106, 15)\n"
     ]
    }
   ],
   "source": [
    "from scipy.stats import zscore\n",
    "\n",
    "#di=df.columns\n",
    "z_score=zscore(df)\n",
    "print(df.shape)\n",
    "df_1=df.loc[(z_score<3).all(axis=1)]\n",
    "print(df_1.shape)"
   ]
  },
  {
   "cell_type": "markdown",
   "metadata": {},
   "source": [
    "By using z-score technique, i am going to remove outliers which can affect our model"
   ]
  },
  {
   "cell_type": "code",
   "execution_count": 50,
   "metadata": {
    "scrolled": true
   },
   "outputs": [
    {
     "data": {
      "text/plain": [
       "Age                0.493674\n",
       "Workclass          1.592295\n",
       "Fnlwgt             0.633927\n",
       "Education         -0.649791\n",
       "Education_num     -0.323823\n",
       "Marital_status     0.247166\n",
       "Occupation        -0.102034\n",
       "Relationship      -0.289512\n",
       "Race              -2.304599\n",
       "Sex               -0.680566\n",
       "Capital_gain       4.961554\n",
       "Capital_loss      29.625625\n",
       "Hours_per_week    -0.406818\n",
       "Native_country    -3.663786\n",
       "Income             1.341286\n",
       "dtype: float64"
      ]
     },
     "execution_count": 50,
     "metadata": {},
     "output_type": "execute_result"
    }
   ],
   "source": [
    "df_1.skew()\n",
    "\n",
    "#data which is highly skewed \n",
    "#workclass, education, capital gain, capital loss, native country, race"
   ]
  },
  {
   "cell_type": "code",
   "execution_count": 51,
   "metadata": {},
   "outputs": [
    {
     "name": "stderr",
     "output_type": "stream",
     "text": [
      "<ipython-input-51-68c80349d89b>:5: SettingWithCopyWarning: \n",
      "A value is trying to be set on a copy of a slice from a DataFrame.\n",
      "Try using .loc[row_indexer,col_indexer] = value instead\n",
      "\n",
      "See the caveats in the documentation: https://pandas.pydata.org/pandas-docs/stable/user_guide/indexing.html#returning-a-view-versus-a-copy\n",
      "  df_1[col]=np.cbrt(df_1[col])\n",
      "<ipython-input-51-68c80349d89b>:7: SettingWithCopyWarning: \n",
      "A value is trying to be set on a copy of a slice from a DataFrame.\n",
      "Try using .loc[row_indexer,col_indexer] = value instead\n",
      "\n",
      "See the caveats in the documentation: https://pandas.pydata.org/pandas-docs/stable/user_guide/indexing.html#returning-a-view-versus-a-copy\n",
      "  df_1[col]=np.power(df_1[col],2)\n"
     ]
    }
   ],
   "source": [
    "from scipy.stats import boxcox\n",
    "\n",
    "for col in df_1:\n",
    "    if df_1[col].skew()>=1.00:\n",
    "        df_1[col]=np.cbrt(df_1[col]) \n",
    "    if df_1[col].skew()<= -2.00:\n",
    "        df_1[col]=np.power(df_1[col],2)\n",
    "        \n",
    "#remove skewness using cuberoot and power transformation"
   ]
  },
  {
   "cell_type": "code",
   "execution_count": 52,
   "metadata": {},
   "outputs": [
    {
     "name": "stderr",
     "output_type": "stream",
     "text": [
      "C:\\Users\\Kishan\\anaconda3\\lib\\site-packages\\seaborn\\distributions.py:369: UserWarning: Default bandwidth for data is 0; skipping density estimation.\n",
      "  warnings.warn(msg, UserWarning)\n"
     ]
    },
    {
     "data": {
      "text/plain": [
       "<matplotlib.axes._subplots.AxesSubplot at 0x1b7971285b0>"
      ]
     },
     "execution_count": 52,
     "metadata": {},
     "output_type": "execute_result"
    },
    {
     "data": {
      "image/png": "[encoded data removed]",
      "text/plain": [
       "<Figure size 432x288 with 1 Axes>"
      ]
     },
     "metadata": {
      "needs_background": "light"
     },
     "output_type": "display_data"
    }
   ],
   "source": [
    "sns.distplot(df_1['Capital_loss'])\n",
    "#Right Skewed"
   ]
  },
  {
   "cell_type": "code",
   "execution_count": 53,
   "metadata": {},
   "outputs": [
    {
     "data": {
      "text/plain": [
       "<matplotlib.axes._subplots.AxesSubplot at 0x1b7979801c0>"
      ]
     },
     "execution_count": 53,
     "metadata": {},
     "output_type": "execute_result"
    },
    {
     "data": {
      "image/png": "[encoded data removed]",
      "text/plain": [
       "<Figure size 432x288 with 1 Axes>"
      ]
     },
     "metadata": {
      "needs_background": "light"
     },
     "output_type": "display_data"
    }
   ],
   "source": [
    "sns.distplot(df_1['Sex'])\n",
    "#Left Skewed"
   ]
  },
  {
   "cell_type": "markdown",
   "metadata": {},
   "source": [
    "### MODEL BUILDING"
   ]
  },
  {
   "cell_type": "code",
   "execution_count": 54,
   "metadata": {},
   "outputs": [],
   "source": [
    "x =df_1.drop('Income',axis=1)\n",
    "y =df_1['Income']"
   ]
  },
  {
   "cell_type": "markdown",
   "metadata": {},
   "source": [
    "Scalling data for better accuracy"
   ]
  },
  {
   "cell_type": "code",
   "execution_count": 55,
   "metadata": {},
   "outputs": [],
   "source": [
    "STD=StandardScaler()\n",
    "x=STD.fit_transform(x)"
   ]
  },
  {
   "cell_type": "markdown",
   "metadata": {},
   "source": [
    "split the data in 2 sets of training and testing"
   ]
  },
  {
   "cell_type": "code",
   "execution_count": 56,
   "metadata": {},
   "outputs": [],
   "source": [
    "x_train,x_test,y_train,y_test=train_test_split(x,y)\n"
   ]
  },
  {
   "cell_type": "code",
   "execution_count": 57,
   "metadata": {},
   "outputs": [],
   "source": [
    "lg=LogisticRegression()"
   ]
  },
  {
   "cell_type": "code",
   "execution_count": 58,
   "metadata": {},
   "outputs": [
    {
     "name": "stdout",
     "output_type": "stream",
     "text": [
      "Random state 14 score\n",
      "test score 84.50680836931252\n",
      "train score 84.46271383491114\n",
      "Random state 38 score\n",
      "test score 84.45699103287944\n",
      "train score 84.51253944527487\n",
      "Random state 52 score\n",
      "test score 84.54001992693458\n",
      "train score 84.50008304268394\n",
      "Random state 90 score\n",
      "test score 84.52341414812355\n",
      "train score 84.50423517688091\n",
      "Random state 96 score\n",
      "test score 84.54001992693458\n",
      "train score 84.47517023750207\n",
      "Random state 100 score\n",
      "test score 84.45699103287944\n",
      "train score 84.5083873110779\n",
      "Random state 112 score\n",
      "test score 84.47359681169047\n",
      "train score 84.5083873110779\n",
      "Random state 123 score\n",
      "test score 84.4902025905015\n",
      "train score 84.49593090848695\n",
      "Random state 135 score\n",
      "test score 84.47359681169047\n",
      "train score 84.46271383491114\n",
      "Random state 137 score\n",
      "test score 84.54001992693458\n",
      "train score 84.46686596910811\n",
      "Random state 174 score\n",
      "test score 84.50680836931252\n",
      "train score 84.48347450589603\n",
      "Random state 192 score\n",
      "test score 84.47359681169047\n",
      "train score 84.52084371366882\n",
      "Random state 211 score\n",
      "test score 84.52341414812355\n",
      "train score 84.48762664009301\n",
      "Random state 217 score\n",
      "test score 84.52341414812355\n",
      "train score 84.48347450589603\n",
      "Random state 244 score\n",
      "test score 84.50680836931252\n",
      "train score 84.50008304268394\n",
      "Random state 247 score\n",
      "test score 84.42377947525739\n",
      "train score 84.4336488955323\n",
      "Random state 258 score\n",
      "test score 84.47359681169047\n",
      "train score 84.47517023750207\n",
      "Random state 273 score\n",
      "test score 84.50680836931252\n",
      "train score 84.52084371366882\n",
      "Random state 275 score\n",
      "test score 84.50680836931252\n",
      "train score 84.47517023750207\n",
      "Random state 303 score\n",
      "test score 84.4902025905015\n",
      "train score 84.49593090848695\n",
      "Random state 318 score\n",
      "test score 84.54001992693458\n",
      "train score 84.5457565188507\n",
      "Random state 342 score\n",
      "test score 84.40717369644636\n",
      "train score 84.43780102972927\n",
      "Random state 360 score\n",
      "test score 84.45699103287944\n",
      "train score 84.47932237169906\n",
      "Random state 364 score\n",
      "test score 84.42377947525739\n",
      "train score 84.42949676133532\n",
      "Random state 371 score\n",
      "test score 84.42377947525739\n",
      "train score 84.39627968775952\n",
      "Random state 381 score\n",
      "test score 84.45699103287944\n",
      "train score 84.48762664009301\n",
      "Random state 424 score\n",
      "test score 84.45699103287944\n",
      "train score 84.45440956651719\n",
      "Random state 430 score\n",
      "test score 84.44038525406842\n",
      "train score 84.44610529812323\n",
      "Random state 434 score\n",
      "test score 84.44038525406842\n",
      "train score 84.43780102972927\n",
      "Random state 435 score\n",
      "test score 84.50680836931252\n",
      "train score 84.52914798206278\n",
      "Random state 450 score\n",
      "test score 84.39056791763534\n",
      "train score 84.44195316392626\n",
      "Random state 451 score\n",
      "test score 84.47359681169047\n",
      "train score 84.50008304268394\n",
      "Random state 461 score\n",
      "test score 84.45699103287944\n",
      "train score 84.4710181033051\n",
      "Random state 493 score\n",
      "test score 84.50680836931252\n",
      "train score 84.47517023750207\n"
     ]
    }
   ],
   "source": [
    "for i in range(1,500):\n",
    "    x_train,x_test,y_train,y_test=train_test_split(x,y,test_size=0.20,random_state=i)\n",
    "    lg.fit(x_train,y_train)\n",
    "    pred_test=lg.predict(x_test)\n",
    "    pred_train=lg.predict(x_train)\n",
    "    if round(accuracy_score(y_test,pred_test)*100,1)==round(accuracy_score(y_train,pred_train)*100,1):\n",
    "        print('Random state',i,'score')\n",
    "        print('test score',accuracy_score(y_test,pred_test)*100)\n",
    "        print('train score',accuracy_score(y_train,pred_train)*100)"
   ]
  },
  {
   "cell_type": "code",
   "execution_count": 59,
   "metadata": {},
   "outputs": [],
   "source": [
    "svc=SVC()\n",
    "rndf = RandomForestClassifier()\n",
    "dtc=DecisionTreeClassifier()\n",
    "gb=GaussianNB()\n",
    "knn=KNeighborsClassifier()\n",
    "sgdc = SGDClassifier()"
   ]
  },
  {
   "cell_type": "code",
   "execution_count": 60,
   "metadata": {},
   "outputs": [],
   "source": [
    "def fun(f):\n",
    "    f.fit(x_train,y_train)\n",
    "    pred=f.predict(x_test)\n",
    "    print('Score',f.score(x_train,y_train))\n",
    "    print('Accuracy Score',accuracy_score(y_test,pred)*100)\n",
    "    print('Confusion Matrix\\n',confusion_matrix(y_test,pred))\n",
    "    print('Classification Report\\n',classification_report(y_test,pred))\n",
    "    print('F1 score',f1_score(y_test,pred)*100)"
   ]
  },
  {
   "cell_type": "markdown",
   "metadata": {},
   "source": [
    "LOGISTIC REGRESSION"
   ]
  },
  {
   "cell_type": "code",
   "execution_count": 61,
   "metadata": {
    "scrolled": true
   },
   "outputs": [
    {
     "name": "stdout",
     "output_type": "stream",
     "text": [
      "Score 0.844170403587444\n",
      "Accuracy Score 84.90534706077715\n",
      "Confusion Matrix\n",
      " [[4403  322]\n",
      " [ 587  710]]\n",
      "Classification Report\n",
      "               precision    recall  f1-score   support\n",
      "\n",
      "         0.0       0.88      0.93      0.91      4725\n",
      "         1.0       0.69      0.55      0.61      1297\n",
      "\n",
      "    accuracy                           0.85      6022\n",
      "   macro avg       0.79      0.74      0.76      6022\n",
      "weighted avg       0.84      0.85      0.84      6022\n",
      "\n",
      "F1 score 60.9703735508802\n"
     ]
    }
   ],
   "source": [
    "fun(lg)"
   ]
  },
  {
   "cell_type": "markdown",
   "metadata": {},
   "source": [
    "SUPPORT VECTOR CLASSIFIER"
   ]
  },
  {
   "cell_type": "code",
   "execution_count": 62,
   "metadata": {},
   "outputs": [
    {
     "name": "stdout",
     "output_type": "stream",
     "text": [
      "Score 0.859118086696562\n",
      "Accuracy Score 85.70242444370642\n",
      "Confusion Matrix\n",
      " [[4492  233]\n",
      " [ 628  669]]\n",
      "Classification Report\n",
      "               precision    recall  f1-score   support\n",
      "\n",
      "         0.0       0.88      0.95      0.91      4725\n",
      "         1.0       0.74      0.52      0.61      1297\n",
      "\n",
      "    accuracy                           0.86      6022\n",
      "   macro avg       0.81      0.73      0.76      6022\n",
      "weighted avg       0.85      0.86      0.85      6022\n",
      "\n",
      "F1 score 60.84583901773534\n"
     ]
    }
   ],
   "source": [
    "fun(svc)"
   ]
  },
  {
   "cell_type": "markdown",
   "metadata": {},
   "source": [
    "RANDOM FOREST CLASSIFIER"
   ]
  },
  {
   "cell_type": "code",
   "execution_count": 63,
   "metadata": {},
   "outputs": [
    {
     "name": "stdout",
     "output_type": "stream",
     "text": [
      "Score 0.9998754359740907\n",
      "Accuracy Score 85.45333776154102\n",
      "Confusion Matrix\n",
      " [[4374  351]\n",
      " [ 525  772]]\n",
      "Classification Report\n",
      "               precision    recall  f1-score   support\n",
      "\n",
      "         0.0       0.89      0.93      0.91      4725\n",
      "         1.0       0.69      0.60      0.64      1297\n",
      "\n",
      "    accuracy                           0.85      6022\n",
      "   macro avg       0.79      0.76      0.77      6022\n",
      "weighted avg       0.85      0.85      0.85      6022\n",
      "\n",
      "F1 score 63.801652892561975\n"
     ]
    }
   ],
   "source": [
    "fun(rndf)\n",
    "pred=rndf.predict(x_test)"
   ]
  },
  {
   "cell_type": "markdown",
   "metadata": {},
   "source": [
    "DECISION TREE CLASSIFIER"
   ]
  },
  {
   "cell_type": "code",
   "execution_count": 64,
   "metadata": {},
   "outputs": [
    {
     "name": "stdout",
     "output_type": "stream",
     "text": [
      "Score 0.9998754359740907\n",
      "Accuracy Score 80.78711391564264\n",
      "Confusion Matrix\n",
      " [[4110  615]\n",
      " [ 542  755]]\n",
      "Classification Report\n",
      "               precision    recall  f1-score   support\n",
      "\n",
      "         0.0       0.88      0.87      0.88      4725\n",
      "         1.0       0.55      0.58      0.57      1297\n",
      "\n",
      "    accuracy                           0.81      6022\n",
      "   macro avg       0.72      0.73      0.72      6022\n",
      "weighted avg       0.81      0.81      0.81      6022\n",
      "\n",
      "F1 score 56.61792275965504\n"
     ]
    }
   ],
   "source": [
    "fun(dtc)"
   ]
  },
  {
   "cell_type": "markdown",
   "metadata": {},
   "source": [
    "GAUSSIAN NB CLASSIFIER"
   ]
  },
  {
   "cell_type": "code",
   "execution_count": 65,
   "metadata": {},
   "outputs": [
    {
     "name": "stdout",
     "output_type": "stream",
     "text": [
      "Score 0.7711343630626142\n",
      "Accuracy Score 76.71869810694122\n",
      "Confusion Matrix\n",
      " [[3560 1165]\n",
      " [ 237 1060]]\n",
      "Classification Report\n",
      "               precision    recall  f1-score   support\n",
      "\n",
      "         0.0       0.94      0.75      0.84      4725\n",
      "         1.0       0.48      0.82      0.60      1297\n",
      "\n",
      "    accuracy                           0.77      6022\n",
      "   macro avg       0.71      0.79      0.72      6022\n",
      "weighted avg       0.84      0.77      0.79      6022\n",
      "\n",
      "F1 score 60.19307211811471\n"
     ]
    }
   ],
   "source": [
    "fun(gb)"
   ]
  },
  {
   "cell_type": "markdown",
   "metadata": {},
   "source": [
    "KNN CLASSIFIER"
   ]
  },
  {
   "cell_type": "code",
   "execution_count": 66,
   "metadata": {},
   "outputs": [
    {
     "name": "stdout",
     "output_type": "stream",
     "text": [
      "Score 0.881581132702209\n",
      "Accuracy Score 83.47725008302889\n",
      "Confusion Matrix\n",
      " [[4283  442]\n",
      " [ 553  744]]\n",
      "Classification Report\n",
      "               precision    recall  f1-score   support\n",
      "\n",
      "         0.0       0.89      0.91      0.90      4725\n",
      "         1.0       0.63      0.57      0.60      1297\n",
      "\n",
      "    accuracy                           0.83      6022\n",
      "   macro avg       0.76      0.74      0.75      6022\n",
      "weighted avg       0.83      0.83      0.83      6022\n",
      "\n",
      "F1 score 59.9275070479259\n"
     ]
    }
   ],
   "source": [
    "fun(knn)"
   ]
  },
  {
   "cell_type": "markdown",
   "metadata": {},
   "source": [
    "SGDC CLASSIFIER"
   ]
  },
  {
   "cell_type": "code",
   "execution_count": 67,
   "metadata": {},
   "outputs": [
    {
     "name": "stdout",
     "output_type": "stream",
     "text": [
      "Score 0.8313403089187843\n",
      "Accuracy Score 83.94221188973762\n",
      "Confusion Matrix\n",
      " [[4537  188]\n",
      " [ 779  518]]\n",
      "Classification Report\n",
      "               precision    recall  f1-score   support\n",
      "\n",
      "         0.0       0.85      0.96      0.90      4725\n",
      "         1.0       0.73      0.40      0.52      1297\n",
      "\n",
      "    accuracy                           0.84      6022\n",
      "   macro avg       0.79      0.68      0.71      6022\n",
      "weighted avg       0.83      0.84      0.82      6022\n",
      "\n",
      "F1 score 51.72241637543684\n"
     ]
    }
   ],
   "source": [
    "fun(sgdc)\n"
   ]
  },
  {
   "cell_type": "markdown",
   "metadata": {},
   "source": [
    "Ensembel Method"
   ]
  },
  {
   "cell_type": "code",
   "execution_count": 68,
   "metadata": {},
   "outputs": [],
   "source": [
    "gd=GradientBoostingClassifier()\n",
    "ad=AdaBoostClassifier()\n"
   ]
  },
  {
   "cell_type": "code",
   "execution_count": 69,
   "metadata": {},
   "outputs": [
    {
     "name": "stdout",
     "output_type": "stream",
     "text": [
      "Score 0.8589104799867132\n",
      "Accuracy Score 86.54931916306874\n",
      "Confusion Matrix\n",
      " [[4434  291]\n",
      " [ 519  778]]\n",
      "Classification Report\n",
      "               precision    recall  f1-score   support\n",
      "\n",
      "         0.0       0.90      0.94      0.92      4725\n",
      "         1.0       0.73      0.60      0.66      1297\n",
      "\n",
      "    accuracy                           0.87      6022\n",
      "   macro avg       0.81      0.77      0.79      6022\n",
      "weighted avg       0.86      0.87      0.86      6022\n",
      "\n",
      "F1 score 65.76500422654269\n"
     ]
    }
   ],
   "source": [
    "fun(ad)\n",
    "pred=ad.predict(x_test)"
   ]
  },
  {
   "cell_type": "code",
   "execution_count": 70,
   "metadata": {},
   "outputs": [
    {
     "name": "stdout",
     "output_type": "stream",
     "text": [
      "Score 0.8665504069091513\n",
      "Accuracy Score 86.76519428761209\n",
      "Confusion Matrix\n",
      " [[4461  264]\n",
      " [ 533  764]]\n",
      "Classification Report\n",
      "               precision    recall  f1-score   support\n",
      "\n",
      "         0.0       0.89      0.94      0.92      4725\n",
      "         1.0       0.74      0.59      0.66      1297\n",
      "\n",
      "    accuracy                           0.87      6022\n",
      "   macro avg       0.82      0.77      0.79      6022\n",
      "weighted avg       0.86      0.87      0.86      6022\n",
      "\n",
      "F1 score 65.7204301075269\n"
     ]
    }
   ],
   "source": [
    "fun(gd)\n",
    "pred=gd.predict(x_test)"
   ]
  },
  {
   "cell_type": "markdown",
   "metadata": {},
   "source": [
    "CROSS VALIDATION"
   ]
  },
  {
   "cell_type": "code",
   "execution_count": 71,
   "metadata": {},
   "outputs": [
    {
     "name": "stdout",
     "output_type": "stream",
     "text": [
      "score of cross validation score for svc 85.4946048180422\n",
      "score of cross validation score for Decisiontreeclassifier 80.91743825206926\n",
      "score of cross validation score for knn 83.39201591065833\n",
      "score of cross validation score for GausianNB classifier 77.7685661349894\n",
      "score of cross validation score for Randomforest classifier 85.06279290205893\n",
      "score of cross validation score for Adaboost classifier 85.89985036065222\n"
     ]
    }
   ],
   "source": [
    "score=cross_val_score(svc,x,y,cv=5)\n",
    "print(\"score of cross validation score for svc\", score.mean()*100)\n",
    "score=cross_val_score(dtc,x,y,cv=5)\n",
    "print(\"score of cross validation score for Decisiontreeclassifier\",score.mean()*100)\n",
    "score=cross_val_score(knn,x,y,cv=5)\n",
    "print(\"score of cross validation score for knn\",score.mean()*100)\n",
    "score=cross_val_score(gb,x,y,cv=5)\n",
    "print(\"score of cross validation score for GausianNB classifier\",score.mean()*100)\n",
    "score=cross_val_score(rndf,x,y,cv=4)\n",
    "print(\"score of cross validation score for Randomforest classifier\",score.mean()*100)\n",
    "score=cross_val_score(ad,x,y,cv=4)\n",
    "print('score of cross validation score for Adaboost classifier',score.mean()*100)\n"
   ]
  },
  {
   "cell_type": "code",
   "execution_count": 72,
   "metadata": {},
   "outputs": [
    {
     "name": "stdout",
     "output_type": "stream",
     "text": [
      "score of cross validation score for Gradientboost classifier 84.4748744187856\n"
     ]
    }
   ],
   "source": [
    "score=cross_val_score(lg,x,y,cv=4)\n",
    "print(\"score of cross validation score for Gradientboost classifier\",score.mean()*100)"
   ]
  },
  {
   "cell_type": "code",
   "execution_count": 73,
   "metadata": {},
   "outputs": [
    {
     "name": "stdout",
     "output_type": "stream",
     "text": [
      "score of cross validation score for Gradientboost classifier 84.19917987864822\n"
     ]
    }
   ],
   "source": [
    "score=cross_val_score(sgdc,x,y,cv=4)\n",
    "print(\"score of cross validation score for Gradientboost classifier\",score.mean()*100)\n"
   ]
  },
  {
   "cell_type": "markdown",
   "metadata": {},
   "source": [
    "HYPER TUNING"
   ]
  },
  {
   "cell_type": "code",
   "execution_count": 74,
   "metadata": {},
   "outputs": [
    {
     "name": "stdout",
     "output_type": "stream",
     "text": [
      "Score 0.9998754359740907\n",
      "Accuracy Score 83.39422118897376\n",
      "Confusion Matrix\n",
      " [[4255  470]\n",
      " [ 530  767]]\n",
      "Classification Report\n",
      "               precision    recall  f1-score   support\n",
      "\n",
      "         0.0       0.89      0.90      0.89      4725\n",
      "         1.0       0.62      0.59      0.61      1297\n",
      "\n",
      "    accuracy                           0.83      6022\n",
      "   macro avg       0.75      0.75      0.75      6022\n",
      "weighted avg       0.83      0.83      0.83      6022\n",
      "\n",
      "F1 score 60.53670086819258\n"
     ]
    }
   ],
   "source": [
    "knn1=KNeighborsClassifier(algorithm='brute',n_neighbors=5,p=1,weights='distance')\n",
    "fun(knn1)"
   ]
  },
  {
   "cell_type": "markdown",
   "metadata": {},
   "source": [
    "p2={'n_estimators':[10,50,100,250,500],'max_depth':[1,2,3,4,5],'max_features':['auto','sqrt','log2']}\n",
    "gd1=GridSearchCV(gd,p2)\n",
    "gd1.fit(x,y)\n",
    "print(gd1.best_params_)"
   ]
  },
  {
   "cell_type": "code",
   "execution_count": 75,
   "metadata": {},
   "outputs": [
    {
     "name": "stdout",
     "output_type": "stream",
     "text": [
      "Score 0.8545922604218569\n",
      "Accuracy Score 85.90169378943872\n",
      "Confusion Matrix\n",
      " [[4544  181]\n",
      " [ 668  629]]\n",
      "Classification Report\n",
      "               precision    recall  f1-score   support\n",
      "\n",
      "         0.0       0.87      0.96      0.91      4725\n",
      "         1.0       0.78      0.48      0.60      1297\n",
      "\n",
      "    accuracy                           0.86      6022\n",
      "   macro avg       0.82      0.72      0.76      6022\n",
      "weighted avg       0.85      0.86      0.85      6022\n",
      "\n",
      "F1 score 59.70574276222117\n"
     ]
    }
   ],
   "source": [
    "rndf1=RandomForestClassifier(max_depth=5,max_features='sqrt',n_estimators=10)\n",
    "fun(rndf1)"
   ]
  },
  {
   "cell_type": "code",
   "execution_count": 76,
   "metadata": {},
   "outputs": [
    {
     "name": "stdout",
     "output_type": "stream",
     "text": [
      "Score 0.8501494768310912\n",
      "Accuracy Score 85.43673198272998\n",
      "Confusion Matrix\n",
      " [[4541  184]\n",
      " [ 693  604]]\n",
      "Classification Report\n",
      "               precision    recall  f1-score   support\n",
      "\n",
      "         0.0       0.87      0.96      0.91      4725\n",
      "         1.0       0.77      0.47      0.58      1297\n",
      "\n",
      "    accuracy                           0.85      6022\n",
      "   macro avg       0.82      0.71      0.75      6022\n",
      "weighted avg       0.85      0.85      0.84      6022\n",
      "\n",
      "F1 score 57.93764988009592\n"
     ]
    }
   ],
   "source": [
    "dtc1=DecisionTreeClassifier(criterion='entropy',max_depth=5,max_features='log2',splitter='best')\n",
    "fun(dtc1)"
   ]
  },
  {
   "cell_type": "code",
   "execution_count": 77,
   "metadata": {},
   "outputs": [
    {
     "name": "stdout",
     "output_type": "stream",
     "text": [
      "score of cross validation score for Gradientboost classifier 83.18278001127027\n"
     ]
    }
   ],
   "source": [
    "score=cross_val_score(knn1,x,y,cv=4)\n",
    "print(\"score of cross validation score for Gradientboost classifier\",score.mean()*100)"
   ]
  },
  {
   "cell_type": "code",
   "execution_count": 78,
   "metadata": {},
   "outputs": [
    {
     "name": "stdout",
     "output_type": "stream",
     "text": [
      "score of cross validation score for Gradientboost classifier 85.21559210299384\n"
     ]
    }
   ],
   "source": [
    "score=cross_val_score(rndf1,x,y,cv=4)\n",
    "print(\"score of cross validation score for Gradientboost classifier\",score.mean()*100)"
   ]
  },
  {
   "cell_type": "code",
   "execution_count": 79,
   "metadata": {},
   "outputs": [
    {
     "name": "stdout",
     "output_type": "stream",
     "text": [
      "score of cross validation score for Gradientboost classifier 83.33896016682047\n"
     ]
    }
   ],
   "source": [
    "score=cross_val_score(dtc1,x,y,cv=4)\n",
    "print(\"score of cross validation score for Gradientboost classifier\",score.mean()*100)"
   ]
  },
  {
   "cell_type": "markdown",
   "metadata": {},
   "source": [
    "Voting Classifier"
   ]
  },
  {
   "cell_type": "code",
   "execution_count": 80,
   "metadata": {},
   "outputs": [],
   "source": [
    "estimator=[]\n",
    "\n",
    "estimator.append(('svc',SVC()))\n",
    "estimator.append(('gd',DecisionTreeClassifier()))\n",
    "estimator.append(('ad',KNeighborsClassifier()))"
   ]
  },
  {
   "cell_type": "code",
   "execution_count": 81,
   "metadata": {},
   "outputs": [
    {
     "name": "stdout",
     "output_type": "stream",
     "text": [
      "[0. 0. 0. ... 0. 0. 0.]\n",
      "hard voting score  0\n"
     ]
    }
   ],
   "source": [
    "voting_hard=VotingClassifier(estimators=estimator,voting='hard')\n",
    "voting_hard.fit(x_train,y_train)\n",
    "y_pred=voting_hard.predict(x_test)\n",
    "print(y_pred)\n",
    "#usint accuracy score\n",
    "score=(accuracy_score(y_test,y_pred))\n",
    "print('hard voting score % d'%score)"
   ]
  },
  {
   "cell_type": "code",
   "execution_count": 82,
   "metadata": {},
   "outputs": [
    {
     "data": {
      "text/plain": [
       "array([0.48670801, 0.48060193, 0.48283422, ..., 0.41241368, 0.49135054,\n",
       "       0.47735994])"
      ]
     },
     "execution_count": 82,
     "metadata": {},
     "output_type": "execute_result"
    }
   ],
   "source": [
    "y_pred_prob=ad.predict_proba(x_test)[:,1]\n",
    "y_pred_prob"
   ]
  },
  {
   "cell_type": "code",
   "execution_count": 83,
   "metadata": {},
   "outputs": [
    {
     "name": "stdout",
     "output_type": "stream",
     "text": [
      "ROC Score 0.7665893208992669\n"
     ]
    }
   ],
   "source": [
    "fpr,tpr,thresolds=roc_curve(y_test,y_pred_prob)\n",
    "print('ROC Score',roc_auc_score(y_test,pred))"
   ]
  },
  {
   "cell_type": "code",
   "execution_count": 84,
   "metadata": {},
   "outputs": [
    {
     "data": {
      "image/png": "[encoded data removed]",
      "text/plain": [
       "<Figure size 432x288 with 1 Axes>"
      ]
     },
     "metadata": {
      "needs_background": "light"
     },
     "output_type": "display_data"
    }
   ],
   "source": [
    "plt.plot(fpr,tpr)\n",
    "plt.xlabel('False Positive Rate')\n",
    "plt.ylabel('True Positive Rate')\n",
    "plt.title('AdaBoost Classifier')\n",
    "plt.show()"
   ]
  },
  {
   "cell_type": "code",
   "execution_count": 85,
   "metadata": {},
   "outputs": [],
   "source": [
    "sd=pd.DataFrame({'column name':['lg','svc','rndf','dtc','gb','knn','sgdc' ,'ad','gd','knn1','rndf1','dtc1']})"
   ]
  },
  {
   "cell_type": "code",
   "execution_count": 86,
   "metadata": {},
   "outputs": [],
   "source": [
    "sd['score']=[0.84,0.85,0.99,0.99,0.77,0.88,0.83,0.85,0.86,0.99,0.85,0.84]\n",
    "sd['Accuracy Score']=[84.90,85.70,85.37,80.72,76.72,83.42,84.50,86.54,86.76,83.39,85.58,84.49]\n",
    "sd['F1 Score']=[60.97,60.84,63.72,56.38,60.19,59.92,60.06,65.76,65.72,60.53,59.59,55.09]\n",
    "sd['CV Score']=[84.47, 85.49 ,85.06,80.97,77.76,83.39,84.18,85.89,82.16,83.18,85.22,84.18]\n"
   ]
  },
  {
   "cell_type": "code",
   "execution_count": 87,
   "metadata": {},
   "outputs": [
    {
     "data": {
      "text/html": [
       "<div>\n",
       "<style scoped>\n",
       "    .dataframe tbody tr th:only-of-type {\n",
       "        vertical-align: middle;\n",
       "    }\n",
       "\n",
       "    .dataframe tbody tr th {\n",
       "        vertical-align: top;\n",
       "    }\n",
       "\n",
       "    .dataframe thead th {\n",
       "        text-align: right;\n",
       "    }\n",
       "</style>\n",
       "<table border=\"1\" class=\"dataframe\">\n",
       "  <thead>\n",
       "    <tr style=\"text-align: right;\">\n",
       "      <th></th>\n",
       "      <th>column name</th>\n",
       "      <th>score</th>\n",
       "      <th>Accuracy Score</th>\n",
       "      <th>F1 Score</th>\n",
       "      <th>CV Score</th>\n",
       "    </tr>\n",
       "  </thead>\n",
       "  <tbody>\n",
       "    <tr>\n",
       "      <th>0</th>\n",
       "      <td>lg</td>\n",
       "      <td>0.84</td>\n",
       "      <td>84.90</td>\n",
       "      <td>60.97</td>\n",
       "      <td>84.47</td>\n",
       "    </tr>\n",
       "    <tr>\n",
       "      <th>1</th>\n",
       "      <td>svc</td>\n",
       "      <td>0.85</td>\n",
       "      <td>85.70</td>\n",
       "      <td>60.84</td>\n",
       "      <td>85.49</td>\n",
       "    </tr>\n",
       "    <tr>\n",
       "      <th>2</th>\n",
       "      <td>rndf</td>\n",
       "      <td>0.99</td>\n",
       "      <td>85.37</td>\n",
       "      <td>63.72</td>\n",
       "      <td>85.06</td>\n",
       "    </tr>\n",
       "    <tr>\n",
       "      <th>3</th>\n",
       "      <td>dtc</td>\n",
       "      <td>0.99</td>\n",
       "      <td>80.72</td>\n",
       "      <td>56.38</td>\n",
       "      <td>80.97</td>\n",
       "    </tr>\n",
       "    <tr>\n",
       "      <th>4</th>\n",
       "      <td>gb</td>\n",
       "      <td>0.77</td>\n",
       "      <td>76.72</td>\n",
       "      <td>60.19</td>\n",
       "      <td>77.76</td>\n",
       "    </tr>\n",
       "    <tr>\n",
       "      <th>5</th>\n",
       "      <td>knn</td>\n",
       "      <td>0.88</td>\n",
       "      <td>83.42</td>\n",
       "      <td>59.92</td>\n",
       "      <td>83.39</td>\n",
       "    </tr>\n",
       "    <tr>\n",
       "      <th>6</th>\n",
       "      <td>sgdc</td>\n",
       "      <td>0.83</td>\n",
       "      <td>84.50</td>\n",
       "      <td>60.06</td>\n",
       "      <td>84.18</td>\n",
       "    </tr>\n",
       "    <tr>\n",
       "      <th>7</th>\n",
       "      <td>ad</td>\n",
       "      <td>0.85</td>\n",
       "      <td>86.54</td>\n",
       "      <td>65.76</td>\n",
       "      <td>85.89</td>\n",
       "    </tr>\n",
       "    <tr>\n",
       "      <th>8</th>\n",
       "      <td>gd</td>\n",
       "      <td>0.86</td>\n",
       "      <td>86.76</td>\n",
       "      <td>65.72</td>\n",
       "      <td>82.16</td>\n",
       "    </tr>\n",
       "    <tr>\n",
       "      <th>9</th>\n",
       "      <td>knn1</td>\n",
       "      <td>0.99</td>\n",
       "      <td>83.39</td>\n",
       "      <td>60.53</td>\n",
       "      <td>83.18</td>\n",
       "    </tr>\n",
       "    <tr>\n",
       "      <th>10</th>\n",
       "      <td>rndf1</td>\n",
       "      <td>0.85</td>\n",
       "      <td>85.58</td>\n",
       "      <td>59.59</td>\n",
       "      <td>85.22</td>\n",
       "    </tr>\n",
       "    <tr>\n",
       "      <th>11</th>\n",
       "      <td>dtc1</td>\n",
       "      <td>0.84</td>\n",
       "      <td>84.49</td>\n",
       "      <td>55.09</td>\n",
       "      <td>84.18</td>\n",
       "    </tr>\n",
       "  </tbody>\n",
       "</table>\n",
       "</div>"
      ],
      "text/plain": [
       "   column name  score  Accuracy Score  F1 Score  CV Score\n",
       "0           lg   0.84           84.90     60.97     84.47\n",
       "1          svc   0.85           85.70     60.84     85.49\n",
       "2         rndf   0.99           85.37     63.72     85.06\n",
       "3          dtc   0.99           80.72     56.38     80.97\n",
       "4           gb   0.77           76.72     60.19     77.76\n",
       "5          knn   0.88           83.42     59.92     83.39\n",
       "6         sgdc   0.83           84.50     60.06     84.18\n",
       "7           ad   0.85           86.54     65.76     85.89\n",
       "8           gd   0.86           86.76     65.72     82.16\n",
       "9         knn1   0.99           83.39     60.53     83.18\n",
       "10       rndf1   0.85           85.58     59.59     85.22\n",
       "11        dtc1   0.84           84.49     55.09     84.18"
      ]
     },
     "execution_count": 87,
     "metadata": {},
     "output_type": "execute_result"
    }
   ],
   "source": [
    "sd"
   ]
  },
  {
   "cell_type": "code",
   "execution_count": 88,
   "metadata": {},
   "outputs": [],
   "source": [
    "import pickle\n",
    "filename='census_income.pkl'\n",
    "pickle.dump(ad,open(filename,'wb'))"
   ]
  },
  {
   "cell_type": "markdown",
   "metadata": {},
   "source": [
    "Here, we dump Adaboost classifier model as it have good accuracy, f1 score and low diffrence "
   ]
  },
  {
   "cell_type": "code",
   "execution_count": 89,
   "metadata": {},
   "outputs": [
    {
     "name": "stdout",
     "output_type": "stream",
     "text": [
      "       Actual  Predict\n",
      "10227     0.0      0.0\n",
      "19050     0.0      0.0\n",
      "18978     0.0      0.0\n",
      "11539     0.0      0.0\n",
      "8381      0.0      0.0\n",
      "...       ...      ...\n",
      "14100     0.0      0.0\n",
      "28314     1.0      0.0\n",
      "15979     0.0      0.0\n",
      "487       0.0      0.0\n",
      "20625     0.0      0.0\n",
      "\n",
      "[6022 rows x 2 columns]\n"
     ]
    },
    {
     "data": {
      "text/plain": [
       "<seaborn.axisgrid.FacetGrid at 0x1b797098e80>"
      ]
     },
     "execution_count": 89,
     "metadata": {},
     "output_type": "execute_result"
    },
    {
     "data": {
      "image/png": "[encoded data removed]",
      "text/plain": [
       "<Figure size 360x360 with 1 Axes>"
      ]
     },
     "metadata": {
      "needs_background": "light"
     },
     "output_type": "display_data"
    }
   ],
   "source": [
    "res=pd.DataFrame()\n",
    "res['Actual']=y_test\n",
    "res['Predict']=ad.predict(x_test)\n",
    "print(res)\n",
    "sns.catplot(data=res)"
   ]
  },
  {
   "cell_type": "markdown",
   "metadata": {},
   "source": [
    "# THANK YOU"
   ]
  }
 ],
 "metadata": {
  "kernelspec": {
   "display_name": "Python 3",
   "language": "python",
   "name": "python3"
  },
  "language_info": {
   "codemirror_mode": {
    "name": "ipython",
    "version": 3
   },
   "file_extension": ".py",
   "mimetype": "text/x-python",
   "name": "python",
   "nbconvert_exporter": "python",
   "pygments_lexer": "ipython3",
   "version": "3.8.3"
  }
 },
 "nbformat": 4,
 "nbformat_minor": 4
}
