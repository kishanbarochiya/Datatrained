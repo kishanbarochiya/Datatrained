{
 "cells": [
  {
   "cell_type": "markdown",
   "metadata": {},
   "source": [
    "# Absenteeism at Work"
   ]
  },
  {
   "cell_type": "markdown",
   "metadata": {},
   "source": [
    "### Install libraries"
   ]
  },
  {
   "cell_type": "code",
   "execution_count": 1,
   "metadata": {},
   "outputs": [],
   "source": [
    "import pandas as pd\n",
    "import numpy as np\n",
    "import matplotlib.pyplot as plt #For EDA purpose\n",
    "%matplotlib inline   \n",
    "import seaborn as sns  #EDA purpose\n",
    "import warnings  #bypass Warning\n",
    "warnings.filterwarnings('ignore')\n",
    "\n",
    "from collections import Counter\n",
    "from sklearn.linear_model import LinearRegression\n",
    "from sklearn.metrics import mean_absolute_error,mean_squared_error,r2_score"
   ]
  },
  {
   "cell_type": "markdown",
   "metadata": {},
   "source": [
    "### load dataset"
   ]
  },
  {
   "cell_type": "code",
   "execution_count": 2,
   "metadata": {},
   "outputs": [
    {
     "data": {
      "text/html": [
       "<div>\n",
       "<style scoped>\n",
       "    .dataframe tbody tr th:only-of-type {\n",
       "        vertical-align: middle;\n",
       "    }\n",
       "\n",
       "    .dataframe tbody tr th {\n",
       "        vertical-align: top;\n",
       "    }\n",
       "\n",
       "    .dataframe thead th {\n",
       "        text-align: right;\n",
       "    }\n",
       "</style>\n",
       "<table border=\"1\" class=\"dataframe\">\n",
       "  <thead>\n",
       "    <tr style=\"text-align: right;\">\n",
       "      <th></th>\n",
       "      <th>ID</th>\n",
       "      <th>Reason for absence</th>\n",
       "      <th>Month of absence</th>\n",
       "      <th>Day of the week</th>\n",
       "      <th>Seasons</th>\n",
       "      <th>Transportation expense</th>\n",
       "      <th>Distance from Residence to Work</th>\n",
       "      <th>Service time</th>\n",
       "      <th>Age</th>\n",
       "      <th>Work load Average/day</th>\n",
       "      <th>Hit target</th>\n",
       "      <th>Disciplinary failure</th>\n",
       "      <th>Education</th>\n",
       "      <th>Son</th>\n",
       "      <th>Social drinker</th>\n",
       "      <th>Social smoker</th>\n",
       "      <th>Pet</th>\n",
       "      <th>Weight</th>\n",
       "      <th>Height</th>\n",
       "      <th>Body mass index</th>\n",
       "      <th>Absenteeism time in hours</th>\n",
       "    </tr>\n",
       "  </thead>\n",
       "  <tbody>\n",
       "    <tr>\n",
       "      <th>0</th>\n",
       "      <td>11</td>\n",
       "      <td>26</td>\n",
       "      <td>7</td>\n",
       "      <td>3</td>\n",
       "      <td>1</td>\n",
       "      <td>289</td>\n",
       "      <td>36</td>\n",
       "      <td>13</td>\n",
       "      <td>33</td>\n",
       "      <td>239554</td>\n",
       "      <td>97</td>\n",
       "      <td>0</td>\n",
       "      <td>1</td>\n",
       "      <td>2</td>\n",
       "      <td>1</td>\n",
       "      <td>0</td>\n",
       "      <td>1</td>\n",
       "      <td>90</td>\n",
       "      <td>172</td>\n",
       "      <td>30</td>\n",
       "      <td>4</td>\n",
       "    </tr>\n",
       "    <tr>\n",
       "      <th>1</th>\n",
       "      <td>36</td>\n",
       "      <td>0</td>\n",
       "      <td>7</td>\n",
       "      <td>3</td>\n",
       "      <td>1</td>\n",
       "      <td>118</td>\n",
       "      <td>13</td>\n",
       "      <td>18</td>\n",
       "      <td>50</td>\n",
       "      <td>239554</td>\n",
       "      <td>97</td>\n",
       "      <td>1</td>\n",
       "      <td>1</td>\n",
       "      <td>1</td>\n",
       "      <td>1</td>\n",
       "      <td>0</td>\n",
       "      <td>0</td>\n",
       "      <td>98</td>\n",
       "      <td>178</td>\n",
       "      <td>31</td>\n",
       "      <td>0</td>\n",
       "    </tr>\n",
       "    <tr>\n",
       "      <th>2</th>\n",
       "      <td>3</td>\n",
       "      <td>23</td>\n",
       "      <td>7</td>\n",
       "      <td>4</td>\n",
       "      <td>1</td>\n",
       "      <td>179</td>\n",
       "      <td>51</td>\n",
       "      <td>18</td>\n",
       "      <td>38</td>\n",
       "      <td>239554</td>\n",
       "      <td>97</td>\n",
       "      <td>0</td>\n",
       "      <td>1</td>\n",
       "      <td>0</td>\n",
       "      <td>1</td>\n",
       "      <td>0</td>\n",
       "      <td>0</td>\n",
       "      <td>89</td>\n",
       "      <td>170</td>\n",
       "      <td>31</td>\n",
       "      <td>2</td>\n",
       "    </tr>\n",
       "    <tr>\n",
       "      <th>3</th>\n",
       "      <td>7</td>\n",
       "      <td>7</td>\n",
       "      <td>7</td>\n",
       "      <td>5</td>\n",
       "      <td>1</td>\n",
       "      <td>279</td>\n",
       "      <td>5</td>\n",
       "      <td>14</td>\n",
       "      <td>39</td>\n",
       "      <td>239554</td>\n",
       "      <td>97</td>\n",
       "      <td>0</td>\n",
       "      <td>1</td>\n",
       "      <td>2</td>\n",
       "      <td>1</td>\n",
       "      <td>1</td>\n",
       "      <td>0</td>\n",
       "      <td>68</td>\n",
       "      <td>168</td>\n",
       "      <td>24</td>\n",
       "      <td>4</td>\n",
       "    </tr>\n",
       "    <tr>\n",
       "      <th>4</th>\n",
       "      <td>11</td>\n",
       "      <td>23</td>\n",
       "      <td>7</td>\n",
       "      <td>5</td>\n",
       "      <td>1</td>\n",
       "      <td>289</td>\n",
       "      <td>36</td>\n",
       "      <td>13</td>\n",
       "      <td>33</td>\n",
       "      <td>239554</td>\n",
       "      <td>97</td>\n",
       "      <td>0</td>\n",
       "      <td>1</td>\n",
       "      <td>2</td>\n",
       "      <td>1</td>\n",
       "      <td>0</td>\n",
       "      <td>1</td>\n",
       "      <td>90</td>\n",
       "      <td>172</td>\n",
       "      <td>30</td>\n",
       "      <td>2</td>\n",
       "    </tr>\n",
       "  </tbody>\n",
       "</table>\n",
       "</div>"
      ],
      "text/plain": [
       "   ID  Reason for absence  Month of absence  Day of the week  Seasons  \\\n",
       "0  11                  26                 7                3        1   \n",
       "1  36                   0                 7                3        1   \n",
       "2   3                  23                 7                4        1   \n",
       "3   7                   7                 7                5        1   \n",
       "4  11                  23                 7                5        1   \n",
       "\n",
       "   Transportation expense  Distance from Residence to Work  Service time  Age  \\\n",
       "0                     289                               36            13   33   \n",
       "1                     118                               13            18   50   \n",
       "2                     179                               51            18   38   \n",
       "3                     279                                5            14   39   \n",
       "4                     289                               36            13   33   \n",
       "\n",
       "   Work load Average/day   Hit target  Disciplinary failure  Education  Son  \\\n",
       "0                  239554          97                     0          1    2   \n",
       "1                  239554          97                     1          1    1   \n",
       "2                  239554          97                     0          1    0   \n",
       "3                  239554          97                     0          1    2   \n",
       "4                  239554          97                     0          1    2   \n",
       "\n",
       "   Social drinker  Social smoker  Pet  Weight  Height  Body mass index  \\\n",
       "0               1              0    1      90     172               30   \n",
       "1               1              0    0      98     178               31   \n",
       "2               1              0    0      89     170               31   \n",
       "3               1              1    0      68     168               24   \n",
       "4               1              0    1      90     172               30   \n",
       "\n",
       "   Absenteeism time in hours  \n",
       "0                          4  \n",
       "1                          0  \n",
       "2                          2  \n",
       "3                          4  \n",
       "4                          2  "
      ]
     },
     "execution_count": 2,
     "metadata": {},
     "output_type": "execute_result"
    }
   ],
   "source": [
    "df = pd.read_excel('Absent.xls')\n",
    "pd.set_option('display.max_columns', None)\n",
    "df.head()"
   ]
  },
  {
   "cell_type": "code",
   "execution_count": 3,
   "metadata": {},
   "outputs": [
    {
     "data": {
      "text/plain": [
       "(740, 21)"
      ]
     },
     "execution_count": 3,
     "metadata": {},
     "output_type": "execute_result"
    }
   ],
   "source": [
    "df.shape\n",
    "\n",
    "# we have 740 rows and 21 variables"
   ]
  },
  {
   "cell_type": "code",
   "execution_count": 4,
   "metadata": {},
   "outputs": [
    {
     "data": {
      "text/plain": [
       "ID                                 0\n",
       "Reason for absence                 0\n",
       "Month of absence                   0\n",
       "Day of the week                    0\n",
       "Seasons                            0\n",
       "Transportation expense             0\n",
       "Distance from Residence to Work    0\n",
       "Service time                       0\n",
       "Age                                0\n",
       "Work load Average/day              0\n",
       "Hit target                         0\n",
       "Disciplinary failure               0\n",
       "Education                          0\n",
       "Son                                0\n",
       "Social drinker                     0\n",
       "Social smoker                      0\n",
       "Pet                                0\n",
       "Weight                             0\n",
       "Height                             0\n",
       "Body mass index                    0\n",
       "Absenteeism time in hours          0\n",
       "dtype: int64"
      ]
     },
     "execution_count": 4,
     "metadata": {},
     "output_type": "execute_result"
    }
   ],
   "source": [
    "df.isnull().sum()\n",
    "\n",
    "# there is no null values in dataset"
   ]
  },
  {
   "cell_type": "code",
   "execution_count": 5,
   "metadata": {},
   "outputs": [
    {
     "name": "stdout",
     "output_type": "stream",
     "text": [
      "<class 'pandas.core.frame.DataFrame'>\n",
      "RangeIndex: 740 entries, 0 to 739\n",
      "Data columns (total 21 columns):\n",
      " #   Column                           Non-Null Count  Dtype\n",
      "---  ------                           --------------  -----\n",
      " 0   ID                               740 non-null    int64\n",
      " 1   Reason for absence               740 non-null    int64\n",
      " 2   Month of absence                 740 non-null    int64\n",
      " 3   Day of the week                  740 non-null    int64\n",
      " 4   Seasons                          740 non-null    int64\n",
      " 5   Transportation expense           740 non-null    int64\n",
      " 6   Distance from Residence to Work  740 non-null    int64\n",
      " 7   Service time                     740 non-null    int64\n",
      " 8   Age                              740 non-null    int64\n",
      " 9   Work load Average/day            740 non-null    int64\n",
      " 10  Hit target                       740 non-null    int64\n",
      " 11  Disciplinary failure             740 non-null    int64\n",
      " 12  Education                        740 non-null    int64\n",
      " 13  Son                              740 non-null    int64\n",
      " 14  Social drinker                   740 non-null    int64\n",
      " 15  Social smoker                    740 non-null    int64\n",
      " 16  Pet                              740 non-null    int64\n",
      " 17  Weight                           740 non-null    int64\n",
      " 18  Height                           740 non-null    int64\n",
      " 19  Body mass index                  740 non-null    int64\n",
      " 20  Absenteeism time in hours        740 non-null    int64\n",
      "dtypes: int64(21)\n",
      "memory usage: 121.5 KB\n"
     ]
    }
   ],
   "source": [
    "df.info()\n",
    "\n",
    "# all columns are in int format"
   ]
  },
  {
   "cell_type": "code",
   "execution_count": 6,
   "metadata": {},
   "outputs": [
    {
     "data": {
      "text/html": [
       "<div>\n",
       "<style scoped>\n",
       "    .dataframe tbody tr th:only-of-type {\n",
       "        vertical-align: middle;\n",
       "    }\n",
       "\n",
       "    .dataframe tbody tr th {\n",
       "        vertical-align: top;\n",
       "    }\n",
       "\n",
       "    .dataframe thead th {\n",
       "        text-align: right;\n",
       "    }\n",
       "</style>\n",
       "<table border=\"1\" class=\"dataframe\">\n",
       "  <thead>\n",
       "    <tr style=\"text-align: right;\">\n",
       "      <th></th>\n",
       "      <th>ID</th>\n",
       "      <th>Reason for absence</th>\n",
       "      <th>Month of absence</th>\n",
       "      <th>Day of the week</th>\n",
       "      <th>Seasons</th>\n",
       "      <th>Transportation expense</th>\n",
       "      <th>Distance from Residence to Work</th>\n",
       "      <th>Service time</th>\n",
       "      <th>Age</th>\n",
       "      <th>Work load Average/day</th>\n",
       "      <th>Hit target</th>\n",
       "      <th>Disciplinary failure</th>\n",
       "      <th>Education</th>\n",
       "      <th>Son</th>\n",
       "      <th>Social drinker</th>\n",
       "      <th>Social smoker</th>\n",
       "      <th>Pet</th>\n",
       "      <th>Weight</th>\n",
       "      <th>Height</th>\n",
       "      <th>Body mass index</th>\n",
       "      <th>Absenteeism time in hours</th>\n",
       "    </tr>\n",
       "  </thead>\n",
       "  <tbody>\n",
       "    <tr>\n",
       "      <th>ID</th>\n",
       "      <td>1.000000</td>\n",
       "      <td>-0.064245</td>\n",
       "      <td>-0.000043</td>\n",
       "      <td>0.034468</td>\n",
       "      <td>0.098495</td>\n",
       "      <td>-0.224163</td>\n",
       "      <td>-0.486160</td>\n",
       "      <td>-0.272704</td>\n",
       "      <td>0.040899</td>\n",
       "      <td>0.092457</td>\n",
       "      <td>0.018789</td>\n",
       "      <td>0.004502</td>\n",
       "      <td>-0.036254</td>\n",
       "      <td>0.002767</td>\n",
       "      <td>-0.451338</td>\n",
       "      <td>-0.010826</td>\n",
       "      <td>-0.041418</td>\n",
       "      <td>-0.254222</td>\n",
       "      <td>0.076363</td>\n",
       "      <td>-0.306924</td>\n",
       "      <td>-0.017997</td>\n",
       "    </tr>\n",
       "    <tr>\n",
       "      <th>Reason for absence</th>\n",
       "      <td>-0.064245</td>\n",
       "      <td>1.000000</td>\n",
       "      <td>-0.083858</td>\n",
       "      <td>0.116319</td>\n",
       "      <td>-0.117925</td>\n",
       "      <td>-0.119381</td>\n",
       "      <td>0.161831</td>\n",
       "      <td>0.048425</td>\n",
       "      <td>-0.078608</td>\n",
       "      <td>-0.123472</td>\n",
       "      <td>0.088943</td>\n",
       "      <td>-0.545054</td>\n",
       "      <td>-0.047357</td>\n",
       "      <td>-0.055364</td>\n",
       "      <td>0.065441</td>\n",
       "      <td>-0.115702</td>\n",
       "      <td>-0.055911</td>\n",
       "      <td>-0.000269</td>\n",
       "      <td>-0.079267</td>\n",
       "      <td>0.037205</td>\n",
       "      <td>-0.173116</td>\n",
       "    </tr>\n",
       "    <tr>\n",
       "      <th>Month of absence</th>\n",
       "      <td>-0.000043</td>\n",
       "      <td>-0.083858</td>\n",
       "      <td>1.000000</td>\n",
       "      <td>-0.006528</td>\n",
       "      <td>0.407770</td>\n",
       "      <td>0.137525</td>\n",
       "      <td>-0.003887</td>\n",
       "      <td>-0.062862</td>\n",
       "      <td>-0.001520</td>\n",
       "      <td>-0.169989</td>\n",
       "      <td>-0.460453</td>\n",
       "      <td>0.107946</td>\n",
       "      <td>-0.066128</td>\n",
       "      <td>0.079031</td>\n",
       "      <td>0.056226</td>\n",
       "      <td>-0.038603</td>\n",
       "      <td>0.047787</td>\n",
       "      <td>0.023278</td>\n",
       "      <td>-0.068942</td>\n",
       "      <td>0.051046</td>\n",
       "      <td>0.024345</td>\n",
       "    </tr>\n",
       "    <tr>\n",
       "      <th>Day of the week</th>\n",
       "      <td>0.034468</td>\n",
       "      <td>0.116319</td>\n",
       "      <td>-0.006528</td>\n",
       "      <td>1.000000</td>\n",
       "      <td>0.046493</td>\n",
       "      <td>0.033988</td>\n",
       "      <td>0.118026</td>\n",
       "      <td>0.021252</td>\n",
       "      <td>0.004459</td>\n",
       "      <td>0.015646</td>\n",
       "      <td>0.030986</td>\n",
       "      <td>-0.015120</td>\n",
       "      <td>0.058516</td>\n",
       "      <td>0.098079</td>\n",
       "      <td>0.041772</td>\n",
       "      <td>0.013156</td>\n",
       "      <td>-0.028885</td>\n",
       "      <td>-0.128980</td>\n",
       "      <td>-0.082133</td>\n",
       "      <td>-0.103578</td>\n",
       "      <td>-0.124361</td>\n",
       "    </tr>\n",
       "    <tr>\n",
       "      <th>Seasons</th>\n",
       "      <td>0.098495</td>\n",
       "      <td>-0.117925</td>\n",
       "      <td>0.407770</td>\n",
       "      <td>0.046493</td>\n",
       "      <td>1.000000</td>\n",
       "      <td>0.036995</td>\n",
       "      <td>-0.063108</td>\n",
       "      <td>-0.010904</td>\n",
       "      <td>-0.012089</td>\n",
       "      <td>0.150439</td>\n",
       "      <td>-0.061154</td>\n",
       "      <td>0.151766</td>\n",
       "      <td>-0.002951</td>\n",
       "      <td>0.046950</td>\n",
       "      <td>-0.045982</td>\n",
       "      <td>-0.048671</td>\n",
       "      <td>0.012356</td>\n",
       "      <td>-0.026278</td>\n",
       "      <td>-0.033737</td>\n",
       "      <td>-0.011031</td>\n",
       "      <td>-0.005615</td>\n",
       "    </tr>\n",
       "    <tr>\n",
       "      <th>Transportation expense</th>\n",
       "      <td>-0.224163</td>\n",
       "      <td>-0.119381</td>\n",
       "      <td>0.137525</td>\n",
       "      <td>0.033988</td>\n",
       "      <td>0.036995</td>\n",
       "      <td>1.000000</td>\n",
       "      <td>0.262183</td>\n",
       "      <td>-0.349887</td>\n",
       "      <td>-0.227542</td>\n",
       "      <td>0.005438</td>\n",
       "      <td>-0.080193</td>\n",
       "      <td>0.109222</td>\n",
       "      <td>-0.055065</td>\n",
       "      <td>0.383001</td>\n",
       "      <td>0.145117</td>\n",
       "      <td>0.044356</td>\n",
       "      <td>0.400080</td>\n",
       "      <td>-0.207435</td>\n",
       "      <td>-0.194496</td>\n",
       "      <td>-0.136517</td>\n",
       "      <td>0.027585</td>\n",
       "    </tr>\n",
       "    <tr>\n",
       "      <th>Distance from Residence to Work</th>\n",
       "      <td>-0.486160</td>\n",
       "      <td>0.161831</td>\n",
       "      <td>-0.003887</td>\n",
       "      <td>0.118026</td>\n",
       "      <td>-0.063108</td>\n",
       "      <td>0.262183</td>\n",
       "      <td>1.000000</td>\n",
       "      <td>0.131730</td>\n",
       "      <td>-0.145886</td>\n",
       "      <td>-0.068677</td>\n",
       "      <td>-0.013865</td>\n",
       "      <td>-0.056527</td>\n",
       "      <td>-0.259605</td>\n",
       "      <td>0.054230</td>\n",
       "      <td>0.452196</td>\n",
       "      <td>-0.075369</td>\n",
       "      <td>0.205941</td>\n",
       "      <td>-0.047859</td>\n",
       "      <td>-0.353372</td>\n",
       "      <td>0.113772</td>\n",
       "      <td>-0.088363</td>\n",
       "    </tr>\n",
       "    <tr>\n",
       "      <th>Service time</th>\n",
       "      <td>-0.272704</td>\n",
       "      <td>0.048425</td>\n",
       "      <td>-0.062862</td>\n",
       "      <td>0.021252</td>\n",
       "      <td>-0.010904</td>\n",
       "      <td>-0.349887</td>\n",
       "      <td>0.131730</td>\n",
       "      <td>1.000000</td>\n",
       "      <td>0.670979</td>\n",
       "      <td>-0.000668</td>\n",
       "      <td>-0.007840</td>\n",
       "      <td>-0.000221</td>\n",
       "      <td>-0.213000</td>\n",
       "      <td>-0.047128</td>\n",
       "      <td>0.353141</td>\n",
       "      <td>0.072424</td>\n",
       "      <td>-0.440301</td>\n",
       "      <td>0.455975</td>\n",
       "      <td>-0.053135</td>\n",
       "      <td>0.499718</td>\n",
       "      <td>0.019029</td>\n",
       "    </tr>\n",
       "    <tr>\n",
       "      <th>Age</th>\n",
       "      <td>0.040899</td>\n",
       "      <td>-0.078608</td>\n",
       "      <td>-0.001520</td>\n",
       "      <td>0.004459</td>\n",
       "      <td>-0.012089</td>\n",
       "      <td>-0.227542</td>\n",
       "      <td>-0.145886</td>\n",
       "      <td>0.670979</td>\n",
       "      <td>1.000000</td>\n",
       "      <td>-0.039425</td>\n",
       "      <td>-0.039224</td>\n",
       "      <td>0.104304</td>\n",
       "      <td>-0.221882</td>\n",
       "      <td>0.056984</td>\n",
       "      <td>0.213183</td>\n",
       "      <td>0.121738</td>\n",
       "      <td>-0.231226</td>\n",
       "      <td>0.418730</td>\n",
       "      <td>-0.062997</td>\n",
       "      <td>0.470688</td>\n",
       "      <td>0.065760</td>\n",
       "    </tr>\n",
       "    <tr>\n",
       "      <th>Work load Average/day</th>\n",
       "      <td>0.092457</td>\n",
       "      <td>-0.123472</td>\n",
       "      <td>-0.169989</td>\n",
       "      <td>0.015646</td>\n",
       "      <td>0.150439</td>\n",
       "      <td>0.005438</td>\n",
       "      <td>-0.068677</td>\n",
       "      <td>-0.000668</td>\n",
       "      <td>-0.039425</td>\n",
       "      <td>1.000000</td>\n",
       "      <td>-0.089445</td>\n",
       "      <td>0.029026</td>\n",
       "      <td>-0.074960</td>\n",
       "      <td>0.027820</td>\n",
       "      <td>-0.033713</td>\n",
       "      <td>0.030968</td>\n",
       "      <td>0.007114</td>\n",
       "      <td>-0.038522</td>\n",
       "      <td>0.103315</td>\n",
       "      <td>-0.090709</td>\n",
       "      <td>0.024749</td>\n",
       "    </tr>\n",
       "    <tr>\n",
       "      <th>Hit target</th>\n",
       "      <td>0.018789</td>\n",
       "      <td>0.088943</td>\n",
       "      <td>-0.460453</td>\n",
       "      <td>0.030986</td>\n",
       "      <td>-0.061154</td>\n",
       "      <td>-0.080193</td>\n",
       "      <td>-0.013865</td>\n",
       "      <td>-0.007840</td>\n",
       "      <td>-0.039224</td>\n",
       "      <td>-0.089445</td>\n",
       "      <td>1.000000</td>\n",
       "      <td>-0.147971</td>\n",
       "      <td>0.101062</td>\n",
       "      <td>-0.014091</td>\n",
       "      <td>-0.102480</td>\n",
       "      <td>0.051254</td>\n",
       "      <td>0.007201</td>\n",
       "      <td>-0.044947</td>\n",
       "      <td>0.093267</td>\n",
       "      <td>-0.088939</td>\n",
       "      <td>0.026695</td>\n",
       "    </tr>\n",
       "    <tr>\n",
       "      <th>Disciplinary failure</th>\n",
       "      <td>0.004502</td>\n",
       "      <td>-0.545054</td>\n",
       "      <td>0.107946</td>\n",
       "      <td>-0.015120</td>\n",
       "      <td>0.151766</td>\n",
       "      <td>0.109222</td>\n",
       "      <td>-0.056527</td>\n",
       "      <td>-0.000221</td>\n",
       "      <td>0.104304</td>\n",
       "      <td>0.029026</td>\n",
       "      <td>-0.147971</td>\n",
       "      <td>1.000000</td>\n",
       "      <td>-0.059298</td>\n",
       "      <td>0.072096</td>\n",
       "      <td>0.051838</td>\n",
       "      <td>0.116748</td>\n",
       "      <td>0.018881</td>\n",
       "      <td>0.072225</td>\n",
       "      <td>-0.010498</td>\n",
       "      <td>0.079428</td>\n",
       "      <td>-0.124248</td>\n",
       "    </tr>\n",
       "    <tr>\n",
       "      <th>Education</th>\n",
       "      <td>-0.036254</td>\n",
       "      <td>-0.047357</td>\n",
       "      <td>-0.066128</td>\n",
       "      <td>0.058516</td>\n",
       "      <td>-0.002951</td>\n",
       "      <td>-0.055065</td>\n",
       "      <td>-0.259605</td>\n",
       "      <td>-0.213000</td>\n",
       "      <td>-0.221882</td>\n",
       "      <td>-0.074960</td>\n",
       "      <td>0.101062</td>\n",
       "      <td>-0.059298</td>\n",
       "      <td>1.000000</td>\n",
       "      <td>-0.188622</td>\n",
       "      <td>-0.420013</td>\n",
       "      <td>0.032727</td>\n",
       "      <td>-0.053554</td>\n",
       "      <td>-0.300574</td>\n",
       "      <td>0.100977</td>\n",
       "      <td>-0.366884</td>\n",
       "      <td>-0.046235</td>\n",
       "    </tr>\n",
       "    <tr>\n",
       "      <th>Son</th>\n",
       "      <td>0.002767</td>\n",
       "      <td>-0.055364</td>\n",
       "      <td>0.079031</td>\n",
       "      <td>0.098079</td>\n",
       "      <td>0.046950</td>\n",
       "      <td>0.383001</td>\n",
       "      <td>0.054230</td>\n",
       "      <td>-0.047128</td>\n",
       "      <td>0.056984</td>\n",
       "      <td>0.027820</td>\n",
       "      <td>-0.014091</td>\n",
       "      <td>0.072096</td>\n",
       "      <td>-0.188622</td>\n",
       "      <td>1.000000</td>\n",
       "      <td>0.206376</td>\n",
       "      <td>0.156088</td>\n",
       "      <td>0.108917</td>\n",
       "      <td>-0.139552</td>\n",
       "      <td>-0.014208</td>\n",
       "      <td>-0.144150</td>\n",
       "      <td>0.113756</td>\n",
       "    </tr>\n",
       "    <tr>\n",
       "      <th>Social drinker</th>\n",
       "      <td>-0.451338</td>\n",
       "      <td>0.065441</td>\n",
       "      <td>0.056226</td>\n",
       "      <td>0.041772</td>\n",
       "      <td>-0.045982</td>\n",
       "      <td>0.145117</td>\n",
       "      <td>0.452196</td>\n",
       "      <td>0.353141</td>\n",
       "      <td>0.213183</td>\n",
       "      <td>-0.033713</td>\n",
       "      <td>-0.102480</td>\n",
       "      <td>0.051838</td>\n",
       "      <td>-0.420013</td>\n",
       "      <td>0.206376</td>\n",
       "      <td>1.000000</td>\n",
       "      <td>-0.111678</td>\n",
       "      <td>-0.122780</td>\n",
       "      <td>0.378664</td>\n",
       "      <td>0.169951</td>\n",
       "      <td>0.323978</td>\n",
       "      <td>0.065067</td>\n",
       "    </tr>\n",
       "    <tr>\n",
       "      <th>Social smoker</th>\n",
       "      <td>-0.010826</td>\n",
       "      <td>-0.115702</td>\n",
       "      <td>-0.038603</td>\n",
       "      <td>0.013156</td>\n",
       "      <td>-0.048671</td>\n",
       "      <td>0.044356</td>\n",
       "      <td>-0.075369</td>\n",
       "      <td>0.072424</td>\n",
       "      <td>0.121738</td>\n",
       "      <td>0.030968</td>\n",
       "      <td>0.051254</td>\n",
       "      <td>0.116748</td>\n",
       "      <td>0.032727</td>\n",
       "      <td>0.156088</td>\n",
       "      <td>-0.111678</td>\n",
       "      <td>1.000000</td>\n",
       "      <td>0.105379</td>\n",
       "      <td>-0.198511</td>\n",
       "      <td>0.003271</td>\n",
       "      <td>-0.196006</td>\n",
       "      <td>-0.008936</td>\n",
       "    </tr>\n",
       "    <tr>\n",
       "      <th>Pet</th>\n",
       "      <td>-0.041418</td>\n",
       "      <td>-0.055911</td>\n",
       "      <td>0.047787</td>\n",
       "      <td>-0.028885</td>\n",
       "      <td>0.012356</td>\n",
       "      <td>0.400080</td>\n",
       "      <td>0.205941</td>\n",
       "      <td>-0.440301</td>\n",
       "      <td>-0.231226</td>\n",
       "      <td>0.007114</td>\n",
       "      <td>0.007201</td>\n",
       "      <td>0.018881</td>\n",
       "      <td>-0.053554</td>\n",
       "      <td>0.108917</td>\n",
       "      <td>-0.122780</td>\n",
       "      <td>0.105379</td>\n",
       "      <td>1.000000</td>\n",
       "      <td>-0.103770</td>\n",
       "      <td>-0.103143</td>\n",
       "      <td>-0.076103</td>\n",
       "      <td>-0.028277</td>\n",
       "    </tr>\n",
       "    <tr>\n",
       "      <th>Weight</th>\n",
       "      <td>-0.254222</td>\n",
       "      <td>-0.000269</td>\n",
       "      <td>0.023278</td>\n",
       "      <td>-0.128980</td>\n",
       "      <td>-0.026278</td>\n",
       "      <td>-0.207435</td>\n",
       "      <td>-0.047859</td>\n",
       "      <td>0.455975</td>\n",
       "      <td>0.418730</td>\n",
       "      <td>-0.038522</td>\n",
       "      <td>-0.044947</td>\n",
       "      <td>0.072225</td>\n",
       "      <td>-0.300574</td>\n",
       "      <td>-0.139552</td>\n",
       "      <td>0.378664</td>\n",
       "      <td>-0.198511</td>\n",
       "      <td>-0.103770</td>\n",
       "      <td>1.000000</td>\n",
       "      <td>0.306802</td>\n",
       "      <td>0.904117</td>\n",
       "      <td>0.015789</td>\n",
       "    </tr>\n",
       "    <tr>\n",
       "      <th>Height</th>\n",
       "      <td>0.076363</td>\n",
       "      <td>-0.079267</td>\n",
       "      <td>-0.068942</td>\n",
       "      <td>-0.082133</td>\n",
       "      <td>-0.033737</td>\n",
       "      <td>-0.194496</td>\n",
       "      <td>-0.353372</td>\n",
       "      <td>-0.053135</td>\n",
       "      <td>-0.062997</td>\n",
       "      <td>0.103315</td>\n",
       "      <td>0.093267</td>\n",
       "      <td>-0.010498</td>\n",
       "      <td>0.100977</td>\n",
       "      <td>-0.014208</td>\n",
       "      <td>0.169951</td>\n",
       "      <td>0.003271</td>\n",
       "      <td>-0.103143</td>\n",
       "      <td>0.306802</td>\n",
       "      <td>1.000000</td>\n",
       "      <td>-0.121049</td>\n",
       "      <td>0.144420</td>\n",
       "    </tr>\n",
       "    <tr>\n",
       "      <th>Body mass index</th>\n",
       "      <td>-0.306924</td>\n",
       "      <td>0.037205</td>\n",
       "      <td>0.051046</td>\n",
       "      <td>-0.103578</td>\n",
       "      <td>-0.011031</td>\n",
       "      <td>-0.136517</td>\n",
       "      <td>0.113772</td>\n",
       "      <td>0.499718</td>\n",
       "      <td>0.470688</td>\n",
       "      <td>-0.090709</td>\n",
       "      <td>-0.088939</td>\n",
       "      <td>0.079428</td>\n",
       "      <td>-0.366884</td>\n",
       "      <td>-0.144150</td>\n",
       "      <td>0.323978</td>\n",
       "      <td>-0.196006</td>\n",
       "      <td>-0.076103</td>\n",
       "      <td>0.904117</td>\n",
       "      <td>-0.121049</td>\n",
       "      <td>1.000000</td>\n",
       "      <td>-0.049719</td>\n",
       "    </tr>\n",
       "    <tr>\n",
       "      <th>Absenteeism time in hours</th>\n",
       "      <td>-0.017997</td>\n",
       "      <td>-0.173116</td>\n",
       "      <td>0.024345</td>\n",
       "      <td>-0.124361</td>\n",
       "      <td>-0.005615</td>\n",
       "      <td>0.027585</td>\n",
       "      <td>-0.088363</td>\n",
       "      <td>0.019029</td>\n",
       "      <td>0.065760</td>\n",
       "      <td>0.024749</td>\n",
       "      <td>0.026695</td>\n",
       "      <td>-0.124248</td>\n",
       "      <td>-0.046235</td>\n",
       "      <td>0.113756</td>\n",
       "      <td>0.065067</td>\n",
       "      <td>-0.008936</td>\n",
       "      <td>-0.028277</td>\n",
       "      <td>0.015789</td>\n",
       "      <td>0.144420</td>\n",
       "      <td>-0.049719</td>\n",
       "      <td>1.000000</td>\n",
       "    </tr>\n",
       "  </tbody>\n",
       "</table>\n",
       "</div>"
      ],
      "text/plain": [
       "                                       ID  Reason for absence  \\\n",
       "ID                               1.000000           -0.064245   \n",
       "Reason for absence              -0.064245            1.000000   \n",
       "Month of absence                -0.000043           -0.083858   \n",
       "Day of the week                  0.034468            0.116319   \n",
       "Seasons                          0.098495           -0.117925   \n",
       "Transportation expense          -0.224163           -0.119381   \n",
       "Distance from Residence to Work -0.486160            0.161831   \n",
       "Service time                    -0.272704            0.048425   \n",
       "Age                              0.040899           -0.078608   \n",
       "Work load Average/day            0.092457           -0.123472   \n",
       "Hit target                       0.018789            0.088943   \n",
       "Disciplinary failure             0.004502           -0.545054   \n",
       "Education                       -0.036254           -0.047357   \n",
       "Son                              0.002767           -0.055364   \n",
       "Social drinker                  -0.451338            0.065441   \n",
       "Social smoker                   -0.010826           -0.115702   \n",
       "Pet                             -0.041418           -0.055911   \n",
       "Weight                          -0.254222           -0.000269   \n",
       "Height                           0.076363           -0.079267   \n",
       "Body mass index                 -0.306924            0.037205   \n",
       "Absenteeism time in hours       -0.017997           -0.173116   \n",
       "\n",
       "                                 Month of absence  Day of the week   Seasons  \\\n",
       "ID                                      -0.000043         0.034468  0.098495   \n",
       "Reason for absence                      -0.083858         0.116319 -0.117925   \n",
       "Month of absence                         1.000000        -0.006528  0.407770   \n",
       "Day of the week                         -0.006528         1.000000  0.046493   \n",
       "Seasons                                  0.407770         0.046493  1.000000   \n",
       "Transportation expense                   0.137525         0.033988  0.036995   \n",
       "Distance from Residence to Work         -0.003887         0.118026 -0.063108   \n",
       "Service time                            -0.062862         0.021252 -0.010904   \n",
       "Age                                     -0.001520         0.004459 -0.012089   \n",
       "Work load Average/day                   -0.169989         0.015646  0.150439   \n",
       "Hit target                              -0.460453         0.030986 -0.061154   \n",
       "Disciplinary failure                     0.107946        -0.015120  0.151766   \n",
       "Education                               -0.066128         0.058516 -0.002951   \n",
       "Son                                      0.079031         0.098079  0.046950   \n",
       "Social drinker                           0.056226         0.041772 -0.045982   \n",
       "Social smoker                           -0.038603         0.013156 -0.048671   \n",
       "Pet                                      0.047787        -0.028885  0.012356   \n",
       "Weight                                   0.023278        -0.128980 -0.026278   \n",
       "Height                                  -0.068942        -0.082133 -0.033737   \n",
       "Body mass index                          0.051046        -0.103578 -0.011031   \n",
       "Absenteeism time in hours                0.024345        -0.124361 -0.005615   \n",
       "\n",
       "                                 Transportation expense  \\\n",
       "ID                                            -0.224163   \n",
       "Reason for absence                            -0.119381   \n",
       "Month of absence                               0.137525   \n",
       "Day of the week                                0.033988   \n",
       "Seasons                                        0.036995   \n",
       "Transportation expense                         1.000000   \n",
       "Distance from Residence to Work                0.262183   \n",
       "Service time                                  -0.349887   \n",
       "Age                                           -0.227542   \n",
       "Work load Average/day                          0.005438   \n",
       "Hit target                                    -0.080193   \n",
       "Disciplinary failure                           0.109222   \n",
       "Education                                     -0.055065   \n",
       "Son                                            0.383001   \n",
       "Social drinker                                 0.145117   \n",
       "Social smoker                                  0.044356   \n",
       "Pet                                            0.400080   \n",
       "Weight                                        -0.207435   \n",
       "Height                                        -0.194496   \n",
       "Body mass index                               -0.136517   \n",
       "Absenteeism time in hours                      0.027585   \n",
       "\n",
       "                                 Distance from Residence to Work  \\\n",
       "ID                                                     -0.486160   \n",
       "Reason for absence                                      0.161831   \n",
       "Month of absence                                       -0.003887   \n",
       "Day of the week                                         0.118026   \n",
       "Seasons                                                -0.063108   \n",
       "Transportation expense                                  0.262183   \n",
       "Distance from Residence to Work                         1.000000   \n",
       "Service time                                            0.131730   \n",
       "Age                                                    -0.145886   \n",
       "Work load Average/day                                  -0.068677   \n",
       "Hit target                                             -0.013865   \n",
       "Disciplinary failure                                   -0.056527   \n",
       "Education                                              -0.259605   \n",
       "Son                                                     0.054230   \n",
       "Social drinker                                          0.452196   \n",
       "Social smoker                                          -0.075369   \n",
       "Pet                                                     0.205941   \n",
       "Weight                                                 -0.047859   \n",
       "Height                                                 -0.353372   \n",
       "Body mass index                                         0.113772   \n",
       "Absenteeism time in hours                              -0.088363   \n",
       "\n",
       "                                 Service time       Age  \\\n",
       "ID                                  -0.272704  0.040899   \n",
       "Reason for absence                   0.048425 -0.078608   \n",
       "Month of absence                    -0.062862 -0.001520   \n",
       "Day of the week                      0.021252  0.004459   \n",
       "Seasons                             -0.010904 -0.012089   \n",
       "Transportation expense              -0.349887 -0.227542   \n",
       "Distance from Residence to Work      0.131730 -0.145886   \n",
       "Service time                         1.000000  0.670979   \n",
       "Age                                  0.670979  1.000000   \n",
       "Work load Average/day               -0.000668 -0.039425   \n",
       "Hit target                          -0.007840 -0.039224   \n",
       "Disciplinary failure                -0.000221  0.104304   \n",
       "Education                           -0.213000 -0.221882   \n",
       "Son                                 -0.047128  0.056984   \n",
       "Social drinker                       0.353141  0.213183   \n",
       "Social smoker                        0.072424  0.121738   \n",
       "Pet                                 -0.440301 -0.231226   \n",
       "Weight                               0.455975  0.418730   \n",
       "Height                              -0.053135 -0.062997   \n",
       "Body mass index                      0.499718  0.470688   \n",
       "Absenteeism time in hours            0.019029  0.065760   \n",
       "\n",
       "                                 Work load Average/day   Hit target  \\\n",
       "ID                                             0.092457    0.018789   \n",
       "Reason for absence                            -0.123472    0.088943   \n",
       "Month of absence                              -0.169989   -0.460453   \n",
       "Day of the week                                0.015646    0.030986   \n",
       "Seasons                                        0.150439   -0.061154   \n",
       "Transportation expense                         0.005438   -0.080193   \n",
       "Distance from Residence to Work               -0.068677   -0.013865   \n",
       "Service time                                  -0.000668   -0.007840   \n",
       "Age                                           -0.039425   -0.039224   \n",
       "Work load Average/day                          1.000000   -0.089445   \n",
       "Hit target                                    -0.089445    1.000000   \n",
       "Disciplinary failure                           0.029026   -0.147971   \n",
       "Education                                     -0.074960    0.101062   \n",
       "Son                                            0.027820   -0.014091   \n",
       "Social drinker                                -0.033713   -0.102480   \n",
       "Social smoker                                  0.030968    0.051254   \n",
       "Pet                                            0.007114    0.007201   \n",
       "Weight                                        -0.038522   -0.044947   \n",
       "Height                                         0.103315    0.093267   \n",
       "Body mass index                               -0.090709   -0.088939   \n",
       "Absenteeism time in hours                      0.024749    0.026695   \n",
       "\n",
       "                                 Disciplinary failure  Education       Son  \\\n",
       "ID                                           0.004502  -0.036254  0.002767   \n",
       "Reason for absence                          -0.545054  -0.047357 -0.055364   \n",
       "Month of absence                             0.107946  -0.066128  0.079031   \n",
       "Day of the week                             -0.015120   0.058516  0.098079   \n",
       "Seasons                                      0.151766  -0.002951  0.046950   \n",
       "Transportation expense                       0.109222  -0.055065  0.383001   \n",
       "Distance from Residence to Work             -0.056527  -0.259605  0.054230   \n",
       "Service time                                -0.000221  -0.213000 -0.047128   \n",
       "Age                                          0.104304  -0.221882  0.056984   \n",
       "Work load Average/day                        0.029026  -0.074960  0.027820   \n",
       "Hit target                                  -0.147971   0.101062 -0.014091   \n",
       "Disciplinary failure                         1.000000  -0.059298  0.072096   \n",
       "Education                                   -0.059298   1.000000 -0.188622   \n",
       "Son                                          0.072096  -0.188622  1.000000   \n",
       "Social drinker                               0.051838  -0.420013  0.206376   \n",
       "Social smoker                                0.116748   0.032727  0.156088   \n",
       "Pet                                          0.018881  -0.053554  0.108917   \n",
       "Weight                                       0.072225  -0.300574 -0.139552   \n",
       "Height                                      -0.010498   0.100977 -0.014208   \n",
       "Body mass index                              0.079428  -0.366884 -0.144150   \n",
       "Absenteeism time in hours                   -0.124248  -0.046235  0.113756   \n",
       "\n",
       "                                 Social drinker  Social smoker       Pet  \\\n",
       "ID                                    -0.451338      -0.010826 -0.041418   \n",
       "Reason for absence                     0.065441      -0.115702 -0.055911   \n",
       "Month of absence                       0.056226      -0.038603  0.047787   \n",
       "Day of the week                        0.041772       0.013156 -0.028885   \n",
       "Seasons                               -0.045982      -0.048671  0.012356   \n",
       "Transportation expense                 0.145117       0.044356  0.400080   \n",
       "Distance from Residence to Work        0.452196      -0.075369  0.205941   \n",
       "Service time                           0.353141       0.072424 -0.440301   \n",
       "Age                                    0.213183       0.121738 -0.231226   \n",
       "Work load Average/day                 -0.033713       0.030968  0.007114   \n",
       "Hit target                            -0.102480       0.051254  0.007201   \n",
       "Disciplinary failure                   0.051838       0.116748  0.018881   \n",
       "Education                             -0.420013       0.032727 -0.053554   \n",
       "Son                                    0.206376       0.156088  0.108917   \n",
       "Social drinker                         1.000000      -0.111678 -0.122780   \n",
       "Social smoker                         -0.111678       1.000000  0.105379   \n",
       "Pet                                   -0.122780       0.105379  1.000000   \n",
       "Weight                                 0.378664      -0.198511 -0.103770   \n",
       "Height                                 0.169951       0.003271 -0.103143   \n",
       "Body mass index                        0.323978      -0.196006 -0.076103   \n",
       "Absenteeism time in hours              0.065067      -0.008936 -0.028277   \n",
       "\n",
       "                                   Weight    Height  Body mass index  \\\n",
       "ID                              -0.254222  0.076363        -0.306924   \n",
       "Reason for absence              -0.000269 -0.079267         0.037205   \n",
       "Month of absence                 0.023278 -0.068942         0.051046   \n",
       "Day of the week                 -0.128980 -0.082133        -0.103578   \n",
       "Seasons                         -0.026278 -0.033737        -0.011031   \n",
       "Transportation expense          -0.207435 -0.194496        -0.136517   \n",
       "Distance from Residence to Work -0.047859 -0.353372         0.113772   \n",
       "Service time                     0.455975 -0.053135         0.499718   \n",
       "Age                              0.418730 -0.062997         0.470688   \n",
       "Work load Average/day           -0.038522  0.103315        -0.090709   \n",
       "Hit target                      -0.044947  0.093267        -0.088939   \n",
       "Disciplinary failure             0.072225 -0.010498         0.079428   \n",
       "Education                       -0.300574  0.100977        -0.366884   \n",
       "Son                             -0.139552 -0.014208        -0.144150   \n",
       "Social drinker                   0.378664  0.169951         0.323978   \n",
       "Social smoker                   -0.198511  0.003271        -0.196006   \n",
       "Pet                             -0.103770 -0.103143        -0.076103   \n",
       "Weight                           1.000000  0.306802         0.904117   \n",
       "Height                           0.306802  1.000000        -0.121049   \n",
       "Body mass index                  0.904117 -0.121049         1.000000   \n",
       "Absenteeism time in hours        0.015789  0.144420        -0.049719   \n",
       "\n",
       "                                 Absenteeism time in hours  \n",
       "ID                                               -0.017997  \n",
       "Reason for absence                               -0.173116  \n",
       "Month of absence                                  0.024345  \n",
       "Day of the week                                  -0.124361  \n",
       "Seasons                                          -0.005615  \n",
       "Transportation expense                            0.027585  \n",
       "Distance from Residence to Work                  -0.088363  \n",
       "Service time                                      0.019029  \n",
       "Age                                               0.065760  \n",
       "Work load Average/day                             0.024749  \n",
       "Hit target                                        0.026695  \n",
       "Disciplinary failure                             -0.124248  \n",
       "Education                                        -0.046235  \n",
       "Son                                               0.113756  \n",
       "Social drinker                                    0.065067  \n",
       "Social smoker                                    -0.008936  \n",
       "Pet                                              -0.028277  \n",
       "Weight                                            0.015789  \n",
       "Height                                            0.144420  \n",
       "Body mass index                                  -0.049719  \n",
       "Absenteeism time in hours                         1.000000  "
      ]
     },
     "execution_count": 6,
     "metadata": {},
     "output_type": "execute_result"
    }
   ],
   "source": [
    "df.corr()"
   ]
  },
  {
   "cell_type": "code",
   "execution_count": 7,
   "metadata": {},
   "outputs": [
    {
     "data": {
      "text/plain": [
       "ID                                 36\n",
       "Reason for absence                 28\n",
       "Month of absence                   13\n",
       "Day of the week                     5\n",
       "Seasons                             4\n",
       "Transportation expense             24\n",
       "Distance from Residence to Work    25\n",
       "Service time                       18\n",
       "Age                                22\n",
       "Work load Average/day              38\n",
       "Hit target                         13\n",
       "Disciplinary failure                2\n",
       "Education                           4\n",
       "Son                                 5\n",
       "Social drinker                      2\n",
       "Social smoker                       2\n",
       "Pet                                 6\n",
       "Weight                             26\n",
       "Height                             14\n",
       "Body mass index                    17\n",
       "Absenteeism time in hours          19\n",
       "dtype: int64"
      ]
     },
     "execution_count": 7,
     "metadata": {},
     "output_type": "execute_result"
    }
   ],
   "source": [
    "df.nunique()\n",
    "\n",
    "#we can drop \"ID\",as it is not relatable to target"
   ]
  },
  {
   "cell_type": "code",
   "execution_count": 8,
   "metadata": {},
   "outputs": [],
   "source": [
    "df.rename(columns = {'Reason for absence':'Reason','Day of the week':'Day', 'Month of absence':'Month','Transportation expense':'Transportation_expanses',\n",
    "                    'Distance from Residence to Work':'Office_distance','Service time':'Time','Work load Average/day ':'Workload','Hit target':'Hit_target',\n",
    "                    'Disciplinary failure':'Discipline','Social drinker':'Drinker','Social smoker':'Smoker','Body mass index':'BMI','Absenteeism time in hours':'Absence(hour)'}, inplace = True)"
   ]
  },
  {
   "cell_type": "code",
   "execution_count": 9,
   "metadata": {},
   "outputs": [
    {
     "data": {
      "text/plain": [
       "array([  4,   0,   2,   8,  40,   1,   7,   3,  32,   5,  16,  24,  64,\n",
       "        56,  80, 120, 112, 104,  48], dtype=int64)"
      ]
     },
     "execution_count": 9,
     "metadata": {},
     "output_type": "execute_result"
    }
   ],
   "source": [
    "df['Absence(hour)'].unique()"
   ]
  },
  {
   "cell_type": "code",
   "execution_count": 10,
   "metadata": {},
   "outputs": [
    {
     "data": {
      "text/html": [
       "<div>\n",
       "<style scoped>\n",
       "    .dataframe tbody tr th:only-of-type {\n",
       "        vertical-align: middle;\n",
       "    }\n",
       "\n",
       "    .dataframe tbody tr th {\n",
       "        vertical-align: top;\n",
       "    }\n",
       "\n",
       "    .dataframe thead th {\n",
       "        text-align: right;\n",
       "    }\n",
       "</style>\n",
       "<table border=\"1\" class=\"dataframe\">\n",
       "  <thead>\n",
       "    <tr style=\"text-align: right;\">\n",
       "      <th></th>\n",
       "      <th>ID</th>\n",
       "      <th>Reason</th>\n",
       "      <th>Month</th>\n",
       "      <th>Day</th>\n",
       "      <th>Seasons</th>\n",
       "      <th>Transportation_expanses</th>\n",
       "      <th>Office_distance</th>\n",
       "      <th>Time</th>\n",
       "      <th>Age</th>\n",
       "      <th>Workload</th>\n",
       "      <th>Hit_target</th>\n",
       "      <th>Discipline</th>\n",
       "      <th>Education</th>\n",
       "      <th>Son</th>\n",
       "      <th>Drinker</th>\n",
       "      <th>Smoker</th>\n",
       "      <th>Pet</th>\n",
       "      <th>Weight</th>\n",
       "      <th>Height</th>\n",
       "      <th>BMI</th>\n",
       "      <th>Absence(hour)</th>\n",
       "    </tr>\n",
       "  </thead>\n",
       "  <tbody>\n",
       "    <tr>\n",
       "      <th>0</th>\n",
       "      <td>11</td>\n",
       "      <td>26</td>\n",
       "      <td>7</td>\n",
       "      <td>3</td>\n",
       "      <td>1</td>\n",
       "      <td>289</td>\n",
       "      <td>36</td>\n",
       "      <td>13</td>\n",
       "      <td>33</td>\n",
       "      <td>239554</td>\n",
       "      <td>97</td>\n",
       "      <td>0</td>\n",
       "      <td>1</td>\n",
       "      <td>2</td>\n",
       "      <td>1</td>\n",
       "      <td>0</td>\n",
       "      <td>1</td>\n",
       "      <td>90</td>\n",
       "      <td>172</td>\n",
       "      <td>30</td>\n",
       "      <td>4</td>\n",
       "    </tr>\n",
       "    <tr>\n",
       "      <th>1</th>\n",
       "      <td>36</td>\n",
       "      <td>0</td>\n",
       "      <td>7</td>\n",
       "      <td>3</td>\n",
       "      <td>1</td>\n",
       "      <td>118</td>\n",
       "      <td>13</td>\n",
       "      <td>18</td>\n",
       "      <td>50</td>\n",
       "      <td>239554</td>\n",
       "      <td>97</td>\n",
       "      <td>1</td>\n",
       "      <td>1</td>\n",
       "      <td>1</td>\n",
       "      <td>1</td>\n",
       "      <td>0</td>\n",
       "      <td>0</td>\n",
       "      <td>98</td>\n",
       "      <td>178</td>\n",
       "      <td>31</td>\n",
       "      <td>0</td>\n",
       "    </tr>\n",
       "    <tr>\n",
       "      <th>2</th>\n",
       "      <td>3</td>\n",
       "      <td>23</td>\n",
       "      <td>7</td>\n",
       "      <td>4</td>\n",
       "      <td>1</td>\n",
       "      <td>179</td>\n",
       "      <td>51</td>\n",
       "      <td>18</td>\n",
       "      <td>38</td>\n",
       "      <td>239554</td>\n",
       "      <td>97</td>\n",
       "      <td>0</td>\n",
       "      <td>1</td>\n",
       "      <td>0</td>\n",
       "      <td>1</td>\n",
       "      <td>0</td>\n",
       "      <td>0</td>\n",
       "      <td>89</td>\n",
       "      <td>170</td>\n",
       "      <td>31</td>\n",
       "      <td>2</td>\n",
       "    </tr>\n",
       "    <tr>\n",
       "      <th>3</th>\n",
       "      <td>7</td>\n",
       "      <td>7</td>\n",
       "      <td>7</td>\n",
       "      <td>5</td>\n",
       "      <td>1</td>\n",
       "      <td>279</td>\n",
       "      <td>5</td>\n",
       "      <td>14</td>\n",
       "      <td>39</td>\n",
       "      <td>239554</td>\n",
       "      <td>97</td>\n",
       "      <td>0</td>\n",
       "      <td>1</td>\n",
       "      <td>2</td>\n",
       "      <td>1</td>\n",
       "      <td>1</td>\n",
       "      <td>0</td>\n",
       "      <td>68</td>\n",
       "      <td>168</td>\n",
       "      <td>24</td>\n",
       "      <td>4</td>\n",
       "    </tr>\n",
       "    <tr>\n",
       "      <th>4</th>\n",
       "      <td>11</td>\n",
       "      <td>23</td>\n",
       "      <td>7</td>\n",
       "      <td>5</td>\n",
       "      <td>1</td>\n",
       "      <td>289</td>\n",
       "      <td>36</td>\n",
       "      <td>13</td>\n",
       "      <td>33</td>\n",
       "      <td>239554</td>\n",
       "      <td>97</td>\n",
       "      <td>0</td>\n",
       "      <td>1</td>\n",
       "      <td>2</td>\n",
       "      <td>1</td>\n",
       "      <td>0</td>\n",
       "      <td>1</td>\n",
       "      <td>90</td>\n",
       "      <td>172</td>\n",
       "      <td>30</td>\n",
       "      <td>2</td>\n",
       "    </tr>\n",
       "  </tbody>\n",
       "</table>\n",
       "</div>"
      ],
      "text/plain": [
       "   ID  Reason  Month  Day  Seasons  Transportation_expanses  Office_distance  \\\n",
       "0  11      26      7    3        1                      289               36   \n",
       "1  36       0      7    3        1                      118               13   \n",
       "2   3      23      7    4        1                      179               51   \n",
       "3   7       7      7    5        1                      279                5   \n",
       "4  11      23      7    5        1                      289               36   \n",
       "\n",
       "   Time  Age  Workload  Hit_target  Discipline  Education  Son  Drinker  \\\n",
       "0    13   33    239554          97           0          1    2        1   \n",
       "1    18   50    239554          97           1          1    1        1   \n",
       "2    18   38    239554          97           0          1    0        1   \n",
       "3    14   39    239554          97           0          1    2        1   \n",
       "4    13   33    239554          97           0          1    2        1   \n",
       "\n",
       "   Smoker  Pet  Weight  Height  BMI  Absence(hour)  \n",
       "0       0    1      90     172   30              4  \n",
       "1       0    0      98     178   31              0  \n",
       "2       0    0      89     170   31              2  \n",
       "3       1    0      68     168   24              4  \n",
       "4       0    1      90     172   30              2  "
      ]
     },
     "execution_count": 10,
     "metadata": {},
     "output_type": "execute_result"
    }
   ],
   "source": [
    "df.head()"
   ]
  },
  {
   "cell_type": "code",
   "execution_count": 11,
   "metadata": {},
   "outputs": [
    {
     "data": {
      "image/png": "[encoded data removed]",
      "text/plain": [
       "<Figure size 1152x216 with 1 Axes>"
      ]
     },
     "metadata": {
      "needs_background": "light"
     },
     "output_type": "display_data"
    }
   ],
   "source": [
    "plt.figure(figsize=(16,3))\n",
    "sns.countplot(x = 'Reason',data=df)\n",
    "plt.title(\"Reason\")\n",
    "plt.show()"
   ]
  },
  {
   "cell_type": "markdown",
   "metadata": {},
   "source": [
    "Higher reason for absence is 13,23,27 and 28 are as follow:\n",
    "\n",
    "     Diseases of the musculoskeletal system and connective tissue\n",
    "     medical consultation\n",
    "     physiotherapy\n",
    "     dental consultation"
   ]
  },
  {
   "cell_type": "code",
   "execution_count": 12,
   "metadata": {},
   "outputs": [
    {
     "data": {
      "image/png": "[encoded data removed]",
      "text/plain": [
       "<Figure size 1152x216 with 1 Axes>"
      ]
     },
     "metadata": {
      "needs_background": "light"
     },
     "output_type": "display_data"
    }
   ],
   "source": [
    "plt.figure(figsize=(16,3))\n",
    "sns.countplot(x = 'Month',data=df)\n",
    "plt.title(\"Month\")\n",
    "plt.show()"
   ]
  },
  {
   "cell_type": "markdown",
   "metadata": {},
   "source": [
    "People are absence in feb and march month and apart from it in oct, nov month.\n"
   ]
  },
  {
   "cell_type": "code",
   "execution_count": 13,
   "metadata": {},
   "outputs": [
    {
     "data": {
      "image/png": "[encoded data removed]",
      "text/plain": [
       "<Figure size 1152x216 with 1 Axes>"
      ]
     },
     "metadata": {
      "needs_background": "light"
     },
     "output_type": "display_data"
    }
   ],
   "source": [
    "plt.figure(figsize=(16,3))\n",
    "sns.countplot(x = 'Seasons',data=df)\n",
    "plt.title(\"Seasons\")\n",
    "plt.show()"
   ]
  },
  {
   "cell_type": "markdown",
   "metadata": {},
   "source": [
    "not looking much effective but we can say that absence in season 1 (summer) is lower while it goes higher in season 2(autumn)"
   ]
  },
  {
   "cell_type": "code",
   "execution_count": 14,
   "metadata": {},
   "outputs": [
    {
     "data": {
      "image/png": "[encoded data removed]",
      "text/plain": [
       "<Figure size 1152x216 with 1 Axes>"
      ]
     },
     "metadata": {
      "needs_background": "light"
     },
     "output_type": "display_data"
    }
   ],
   "source": [
    "plt.figure(figsize=(16,3))\n",
    "sns.countplot(x = 'Day',data=df)\n",
    "plt.title(\"Day\")\n",
    "plt.show()"
   ]
  },
  {
   "cell_type": "markdown",
   "metadata": {},
   "source": [
    "Monday is higher in terms of absence day"
   ]
  },
  {
   "cell_type": "code",
   "execution_count": 15,
   "metadata": {},
   "outputs": [
    {
     "data": {
      "text/plain": [
       "Index(['ID', 'Reason', 'Month', 'Day', 'Seasons', 'Transportation_expanses',\n",
       "       'Office_distance', 'Time', 'Age', 'Workload', 'Hit_target',\n",
       "       'Discipline', 'Education', 'Son', 'Drinker', 'Smoker', 'Pet', 'Weight',\n",
       "       'Height', 'BMI', 'Absence(hour)'],\n",
       "      dtype='object')"
      ]
     },
     "execution_count": 15,
     "metadata": {},
     "output_type": "execute_result"
    }
   ],
   "source": [
    "df.columns"
   ]
  },
  {
   "cell_type": "code",
   "execution_count": 16,
   "metadata": {},
   "outputs": [
    {
     "data": {
      "image/png": "[encoded data removed]",
      "text/plain": [
       "<Figure size 1152x216 with 1 Axes>"
      ]
     },
     "metadata": {
      "needs_background": "light"
     },
     "output_type": "display_data"
    }
   ],
   "source": [
    "plt.figure(figsize=(16,3))\n",
    "sns.countplot(x = 'Discipline',data=df)\n",
    "plt.title(\"Discipline\")\n",
    "plt.show()"
   ]
  },
  {
   "cell_type": "markdown",
   "metadata": {},
   "source": [
    "Non-Discipline employee is counted in higher absence while discipline employee is lower in it."
   ]
  },
  {
   "cell_type": "code",
   "execution_count": 17,
   "metadata": {},
   "outputs": [
    {
     "data": {
      "image/png": "[encoded data removed]",
      "text/plain": [
       "<Figure size 1152x216 with 1 Axes>"
      ]
     },
     "metadata": {
      "needs_background": "light"
     },
     "output_type": "display_data"
    }
   ],
   "source": [
    "plt.figure(figsize=(16,3))\n",
    "sns.countplot(x = 'Education',data=df)\n",
    "plt.title(\"Education\")\n",
    "plt.show()"
   ]
  },
  {
   "cell_type": "markdown",
   "metadata": {},
   "source": [
    "Un-educated or low educated employee are highly counted in absence while higher educated employee are disciplined and not high in absence."
   ]
  },
  {
   "cell_type": "code",
   "execution_count": 18,
   "metadata": {},
   "outputs": [
    {
     "data": {
      "image/png": "[encoded data removed]",
      "text/plain": [
       "<Figure size 1152x216 with 1 Axes>"
      ]
     },
     "metadata": {
      "needs_background": "light"
     },
     "output_type": "display_data"
    }
   ],
   "source": [
    "plt.figure(figsize=(16,3))\n",
    "sns.countplot(x = 'Son',data=df)\n",
    "plt.title(\"Son\")\n",
    "plt.show()"
   ]
  },
  {
   "cell_type": "markdown",
   "metadata": {},
   "source": [
    "We can visulise that single employee or 0 child employee is higher and as no of son increase, absence hour is going to decrease."
   ]
  },
  {
   "cell_type": "code",
   "execution_count": 19,
   "metadata": {},
   "outputs": [
    {
     "data": {
      "image/png": "[encoded data removed]",
      "text/plain": [
       "<Figure size 1152x216 with 1 Axes>"
      ]
     },
     "metadata": {
      "needs_background": "light"
     },
     "output_type": "display_data"
    }
   ],
   "source": [
    "plt.figure(figsize=(16,3))\n",
    "sns.countplot(x = 'Drinker',data=df)\n",
    "plt.title(\"Drinker\")\n",
    "plt.show()"
   ]
  },
  {
   "cell_type": "markdown",
   "metadata": {},
   "source": [
    "drinker employee are higher in absence "
   ]
  },
  {
   "cell_type": "code",
   "execution_count": 20,
   "metadata": {},
   "outputs": [
    {
     "data": {
      "image/png": "[encoded data removed]",
      "text/plain": [
       "<Figure size 1152x216 with 1 Axes>"
      ]
     },
     "metadata": {
      "needs_background": "light"
     },
     "output_type": "display_data"
    }
   ],
   "source": [
    "plt.figure(figsize=(16,3))\n",
    "sns.countplot(x = 'Smoker',data=df)\n",
    "plt.title(\"Smoker\")\n",
    "plt.show()"
   ]
  },
  {
   "cell_type": "markdown",
   "metadata": {},
   "source": [
    "surprisigly we can visulise that smoker are not much counted in absence hour while non smokers are highly counted in absence hours"
   ]
  },
  {
   "cell_type": "code",
   "execution_count": 21,
   "metadata": {},
   "outputs": [
    {
     "data": {
      "image/png": "[encoded data removed]",
      "text/plain": [
       "<Figure size 1152x216 with 1 Axes>"
      ]
     },
     "metadata": {
      "needs_background": "light"
     },
     "output_type": "display_data"
    }
   ],
   "source": [
    "plt.figure(figsize=(16,3))\n",
    "sns.countplot(x = 'Pet',data=df)\n",
    "plt.title(\"Pet\")\n",
    "plt.show()"
   ]
  },
  {
   "cell_type": "markdown",
   "metadata": {},
   "source": [
    "employee who have not pet have higher number in dataset"
   ]
  },
  {
   "cell_type": "code",
   "execution_count": 22,
   "metadata": {},
   "outputs": [
    {
     "data": {
      "image/png": "[encoded data removed]",
      "text/plain": [
       "<Figure size 1152x216 with 1 Axes>"
      ]
     },
     "metadata": {
      "needs_background": "light"
     },
     "output_type": "display_data"
    }
   ],
   "source": [
    "plt.figure(figsize=(16,3))\n",
    "sns.countplot(x = 'Transportation_expanses',data=df)\n",
    "plt.title(\"Transportation_expanses\")\n",
    "plt.show()"
   ]
  },
  {
   "cell_type": "code",
   "execution_count": 23,
   "metadata": {},
   "outputs": [
    {
     "data": {
      "image/png": "[encoded data removed]",
      "text/plain": [
       "<Figure size 1152x216 with 1 Axes>"
      ]
     },
     "metadata": {
      "needs_background": "light"
     },
     "output_type": "display_data"
    }
   ],
   "source": [
    "plt.figure(figsize=(16,3))\n",
    "sns.countplot(x = 'Office_distance',data=df)\n",
    "plt.title(\"Office_distance\")\n",
    "plt.show()"
   ]
  },
  {
   "cell_type": "code",
   "execution_count": 24,
   "metadata": {},
   "outputs": [
    {
     "data": {
      "image/png": "[encoded data removed]",
      "text/plain": [
       "<Figure size 1152x216 with 1 Axes>"
      ]
     },
     "metadata": {
      "needs_background": "light"
     },
     "output_type": "display_data"
    }
   ],
   "source": [
    "plt.figure(figsize=(16,3))\n",
    "sns.countplot(x = 'Time',data=df)\n",
    "plt.title(\"Time\")\n",
    "plt.show()"
   ]
  },
  {
   "cell_type": "markdown",
   "metadata": {},
   "source": [
    "Slightly effective , where service time is high counted"
   ]
  },
  {
   "cell_type": "code",
   "execution_count": 25,
   "metadata": {},
   "outputs": [
    {
     "data": {
      "image/png": "[encoded data removed]",
      "text/plain": [
       "<Figure size 1152x216 with 1 Axes>"
      ]
     },
     "metadata": {
      "needs_background": "light"
     },
     "output_type": "display_data"
    }
   ],
   "source": [
    "plt.figure(figsize=(16,3))\n",
    "sns.countplot(x = 'Workload',data=df)\n",
    "plt.title(\"Workload\")\n",
    "plt.show()"
   ]
  },
  {
   "cell_type": "markdown",
   "metadata": {},
   "source": [
    "workload is un-stable counted in dataset"
   ]
  },
  {
   "cell_type": "code",
   "execution_count": 26,
   "metadata": {},
   "outputs": [
    {
     "data": {
      "image/png": "[encoded data removed]",
      "text/plain": [
       "<Figure size 1152x216 with 1 Axes>"
      ]
     },
     "metadata": {
      "needs_background": "light"
     },
     "output_type": "display_data"
    }
   ],
   "source": [
    "plt.figure(figsize=(16,3))\n",
    "sns.countplot(x = 'Age',data=df)\n",
    "plt.title(\"Age\")\n",
    "plt.show()"
   ]
  },
  {
   "cell_type": "code",
   "execution_count": 27,
   "metadata": {},
   "outputs": [
    {
     "data": {
      "text/plain": [
       "<matplotlib.axes._subplots.AxesSubplot at 0x182a0a3d940>"
      ]
     },
     "execution_count": 27,
     "metadata": {},
     "output_type": "execute_result"
    },
    {
     "data": {
      "image/png": "[encoded data removed]",
      "text/plain": [
       "<Figure size 1080x288 with 1 Axes>"
      ]
     },
     "metadata": {
      "needs_background": "light"
     },
     "output_type": "display_data"
    }
   ],
   "source": [
    "plt.figure(figsize = (15,4))\n",
    "sns.scatterplot(x='Transportation_expanses',y='Absence(hour)',data=df)"
   ]
  },
  {
   "cell_type": "markdown",
   "metadata": {},
   "source": [
    "Absence hour is high in lower transportation expanses"
   ]
  },
  {
   "cell_type": "code",
   "execution_count": 28,
   "metadata": {},
   "outputs": [
    {
     "data": {
      "text/plain": [
       "<matplotlib.axes._subplots.AxesSubplot at 0x182a0a3dd60>"
      ]
     },
     "execution_count": 28,
     "metadata": {},
     "output_type": "execute_result"
    },
    {
     "data": {
      "image/png": "[encoded data removed]",
      "text/plain": [
       "<Figure size 1080x288 with 1 Axes>"
      ]
     },
     "metadata": {
      "needs_background": "light"
     },
     "output_type": "display_data"
    }
   ],
   "source": [
    "plt.figure(figsize = (15,4))\n",
    "sns.scatterplot(x='Office_distance',y='Absence(hour)',data=df)"
   ]
  },
  {
   "cell_type": "markdown",
   "metadata": {},
   "source": [
    "office distance is average than absence is highers"
   ]
  },
  {
   "cell_type": "code",
   "execution_count": 29,
   "metadata": {},
   "outputs": [
    {
     "data": {
      "text/plain": [
       "<matplotlib.axes._subplots.AxesSubplot at 0x182a0961670>"
      ]
     },
     "execution_count": 29,
     "metadata": {},
     "output_type": "execute_result"
    },
    {
     "data": {
      "image/png": "[encoded data removed]",
      "text/plain": [
       "<Figure size 1080x288 with 1 Axes>"
      ]
     },
     "metadata": {
      "needs_background": "light"
     },
     "output_type": "display_data"
    }
   ],
   "source": [
    "plt.figure(figsize = (15,4))\n",
    "sns.scatterplot(x='BMI',y='Absence(hour)',data=df)"
   ]
  },
  {
   "cell_type": "markdown",
   "metadata": {},
   "source": [
    "Absence is higher in between BMi of 22 to 32"
   ]
  },
  {
   "cell_type": "code",
   "execution_count": 32,
   "metadata": {},
   "outputs": [
    {
     "data": {
      "text/html": [
       "<div>\n",
       "<style scoped>\n",
       "    .dataframe tbody tr th:only-of-type {\n",
       "        vertical-align: middle;\n",
       "    }\n",
       "\n",
       "    .dataframe tbody tr th {\n",
       "        vertical-align: top;\n",
       "    }\n",
       "\n",
       "    .dataframe thead th {\n",
       "        text-align: right;\n",
       "    }\n",
       "</style>\n",
       "<table border=\"1\" class=\"dataframe\">\n",
       "  <thead>\n",
       "    <tr style=\"text-align: right;\">\n",
       "      <th></th>\n",
       "      <th>ID</th>\n",
       "      <th>Reason</th>\n",
       "      <th>Month</th>\n",
       "      <th>Day</th>\n",
       "      <th>Seasons</th>\n",
       "      <th>Transportation_expanses</th>\n",
       "      <th>Office_distance</th>\n",
       "      <th>Time</th>\n",
       "      <th>Age</th>\n",
       "      <th>Workload</th>\n",
       "      <th>Hit_target</th>\n",
       "      <th>Discipline</th>\n",
       "      <th>Education</th>\n",
       "      <th>Son</th>\n",
       "      <th>Drinker</th>\n",
       "      <th>Smoker</th>\n",
       "      <th>Pet</th>\n",
       "      <th>Weight</th>\n",
       "      <th>Height</th>\n",
       "      <th>BMI</th>\n",
       "      <th>Absence(hour)</th>\n",
       "    </tr>\n",
       "  </thead>\n",
       "  <tbody>\n",
       "    <tr>\n",
       "      <th>0</th>\n",
       "      <td>11</td>\n",
       "      <td>26</td>\n",
       "      <td>7</td>\n",
       "      <td>3</td>\n",
       "      <td>1</td>\n",
       "      <td>289</td>\n",
       "      <td>36</td>\n",
       "      <td>13</td>\n",
       "      <td>33</td>\n",
       "      <td>239554</td>\n",
       "      <td>97</td>\n",
       "      <td>0</td>\n",
       "      <td>1</td>\n",
       "      <td>2</td>\n",
       "      <td>1</td>\n",
       "      <td>0</td>\n",
       "      <td>1</td>\n",
       "      <td>90</td>\n",
       "      <td>172</td>\n",
       "      <td>30</td>\n",
       "      <td>4</td>\n",
       "    </tr>\n",
       "    <tr>\n",
       "      <th>1</th>\n",
       "      <td>36</td>\n",
       "      <td>0</td>\n",
       "      <td>7</td>\n",
       "      <td>3</td>\n",
       "      <td>1</td>\n",
       "      <td>118</td>\n",
       "      <td>13</td>\n",
       "      <td>18</td>\n",
       "      <td>50</td>\n",
       "      <td>239554</td>\n",
       "      <td>97</td>\n",
       "      <td>1</td>\n",
       "      <td>1</td>\n",
       "      <td>1</td>\n",
       "      <td>1</td>\n",
       "      <td>0</td>\n",
       "      <td>0</td>\n",
       "      <td>98</td>\n",
       "      <td>178</td>\n",
       "      <td>31</td>\n",
       "      <td>0</td>\n",
       "    </tr>\n",
       "    <tr>\n",
       "      <th>2</th>\n",
       "      <td>3</td>\n",
       "      <td>23</td>\n",
       "      <td>7</td>\n",
       "      <td>4</td>\n",
       "      <td>1</td>\n",
       "      <td>179</td>\n",
       "      <td>51</td>\n",
       "      <td>18</td>\n",
       "      <td>38</td>\n",
       "      <td>239554</td>\n",
       "      <td>97</td>\n",
       "      <td>0</td>\n",
       "      <td>1</td>\n",
       "      <td>0</td>\n",
       "      <td>1</td>\n",
       "      <td>0</td>\n",
       "      <td>0</td>\n",
       "      <td>89</td>\n",
       "      <td>170</td>\n",
       "      <td>31</td>\n",
       "      <td>2</td>\n",
       "    </tr>\n",
       "    <tr>\n",
       "      <th>3</th>\n",
       "      <td>7</td>\n",
       "      <td>7</td>\n",
       "      <td>7</td>\n",
       "      <td>5</td>\n",
       "      <td>1</td>\n",
       "      <td>279</td>\n",
       "      <td>5</td>\n",
       "      <td>14</td>\n",
       "      <td>39</td>\n",
       "      <td>239554</td>\n",
       "      <td>97</td>\n",
       "      <td>0</td>\n",
       "      <td>1</td>\n",
       "      <td>2</td>\n",
       "      <td>1</td>\n",
       "      <td>1</td>\n",
       "      <td>0</td>\n",
       "      <td>68</td>\n",
       "      <td>168</td>\n",
       "      <td>24</td>\n",
       "      <td>4</td>\n",
       "    </tr>\n",
       "    <tr>\n",
       "      <th>4</th>\n",
       "      <td>11</td>\n",
       "      <td>23</td>\n",
       "      <td>7</td>\n",
       "      <td>5</td>\n",
       "      <td>1</td>\n",
       "      <td>289</td>\n",
       "      <td>36</td>\n",
       "      <td>13</td>\n",
       "      <td>33</td>\n",
       "      <td>239554</td>\n",
       "      <td>97</td>\n",
       "      <td>0</td>\n",
       "      <td>1</td>\n",
       "      <td>2</td>\n",
       "      <td>1</td>\n",
       "      <td>0</td>\n",
       "      <td>1</td>\n",
       "      <td>90</td>\n",
       "      <td>172</td>\n",
       "      <td>30</td>\n",
       "      <td>2</td>\n",
       "    </tr>\n",
       "  </tbody>\n",
       "</table>\n",
       "</div>"
      ],
      "text/plain": [
       "   ID  Reason  Month  Day  Seasons  Transportation_expanses  Office_distance  \\\n",
       "0  11      26      7    3        1                      289               36   \n",
       "1  36       0      7    3        1                      118               13   \n",
       "2   3      23      7    4        1                      179               51   \n",
       "3   7       7      7    5        1                      279                5   \n",
       "4  11      23      7    5        1                      289               36   \n",
       "\n",
       "   Time  Age  Workload  Hit_target  Discipline  Education  Son  Drinker  \\\n",
       "0    13   33    239554          97           0          1    2        1   \n",
       "1    18   50    239554          97           1          1    1        1   \n",
       "2    18   38    239554          97           0          1    0        1   \n",
       "3    14   39    239554          97           0          1    2        1   \n",
       "4    13   33    239554          97           0          1    2        1   \n",
       "\n",
       "   Smoker  Pet  Weight  Height  BMI  Absence(hour)  \n",
       "0       0    1      90     172   30              4  \n",
       "1       0    0      98     178   31              0  \n",
       "2       0    0      89     170   31              2  \n",
       "3       1    0      68     168   24              4  \n",
       "4       0    1      90     172   30              2  "
      ]
     },
     "execution_count": 32,
     "metadata": {},
     "output_type": "execute_result"
    }
   ],
   "source": [
    "df.head()"
   ]
  },
  {
   "cell_type": "code",
   "execution_count": 33,
   "metadata": {},
   "outputs": [],
   "source": [
    "df = df.drop(['ID','Height','Weight'], axis = 1)"
   ]
  },
  {
   "cell_type": "code",
   "execution_count": 34,
   "metadata": {},
   "outputs": [
    {
     "data": {
      "text/plain": [
       "array([239554, 205917, 241476, 253465, 306345, 261306, 308593, 302585,\n",
       "       343253, 326452, 378884, 377550, 275312, 265615, 294217, 265017,\n",
       "       284031, 236629, 330061, 251818, 244387, 239409, 246074, 253957,\n",
       "       230290, 249797, 261756, 284853, 268519, 280549, 313532, 264249,\n",
       "       222196, 246288, 237656, 275089, 264604, 271219], dtype=int64)"
      ]
     },
     "execution_count": 34,
     "metadata": {},
     "output_type": "execute_result"
    }
   ],
   "source": [
    "df['Workload'].unique()"
   ]
  },
  {
   "cell_type": "code",
   "execution_count": 35,
   "metadata": {},
   "outputs": [
    {
     "data": {
      "text/plain": [
       "<matplotlib.axes._subplots.AxesSubplot at 0x182a093edc0>"
      ]
     },
     "execution_count": 35,
     "metadata": {},
     "output_type": "execute_result"
    },
    {
     "data": {
      "image/png": "[encoded data removed]",
      "text/plain": [
       "<Figure size 1080x288 with 1 Axes>"
      ]
     },
     "metadata": {
      "needs_background": "light"
     },
     "output_type": "display_data"
    }
   ],
   "source": [
    "plt.figure(figsize = (15,4))\n",
    "sns.scatterplot(x='BMI',y='Absence(hour)',data=df)"
   ]
  },
  {
   "cell_type": "code",
   "execution_count": 36,
   "metadata": {},
   "outputs": [
    {
     "data": {
      "image/png": "[encoded data removed]",
      "text/plain": [
       "<Figure size 1080x504 with 1 Axes>"
      ]
     },
     "metadata": {
      "needs_background": "light"
     },
     "output_type": "display_data"
    }
   ],
   "source": [
    "plt.figure(figsize = (15,7))\n",
    "sns.boxplot(x = 'Reason', y = 'Absence(hour)', data = df, palette= 'GnBu_d').set_title('Reason-absence')\n",
    "plt.show()"
   ]
  },
  {
   "cell_type": "markdown",
   "metadata": {},
   "source": [
    "In absence hour, higher reason is given is 9,12 and 19th"
   ]
  },
  {
   "cell_type": "code",
   "execution_count": 37,
   "metadata": {},
   "outputs": [
    {
     "data": {
      "text/html": [
       "<div>\n",
       "<style scoped>\n",
       "    .dataframe tbody tr th:only-of-type {\n",
       "        vertical-align: middle;\n",
       "    }\n",
       "\n",
       "    .dataframe tbody tr th {\n",
       "        vertical-align: top;\n",
       "    }\n",
       "\n",
       "    .dataframe thead th {\n",
       "        text-align: right;\n",
       "    }\n",
       "</style>\n",
       "<table border=\"1\" class=\"dataframe\">\n",
       "  <thead>\n",
       "    <tr style=\"text-align: right;\">\n",
       "      <th></th>\n",
       "      <th>Reason</th>\n",
       "      <th>Month</th>\n",
       "      <th>Day</th>\n",
       "      <th>Seasons</th>\n",
       "      <th>Transportation_expanses</th>\n",
       "      <th>Office_distance</th>\n",
       "      <th>Time</th>\n",
       "      <th>Age</th>\n",
       "      <th>Workload</th>\n",
       "      <th>Hit_target</th>\n",
       "      <th>Discipline</th>\n",
       "      <th>Education</th>\n",
       "      <th>Son</th>\n",
       "      <th>Drinker</th>\n",
       "      <th>Smoker</th>\n",
       "      <th>Pet</th>\n",
       "      <th>BMI</th>\n",
       "      <th>Absence(hour)</th>\n",
       "    </tr>\n",
       "  </thead>\n",
       "  <tbody>\n",
       "    <tr>\n",
       "      <th>0</th>\n",
       "      <td>26</td>\n",
       "      <td>7</td>\n",
       "      <td>3</td>\n",
       "      <td>1</td>\n",
       "      <td>289</td>\n",
       "      <td>36</td>\n",
       "      <td>13</td>\n",
       "      <td>33</td>\n",
       "      <td>239554</td>\n",
       "      <td>97</td>\n",
       "      <td>0</td>\n",
       "      <td>1</td>\n",
       "      <td>2</td>\n",
       "      <td>1</td>\n",
       "      <td>0</td>\n",
       "      <td>1</td>\n",
       "      <td>30</td>\n",
       "      <td>4</td>\n",
       "    </tr>\n",
       "    <tr>\n",
       "      <th>1</th>\n",
       "      <td>0</td>\n",
       "      <td>7</td>\n",
       "      <td>3</td>\n",
       "      <td>1</td>\n",
       "      <td>118</td>\n",
       "      <td>13</td>\n",
       "      <td>18</td>\n",
       "      <td>50</td>\n",
       "      <td>239554</td>\n",
       "      <td>97</td>\n",
       "      <td>1</td>\n",
       "      <td>1</td>\n",
       "      <td>1</td>\n",
       "      <td>1</td>\n",
       "      <td>0</td>\n",
       "      <td>0</td>\n",
       "      <td>31</td>\n",
       "      <td>0</td>\n",
       "    </tr>\n",
       "    <tr>\n",
       "      <th>2</th>\n",
       "      <td>23</td>\n",
       "      <td>7</td>\n",
       "      <td>4</td>\n",
       "      <td>1</td>\n",
       "      <td>179</td>\n",
       "      <td>51</td>\n",
       "      <td>18</td>\n",
       "      <td>38</td>\n",
       "      <td>239554</td>\n",
       "      <td>97</td>\n",
       "      <td>0</td>\n",
       "      <td>1</td>\n",
       "      <td>0</td>\n",
       "      <td>1</td>\n",
       "      <td>0</td>\n",
       "      <td>0</td>\n",
       "      <td>31</td>\n",
       "      <td>2</td>\n",
       "    </tr>\n",
       "    <tr>\n",
       "      <th>3</th>\n",
       "      <td>7</td>\n",
       "      <td>7</td>\n",
       "      <td>5</td>\n",
       "      <td>1</td>\n",
       "      <td>279</td>\n",
       "      <td>5</td>\n",
       "      <td>14</td>\n",
       "      <td>39</td>\n",
       "      <td>239554</td>\n",
       "      <td>97</td>\n",
       "      <td>0</td>\n",
       "      <td>1</td>\n",
       "      <td>2</td>\n",
       "      <td>1</td>\n",
       "      <td>1</td>\n",
       "      <td>0</td>\n",
       "      <td>24</td>\n",
       "      <td>4</td>\n",
       "    </tr>\n",
       "    <tr>\n",
       "      <th>4</th>\n",
       "      <td>23</td>\n",
       "      <td>7</td>\n",
       "      <td>5</td>\n",
       "      <td>1</td>\n",
       "      <td>289</td>\n",
       "      <td>36</td>\n",
       "      <td>13</td>\n",
       "      <td>33</td>\n",
       "      <td>239554</td>\n",
       "      <td>97</td>\n",
       "      <td>0</td>\n",
       "      <td>1</td>\n",
       "      <td>2</td>\n",
       "      <td>1</td>\n",
       "      <td>0</td>\n",
       "      <td>1</td>\n",
       "      <td>30</td>\n",
       "      <td>2</td>\n",
       "    </tr>\n",
       "  </tbody>\n",
       "</table>\n",
       "</div>"
      ],
      "text/plain": [
       "   Reason  Month  Day  Seasons  Transportation_expanses  Office_distance  \\\n",
       "0      26      7    3        1                      289               36   \n",
       "1       0      7    3        1                      118               13   \n",
       "2      23      7    4        1                      179               51   \n",
       "3       7      7    5        1                      279                5   \n",
       "4      23      7    5        1                      289               36   \n",
       "\n",
       "   Time  Age  Workload  Hit_target  Discipline  Education  Son  Drinker  \\\n",
       "0    13   33    239554          97           0          1    2        1   \n",
       "1    18   50    239554          97           1          1    1        1   \n",
       "2    18   38    239554          97           0          1    0        1   \n",
       "3    14   39    239554          97           0          1    2        1   \n",
       "4    13   33    239554          97           0          1    2        1   \n",
       "\n",
       "   Smoker  Pet  BMI  Absence(hour)  \n",
       "0       0    1   30              4  \n",
       "1       0    0   31              0  \n",
       "2       0    0   31              2  \n",
       "3       1    0   24              4  \n",
       "4       0    1   30              2  "
      ]
     },
     "execution_count": 37,
     "metadata": {},
     "output_type": "execute_result"
    }
   ],
   "source": [
    "df.head()"
   ]
  },
  {
   "cell_type": "code",
   "execution_count": 38,
   "metadata": {},
   "outputs": [
    {
     "data": {
      "text/plain": [
       "<matplotlib.axes._subplots.AxesSubplot at 0x182a0947a60>"
      ]
     },
     "execution_count": 38,
     "metadata": {},
     "output_type": "execute_result"
    },
    {
     "data": {
      "image/png": "[encoded data removed]",
      "text/plain": [
       "<Figure size 1080x1080 with 2 Axes>"
      ]
     },
     "metadata": {
      "needs_background": "light"
     },
     "output_type": "display_data"
    }
   ],
   "source": [
    "plt.figure(figsize=(15,15))\n",
    "sns.heatmap(df.corr(),annot = True,linecolor=\"black\")"
   ]
  },
  {
   "cell_type": "code",
   "execution_count": 39,
   "metadata": {},
   "outputs": [
    {
     "name": "stdout",
     "output_type": "stream",
     "text": [
      "(740, 18)\n",
      "(723, 18)\n"
     ]
    }
   ],
   "source": [
    "from scipy.stats import zscore\n",
    "\n",
    "#di=df.columns\n",
    "z_score=zscore(df)\n",
    "print(df.shape)\n",
    "df_1=df.loc[(z_score<4.5).all(axis=1)]\n",
    "print(df_1.shape)\n",
    "\n",
    "#We had 250 near ourliers, which we removed using Z-score technique"
   ]
  },
  {
   "cell_type": "code",
   "execution_count": 72,
   "metadata": {},
   "outputs": [
    {
     "data": {
      "text/plain": [
       "Reason                    -0.319034\n",
       "Month                      0.064117\n",
       "Day                        0.089063\n",
       "Seasons                   -0.050342\n",
       "Transportation_expanses    0.397699\n",
       "Office_distance            0.316048\n",
       "Time                       0.118969\n",
       "Age                        0.633561\n",
       "Workload                   0.949485\n",
       "Hit_target                -1.081796\n",
       "Discipline                 3.898281\n",
       "Education                  1.998654\n",
       "Son                        1.102360\n",
       "Drinker                   -0.248599\n",
       "Smoker                     3.242408\n",
       "Pet                        0.700507\n",
       "BMI                        0.294966\n",
       "Absence(hour)              0.215813\n",
       "dtype: float64"
      ]
     },
     "execution_count": 72,
     "metadata": {},
     "output_type": "execute_result"
    }
   ],
   "source": [
    "df_1.skew()"
   ]
  },
  {
   "cell_type": "code",
   "execution_count": 73,
   "metadata": {},
   "outputs": [],
   "source": [
    "from scipy.stats import boxcox\n",
    "\n",
    "for col in df_1:\n",
    "    if df_1[col].skew()>=1.9:\n",
    "        df_1[col]=np.cbrt(df_1[col]) \n",
    "    if df_1[col].skew()<= -0.8:\n",
    "        df_1[col]=np.power(df_1[col],2)\n"
   ]
  },
  {
   "cell_type": "code",
   "execution_count": 74,
   "metadata": {},
   "outputs": [
    {
     "data": {
      "text/plain": [
       "Reason                    -0.319034\n",
       "Month                      0.064117\n",
       "Day                        0.089063\n",
       "Seasons                   -0.050342\n",
       "Transportation_expanses    0.397699\n",
       "Office_distance            0.316048\n",
       "Time                       0.118969\n",
       "Age                        0.633561\n",
       "Workload                   0.949485\n",
       "Hit_target                -0.782952\n",
       "Discipline                 3.898281\n",
       "Education                  1.964570\n",
       "Son                        1.102360\n",
       "Drinker                   -0.248599\n",
       "Smoker                     3.242408\n",
       "Pet                        0.700507\n",
       "BMI                        0.294966\n",
       "Absence(hour)              0.215813\n",
       "dtype: float64"
      ]
     },
     "execution_count": 74,
     "metadata": {},
     "output_type": "execute_result"
    }
   ],
   "source": [
    "df_1.skew()"
   ]
  },
  {
   "cell_type": "code",
   "execution_count": 75,
   "metadata": {},
   "outputs": [],
   "source": [
    "df_1 = df_1.drop(['Month','Day','Seasons','Time'],axis = 1)"
   ]
  },
  {
   "cell_type": "code",
   "execution_count": 76,
   "metadata": {},
   "outputs": [],
   "source": [
    "x = df_1.drop(['Absence(hour)'], axis = 1)\n",
    "y = df_1['Absence(hour)']"
   ]
  },
  {
   "cell_type": "code",
   "execution_count": 77,
   "metadata": {},
   "outputs": [],
   "source": [
    "from sklearn.preprocessing import StandardScaler \n",
    "STD=StandardScaler()\n",
    "x=STD.fit_transform(x)"
   ]
  },
  {
   "cell_type": "code",
   "execution_count": 78,
   "metadata": {},
   "outputs": [],
   "source": [
    "from sklearn.model_selection import train_test_split\n",
    "\n",
    "x_train, x_test, y_train, y_test = train_test_split(x, y, test_size = 0.2, random_state = 0)"
   ]
  },
  {
   "cell_type": "code",
   "execution_count": 79,
   "metadata": {},
   "outputs": [
    {
     "data": {
      "image/png": "[encoded data removed]",
      "text/plain": [
       "<Figure size 432x288 with 1 Axes>"
      ]
     },
     "metadata": {
      "needs_background": "light"
     },
     "output_type": "display_data"
    }
   ],
   "source": [
    "from sklearn.decomposition import PCA\n",
    "pca = PCA()\n",
    "PrincipalComponents = pca.fit_transform(x)\n",
    "plt.figure()\n",
    "plt.plot(np.cumsum(pca.explained_variance_ratio_))\n",
    "plt.xlabel('Number of Components')\n",
    "plt.ylabel('Variance(%)')\n",
    "plt.title('Explained Variance')\n",
    "plt.show()"
   ]
  },
  {
   "cell_type": "code",
   "execution_count": 80,
   "metadata": {},
   "outputs": [
    {
     "name": "stdout",
     "output_type": "stream",
     "text": [
      "Train Score 49.71036027579522\n",
      "Testing:- 50.44018507865262\n",
      "Error\n",
      "MAE 0.308826470272295\n",
      "MSE 0.2014755897901634\n",
      "RMSE 0.4488603232523046\n",
      "R2 Score 50.44018507865262\n"
     ]
    }
   ],
   "source": [
    "ln=LinearRegression()\n",
    "ln.fit(x_train,y_train)\n",
    "pred=ln.predict(x_test)\n",
    "print('Train Score',ln.score(x_train,y_train)*100)\n",
    "print('Testing:-',ln.score(x_test,y_test)*100)\n",
    "print('Error')\n",
    "print('MAE',mean_absolute_error(y_test,pred))\n",
    "print('MSE',mean_squared_error(y_test,pred))\n",
    "print('RMSE',np.sqrt(mean_squared_error(y_test,pred)))\n",
    "print('R2 Score',r2_score(y_test,pred)*100)"
   ]
  },
  {
   "cell_type": "code",
   "execution_count": 81,
   "metadata": {},
   "outputs": [],
   "source": [
    "from sklearn.tree import DecisionTreeRegressor\n",
    "from sklearn.svm import SVR\n",
    "from sklearn.neighbors import KNeighborsRegressor\n",
    "from sklearn import metrics\n",
    "from sklearn import ensemble\n",
    "from sklearn.utils import shuffle\n",
    "from sklearn.metrics import mean_squared_error, r2_score\n",
    "dtr=DecisionTreeRegressor()\n",
    "svr=SVR()\n",
    "kn=KNeighborsRegressor(n_neighbors=5)"
   ]
  },
  {
   "cell_type": "code",
   "execution_count": 82,
   "metadata": {},
   "outputs": [],
   "source": [
    "def fun(f):\n",
    "    f.fit(x_train,y_train)\n",
    "    pred=f.predict(x_test)\n",
    "    print('TRAINING:-',f.score(x_train,y_train)*100)\n",
    "    print('Testing:-',f.score(x_test,y_test)*100)\n",
    "    print('MAE',mean_absolute_error(y_test,pred))\n",
    "    print('MSE',mean_squared_error(y_test,pred))\n",
    "    print('RMSE',np.sqrt(mean_squared_error(y_test,pred)))\n",
    "    print('R2 Score',r2_score(y_test,pred)*100)"
   ]
  },
  {
   "cell_type": "markdown",
   "metadata": {},
   "source": [
    "DECISION TREE REGRESSOR"
   ]
  },
  {
   "cell_type": "code",
   "execution_count": 83,
   "metadata": {},
   "outputs": [
    {
     "name": "stdout",
     "output_type": "stream",
     "text": [
      "DecisionTreeRegressor\n",
      "Training Score:- 94.84336020163433\n",
      "Testing:- 27.214696820221473\n",
      "MAE 0.3257678115528059\n",
      "MSE 0.2958942019754229\n",
      "RMSE 0.5439615813413875\n",
      "R2 Score 27.214696820221473\n"
     ]
    }
   ],
   "source": [
    "dtr.fit(x_train,y_train)\n",
    "preddtr=dtr.predict(x_test)\n",
    "print(\"DecisionTreeRegressor\")\n",
    "print('Training Score:-',dtr.score(x_train,y_train)*100)\n",
    "print('Testing:-',dtr.score(x_test,y_test)*100)\n",
    "print('MAE',mean_absolute_error(y_test,preddtr))\n",
    "print('MSE',mean_squared_error(y_test,preddtr))\n",
    "print('RMSE',np.sqrt(mean_squared_error(y_test,preddtr)))\n",
    "print('R2 Score',r2_score(y_test,preddtr)*100)"
   ]
  },
  {
   "cell_type": "code",
   "execution_count": 84,
   "metadata": {},
   "outputs": [],
   "source": [
    "dtr_pred = dtr.predict(x_test)\n",
    "dtr_pred= dtr_pred.reshape(-1,1)"
   ]
  },
  {
   "cell_type": "code",
   "execution_count": 85,
   "metadata": {},
   "outputs": [
    {
     "data": {
      "image/png": "[encoded data removed]",
      "text/plain": [
       "<Figure size 576x288 with 1 Axes>"
      ]
     },
     "metadata": {
      "needs_background": "light"
     },
     "output_type": "display_data"
    }
   ],
   "source": [
    "plt.figure(figsize=(8,4))\n",
    "plt.scatter(y_test,dtr_pred,c='green')\n",
    "plt.xlabel('Y Test')\n",
    "plt.ylabel('Predicted Y')\n",
    "plt.show()\n"
   ]
  },
  {
   "cell_type": "markdown",
   "metadata": {},
   "source": [
    "SUPPORT VECTOR REGRESSOR"
   ]
  },
  {
   "cell_type": "code",
   "execution_count": 86,
   "metadata": {},
   "outputs": [
    {
     "name": "stdout",
     "output_type": "stream",
     "text": [
      "TRAINING:- 60.65604914537377\n",
      "Testing:- 56.669137105889014\n",
      "MAE 0.2864642015158791\n",
      "MSE 0.1761530217891777\n",
      "RMSE 0.41970587533316434\n",
      "R2 Score 56.669137105889014\n"
     ]
    }
   ],
   "source": [
    "fun(svr)"
   ]
  },
  {
   "cell_type": "code",
   "execution_count": 87,
   "metadata": {},
   "outputs": [
    {
     "data": {
      "image/png": "[encoded data removed]",
      "text/plain": [
       "<Figure size 576x288 with 1 Axes>"
      ]
     },
     "metadata": {
      "needs_background": "light"
     },
     "output_type": "display_data"
    }
   ],
   "source": [
    "svr_pred = svr.predict(x_test)\n",
    "svr_pred= svr_pred.reshape(-1,1)\n",
    "plt.figure(figsize=(8,4))\n",
    "plt.scatter(y_test,svr_pred, c='red')\n",
    "plt.xlabel('Y Test')\n",
    "plt.ylabel('Predicted Y')\n",
    "plt.show()"
   ]
  },
  {
   "cell_type": "markdown",
   "metadata": {},
   "source": [
    "KNN REGRESSOR"
   ]
  },
  {
   "cell_type": "code",
   "execution_count": 88,
   "metadata": {},
   "outputs": [
    {
     "name": "stdout",
     "output_type": "stream",
     "text": [
      "TRAINING:- 65.61413627320441\n",
      "Testing:- 46.00186630869685\n",
      "MAE 0.3389003657624747\n",
      "MSE 0.21951869372977112\n",
      "RMSE 0.4685282208466968\n",
      "R2 Score 46.00186630869685\n"
     ]
    }
   ],
   "source": [
    "fun(kn)"
   ]
  },
  {
   "cell_type": "code",
   "execution_count": 89,
   "metadata": {},
   "outputs": [
    {
     "data": {
      "image/png": "[encoded data removed]",
      "text/plain": [
       "<Figure size 576x288 with 1 Axes>"
      ]
     },
     "metadata": {
      "needs_background": "light"
     },
     "output_type": "display_data"
    }
   ],
   "source": [
    "kn_pred = kn.predict(x_test)\n",
    "plt.figure(figsize=(8,4))\n",
    "plt.scatter(y_test,kn_pred, c='red')\n",
    "plt.xlabel('Y Test')\n",
    "plt.ylabel('Predicted Y')\n",
    "plt.show()"
   ]
  },
  {
   "cell_type": "markdown",
   "metadata": {},
   "source": [
    "### ENSEMBLE TECHNIQUE\n",
    "\n",
    "RANDOM FOREST REGRESSOR"
   ]
  },
  {
   "cell_type": "code",
   "execution_count": 90,
   "metadata": {},
   "outputs": [
    {
     "name": "stdout",
     "output_type": "stream",
     "text": [
      "TRAINING:- 89.8031880504298\n",
      "Testing:- 57.91549170648413\n",
      "MAE 0.3028154188141596\n",
      "MSE 0.17108621456560147\n",
      "RMSE 0.4136256937928318\n",
      "R2 Score 57.91549170648413\n"
     ]
    }
   ],
   "source": [
    "from sklearn.ensemble import RandomForestRegressor\n",
    "rd=RandomForestRegressor()\n",
    "fun(rd)"
   ]
  },
  {
   "cell_type": "markdown",
   "metadata": {},
   "source": [
    "ADABOOST REGRESSOR"
   ]
  },
  {
   "cell_type": "code",
   "execution_count": 91,
   "metadata": {},
   "outputs": [
    {
     "name": "stdout",
     "output_type": "stream",
     "text": [
      "TRAINING:- 55.89392943902895\n",
      "Testing:- 45.20051470013341\n",
      "MAE 0.36231420751929516\n",
      "MSE 0.22277642962367722\n",
      "RMSE 0.4719919804654283\n",
      "R2 Score 45.20051470013341\n"
     ]
    }
   ],
   "source": [
    "from sklearn.ensemble import AdaBoostRegressor\n",
    "ad=AdaBoostRegressor()\n",
    "fun(ad)"
   ]
  },
  {
   "cell_type": "markdown",
   "metadata": {},
   "source": [
    "GRADIENTBOOSTING REGRESSOR"
   ]
  },
  {
   "cell_type": "code",
   "execution_count": 92,
   "metadata": {},
   "outputs": [
    {
     "name": "stdout",
     "output_type": "stream",
     "text": [
      "TRAINING:- 74.52280094837059\n",
      "Testing:- 56.96664685217622\n",
      "MAE 0.2998634629710177\n",
      "MSE 0.17494355497222805\n",
      "RMSE 0.41826254311404465\n",
      "R2 Score 56.96664685217622\n"
     ]
    }
   ],
   "source": [
    "from sklearn.ensemble import GradientBoostingRegressor\n",
    "gd=GradientBoostingRegressor()\n",
    "fun(gd)"
   ]
  },
  {
   "cell_type": "markdown",
   "metadata": {},
   "source": [
    "CROSS VALIDATION TECHNIQUE"
   ]
  },
  {
   "cell_type": "code",
   "execution_count": 93,
   "metadata": {},
   "outputs": [
    {
     "name": "stdout",
     "output_type": "stream",
     "text": [
      "score of cross validation score for svr 38.129069346569885\n",
      "score of cross validation score for dtr 21.482047956431714\n",
      "score of cross validation score for rd 53.832851321752784\n",
      "score of cross validation score for Gd 53.950890645749006\n",
      "score of cross validation score for ad 42.75614697737159\n"
     ]
    }
   ],
   "source": [
    "from sklearn.model_selection import cross_val_score\n",
    "\n",
    "score=cross_val_score(svr,x,y,cv=5)\n",
    "print(\"score of cross validation score for svr\", score.mean()*100)\n",
    "score=cross_val_score(dtr,x,y,cv=5)\n",
    "print(\"score of cross validation score for dtr\",score.mean()*100)\n",
    "score=cross_val_score(rd,x,y,cv=5)\n",
    "print(\"score of cross validation score for rd\",score.mean()*100)\n",
    "score=cross_val_score(gd,x,y,cv=5)\n",
    "print(\"score of cross validation score for Gd\",score.mean()*100)\n",
    "score=cross_val_score(ad,x,y,cv=4)\n",
    "print(\"score of cross validation score for ad\",score.mean()*100)"
   ]
  },
  {
   "cell_type": "markdown",
   "metadata": {},
   "source": [
    "HYPER PARAMETER TUNING"
   ]
  },
  {
   "cell_type": "code",
   "execution_count": 94,
   "metadata": {},
   "outputs": [],
   "source": [
    "from sklearn.model_selection import GridSearchCV"
   ]
  },
  {
   "cell_type": "code",
   "execution_count": 95,
   "metadata": {},
   "outputs": [],
   "source": [
    "n_estimators = [5,20,50,100] # number of trees in the random forest\n",
    "max_features = ['auto', 'sqrt'] # number of features in consideration at every split\n",
    "max_depth = [int(x) for x in np.linspace(10, 120, num = 12)] # maximum number of levels allowed in each decision tree\n",
    "min_samples_split = [2, 6, 10] # minimum sample number to split a node\n",
    "min_samples_leaf = [1, 3, 4] # minimum sample number that can be stored in a leaf node\n",
    "bootstrap = [True, False] # method used to sample data points\n",
    "\n",
    "random_grid = {'n_estimators': n_estimators,\n",
    "\n",
    "'max_features': max_features,\n",
    "\n",
    "'max_depth': max_depth,\n",
    "\n",
    "'min_samples_split': min_samples_split,\n",
    "\n",
    "'min_samples_leaf': min_samples_leaf,\n",
    "\n",
    "'bootstrap': bootstrap}"
   ]
  },
  {
   "cell_type": "code",
   "execution_count": 96,
   "metadata": {},
   "outputs": [],
   "source": [
    "from sklearn.model_selection import RandomizedSearchCV\n",
    "rf_random = RandomizedSearchCV(estimator = rd,param_distributions = random_grid,\n",
    "               n_iter = 100, cv = 5, verbose=2, random_state=35, n_jobs = -1)"
   ]
  },
  {
   "cell_type": "code",
   "execution_count": 97,
   "metadata": {},
   "outputs": [
    {
     "name": "stdout",
     "output_type": "stream",
     "text": [
      "Fitting 5 folds for each of 100 candidates, totalling 500 fits\n"
     ]
    },
    {
     "name": "stderr",
     "output_type": "stream",
     "text": [
      "[Parallel(n_jobs=-1)]: Using backend LokyBackend with 4 concurrent workers.\n",
      "[Parallel(n_jobs=-1)]: Done  33 tasks      | elapsed:    3.4s\n",
      "[Parallel(n_jobs=-1)]: Done 272 tasks      | elapsed:   19.6s\n",
      "[Parallel(n_jobs=-1)]: Done 500 out of 500 | elapsed:   31.5s finished\n"
     ]
    },
    {
     "data": {
      "text/plain": [
       "RandomizedSearchCV(cv=5, estimator=RandomForestRegressor(), n_iter=100,\n",
       "                   n_jobs=-1,\n",
       "                   param_distributions={'bootstrap': [True, False],\n",
       "                                        'max_depth': [10, 20, 30, 40, 50, 60,\n",
       "                                                      70, 80, 90, 100, 110,\n",
       "                                                      120],\n",
       "                                        'max_features': ['auto', 'sqrt'],\n",
       "                                        'min_samples_leaf': [1, 3, 4],\n",
       "                                        'min_samples_split': [2, 6, 10],\n",
       "                                        'n_estimators': [5, 20, 50, 100]},\n",
       "                   random_state=35, verbose=2)"
      ]
     },
     "execution_count": 97,
     "metadata": {},
     "output_type": "execute_result"
    }
   ],
   "source": [
    "rf_random.fit(x_train, y_train)"
   ]
  },
  {
   "cell_type": "code",
   "execution_count": 98,
   "metadata": {},
   "outputs": [
    {
     "name": "stdout",
     "output_type": "stream",
     "text": [
      "Random grid:  {'n_estimators': [5, 20, 50, 100], 'max_features': ['auto', 'sqrt'], 'max_depth': [10, 20, 30, 40, 50, 60, 70, 80, 90, 100, 110, 120], 'min_samples_split': [2, 6, 10], 'min_samples_leaf': [1, 3, 4], 'bootstrap': [True, False]} \n",
      "\n",
      "Best Parameters:  {'n_estimators': 20, 'min_samples_split': 6, 'min_samples_leaf': 3, 'max_features': 'auto', 'max_depth': 110, 'bootstrap': True}  \n",
      "\n"
     ]
    }
   ],
   "source": [
    "print ('Random grid: ', random_grid, '\\n')\n",
    "# print the best parameters\n",
    "print ('Best Parameters: ', rf_random.best_params_, ' \\n')"
   ]
  },
  {
   "cell_type": "code",
   "execution_count": 104,
   "metadata": {},
   "outputs": [
    {
     "data": {
      "text/plain": [
       "RandomForestRegressor(max_depth=110, min_samples_leaf=3, min_samples_split=6,\n",
       "                      n_estimators=20)"
      ]
     },
     "execution_count": 104,
     "metadata": {},
     "output_type": "execute_result"
    }
   ],
   "source": [
    "randmf = RandomForestRegressor(n_estimators = 20, min_samples_split = 6, \n",
    "                               min_samples_leaf= 3, max_features = 'auto', max_depth= 110, \n",
    "                               bootstrap=True) \n",
    "randmf.fit(x_train, y_train) \n"
   ]
  },
  {
   "cell_type": "code",
   "execution_count": 105,
   "metadata": {},
   "outputs": [
    {
     "name": "stdout",
     "output_type": "stream",
     "text": [
      "TRAINING:- 79.87416331230932\n",
      "Testing:- 62.93570690846448\n",
      "MAE 0.29268024781970503\n",
      "MSE 0.15067752618979266\n",
      "RMSE 0.3881720316944443\n",
      "R2 Score 62.93570690846448\n"
     ]
    }
   ],
   "source": [
    "fun(randmf)"
   ]
  },
  {
   "cell_type": "code",
   "execution_count": 106,
   "metadata": {},
   "outputs": [
    {
     "data": {
      "image/png": "[encoded data removed]",
      "text/plain": [
       "<Figure size 576x288 with 1 Axes>"
      ]
     },
     "metadata": {
      "needs_background": "light"
     },
     "output_type": "display_data"
    }
   ],
   "source": [
    "randmf_pred= randmf.predict(x_test)\n",
    "randmf_pred = randmf_pred.reshape(-1,1)\n",
    "plt.figure(figsize=(8,4))\n",
    "plt.scatter(y_test,randmf_pred, c='blue')\n",
    "plt.xlabel('Y Test')\n",
    "plt.ylabel('Predicted Y')\n",
    "plt.show()"
   ]
  },
  {
   "cell_type": "code",
   "execution_count": 107,
   "metadata": {},
   "outputs": [
    {
     "name": "stdout",
     "output_type": "stream",
     "text": [
      "score of cross validation score for rd hyper 52.55849790066658\n"
     ]
    }
   ],
   "source": [
    "score=cross_val_score(randmf,x,y,cv=4)\n",
    "print('score of cross validation score for rd hyper',score.mean()*100)"
   ]
  },
  {
   "cell_type": "code",
   "execution_count": 108,
   "metadata": {},
   "outputs": [],
   "source": [
    "import pickle\n",
    "filename='absence.pkl'\n",
    "pickle.dump(gd,open(filename,'wb'))"
   ]
  },
  {
   "cell_type": "code",
   "execution_count": 109,
   "metadata": {},
   "outputs": [
    {
     "name": "stdout",
     "output_type": "stream",
     "text": [
      "       Actual   Predict\n",
      "574  1.442250  1.638579\n",
      "499  1.259921  1.401941\n",
      "579  2.000000  2.332156\n",
      "457  1.259921  1.585204\n",
      "677  1.442250  1.729069\n",
      "..        ...       ...\n",
      "705  1.000000  1.737945\n",
      "408  2.000000  1.581907\n",
      "252  2.000000  2.189015\n",
      "253  1.442250  2.290360\n",
      "97   1.442250  1.348856\n",
      "\n",
      "[145 rows x 2 columns]\n"
     ]
    },
    {
     "data": {
      "text/plain": [
       "Text(0.5, 1.0, 'Regressor Line')"
      ]
     },
     "execution_count": 109,
     "metadata": {},
     "output_type": "execute_result"
    },
    {
     "data": {
      "image/png": "[encoded data removed]",
      "text/plain": [
       "<Figure size 432x288 with 1 Axes>"
      ]
     },
     "metadata": {
      "needs_background": "light"
     },
     "output_type": "display_data"
    }
   ],
   "source": [
    "res=pd.DataFrame()\n",
    "res['Actual']=y_test\n",
    "res['Predict']=randmf_pred\n",
    "\n",
    "res\n",
    "\n",
    "print(res)\n",
    "sns.regplot(y_test,randmf_pred)\n",
    "plt.title('Regressor Line')"
   ]
  },
  {
   "cell_type": "code",
   "execution_count": null,
   "metadata": {},
   "outputs": [],
   "source": []
  },
  {
   "cell_type": "code",
   "execution_count": null,
   "metadata": {},
   "outputs": [],
   "source": []
  },
  {
   "cell_type": "code",
   "execution_count": null,
   "metadata": {},
   "outputs": [],
   "source": []
  }
 ],
 "metadata": {
  "kernelspec": {
   "display_name": "Python 3",
   "language": "python",
   "name": "python3"
  },
  "language_info": {
   "codemirror_mode": {
    "name": "ipython",
    "version": 3
   },
   "file_extension": ".py",
   "mimetype": "text/x-python",
   "name": "python",
   "nbconvert_exporter": "python",
   "pygments_lexer": "ipython3",
   "version": "3.8.3"
  }
 },
 "nbformat": 4,
 "nbformat_minor": 4
}
