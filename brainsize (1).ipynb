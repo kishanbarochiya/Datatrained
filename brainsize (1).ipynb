{
 "cells": [
  {
   "cell_type": "markdown",
   "metadata": {},
   "source": [
    "INSTALL LIBRARIES AND LOAD DATASET"
   ]
  },
  {
   "cell_type": "code",
   "execution_count": 70,
   "metadata": {},
   "outputs": [],
   "source": [
    "import pandas as pd\n",
    "import numpy as np\n",
    "import matplotlib.pyplot as plt #For EDA purpose\n",
    "%matplotlib inline   \n",
    "import seaborn as sns  #EDA purpose\n",
    "import warnings  #bypass Warning\n",
    "warnings.filterwarnings('ignore')\n",
    "\n",
    "from collections import Counter\n",
    "from sklearn.linear_model import LinearRegression\n",
    "from sklearn.metrics import mean_absolute_error,mean_squared_error,r2_score"
   ]
  },
  {
   "cell_type": "code",
   "execution_count": 71,
   "metadata": {},
   "outputs": [
    {
     "data": {
      "text/html": [
       "<div>\n",
       "<style scoped>\n",
       "    .dataframe tbody tr th:only-of-type {\n",
       "        vertical-align: middle;\n",
       "    }\n",
       "\n",
       "    .dataframe tbody tr th {\n",
       "        vertical-align: top;\n",
       "    }\n",
       "\n",
       "    .dataframe thead th {\n",
       "        text-align: right;\n",
       "    }\n",
       "</style>\n",
       "<table border=\"1\" class=\"dataframe\">\n",
       "  <thead>\n",
       "    <tr style=\"text-align: right;\">\n",
       "      <th></th>\n",
       "      <th>Gender</th>\n",
       "      <th>AgeRange</th>\n",
       "      <th>HeadSize</th>\n",
       "      <th>BrainWeight</th>\n",
       "    </tr>\n",
       "  </thead>\n",
       "  <tbody>\n",
       "    <tr>\n",
       "      <th>0</th>\n",
       "      <td>1</td>\n",
       "      <td>1</td>\n",
       "      <td>4512</td>\n",
       "      <td>1530</td>\n",
       "    </tr>\n",
       "    <tr>\n",
       "      <th>1</th>\n",
       "      <td>1</td>\n",
       "      <td>1</td>\n",
       "      <td>3738</td>\n",
       "      <td>1297</td>\n",
       "    </tr>\n",
       "    <tr>\n",
       "      <th>2</th>\n",
       "      <td>1</td>\n",
       "      <td>1</td>\n",
       "      <td>4261</td>\n",
       "      <td>1335</td>\n",
       "    </tr>\n",
       "    <tr>\n",
       "      <th>3</th>\n",
       "      <td>1</td>\n",
       "      <td>1</td>\n",
       "      <td>3777</td>\n",
       "      <td>1282</td>\n",
       "    </tr>\n",
       "    <tr>\n",
       "      <th>4</th>\n",
       "      <td>1</td>\n",
       "      <td>1</td>\n",
       "      <td>4177</td>\n",
       "      <td>1590</td>\n",
       "    </tr>\n",
       "  </tbody>\n",
       "</table>\n",
       "</div>"
      ],
      "text/plain": [
       "   Gender  AgeRange  HeadSize  BrainWeight\n",
       "0       1         1      4512         1530\n",
       "1       1         1      3738         1297\n",
       "2       1         1      4261         1335\n",
       "3       1         1      3777         1282\n",
       "4       1         1      4177         1590"
      ]
     },
     "execution_count": 71,
     "metadata": {},
     "output_type": "execute_result"
    }
   ],
   "source": [
    "df = pd.read_csv('headbrain.csv')\n",
    "df.head()"
   ]
  },
  {
   "cell_type": "code",
   "execution_count": 72,
   "metadata": {},
   "outputs": [
    {
     "data": {
      "text/plain": [
       "(237, 4)"
      ]
     },
     "execution_count": 72,
     "metadata": {},
     "output_type": "execute_result"
    }
   ],
   "source": [
    "df.shape\n",
    "\n",
    "# WE HAVE 237 ROWS AND 4 VARIABLES"
   ]
  },
  {
   "cell_type": "code",
   "execution_count": 74,
   "metadata": {},
   "outputs": [
    {
     "name": "stdout",
     "output_type": "stream",
     "text": [
      "<class 'pandas.core.frame.DataFrame'>\n",
      "RangeIndex: 237 entries, 0 to 236\n",
      "Data columns (total 4 columns):\n",
      " #   Column       Non-Null Count  Dtype\n",
      "---  ------       --------------  -----\n",
      " 0   Gender       237 non-null    int64\n",
      " 1   AgeRange     237 non-null    int64\n",
      " 2   HeadSize     237 non-null    int64\n",
      " 3   BrainWeight  237 non-null    int64\n",
      "dtypes: int64(4)\n",
      "memory usage: 7.5 KB\n"
     ]
    }
   ],
   "source": [
    "df.info()\n",
    "\n",
    "# ALL COLUMNS ARE IN INT FORMAT."
   ]
  },
  {
   "cell_type": "code",
   "execution_count": 75,
   "metadata": {},
   "outputs": [
    {
     "data": {
      "text/plain": [
       "Gender         0\n",
       "AgeRange       0\n",
       "HeadSize       0\n",
       "BrainWeight    0\n",
       "dtype: int64"
      ]
     },
     "execution_count": 75,
     "metadata": {},
     "output_type": "execute_result"
    }
   ],
   "source": [
    "df.isnull().sum()\n",
    "\n",
    "# THERE IS NO NULL VALUES IN DATASET"
   ]
  },
  {
   "cell_type": "code",
   "execution_count": 36,
   "metadata": {},
   "outputs": [
    {
     "data": {
      "text/html": [
       "<div>\n",
       "<style scoped>\n",
       "    .dataframe tbody tr th:only-of-type {\n",
       "        vertical-align: middle;\n",
       "    }\n",
       "\n",
       "    .dataframe tbody tr th {\n",
       "        vertical-align: top;\n",
       "    }\n",
       "\n",
       "    .dataframe thead th {\n",
       "        text-align: right;\n",
       "    }\n",
       "</style>\n",
       "<table border=\"1\" class=\"dataframe\">\n",
       "  <thead>\n",
       "    <tr style=\"text-align: right;\">\n",
       "      <th></th>\n",
       "      <th>Gender</th>\n",
       "      <th>AgeRange</th>\n",
       "      <th>HeadSize</th>\n",
       "      <th>BrainWeight</th>\n",
       "    </tr>\n",
       "  </thead>\n",
       "  <tbody>\n",
       "    <tr>\n",
       "      <th>count</th>\n",
       "      <td>237.000000</td>\n",
       "      <td>237.000000</td>\n",
       "      <td>237.000000</td>\n",
       "      <td>237.000000</td>\n",
       "    </tr>\n",
       "    <tr>\n",
       "      <th>mean</th>\n",
       "      <td>1.434599</td>\n",
       "      <td>1.535865</td>\n",
       "      <td>3633.991561</td>\n",
       "      <td>1282.873418</td>\n",
       "    </tr>\n",
       "    <tr>\n",
       "      <th>std</th>\n",
       "      <td>0.496753</td>\n",
       "      <td>0.499768</td>\n",
       "      <td>365.261422</td>\n",
       "      <td>120.340446</td>\n",
       "    </tr>\n",
       "    <tr>\n",
       "      <th>min</th>\n",
       "      <td>1.000000</td>\n",
       "      <td>1.000000</td>\n",
       "      <td>2720.000000</td>\n",
       "      <td>955.000000</td>\n",
       "    </tr>\n",
       "    <tr>\n",
       "      <th>25%</th>\n",
       "      <td>1.000000</td>\n",
       "      <td>1.000000</td>\n",
       "      <td>3389.000000</td>\n",
       "      <td>1207.000000</td>\n",
       "    </tr>\n",
       "    <tr>\n",
       "      <th>50%</th>\n",
       "      <td>1.000000</td>\n",
       "      <td>2.000000</td>\n",
       "      <td>3614.000000</td>\n",
       "      <td>1280.000000</td>\n",
       "    </tr>\n",
       "    <tr>\n",
       "      <th>75%</th>\n",
       "      <td>2.000000</td>\n",
       "      <td>2.000000</td>\n",
       "      <td>3876.000000</td>\n",
       "      <td>1350.000000</td>\n",
       "    </tr>\n",
       "    <tr>\n",
       "      <th>max</th>\n",
       "      <td>2.000000</td>\n",
       "      <td>2.000000</td>\n",
       "      <td>4747.000000</td>\n",
       "      <td>1635.000000</td>\n",
       "    </tr>\n",
       "  </tbody>\n",
       "</table>\n",
       "</div>"
      ],
      "text/plain": [
       "           Gender    AgeRange     HeadSize  BrainWeight\n",
       "count  237.000000  237.000000   237.000000   237.000000\n",
       "mean     1.434599    1.535865  3633.991561  1282.873418\n",
       "std      0.496753    0.499768   365.261422   120.340446\n",
       "min      1.000000    1.000000  2720.000000   955.000000\n",
       "25%      1.000000    1.000000  3389.000000  1207.000000\n",
       "50%      1.000000    2.000000  3614.000000  1280.000000\n",
       "75%      2.000000    2.000000  3876.000000  1350.000000\n",
       "max      2.000000    2.000000  4747.000000  1635.000000"
      ]
     },
     "execution_count": 36,
     "metadata": {},
     "output_type": "execute_result"
    }
   ],
   "source": [
    "df.describe()\n",
    "\n",
    "#WE CAN SEE SOME OUTLIER IN HEAD SIZE AS MEAN IS 3633 AND STD IS 365 SO AVG ACCEPTABLE VALUE IS FROM 3200 TO 4000 BUT WE HAVE 4747 AT HIGHER END."
   ]
  },
  {
   "cell_type": "code",
   "execution_count": 37,
   "metadata": {},
   "outputs": [
    {
     "data": {
      "image/png": "[encoded data removed]",
      "text/plain": [
       "<Figure size 576x360 with 1 Axes>"
      ]
     },
     "metadata": {
      "needs_background": "light"
     },
     "output_type": "display_data"
    }
   ],
   "source": [
    "plt.figure(figsize = (8,5))\n",
    "sns.scatterplot(data=df, x=\"HeadSize\", y=\"BrainWeight\").set_title('Headsize-brainweight')\n",
    "plt.xticks\n",
    "plt.show()"
   ]
  },
  {
   "cell_type": "markdown",
   "metadata": {},
   "source": [
    "CONCLUSION:\n",
    "    \n",
    "    HEADSIZE AND BRAINWEIGHT IS IN PARALLEL AS HEADSIZE INCREASE THE WEIGHT OF BRAIN IS ALSO INCREASE."
   ]
  },
  {
   "cell_type": "code",
   "execution_count": 38,
   "metadata": {},
   "outputs": [
    {
     "data": {
      "image/png": "[encoded data removed]",
      "text/plain": [
       "<Figure size 576x360 with 1 Axes>"
      ]
     },
     "metadata": {
      "needs_background": "light"
     },
     "output_type": "display_data"
    }
   ],
   "source": [
    "plt.figure(figsize = (8,5))\n",
    "sns.barplot(x = 'Gender', y = 'BrainWeight', data = df, palette= 'GnBu_d').set_title('Gender-brainweight')\n",
    "plt.xticks\n",
    "plt.show()"
   ]
  },
  {
   "cell_type": "markdown",
   "metadata": {},
   "source": [
    "CONCLUSION:\n",
    "    \n",
    "    NOT MUCH EFFECTIVE AS BOTH CASE HAVE NEARLY SAME AVG OF BRAINWEIGHT"
   ]
  },
  {
   "cell_type": "code",
   "execution_count": 39,
   "metadata": {},
   "outputs": [
    {
     "data": {
      "image/png": "[encoded data removed]",
      "text/plain": [
       "<Figure size 576x360 with 1 Axes>"
      ]
     },
     "metadata": {
      "needs_background": "light"
     },
     "output_type": "display_data"
    }
   ],
   "source": [
    "plt.figure(figsize = (8,5))\n",
    "sns.barplot(x = 'AgeRange', y = 'BrainWeight', data = df, palette= 'GnBu_d').set_title('AgeRange-brainweight')\n",
    "plt.xticks\n",
    "plt.show()"
   ]
  },
  {
   "cell_type": "markdown",
   "metadata": {},
   "source": [
    "CONCLUSION:\n",
    "    \n",
    "    AGE RANGE IS ALSO NOT EFFECTIV AS BOTH RANGE HAVE SAME AVG SO IT NOT LOOKING MUCH EFFECTIVE."
   ]
  },
  {
   "cell_type": "code",
   "execution_count": 40,
   "metadata": {},
   "outputs": [
    {
     "data": {
      "image/png": "[encoded data removed]",
      "text/plain": [
       "<Figure size 576x360 with 1 Axes>"
      ]
     },
     "metadata": {
      "needs_background": "light"
     },
     "output_type": "display_data"
    }
   ],
   "source": [
    "plt.figure(figsize = (8,5))\n",
    "sns.barplot(x = 'AgeRange', y = 'HeadSize', data = df, palette= 'GnBu_d').set_title('AgeRange-HeadSize')\n",
    "plt.xticks\n",
    "plt.show()"
   ]
  },
  {
   "cell_type": "markdown",
   "metadata": {},
   "source": [
    "CONCLUSION:\n",
    "    \n",
    "    AGERANGE AND HEADSIZE HAVE NOT MUCH RELATIVE WITH EACH OTHER."
   ]
  },
  {
   "cell_type": "code",
   "execution_count": 41,
   "metadata": {},
   "outputs": [
    {
     "data": {
      "image/png": "[encoded data removed]",
      "text/plain": [
       "<Figure size 576x360 with 1 Axes>"
      ]
     },
     "metadata": {
      "needs_background": "light"
     },
     "output_type": "display_data"
    }
   ],
   "source": [
    "plt.figure(figsize = (8,5))\n",
    "sns.barplot(x = 'Gender', y = 'HeadSize', data = df, palette= 'GnBu_d').set_title('Gender-HeadSize')\n",
    "plt.xticks\n",
    "plt.show()"
   ]
  },
  {
   "cell_type": "markdown",
   "metadata": {},
   "source": [
    "CONCLUSION:\n",
    "    \n",
    "    GENDER AND HEADSIZE HAVE NOT CO-RELATION WITH EACH OTHER."
   ]
  },
  {
   "cell_type": "code",
   "execution_count": 42,
   "metadata": {},
   "outputs": [
    {
     "data": {
      "text/html": [
       "<div>\n",
       "<style scoped>\n",
       "    .dataframe tbody tr th:only-of-type {\n",
       "        vertical-align: middle;\n",
       "    }\n",
       "\n",
       "    .dataframe tbody tr th {\n",
       "        vertical-align: top;\n",
       "    }\n",
       "\n",
       "    .dataframe thead th {\n",
       "        text-align: right;\n",
       "    }\n",
       "</style>\n",
       "<table border=\"1\" class=\"dataframe\">\n",
       "  <thead>\n",
       "    <tr style=\"text-align: right;\">\n",
       "      <th></th>\n",
       "      <th>Gender</th>\n",
       "      <th>AgeRange</th>\n",
       "      <th>HeadSize</th>\n",
       "      <th>BrainWeight</th>\n",
       "    </tr>\n",
       "  </thead>\n",
       "  <tbody>\n",
       "    <tr>\n",
       "      <th>0</th>\n",
       "      <td>1</td>\n",
       "      <td>1</td>\n",
       "      <td>4512</td>\n",
       "      <td>1530</td>\n",
       "    </tr>\n",
       "    <tr>\n",
       "      <th>1</th>\n",
       "      <td>1</td>\n",
       "      <td>1</td>\n",
       "      <td>3738</td>\n",
       "      <td>1297</td>\n",
       "    </tr>\n",
       "    <tr>\n",
       "      <th>2</th>\n",
       "      <td>1</td>\n",
       "      <td>1</td>\n",
       "      <td>4261</td>\n",
       "      <td>1335</td>\n",
       "    </tr>\n",
       "    <tr>\n",
       "      <th>3</th>\n",
       "      <td>1</td>\n",
       "      <td>1</td>\n",
       "      <td>3777</td>\n",
       "      <td>1282</td>\n",
       "    </tr>\n",
       "    <tr>\n",
       "      <th>4</th>\n",
       "      <td>1</td>\n",
       "      <td>1</td>\n",
       "      <td>4177</td>\n",
       "      <td>1590</td>\n",
       "    </tr>\n",
       "    <tr>\n",
       "      <th>...</th>\n",
       "      <td>...</td>\n",
       "      <td>...</td>\n",
       "      <td>...</td>\n",
       "      <td>...</td>\n",
       "    </tr>\n",
       "    <tr>\n",
       "      <th>232</th>\n",
       "      <td>2</td>\n",
       "      <td>2</td>\n",
       "      <td>3214</td>\n",
       "      <td>1110</td>\n",
       "    </tr>\n",
       "    <tr>\n",
       "      <th>233</th>\n",
       "      <td>2</td>\n",
       "      <td>2</td>\n",
       "      <td>3394</td>\n",
       "      <td>1215</td>\n",
       "    </tr>\n",
       "    <tr>\n",
       "      <th>234</th>\n",
       "      <td>2</td>\n",
       "      <td>2</td>\n",
       "      <td>3233</td>\n",
       "      <td>1104</td>\n",
       "    </tr>\n",
       "    <tr>\n",
       "      <th>235</th>\n",
       "      <td>2</td>\n",
       "      <td>2</td>\n",
       "      <td>3352</td>\n",
       "      <td>1170</td>\n",
       "    </tr>\n",
       "    <tr>\n",
       "      <th>236</th>\n",
       "      <td>2</td>\n",
       "      <td>2</td>\n",
       "      <td>3391</td>\n",
       "      <td>1120</td>\n",
       "    </tr>\n",
       "  </tbody>\n",
       "</table>\n",
       "<p>237 rows × 4 columns</p>\n",
       "</div>"
      ],
      "text/plain": [
       "     Gender  AgeRange  HeadSize  BrainWeight\n",
       "0         1         1      4512         1530\n",
       "1         1         1      3738         1297\n",
       "2         1         1      4261         1335\n",
       "3         1         1      3777         1282\n",
       "4         1         1      4177         1590\n",
       "..      ...       ...       ...          ...\n",
       "232       2         2      3214         1110\n",
       "233       2         2      3394         1215\n",
       "234       2         2      3233         1104\n",
       "235       2         2      3352         1170\n",
       "236       2         2      3391         1120\n",
       "\n",
       "[237 rows x 4 columns]"
      ]
     },
     "execution_count": 42,
     "metadata": {},
     "output_type": "execute_result"
    }
   ],
   "source": [
    "df"
   ]
  },
  {
   "cell_type": "code",
   "execution_count": 43,
   "metadata": {},
   "outputs": [
    {
     "data": {
      "text/plain": [
       "<matplotlib.axes._subplots.AxesSubplot at 0x1ed24fe2b50>"
      ]
     },
     "execution_count": 43,
     "metadata": {},
     "output_type": "execute_result"
    },
    {
     "data": {
      "image/png": "[encoded data removed]",
      "text/plain": [
       "<Figure size 432x432 with 2 Axes>"
      ]
     },
     "metadata": {
      "needs_background": "light"
     },
     "output_type": "display_data"
    }
   ],
   "source": [
    "plt.figure(figsize=(6,6))\n",
    "sns.heatmap(df.corr(),annot = True,linecolor=\"black\")"
   ]
  },
  {
   "cell_type": "markdown",
   "metadata": {},
   "source": [
    "EDA CONCLUSION:\n",
    "    \n",
    "    NOT MUCH HERE TO DISCUSS, WE CAN SAY THAT ONLY HEADSIZE HAVE CO-RELATION WITH BRAINWEIGHT.\n",
    "    AS HEADSIZE INCREASE , BRAINWEIGHT IS ALSO INCREASE."
   ]
  },
  {
   "cell_type": "markdown",
   "metadata": {},
   "source": [
    "### DROP OUTLIERS"
   ]
  },
  {
   "cell_type": "code",
   "execution_count": 44,
   "metadata": {},
   "outputs": [
    {
     "name": "stdout",
     "output_type": "stream",
     "text": [
      "(237, 4)\n",
      "(236, 4)\n"
     ]
    }
   ],
   "source": [
    "from scipy.stats import zscore\n",
    "\n",
    "#di=df.columns\n",
    "z_score=zscore(df)\n",
    "print(df.shape)\n",
    "df_1=df.loc[(z_score<3).all(axis=1)]\n",
    "print(df_1.shape)\n",
    "\n",
    "#We had 250 near ourliers, which we removed using Z-score technique"
   ]
  },
  {
   "cell_type": "code",
   "execution_count": 45,
   "metadata": {},
   "outputs": [
    {
     "data": {
      "text/plain": [
       "Gender         0.257959\n",
       "AgeRange      -0.153968\n",
       "HeadSize       0.164767\n",
       "BrainWeight    0.205274\n",
       "dtype: float64"
      ]
     },
     "execution_count": 45,
     "metadata": {},
     "output_type": "execute_result"
    }
   ],
   "source": [
    "df_1.skew()"
   ]
  },
  {
   "cell_type": "code",
   "execution_count": 77,
   "metadata": {},
   "outputs": [],
   "source": [
    "feature_cols = ['HeadSize','Gender','AgeRange']\n",
    "x= df_1[feature_cols] \n",
    "y = df_1.BrainWeight"
   ]
  },
  {
   "cell_type": "markdown",
   "metadata": {},
   "source": [
    "SCALEDOWN"
   ]
  },
  {
   "cell_type": "code",
   "execution_count": 78,
   "metadata": {},
   "outputs": [],
   "source": [
    "from sklearn.preprocessing import StandardScaler\n",
    "\n",
    "scaler = StandardScaler()\n",
    "x_scaled = scaler.fit_transform(x)\n"
   ]
  },
  {
   "cell_type": "code",
   "execution_count": 80,
   "metadata": {},
   "outputs": [
    {
     "data": {
      "text/plain": [
       "array([[ 2.46589809, -0.88002051, -1.0794154 ],\n",
       "       [ 0.30372296, -0.88002051, -1.0794154 ],\n",
       "       [ 1.7647276 , -0.88002051, -1.0794154 ],\n",
       "       [ 0.41266977, -0.88002051, -1.0794154 ],\n",
       "       [ 1.53007294, -0.88002051, -1.0794154 ],\n",
       "       [-0.12368375, -0.88002051, -1.0794154 ],\n",
       "       [ 0.43501784, -0.88002051, -1.0794154 ],\n",
       "       [-0.19631495, -0.88002051, -1.0794154 ],\n",
       "       [-0.04546553, -0.88002051, -1.0794154 ],\n",
       "       [ 0.9853389 , -0.88002051, -1.0794154 ],\n",
       "       [-0.52036187, -0.88002051, -1.0794154 ],\n",
       "       [ 1.01606748, -0.88002051, -1.0794154 ],\n",
       "       [ 0.02995919, -0.88002051, -1.0794154 ],\n",
       "       [ 1.61667168, -0.88002051, -1.0794154 ],\n",
       "       [ 0.56631271, -0.88002051, -1.0794154 ],\n",
       "       [ 0.68922706, -0.88002051, -1.0794154 ],\n",
       "       [-0.36951244, -0.88002051, -1.0794154 ],\n",
       "       [-0.45611119, -0.88002051, -1.0794154 ],\n",
       "       [-1.49250262, -0.88002051, -1.0794154 ],\n",
       "       [ 2.22006939, -0.88002051, -1.0794154 ],\n",
       "       [ 0.69481407, -0.88002051, -1.0794154 ],\n",
       "       [ 1.1641234 , -0.88002051, -1.0794154 ],\n",
       "       [ 0.48809449, -0.88002051, -1.0794154 ],\n",
       "       [ 0.22550474, -0.88002051, -1.0794154 ],\n",
       "       [ 2.21727589, -0.88002051, -1.0794154 ],\n",
       "       [ 1.13618832, -0.88002051, -1.0794154 ],\n",
       "       [ 1.09707921, -0.88002051, -1.0794154 ],\n",
       "       [-0.48963328, -0.88002051, -1.0794154 ],\n",
       "       [ 1.52448592, -0.88002051, -1.0794154 ],\n",
       "       [ 0.44060485, -0.88002051, -1.0794154 ],\n",
       "       [ 0.46574642, -0.88002051, -1.0794154 ],\n",
       "       [ 1.32335335, -0.88002051, -1.0794154 ],\n",
       "       [ 1.48537681, -0.88002051, -1.0794154 ],\n",
       "       [ 1.47699629, -0.88002051, -1.0794154 ],\n",
       "       [ 0.51602957, -0.88002051, -1.0794154 ],\n",
       "       [-0.28570721, -0.88002051, -1.0794154 ],\n",
       "       [ 0.33165804, -0.88002051, -1.0794154 ],\n",
       "       [-0.82485423, -0.88002051, -1.0794154 ],\n",
       "       [-0.38347998, -0.88002051, -1.0794154 ],\n",
       "       [ 0.92946874, -0.88002051, -1.0794154 ],\n",
       "       [-0.34716438, -0.88002051, -1.0794154 ],\n",
       "       [ 1.91557703, -0.88002051, -1.0794154 ],\n",
       "       [ 0.48809449, -0.88002051, -1.0794154 ],\n",
       "       [ 0.65291145, -0.88002051, -1.0794154 ],\n",
       "       [ 1.13060131, -0.88002051, -1.0794154 ],\n",
       "       [ 1.89602248, -0.88002051, -1.0794154 ],\n",
       "       [-1.29695707, -0.88002051, -1.0794154 ],\n",
       "       [ 0.0327527 , -0.88002051, -1.0794154 ],\n",
       "       [ 0.04113322, -0.88002051, -1.0794154 ],\n",
       "       [ 0.73112968, -0.88002051, -1.0794154 ],\n",
       "       [ 0.4573659 , -0.88002051, -1.0794154 ],\n",
       "       [ 1.78986917, -0.88002051, -1.0794154 ],\n",
       "       [ 1.21161304, -0.88002051, -1.0794154 ],\n",
       "       [ 1.06914413, -0.88002051, -1.0794154 ],\n",
       "       [-0.47845925, -0.88002051, -1.0794154 ],\n",
       "       [ 0.72833617, -0.88002051, -1.0794154 ],\n",
       "       [ 1.49934435, -0.88002051,  0.92642739],\n",
       "       [ 0.85404402, -0.88002051,  0.92642739],\n",
       "       [ 0.11097092, -0.88002051,  0.92642739],\n",
       "       [ 0.66129198, -0.88002051,  0.92642739],\n",
       "       [-0.66003727, -0.88002051,  0.92642739],\n",
       "       [ 2.27035254, -0.88002051,  0.92642739],\n",
       "       [ 1.74237954, -0.88002051,  0.92642739],\n",
       "       [ 0.27299438, -0.88002051,  0.92642739],\n",
       "       [-0.83882177, -0.88002051,  0.92642739],\n",
       "       [-0.59858009, -0.88002051,  0.92642739],\n",
       "       [-0.71870093, -0.88002051,  0.92642739],\n",
       "       [ 2.23683044, -0.88002051,  0.92642739],\n",
       "       [ 2.09994855, -0.88002051,  0.92642739],\n",
       "       [ 1.0579701 , -0.88002051,  0.92642739],\n",
       "       [ 0.63894391, -0.88002051,  0.92642739],\n",
       "       [ 1.3736365 , -0.88002051,  0.92642739],\n",
       "       [ 1.19485199, -0.88002051,  0.92642739],\n",
       "       [ 0.54396464, -0.88002051,  0.92642739],\n",
       "       [-0.65724376, -0.88002051,  0.92642739],\n",
       "       [-0.19910846, -0.88002051,  0.92642739],\n",
       "       [-0.74663601, -0.88002051,  0.92642739],\n",
       "       [ 0.84007648, -0.88002051,  0.92642739],\n",
       "       [ 0.57469323, -0.88002051,  0.92642739],\n",
       "       [ 0.56072569, -0.88002051,  0.92642739],\n",
       "       [ 0.6333569 , -0.88002051,  0.92642739],\n",
       "       [-1.06230241, -0.88002051,  0.92642739],\n",
       "       [-0.14603181, -0.88002051,  0.92642739],\n",
       "       [ 0.84845701, -0.88002051,  0.92642739],\n",
       "       [ 0.61659585, -0.88002051,  0.92642739],\n",
       "       [-0.89469193, -0.88002051,  0.92642739],\n",
       "       [-0.62372166, -0.88002051,  0.92642739],\n",
       "       [-0.34437087, -0.88002051,  0.92642739],\n",
       "       [ 0.7758258 , -0.88002051,  0.92642739],\n",
       "       [ 1.4825833 , -0.88002051,  0.92642739],\n",
       "       [-0.86955036, -0.88002051,  0.92642739],\n",
       "       [ 0.09141636, -0.88002051,  0.92642739],\n",
       "       [ 0.75347774, -0.88002051,  0.92642739],\n",
       "       [ 0.19756966, -0.88002051,  0.92642739],\n",
       "       [ 0.41825679, -0.88002051,  0.92642739],\n",
       "       [-0.43655663, -0.88002051,  0.92642739],\n",
       "       [-0.389067  , -0.88002051,  0.92642739],\n",
       "       [ 0.0690683 , -0.88002051,  0.92642739],\n",
       "       [-0.42258909, -0.88002051,  0.92642739],\n",
       "       [-0.37509946, -0.88002051,  0.92642739],\n",
       "       [ 0.57189972, -0.88002051,  0.92642739],\n",
       "       [ 0.68922706, -0.88002051,  0.92642739],\n",
       "       [ 0.08862285, -0.88002051,  0.92642739],\n",
       "       [-0.03149799, -0.88002051,  0.92642739],\n",
       "       [ 0.05230725, -0.88002051,  0.92642739],\n",
       "       [ 1.12501429, -0.88002051,  0.92642739],\n",
       "       [-0.64327622, -0.88002051,  0.92642739],\n",
       "       [ 0.80096737, -0.88002051,  0.92642739],\n",
       "       [ 2.23683044, -0.88002051,  0.92642739],\n",
       "       [ 0.18360212, -0.88002051,  0.92642739],\n",
       "       [-0.29408773, -0.88002051,  0.92642739],\n",
       "       [-0.16279286, -0.88002051,  0.92642739],\n",
       "       [-0.09854218, -0.88002051,  0.92642739],\n",
       "       [-0.68797235, -0.88002051,  0.92642739],\n",
       "       [-0.36392543, -0.88002051,  0.92642739],\n",
       "       [-0.11250971, -0.88002051,  0.92642739],\n",
       "       [ 0.75627125, -0.88002051,  0.92642739],\n",
       "       [ 1.35408194, -0.88002051,  0.92642739],\n",
       "       [ 0.85963104, -0.88002051,  0.92642739],\n",
       "       [-0.64327622, -0.88002051,  0.92642739],\n",
       "       [ 1.59432362, -0.88002051,  0.92642739],\n",
       "       [ 2.3988539 , -0.88002051,  0.92642739],\n",
       "       [-0.04267202, -0.88002051,  0.92642739],\n",
       "       [ 1.17809094, -0.88002051,  0.92642739],\n",
       "       [ 0.42663731, -0.88002051,  0.92642739],\n",
       "       [-0.66562428, -0.88002051,  0.92642739],\n",
       "       [-1.4114909 , -0.88002051,  0.92642739],\n",
       "       [ 1.18367796, -0.88002051,  0.92642739],\n",
       "       [-0.13206427, -0.88002051,  0.92642739],\n",
       "       [ 0.10259039, -0.88002051,  0.92642739],\n",
       "       [-0.27173967, -0.88002051,  0.92642739],\n",
       "       [ 1.1641234 , -0.88002051,  0.92642739],\n",
       "       [ 0.1053839 , -0.88002051,  0.92642739],\n",
       "       [-2.15735751,  1.13633716, -1.0794154 ],\n",
       "       [-0.53991643,  1.13633716, -1.0794154 ],\n",
       "       [ 0.45177888,  1.13633716, -1.0794154 ],\n",
       "       [-0.91424649,  1.13633716, -1.0794154 ],\n",
       "       [-1.46736105,  1.13633716, -1.0794154 ],\n",
       "       [-1.28019602,  1.13633716, -1.0794154 ],\n",
       "       [-0.15999935,  1.13633716, -1.0794154 ],\n",
       "       [-0.27732668,  1.13633716, -1.0794154 ],\n",
       "       [-1.26902199,  1.13633716, -1.0794154 ],\n",
       "       [-0.53432941,  1.13633716, -1.0794154 ],\n",
       "       [ 0.76465177,  1.13633716, -1.0794154 ],\n",
       "       [ 0.75347774,  1.13633716, -1.0794154 ],\n",
       "       [-0.6376892 ,  1.13633716, -1.0794154 ],\n",
       "       [-1.01201926,  1.13633716, -1.0794154 ],\n",
       "       [-0.49801381,  1.13633716, -1.0794154 ],\n",
       "       [-1.50647016,  1.13633716, -1.0794154 ],\n",
       "       [-0.60416711,  1.13633716, -1.0794154 ],\n",
       "       [-0.85558282,  1.13633716, -1.0794154 ],\n",
       "       [ 0.14169951,  1.13633716, -1.0794154 ],\n",
       "       [-0.5315359 ,  1.13633716, -1.0794154 ],\n",
       "       [ 0.62497637,  1.13633716, -1.0794154 ],\n",
       "       [-1.32209864,  1.13633716, -1.0794154 ],\n",
       "       [-0.97849717,  1.13633716, -1.0794154 ],\n",
       "       [ 0.21712422,  1.13633716, -1.0794154 ],\n",
       "       [ 1.05238309,  1.13633716, -1.0794154 ],\n",
       "       [-1.00643225,  1.13633716, -1.0794154 ],\n",
       "       [-1.55954681,  1.13633716, -1.0794154 ],\n",
       "       [ 0.41825679,  1.13633716, -1.0794154 ],\n",
       "       [-0.22704354,  1.13633716, -1.0794154 ],\n",
       "       [-0.94218157,  1.13633716, -1.0794154 ],\n",
       "       [-0.36951244,  1.13633716, -1.0794154 ],\n",
       "       [-1.52881823,  1.13633716, -1.0794154 ],\n",
       "       [-1.06509591,  1.13633716, -1.0794154 ],\n",
       "       [-0.75781004,  1.13633716, -1.0794154 ],\n",
       "       [ 0.48530098,  1.13633716, -1.0794154 ],\n",
       "       [-0.1767604 ,  1.13633716, -1.0794154 ],\n",
       "       [-1.35282723,  1.13633716, -1.0794154 ],\n",
       "       [-0.3527514 ,  1.13633716, -1.0794154 ],\n",
       "       [-0.16279286,  1.13633716, -1.0794154 ],\n",
       "       [ 0.26461385,  1.13633716, -1.0794154 ],\n",
       "       [-0.03987851,  1.13633716, -1.0794154 ],\n",
       "       [-1.19080377,  1.13633716, -1.0794154 ],\n",
       "       [-0.05663956,  1.13633716, -1.0794154 ],\n",
       "       [-0.19072794,  1.13633716, -1.0794154 ],\n",
       "       [ 0.97695837,  1.13633716, -1.0794154 ],\n",
       "       [-0.26894616,  1.13633716, -1.0794154 ],\n",
       "       [ 0.16684108,  1.13633716, -1.0794154 ],\n",
       "       [-1.31651163,  1.13633716, -1.0794154 ],\n",
       "       [ 1.04958958,  1.13633716, -1.0794154 ],\n",
       "       [-1.25226094,  1.13633716, -1.0794154 ],\n",
       "       [-0.41979559,  1.13633716, -1.0794154 ],\n",
       "       [ 0.0355462 ,  1.13633716, -1.0794154 ],\n",
       "       [ 0.00761113,  1.13633716, -1.0794154 ],\n",
       "       [-1.56513383,  1.13633716,  0.92642739],\n",
       "       [-0.65724376,  1.13633716,  0.92642739],\n",
       "       [ 0.20595019,  1.13633716,  0.92642739],\n",
       "       [-1.29695707,  1.13633716,  0.92642739],\n",
       "       [-0.76898407,  1.13633716,  0.92642739],\n",
       "       [-1.75788588,  1.13633716,  0.92642739],\n",
       "       [ 0.16125406,  1.13633716,  0.92642739],\n",
       "       [-0.20469548,  1.13633716,  0.92642739],\n",
       "       [-2.39201217,  1.13633716,  0.92642739],\n",
       "       [-1.59586242,  1.13633716,  0.92642739],\n",
       "       [-0.79691915,  1.13633716,  0.92642739],\n",
       "       [-0.38068647,  1.13633716,  0.92642739],\n",
       "       [-0.92821403,  1.13633716,  0.92642739],\n",
       "       [-0.75222303,  1.13633716,  0.92642739],\n",
       "       [-1.12096607,  1.13633716,  0.92642739],\n",
       "       [-0.98408418,  1.13633716,  0.92642739],\n",
       "       [ 0.61938936,  1.13633716,  0.92642739],\n",
       "       [-1.57072085,  1.13633716,  0.92642739],\n",
       "       [ 0.1752216 ,  1.13633716,  0.92642739],\n",
       "       [-0.6348957 ,  1.13633716,  0.92642739],\n",
       "       [ 1.0216545 ,  1.13633716,  0.92642739],\n",
       "       [-0.86955036,  1.13633716,  0.92642739],\n",
       "       [-2.54006809,  1.13633716,  0.92642739],\n",
       "       [-1.93387688,  1.13633716,  0.92642739],\n",
       "       [-0.13765129,  1.13633716,  0.92642739],\n",
       "       [-1.92828986,  1.13633716,  0.92642739],\n",
       "       [-1.78861446,  1.13633716,  0.92642739],\n",
       "       [-0.12089024,  1.13633716,  0.92642739],\n",
       "       [-1.32209864,  1.13633716,  0.92642739],\n",
       "       [-1.07068293,  1.13633716,  0.92642739],\n",
       "       [-1.28298953,  1.13633716,  0.92642739],\n",
       "       [-1.00922576,  1.13633716,  0.92642739],\n",
       "       [-0.6712113 ,  1.13633716,  0.92642739],\n",
       "       [-0.69355936,  1.13633716,  0.92642739],\n",
       "       [-2.13780295,  1.13633716,  0.92642739],\n",
       "       [ 0.30930998,  1.13633716,  0.92642739],\n",
       "       [-0.41979559,  1.13633716,  0.92642739],\n",
       "       [ 0.04951374,  1.13633716,  0.92642739],\n",
       "       [ 0.24226579,  1.13633716,  0.92642739],\n",
       "       [-0.96452963,  1.13633716,  0.92642739],\n",
       "       [ 1.60549765,  1.13633716,  0.92642739],\n",
       "       [ 0.29534244,  1.13633716,  0.92642739],\n",
       "       [-1.14890115,  1.13633716,  0.92642739],\n",
       "       [ 0.15566704,  1.13633716,  0.92642739],\n",
       "       [ 0.2087437 ,  1.13633716,  0.92642739],\n",
       "       [-1.16007518,  1.13633716,  0.92642739],\n",
       "       [-0.65724376,  1.13633716,  0.92642739],\n",
       "       [-1.10699853,  1.13633716,  0.92642739],\n",
       "       [-0.77457109,  1.13633716,  0.92642739],\n",
       "       [-0.66562428,  1.13633716,  0.92642739]])"
      ]
     },
     "execution_count": 80,
     "metadata": {},
     "output_type": "execute_result"
    }
   ],
   "source": [
    "x_scaled"
   ]
  },
  {
   "cell_type": "code",
   "execution_count": 79,
   "metadata": {},
   "outputs": [
    {
     "data": {
      "image/png": "[encoded data removed]",
      "text/plain": [
       "<Figure size 432x288 with 1 Axes>"
      ]
     },
     "metadata": {
      "needs_background": "light"
     },
     "output_type": "display_data"
    }
   ],
   "source": [
    "from sklearn.decomposition import PCA\n",
    "pca = PCA()\n",
    "PrincipalComponents = pca.fit_transform(x_scaled)\n",
    "plt.figure()\n",
    "plt.plot(np.cumsum(pca.explained_variance_ratio_))\n",
    "plt.xlabel('Number of Components')\n",
    "plt.ylabel('Variance(%)')\n",
    "plt.title('Explained Variance')\n",
    "plt.show()\n",
    "\n",
    "# here we go with all features"
   ]
  },
  {
   "cell_type": "code",
   "execution_count": 60,
   "metadata": {},
   "outputs": [],
   "source": [
    "from sklearn.model_selection import train_test_split\n",
    "\n",
    "x_train, x_test,y_train,y_test = train_test_split(x_scaled,y,test_size=.25,random_state = 50) "
   ]
  },
  {
   "cell_type": "code",
   "execution_count": 61,
   "metadata": {},
   "outputs": [
    {
     "name": "stdout",
     "output_type": "stream",
     "text": [
      "Train Score 63.99667071339575\n",
      "Testing:- 63.00644264595656\n",
      "Error\n",
      "MAE 59.21488578443347\n",
      "MSE 5056.453706522276\n",
      "RMSE 71.10874564019728\n",
      "R2 Score 63.00644264595656\n"
     ]
    }
   ],
   "source": [
    "ln=LinearRegression()\n",
    "ln.fit(x_train,y_train)\n",
    "pred=ln.predict(x_test)\n",
    "print('Train Score',ln.score(x_train,y_train)*100)\n",
    "print('Testing:-',ln.score(x_test,y_test)*100)\n",
    "print('Error')\n",
    "print('MAE',mean_absolute_error(y_test,pred))\n",
    "print('MSE',mean_squared_error(y_test,pred))\n",
    "print('RMSE',np.sqrt(mean_squared_error(y_test,pred)))\n",
    "print('R2 Score',r2_score(y_test,pred)*100)"
   ]
  },
  {
   "cell_type": "code",
   "execution_count": 62,
   "metadata": {},
   "outputs": [],
   "source": [
    "from sklearn.tree import DecisionTreeRegressor\n",
    "from sklearn.svm import SVR\n",
    "from sklearn.neighbors import KNeighborsRegressor\n",
    "from sklearn import metrics\n",
    "from sklearn import ensemble\n",
    "from sklearn.utils import shuffle\n",
    "from sklearn.metrics import mean_squared_error, r2_score\n"
   ]
  },
  {
   "cell_type": "code",
   "execution_count": 63,
   "metadata": {},
   "outputs": [],
   "source": [
    "dtr=DecisionTreeRegressor()\n",
    "svr=SVR()\n",
    "svrl=SVR(kernel='linear')\n",
    "kn=KNeighborsRegressor(n_neighbors=5)"
   ]
  },
  {
   "cell_type": "code",
   "execution_count": 64,
   "metadata": {},
   "outputs": [],
   "source": [
    "def fun(f):\n",
    "    f.fit(x_train,y_train)\n",
    "    pred=f.predict(x_test)\n",
    "    print('TRAINING:-',f.score(x_train,y_train)*100)\n",
    "    print('Testing:-',f.score(x_test,y_test)*100)\n",
    "    print('MAE',mean_absolute_error(y_test,pred))\n",
    "    print('MSE',mean_squared_error(y_test,pred))\n",
    "    print('RMSE',np.sqrt(mean_squared_error(y_test,pred)))\n",
    "    print('R2 Score',r2_score(y_test,pred)*100)"
   ]
  },
  {
   "cell_type": "markdown",
   "metadata": {},
   "source": [
    "DECISIONTREE REGRESSOR"
   ]
  },
  {
   "cell_type": "code",
   "execution_count": 65,
   "metadata": {},
   "outputs": [
    {
     "name": "stdout",
     "output_type": "stream",
     "text": [
      "DecisionTreeRegressor\n",
      "Training Score:- 97.99116589638284\n",
      "Testing:- 19.087047446962334\n",
      "MAE 86.05932203389831\n",
      "MSE 11059.563559322034\n",
      "RMSE 105.16445958270329\n",
      "R2 Score 19.087047446962334\n"
     ]
    }
   ],
   "source": [
    "dtr.fit(x_train,y_train)\n",
    "preddtr=dtr.predict(x_test)\n",
    "print(\"DecisionTreeRegressor\")\n",
    "print('Training Score:-',dtr.score(x_train,y_train)*100)\n",
    "print('Testing:-',dtr.score(x_test,y_test)*100)\n",
    "print('MAE',mean_absolute_error(y_test,preddtr))\n",
    "print('MSE',mean_squared_error(y_test,preddtr))\n",
    "print('RMSE',np.sqrt(mean_squared_error(y_test,preddtr)))\n",
    "print('R2 Score',r2_score(y_test,preddtr)*100)"
   ]
  },
  {
   "cell_type": "markdown",
   "metadata": {},
   "source": [
    "KNN"
   ]
  },
  {
   "cell_type": "code",
   "execution_count": 66,
   "metadata": {},
   "outputs": [
    {
     "name": "stdout",
     "output_type": "stream",
     "text": [
      "TRAINING:- 70.87850764609365\n",
      "Testing:- 54.401853486683116\n",
      "MAE 66.02711864406777\n",
      "MSE 6232.569491525422\n",
      "RMSE 78.94662432001397\n",
      "R2 Score 54.401853486683116\n"
     ]
    }
   ],
   "source": [
    "fun(kn)"
   ]
  },
  {
   "cell_type": "markdown",
   "metadata": {},
   "source": [
    "RANDOMFOREST REGRESSOR"
   ]
  },
  {
   "cell_type": "code",
   "execution_count": 67,
   "metadata": {},
   "outputs": [
    {
     "name": "stdout",
     "output_type": "stream",
     "text": [
      "TRAINING:- 92.55884706783681\n",
      "Testing:- 45.67899685620248\n",
      "MAE 69.98036723163843\n",
      "MSE 7424.8506316855\n",
      "RMSE 86.1675729708427\n",
      "R2 Score 45.67899685620248\n"
     ]
    }
   ],
   "source": [
    "from sklearn.ensemble import RandomForestRegressor\n",
    "rd=RandomForestRegressor()\n",
    "fun(rd)"
   ]
  },
  {
   "cell_type": "markdown",
   "metadata": {},
   "source": [
    "DECISIONTREE REGRESSOR"
   ]
  },
  {
   "cell_type": "code",
   "execution_count": 68,
   "metadata": {},
   "outputs": [
    {
     "name": "stdout",
     "output_type": "stream",
     "text": [
      "TRAINING:- 97.99116589638284\n",
      "Testing:- 25.192400903842948\n",
      "MAE 84.33050847457628\n",
      "MSE 10225.055084745763\n",
      "RMSE 101.11901445695445\n",
      "R2 Score 25.192400903842948\n"
     ]
    }
   ],
   "source": [
    "fun(dtr)"
   ]
  },
  {
   "cell_type": "markdown",
   "metadata": {},
   "source": [
    "SUPPORT VECTOR REGRESSOR"
   ]
  },
  {
   "cell_type": "code",
   "execution_count": 69,
   "metadata": {},
   "outputs": [
    {
     "name": "stdout",
     "output_type": "stream",
     "text": [
      "TRAINING:- 18.058112439421492\n",
      "Testing:- 15.202560005036803\n",
      "MAE 84.18440823247184\n",
      "MSE 11590.513603830708\n",
      "RMSE 107.65924764659424\n",
      "R2 Score 15.202560005036803\n"
     ]
    }
   ],
   "source": [
    "fun(svr)"
   ]
  },
  {
   "cell_type": "code",
   "execution_count": 81,
   "metadata": {},
   "outputs": [
    {
     "name": "stdout",
     "output_type": "stream",
     "text": [
      "TRAINING:- 68.14395737165806\n",
      "Testing:- 53.22634473365658\n",
      "MAE 65.83303460158305\n",
      "MSE 6393.243566051555\n",
      "RMSE 79.95776113706258\n",
      "R2 Score 53.22634473365658\n"
     ]
    }
   ],
   "source": [
    "from sklearn.ensemble import AdaBoostRegressor\n",
    "ad=AdaBoostRegressor()\n",
    "fun(ad)"
   ]
  },
  {
   "cell_type": "code",
   "execution_count": 82,
   "metadata": {},
   "outputs": [
    {
     "name": "stdout",
     "output_type": "stream",
     "text": [
      "TRAINING:- 87.40066799622856\n",
      "Testing:- 48.131911942928284\n",
      "MAE 69.92730060300742\n",
      "MSE 7089.574641237844\n",
      "RMSE 84.19961188294067\n",
      "R2 Score 48.131911942928284\n"
     ]
    }
   ],
   "source": [
    "from sklearn.ensemble import GradientBoostingRegressor\n",
    "gd=GradientBoostingRegressor()\n",
    "fun(gd)"
   ]
  },
  {
   "cell_type": "code",
   "execution_count": 83,
   "metadata": {},
   "outputs": [
    {
     "name": "stdout",
     "output_type": "stream",
     "text": [
      "score of cross validation score for svr -35.699678275162285\n",
      "score of cross validation score for dtr -17.819650989224808\n",
      "score of cross validation score for rd 32.809176542092885\n",
      "score of cross validation score for Gd 32.25808183874795\n",
      "score of cross validation score for ad 30.854588983301166\n"
     ]
    }
   ],
   "source": [
    "from sklearn.model_selection import cross_val_score\n",
    "\n",
    "score=cross_val_score(svr,x_scaled,y,cv=5)\n",
    "print(\"score of cross validation score for svr\", score.mean()*100)\n",
    "score=cross_val_score(dtr,x_scaled,y,cv=5)\n",
    "print(\"score of cross validation score for dtr\",score.mean()*100)\n",
    "score=cross_val_score(rd,x_scaled,y,cv=5)\n",
    "print(\"score of cross validation score for rd\",score.mean()*100)\n",
    "score=cross_val_score(gd,x_scaled,y,cv=5)\n",
    "print(\"score of cross validation score for Gd\",score.mean()*100)\n",
    "score=cross_val_score(ad,x_scaled,y,cv=4)\n",
    "print(\"score of cross validation score for ad\",score.mean()*100)"
   ]
  },
  {
   "cell_type": "code",
   "execution_count": null,
   "metadata": {},
   "outputs": [],
   "source": []
  }
 ],
 "metadata": {
  "kernelspec": {
   "display_name": "Python 3",
   "language": "python",
   "name": "python3"
  },
  "language_info": {
   "codemirror_mode": {
    "name": "ipython",
    "version": 3
   },
   "file_extension": ".py",
   "mimetype": "text/x-python",
   "name": "python",
   "nbconvert_exporter": "python",
   "pygments_lexer": "ipython3",
   "version": "3.8.3"
  }
 },
 "nbformat": 4,
 "nbformat_minor": 4
}
