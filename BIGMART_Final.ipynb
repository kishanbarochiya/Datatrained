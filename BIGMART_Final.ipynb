{
  "cells": [
    {
      "cell_type": "markdown",
      "metadata": {
        "papermill": {
          "duration": 0.091416,
          "end_time": "2021-06-09T17:07:59.044339",
          "exception": false,
          "start_time": "2021-06-09T17:07:58.952923",
          "status": "completed"
        },
        "tags": [],
        "id": "pcRfF81r3mYI"
      },
      "source": [
        "Project name :  BIG MART DATA ANALYSIS\n",
        "\n",
        "project Description: Here, we have data of BIG MART, in which we have data of their diffrent store, establishment year, sales, size, location, type, items.\n",
        "\n",
        "project Goal: Our goal is to make predict model to predict sales on the base of given parametes"
      ],
      "id": "pcRfF81r3mYI"
    },
    {
      "cell_type": "markdown",
      "metadata": {
        "papermill": {
          "duration": 0.090644,
          "end_time": "2021-06-09T17:07:59.228472",
          "exception": false,
          "start_time": "2021-06-09T17:07:59.137828",
          "status": "completed"
        },
        "tags": [],
        "id": "HbJ6pAOe3mYQ"
      },
      "source": [
        "Importing Libraries and datasets"
      ],
      "id": "HbJ6pAOe3mYQ"
    },
    {
      "cell_type": "code",
      "execution_count": 114,
      "metadata": {
        "execution": {
          "iopub.execute_input": "2021-06-09T17:07:59.413486Z",
          "iopub.status.busy": "2021-06-09T17:07:59.412209Z",
          "iopub.status.idle": "2021-06-09T17:08:00.470497Z",
          "shell.execute_reply": "2021-06-09T17:08:00.469773Z",
          "shell.execute_reply.started": "2021-06-09T16:31:20.126897Z"
        },
        "papermill": {
          "duration": 1.151992,
          "end_time": "2021-06-09T17:08:00.470697",
          "exception": false,
          "start_time": "2021-06-09T17:07:59.318705",
          "status": "completed"
        },
        "tags": [],
        "id": "wJl28B0D3mYS"
      },
      "outputs": [],
      "source": [
        "import numpy as np\n",
        "import pandas as pd\n",
        "import seaborn as sns\n",
        "import matplotlib.pyplot as plt\n",
        "import seaborn as sns"
      ],
      "id": "wJl28B0D3mYS"
    },
    {
      "cell_type": "code",
      "execution_count": 115,
      "metadata": {
        "id": "zan7D_-l3mYU"
      },
      "outputs": [],
      "source": [
        "train=pd.read_csv(\"bigdatamart_Train.csv\") \n",
        "new_data=pd.read_csv(\"bigdatamart_Test.csv\")"
      ],
      "id": "zan7D_-l3mYU"
    },
    {
      "cell_type": "code",
      "execution_count": 116,
      "metadata": {
        "execution": {
          "iopub.execute_input": "2021-06-09T17:08:00.665918Z",
          "iopub.status.busy": "2021-06-09T17:08:00.664857Z",
          "iopub.status.idle": "2021-06-09T17:08:00.694190Z",
          "shell.execute_reply": "2021-06-09T17:08:00.694755Z",
          "shell.execute_reply.started": "2021-06-09T16:31:48.835085Z"
        },
        "papermill": {
          "duration": 0.133846,
          "end_time": "2021-06-09T17:08:00.694941",
          "exception": false,
          "start_time": "2021-06-09T17:08:00.561095",
          "status": "completed"
        },
        "tags": [],
        "colab": {
          "base_uri": "https://localhost:8080/",
          "height": 356
        },
        "id": "7VbA63dP3mYV",
        "outputId": "a18cc087-953b-46ee-f0bb-1bc7d3730f38"
      },
      "outputs": [
        {
          "output_type": "execute_result",
          "data": {
            "text/html": [
              "\n",
              "  <div id=\"df-96129b83-a4ef-4d7c-9522-e51818a4a0c6\">\n",
              "    <div class=\"colab-df-container\">\n",
              "      <div>\n",
              "<style scoped>\n",
              "    .dataframe tbody tr th:only-of-type {\n",
              "        vertical-align: middle;\n",
              "    }\n",
              "\n",
              "    .dataframe tbody tr th {\n",
              "        vertical-align: top;\n",
              "    }\n",
              "\n",
              "    .dataframe thead th {\n",
              "        text-align: right;\n",
              "    }\n",
              "</style>\n",
              "<table border=\"1\" class=\"dataframe\">\n",
              "  <thead>\n",
              "    <tr style=\"text-align: right;\">\n",
              "      <th></th>\n",
              "      <th>Item_Identifier</th>\n",
              "      <th>Item_Weight</th>\n",
              "      <th>Item_Fat_Content</th>\n",
              "      <th>Item_Visibility</th>\n",
              "      <th>Item_Type</th>\n",
              "      <th>Item_MRP</th>\n",
              "      <th>Outlet_Identifier</th>\n",
              "      <th>Outlet_Establishment_Year</th>\n",
              "      <th>Outlet_Size</th>\n",
              "      <th>Outlet_Location_Type</th>\n",
              "      <th>Outlet_Type</th>\n",
              "      <th>Item_Outlet_Sales</th>\n",
              "    </tr>\n",
              "  </thead>\n",
              "  <tbody>\n",
              "    <tr>\n",
              "      <th>0</th>\n",
              "      <td>FDA15</td>\n",
              "      <td>9.30</td>\n",
              "      <td>Low Fat</td>\n",
              "      <td>0.016047</td>\n",
              "      <td>Dairy</td>\n",
              "      <td>249.8092</td>\n",
              "      <td>OUT049</td>\n",
              "      <td>1999</td>\n",
              "      <td>Medium</td>\n",
              "      <td>Tier 1</td>\n",
              "      <td>Supermarket Type1</td>\n",
              "      <td>3735.1380</td>\n",
              "    </tr>\n",
              "    <tr>\n",
              "      <th>1</th>\n",
              "      <td>DRC01</td>\n",
              "      <td>5.92</td>\n",
              "      <td>Regular</td>\n",
              "      <td>0.019278</td>\n",
              "      <td>Soft Drinks</td>\n",
              "      <td>48.2692</td>\n",
              "      <td>OUT018</td>\n",
              "      <td>2009</td>\n",
              "      <td>Medium</td>\n",
              "      <td>Tier 3</td>\n",
              "      <td>Supermarket Type2</td>\n",
              "      <td>443.4228</td>\n",
              "    </tr>\n",
              "    <tr>\n",
              "      <th>2</th>\n",
              "      <td>FDN15</td>\n",
              "      <td>17.50</td>\n",
              "      <td>Low Fat</td>\n",
              "      <td>0.016760</td>\n",
              "      <td>Meat</td>\n",
              "      <td>141.6180</td>\n",
              "      <td>OUT049</td>\n",
              "      <td>1999</td>\n",
              "      <td>Medium</td>\n",
              "      <td>Tier 1</td>\n",
              "      <td>Supermarket Type1</td>\n",
              "      <td>2097.2700</td>\n",
              "    </tr>\n",
              "    <tr>\n",
              "      <th>3</th>\n",
              "      <td>FDX07</td>\n",
              "      <td>19.20</td>\n",
              "      <td>Regular</td>\n",
              "      <td>0.000000</td>\n",
              "      <td>Fruits and Vegetables</td>\n",
              "      <td>182.0950</td>\n",
              "      <td>OUT010</td>\n",
              "      <td>1998</td>\n",
              "      <td>NaN</td>\n",
              "      <td>Tier 3</td>\n",
              "      <td>Grocery Store</td>\n",
              "      <td>732.3800</td>\n",
              "    </tr>\n",
              "    <tr>\n",
              "      <th>4</th>\n",
              "      <td>NCD19</td>\n",
              "      <td>8.93</td>\n",
              "      <td>Low Fat</td>\n",
              "      <td>0.000000</td>\n",
              "      <td>Household</td>\n",
              "      <td>53.8614</td>\n",
              "      <td>OUT013</td>\n",
              "      <td>1987</td>\n",
              "      <td>High</td>\n",
              "      <td>Tier 3</td>\n",
              "      <td>Supermarket Type1</td>\n",
              "      <td>994.7052</td>\n",
              "    </tr>\n",
              "  </tbody>\n",
              "</table>\n",
              "</div>\n",
              "      <button class=\"colab-df-convert\" onclick=\"convertToInteractive('df-96129b83-a4ef-4d7c-9522-e51818a4a0c6')\"\n",
              "              title=\"Convert this dataframe to an interactive table.\"\n",
              "              style=\"display:none;\">\n",
              "        \n",
              "  <svg xmlns=\"http://www.w3.org/2000/svg\" height=\"24px\"viewBox=\"0 0 24 24\"\n",
              "       width=\"24px\">\n",
              "    <path d=\"M0 0h24v24H0V0z\" fill=\"none\"/>\n",
              "    <path d=\"M18.56 5.44l.94 2.06.94-2.06 2.06-.94-2.06-.94-.94-2.06-.94 2.06-2.06.94zm-11 1L8.5 8.5l.94-2.06 2.06-.94-2.06-.94L8.5 2.5l-.94 2.06-2.06.94zm10 10l.94 2.06.94-2.06 2.06-.94-2.06-.94-.94-2.06-.94 2.06-2.06.94z\"/><path d=\"M17.41 7.96l-1.37-1.37c-.4-.4-.92-.59-1.43-.59-.52 0-1.04.2-1.43.59L10.3 9.45l-7.72 7.72c-.78.78-.78 2.05 0 2.83L4 21.41c.39.39.9.59 1.41.59.51 0 1.02-.2 1.41-.59l7.78-7.78 2.81-2.81c.8-.78.8-2.07 0-2.86zM5.41 20L4 18.59l7.72-7.72 1.47 1.35L5.41 20z\"/>\n",
              "  </svg>\n",
              "      </button>\n",
              "      \n",
              "  <style>\n",
              "    .colab-df-container {\n",
              "      display:flex;\n",
              "      flex-wrap:wrap;\n",
              "      gap: 12px;\n",
              "    }\n",
              "\n",
              "    .colab-df-convert {\n",
              "      background-color: #E8F0FE;\n",
              "      border: none;\n",
              "      border-radius: 50%;\n",
              "      cursor: pointer;\n",
              "      display: none;\n",
              "      fill: #1967D2;\n",
              "      height: 32px;\n",
              "      padding: 0 0 0 0;\n",
              "      width: 32px;\n",
              "    }\n",
              "\n",
              "    .colab-df-convert:hover {\n",
              "      background-color: #E2EBFA;\n",
              "      box-shadow: 0px 1px 2px rgba(60, 64, 67, 0.3), 0px 1px 3px 1px rgba(60, 64, 67, 0.15);\n",
              "      fill: #174EA6;\n",
              "    }\n",
              "\n",
              "    [theme=dark] .colab-df-convert {\n",
              "      background-color: #3B4455;\n",
              "      fill: #D2E3FC;\n",
              "    }\n",
              "\n",
              "    [theme=dark] .colab-df-convert:hover {\n",
              "      background-color: #434B5C;\n",
              "      box-shadow: 0px 1px 3px 1px rgba(0, 0, 0, 0.15);\n",
              "      filter: drop-shadow(0px 1px 2px rgba(0, 0, 0, 0.3));\n",
              "      fill: #FFFFFF;\n",
              "    }\n",
              "  </style>\n",
              "\n",
              "      <script>\n",
              "        const buttonEl =\n",
              "          document.querySelector('#df-96129b83-a4ef-4d7c-9522-e51818a4a0c6 button.colab-df-convert');\n",
              "        buttonEl.style.display =\n",
              "          google.colab.kernel.accessAllowed ? 'block' : 'none';\n",
              "\n",
              "        async function convertToInteractive(key) {\n",
              "          const element = document.querySelector('#df-96129b83-a4ef-4d7c-9522-e51818a4a0c6');\n",
              "          const dataTable =\n",
              "            await google.colab.kernel.invokeFunction('convertToInteractive',\n",
              "                                                     [key], {});\n",
              "          if (!dataTable) return;\n",
              "\n",
              "          const docLinkHtml = 'Like what you see? Visit the ' +\n",
              "            '<a target=\"_blank\" href=https://colab.research.google.com/notebooks/data_table.ipynb>data table notebook</a>'\n",
              "            + ' to learn more about interactive tables.';\n",
              "          element.innerHTML = '';\n",
              "          dataTable['output_type'] = 'display_data';\n",
              "          await google.colab.output.renderOutput(dataTable, element);\n",
              "          const docLink = document.createElement('div');\n",
              "          docLink.innerHTML = docLinkHtml;\n",
              "          element.appendChild(docLink);\n",
              "        }\n",
              "      </script>\n",
              "    </div>\n",
              "  </div>\n",
              "  "
            ],
            "text/plain": [
              "  Item_Identifier  Item_Weight  ...        Outlet_Type  Item_Outlet_Sales\n",
              "0           FDA15         9.30  ...  Supermarket Type1          3735.1380\n",
              "1           DRC01         5.92  ...  Supermarket Type2           443.4228\n",
              "2           FDN15        17.50  ...  Supermarket Type1          2097.2700\n",
              "3           FDX07        19.20  ...      Grocery Store           732.3800\n",
              "4           NCD19         8.93  ...  Supermarket Type1           994.7052\n",
              "\n",
              "[5 rows x 12 columns]"
            ]
          },
          "metadata": {},
          "execution_count": 116
        }
      ],
      "source": [
        "train.head()"
      ],
      "id": "7VbA63dP3mYV"
    },
    {
      "cell_type": "code",
      "execution_count": 117,
      "metadata": {
        "execution": {
          "iopub.execute_input": "2021-06-09T17:08:00.897637Z",
          "iopub.status.busy": "2021-06-09T17:08:00.896495Z",
          "iopub.status.idle": "2021-06-09T17:08:00.911217Z",
          "shell.execute_reply": "2021-06-09T17:08:00.910220Z",
          "shell.execute_reply.started": "2021-06-09T16:32:00.208045Z"
        },
        "papermill": {
          "duration": 0.116244,
          "end_time": "2021-06-09T17:08:00.911411",
          "exception": false,
          "start_time": "2021-06-09T17:08:00.795167",
          "status": "completed"
        },
        "tags": [],
        "colab": {
          "base_uri": "https://localhost:8080/",
          "height": 320
        },
        "id": "9u4tgE223mYX",
        "outputId": "11ae7504-859f-46c2-fa42-82bb79501553"
      },
      "outputs": [
        {
          "output_type": "execute_result",
          "data": {
            "text/html": [
              "\n",
              "  <div id=\"df-e4a28892-40a1-4f1d-b0fe-0005b49b008b\">\n",
              "    <div class=\"colab-df-container\">\n",
              "      <div>\n",
              "<style scoped>\n",
              "    .dataframe tbody tr th:only-of-type {\n",
              "        vertical-align: middle;\n",
              "    }\n",
              "\n",
              "    .dataframe tbody tr th {\n",
              "        vertical-align: top;\n",
              "    }\n",
              "\n",
              "    .dataframe thead th {\n",
              "        text-align: right;\n",
              "    }\n",
              "</style>\n",
              "<table border=\"1\" class=\"dataframe\">\n",
              "  <thead>\n",
              "    <tr style=\"text-align: right;\">\n",
              "      <th></th>\n",
              "      <th>Item_Identifier</th>\n",
              "      <th>Item_Weight</th>\n",
              "      <th>Item_Fat_Content</th>\n",
              "      <th>Item_Visibility</th>\n",
              "      <th>Item_Type</th>\n",
              "      <th>Item_MRP</th>\n",
              "      <th>Outlet_Identifier</th>\n",
              "      <th>Outlet_Establishment_Year</th>\n",
              "      <th>Outlet_Size</th>\n",
              "      <th>Outlet_Location_Type</th>\n",
              "      <th>Outlet_Type</th>\n",
              "    </tr>\n",
              "  </thead>\n",
              "  <tbody>\n",
              "    <tr>\n",
              "      <th>0</th>\n",
              "      <td>FDW58</td>\n",
              "      <td>20.750</td>\n",
              "      <td>Low Fat</td>\n",
              "      <td>0.007565</td>\n",
              "      <td>Snack Foods</td>\n",
              "      <td>107.8622</td>\n",
              "      <td>OUT049</td>\n",
              "      <td>1999</td>\n",
              "      <td>Medium</td>\n",
              "      <td>Tier 1</td>\n",
              "      <td>Supermarket Type1</td>\n",
              "    </tr>\n",
              "    <tr>\n",
              "      <th>1</th>\n",
              "      <td>FDW14</td>\n",
              "      <td>8.300</td>\n",
              "      <td>reg</td>\n",
              "      <td>0.038428</td>\n",
              "      <td>Dairy</td>\n",
              "      <td>87.3198</td>\n",
              "      <td>OUT017</td>\n",
              "      <td>2007</td>\n",
              "      <td>NaN</td>\n",
              "      <td>Tier 2</td>\n",
              "      <td>Supermarket Type1</td>\n",
              "    </tr>\n",
              "    <tr>\n",
              "      <th>2</th>\n",
              "      <td>NCN55</td>\n",
              "      <td>14.600</td>\n",
              "      <td>Low Fat</td>\n",
              "      <td>0.099575</td>\n",
              "      <td>Others</td>\n",
              "      <td>241.7538</td>\n",
              "      <td>OUT010</td>\n",
              "      <td>1998</td>\n",
              "      <td>NaN</td>\n",
              "      <td>Tier 3</td>\n",
              "      <td>Grocery Store</td>\n",
              "    </tr>\n",
              "    <tr>\n",
              "      <th>3</th>\n",
              "      <td>FDQ58</td>\n",
              "      <td>7.315</td>\n",
              "      <td>Low Fat</td>\n",
              "      <td>0.015388</td>\n",
              "      <td>Snack Foods</td>\n",
              "      <td>155.0340</td>\n",
              "      <td>OUT017</td>\n",
              "      <td>2007</td>\n",
              "      <td>NaN</td>\n",
              "      <td>Tier 2</td>\n",
              "      <td>Supermarket Type1</td>\n",
              "    </tr>\n",
              "    <tr>\n",
              "      <th>4</th>\n",
              "      <td>FDY38</td>\n",
              "      <td>NaN</td>\n",
              "      <td>Regular</td>\n",
              "      <td>0.118599</td>\n",
              "      <td>Dairy</td>\n",
              "      <td>234.2300</td>\n",
              "      <td>OUT027</td>\n",
              "      <td>1985</td>\n",
              "      <td>Medium</td>\n",
              "      <td>Tier 3</td>\n",
              "      <td>Supermarket Type3</td>\n",
              "    </tr>\n",
              "  </tbody>\n",
              "</table>\n",
              "</div>\n",
              "      <button class=\"colab-df-convert\" onclick=\"convertToInteractive('df-e4a28892-40a1-4f1d-b0fe-0005b49b008b')\"\n",
              "              title=\"Convert this dataframe to an interactive table.\"\n",
              "              style=\"display:none;\">\n",
              "        \n",
              "  <svg xmlns=\"http://www.w3.org/2000/svg\" height=\"24px\"viewBox=\"0 0 24 24\"\n",
              "       width=\"24px\">\n",
              "    <path d=\"M0 0h24v24H0V0z\" fill=\"none\"/>\n",
              "    <path d=\"M18.56 5.44l.94 2.06.94-2.06 2.06-.94-2.06-.94-.94-2.06-.94 2.06-2.06.94zm-11 1L8.5 8.5l.94-2.06 2.06-.94-2.06-.94L8.5 2.5l-.94 2.06-2.06.94zm10 10l.94 2.06.94-2.06 2.06-.94-2.06-.94-.94-2.06-.94 2.06-2.06.94z\"/><path d=\"M17.41 7.96l-1.37-1.37c-.4-.4-.92-.59-1.43-.59-.52 0-1.04.2-1.43.59L10.3 9.45l-7.72 7.72c-.78.78-.78 2.05 0 2.83L4 21.41c.39.39.9.59 1.41.59.51 0 1.02-.2 1.41-.59l7.78-7.78 2.81-2.81c.8-.78.8-2.07 0-2.86zM5.41 20L4 18.59l7.72-7.72 1.47 1.35L5.41 20z\"/>\n",
              "  </svg>\n",
              "      </button>\n",
              "      \n",
              "  <style>\n",
              "    .colab-df-container {\n",
              "      display:flex;\n",
              "      flex-wrap:wrap;\n",
              "      gap: 12px;\n",
              "    }\n",
              "\n",
              "    .colab-df-convert {\n",
              "      background-color: #E8F0FE;\n",
              "      border: none;\n",
              "      border-radius: 50%;\n",
              "      cursor: pointer;\n",
              "      display: none;\n",
              "      fill: #1967D2;\n",
              "      height: 32px;\n",
              "      padding: 0 0 0 0;\n",
              "      width: 32px;\n",
              "    }\n",
              "\n",
              "    .colab-df-convert:hover {\n",
              "      background-color: #E2EBFA;\n",
              "      box-shadow: 0px 1px 2px rgba(60, 64, 67, 0.3), 0px 1px 3px 1px rgba(60, 64, 67, 0.15);\n",
              "      fill: #174EA6;\n",
              "    }\n",
              "\n",
              "    [theme=dark] .colab-df-convert {\n",
              "      background-color: #3B4455;\n",
              "      fill: #D2E3FC;\n",
              "    }\n",
              "\n",
              "    [theme=dark] .colab-df-convert:hover {\n",
              "      background-color: #434B5C;\n",
              "      box-shadow: 0px 1px 3px 1px rgba(0, 0, 0, 0.15);\n",
              "      filter: drop-shadow(0px 1px 2px rgba(0, 0, 0, 0.3));\n",
              "      fill: #FFFFFF;\n",
              "    }\n",
              "  </style>\n",
              "\n",
              "      <script>\n",
              "        const buttonEl =\n",
              "          document.querySelector('#df-e4a28892-40a1-4f1d-b0fe-0005b49b008b button.colab-df-convert');\n",
              "        buttonEl.style.display =\n",
              "          google.colab.kernel.accessAllowed ? 'block' : 'none';\n",
              "\n",
              "        async function convertToInteractive(key) {\n",
              "          const element = document.querySelector('#df-e4a28892-40a1-4f1d-b0fe-0005b49b008b');\n",
              "          const dataTable =\n",
              "            await google.colab.kernel.invokeFunction('convertToInteractive',\n",
              "                                                     [key], {});\n",
              "          if (!dataTable) return;\n",
              "\n",
              "          const docLinkHtml = 'Like what you see? Visit the ' +\n",
              "            '<a target=\"_blank\" href=https://colab.research.google.com/notebooks/data_table.ipynb>data table notebook</a>'\n",
              "            + ' to learn more about interactive tables.';\n",
              "          element.innerHTML = '';\n",
              "          dataTable['output_type'] = 'display_data';\n",
              "          await google.colab.output.renderOutput(dataTable, element);\n",
              "          const docLink = document.createElement('div');\n",
              "          docLink.innerHTML = docLinkHtml;\n",
              "          element.appendChild(docLink);\n",
              "        }\n",
              "      </script>\n",
              "    </div>\n",
              "  </div>\n",
              "  "
            ],
            "text/plain": [
              "  Item_Identifier  Item_Weight  ... Outlet_Location_Type        Outlet_Type\n",
              "0           FDW58       20.750  ...               Tier 1  Supermarket Type1\n",
              "1           FDW14        8.300  ...               Tier 2  Supermarket Type1\n",
              "2           NCN55       14.600  ...               Tier 3      Grocery Store\n",
              "3           FDQ58        7.315  ...               Tier 2  Supermarket Type1\n",
              "4           FDY38          NaN  ...               Tier 3  Supermarket Type3\n",
              "\n",
              "[5 rows x 11 columns]"
            ]
          },
          "metadata": {},
          "execution_count": 117
        }
      ],
      "source": [
        "new_data.head()"
      ],
      "id": "9u4tgE223mYX"
    },
    {
      "cell_type": "code",
      "execution_count": 118,
      "metadata": {
        "execution": {
          "iopub.execute_input": "2021-06-09T17:08:01.105047Z",
          "iopub.status.busy": "2021-06-09T17:08:01.104272Z",
          "iopub.status.idle": "2021-06-09T17:08:01.107301Z",
          "shell.execute_reply": "2021-06-09T17:08:01.108036Z",
          "shell.execute_reply.started": "2021-06-09T16:32:15.772691Z"
        },
        "papermill": {
          "duration": 0.101154,
          "end_time": "2021-06-09T17:08:01.108290",
          "exception": false,
          "start_time": "2021-06-09T17:08:01.007136",
          "status": "completed"
        },
        "tags": [],
        "colab": {
          "base_uri": "https://localhost:8080/"
        },
        "id": "tHzO4mSC3mYY",
        "outputId": "6de7c72e-a1aa-46ba-b866-125fa5b0d689"
      },
      "outputs": [
        {
          "output_type": "stream",
          "name": "stdout",
          "text": [
            "(8523, 12)\n",
            "(5681, 11)\n"
          ]
        }
      ],
      "source": [
        "print(train.shape)\n",
        "print(new_data.shape)"
      ],
      "id": "tHzO4mSC3mYY"
    },
    {
      "cell_type": "code",
      "execution_count": 119,
      "metadata": {
        "execution": {
          "iopub.execute_input": "2021-06-09T17:08:01.308958Z",
          "iopub.status.busy": "2021-06-09T17:08:01.308280Z",
          "iopub.status.idle": "2021-06-09T17:08:01.344607Z",
          "shell.execute_reply": "2021-06-09T17:08:01.345207Z",
          "shell.execute_reply.started": "2021-06-09T16:32:24.663290Z"
        },
        "papermill": {
          "duration": 0.136252,
          "end_time": "2021-06-09T17:08:01.345399",
          "exception": false,
          "start_time": "2021-06-09T17:08:01.209147",
          "status": "completed"
        },
        "tags": [],
        "colab": {
          "base_uri": "https://localhost:8080/"
        },
        "id": "eK5o068y3mYb",
        "outputId": "a61c9458-7218-4cd6-918c-1273f295baee"
      },
      "outputs": [
        {
          "output_type": "stream",
          "name": "stdout",
          "text": [
            "<class 'pandas.core.frame.DataFrame'>\n",
            "RangeIndex: 8523 entries, 0 to 8522\n",
            "Data columns (total 12 columns):\n",
            " #   Column                     Non-Null Count  Dtype  \n",
            "---  ------                     --------------  -----  \n",
            " 0   Item_Identifier            8523 non-null   object \n",
            " 1   Item_Weight                7060 non-null   float64\n",
            " 2   Item_Fat_Content           8523 non-null   object \n",
            " 3   Item_Visibility            8523 non-null   float64\n",
            " 4   Item_Type                  8523 non-null   object \n",
            " 5   Item_MRP                   8523 non-null   float64\n",
            " 6   Outlet_Identifier          8523 non-null   object \n",
            " 7   Outlet_Establishment_Year  8523 non-null   int64  \n",
            " 8   Outlet_Size                6113 non-null   object \n",
            " 9   Outlet_Location_Type       8523 non-null   object \n",
            " 10  Outlet_Type                8523 non-null   object \n",
            " 11  Item_Outlet_Sales          8523 non-null   float64\n",
            "dtypes: float64(4), int64(1), object(7)\n",
            "memory usage: 799.2+ KB\n",
            "None\n"
          ]
        }
      ],
      "source": [
        "print(train.info())\n"
      ],
      "id": "eK5o068y3mYb"
    },
    {
      "cell_type": "code",
      "execution_count": 120,
      "metadata": {
        "colab": {
          "base_uri": "https://localhost:8080/"
        },
        "id": "oV4tjWMP3mYc",
        "outputId": "2ead4597-39ef-4028-efee-41259d4246fa"
      },
      "outputs": [
        {
          "output_type": "stream",
          "name": "stdout",
          "text": [
            "<class 'pandas.core.frame.DataFrame'>\n",
            "RangeIndex: 5681 entries, 0 to 5680\n",
            "Data columns (total 11 columns):\n",
            " #   Column                     Non-Null Count  Dtype  \n",
            "---  ------                     --------------  -----  \n",
            " 0   Item_Identifier            5681 non-null   object \n",
            " 1   Item_Weight                4705 non-null   float64\n",
            " 2   Item_Fat_Content           5681 non-null   object \n",
            " 3   Item_Visibility            5681 non-null   float64\n",
            " 4   Item_Type                  5681 non-null   object \n",
            " 5   Item_MRP                   5681 non-null   float64\n",
            " 6   Outlet_Identifier          5681 non-null   object \n",
            " 7   Outlet_Establishment_Year  5681 non-null   int64  \n",
            " 8   Outlet_Size                4075 non-null   object \n",
            " 9   Outlet_Location_Type       5681 non-null   object \n",
            " 10  Outlet_Type                5681 non-null   object \n",
            "dtypes: float64(3), int64(1), object(7)\n",
            "memory usage: 488.3+ KB\n",
            "None\n"
          ]
        }
      ],
      "source": [
        "print(new_data.info())"
      ],
      "id": "oV4tjWMP3mYc"
    },
    {
      "cell_type": "markdown",
      "metadata": {
        "papermill": {
          "duration": 0.092107,
          "end_time": "2021-06-09T17:08:01.533874",
          "exception": false,
          "start_time": "2021-06-09T17:08:01.441767",
          "status": "completed"
        },
        "tags": [],
        "id": "FkSD3K7v3mYe"
      },
      "source": [
        "EDA \n",
        "\n",
        "*check numerical and catagorical columns\n",
        "\n",
        "*null values find and remove\n",
        "\n",
        "*outliers finding and removing\n",
        "\n",
        "*co-relation checking\n",
        "\n",
        "*dummy variable instead of catagorical \n",
        "\n",
        "*reduce dimension\n",
        "\n",
        "*scaling the data"
      ],
      "id": "FkSD3K7v3mYe"
    },
    {
      "cell_type": "code",
      "execution_count": 121,
      "metadata": {
        "execution": {
          "iopub.execute_input": "2021-06-09T17:08:01.724023Z",
          "iopub.status.busy": "2021-06-09T17:08:01.723011Z",
          "iopub.status.idle": "2021-06-09T17:08:01.728054Z",
          "shell.execute_reply": "2021-06-09T17:08:01.728545Z",
          "shell.execute_reply.started": "2021-06-09T16:33:45.687781Z"
        },
        "papermill": {
          "duration": 0.102558,
          "end_time": "2021-06-09T17:08:01.728764",
          "exception": false,
          "start_time": "2021-06-09T17:08:01.626206",
          "status": "completed"
        },
        "tags": [],
        "id": "23NTZCEY3mYf"
      },
      "outputs": [],
      "source": [
        "categorical_train=[j for j in train if train[j].dtype == 'object']\n",
        "categorical_new_data =[k for k in new_data if new_data[k].dtype == 'object']"
      ],
      "id": "23NTZCEY3mYf"
    },
    {
      "cell_type": "code",
      "execution_count": 122,
      "metadata": {
        "execution": {
          "iopub.execute_input": "2021-06-09T17:08:01.919193Z",
          "iopub.status.busy": "2021-06-09T17:08:01.918160Z",
          "iopub.status.idle": "2021-06-09T17:08:01.932044Z",
          "shell.execute_reply": "2021-06-09T17:08:01.932627Z",
          "shell.execute_reply.started": "2021-06-09T16:33:53.820697Z"
        },
        "papermill": {
          "duration": 0.111813,
          "end_time": "2021-06-09T17:08:01.932810",
          "exception": false,
          "start_time": "2021-06-09T17:08:01.820997",
          "status": "completed"
        },
        "tags": [],
        "colab": {
          "base_uri": "https://localhost:8080/"
        },
        "id": "MQHBXmQA3mYg",
        "outputId": "1dce4d2c-5da4-4d77-89c7-4bcaa89f2c0d"
      },
      "outputs": [
        {
          "output_type": "stream",
          "name": "stdout",
          "text": [
            "Item_Identifier ['FDA15' 'DRC01' 'FDN15' ... 'NCF55' 'NCW30' 'NCW05']\n",
            "Item_Fat_Content ['Low Fat' 'Regular' 'low fat' 'LF' 'reg']\n",
            "Item_Type ['Dairy' 'Soft Drinks' 'Meat' 'Fruits and Vegetables' 'Household'\n",
            " 'Baking Goods' 'Snack Foods' 'Frozen Foods' 'Breakfast'\n",
            " 'Health and Hygiene' 'Hard Drinks' 'Canned' 'Breads' 'Starchy Foods'\n",
            " 'Others' 'Seafood']\n",
            "Outlet_Identifier ['OUT049' 'OUT018' 'OUT010' 'OUT013' 'OUT027' 'OUT045' 'OUT017' 'OUT046'\n",
            " 'OUT035' 'OUT019']\n",
            "Outlet_Size ['Medium' nan 'High' 'Small']\n",
            "Outlet_Location_Type ['Tier 1' 'Tier 3' 'Tier 2']\n",
            "Outlet_Type ['Supermarket Type1' 'Supermarket Type2' 'Grocery Store'\n",
            " 'Supermarket Type3']\n"
          ]
        }
      ],
      "source": [
        "for i in categorical_train:\n",
        "    columns = train[i].unique()\n",
        "    print(i,columns)"
      ],
      "id": "MQHBXmQA3mYg"
    },
    {
      "cell_type": "code",
      "execution_count": 123,
      "metadata": {
        "execution": {
          "iopub.execute_input": "2021-06-09T17:08:02.124480Z",
          "iopub.status.busy": "2021-06-09T17:08:02.123838Z",
          "iopub.status.idle": "2021-06-09T17:08:02.134932Z",
          "shell.execute_reply": "2021-06-09T17:08:02.134383Z",
          "shell.execute_reply.started": "2021-06-09T16:34:37.530181Z"
        },
        "papermill": {
          "duration": 0.110168,
          "end_time": "2021-06-09T17:08:02.135085",
          "exception": false,
          "start_time": "2021-06-09T17:08:02.024917",
          "status": "completed"
        },
        "scrolled": true,
        "tags": [],
        "colab": {
          "base_uri": "https://localhost:8080/"
        },
        "id": "0e_zInKP3mYh",
        "outputId": "46675385-d7aa-47b7-d5ff-55c4818fde54"
      },
      "outputs": [
        {
          "output_type": "stream",
          "name": "stdout",
          "text": [
            "Outlet_Type ['FDW58' 'FDW14' 'NCN55' ... 'NCI29' 'FDP28' 'FDF04']\n",
            "Outlet_Type ['Low Fat' 'reg' 'Regular' 'LF' 'low fat']\n",
            "Outlet_Type ['Snack Foods' 'Dairy' 'Others' 'Fruits and Vegetables' 'Baking Goods'\n",
            " 'Health and Hygiene' 'Breads' 'Hard Drinks' 'Seafood' 'Soft Drinks'\n",
            " 'Household' 'Frozen Foods' 'Meat' 'Canned' 'Starchy Foods' 'Breakfast']\n",
            "Outlet_Type ['OUT049' 'OUT017' 'OUT010' 'OUT027' 'OUT046' 'OUT018' 'OUT045' 'OUT019'\n",
            " 'OUT013' 'OUT035']\n",
            "Outlet_Type ['Medium' nan 'Small' 'High']\n",
            "Outlet_Type ['Tier 1' 'Tier 2' 'Tier 3']\n",
            "Outlet_Type ['Supermarket Type1' 'Grocery Store' 'Supermarket Type3'\n",
            " 'Supermarket Type2']\n"
          ]
        }
      ],
      "source": [
        "for col in categorical_new_data:\n",
        "    columns2 = new_data[col].unique()\n",
        "    print(i,columns2)"
      ],
      "id": "0e_zInKP3mYh"
    },
    {
      "cell_type": "code",
      "execution_count": 124,
      "metadata": {
        "execution": {
          "iopub.execute_input": "2021-06-09T17:08:02.329531Z",
          "iopub.status.busy": "2021-06-09T17:08:02.328519Z",
          "iopub.status.idle": "2021-06-09T17:08:02.330999Z",
          "shell.execute_reply": "2021-06-09T17:08:02.331494Z",
          "shell.execute_reply.started": "2021-06-09T16:34:49.539369Z"
        },
        "papermill": {
          "duration": 0.10199,
          "end_time": "2021-06-09T17:08:02.331692",
          "exception": false,
          "start_time": "2021-06-09T17:08:02.229702",
          "status": "completed"
        },
        "tags": [],
        "id": "1ub6gI9o3mYi"
      },
      "outputs": [],
      "source": [
        "train.insert(loc=9,column='current_year',value=2021)\n",
        "new_data.insert(loc=8,column='current_year',value=2021)"
      ],
      "id": "1ub6gI9o3mYi"
    },
    {
      "cell_type": "code",
      "execution_count": 125,
      "metadata": {
        "execution": {
          "iopub.execute_input": "2021-06-09T17:08:02.522628Z",
          "iopub.status.busy": "2021-06-09T17:08:02.521630Z",
          "iopub.status.idle": "2021-06-09T17:08:02.544038Z",
          "shell.execute_reply": "2021-06-09T17:08:02.543276Z",
          "shell.execute_reply.started": "2021-06-09T16:35:00.549706Z"
        },
        "papermill": {
          "duration": 0.118548,
          "end_time": "2021-06-09T17:08:02.544196",
          "exception": false,
          "start_time": "2021-06-09T17:08:02.425648",
          "status": "completed"
        },
        "tags": [],
        "id": "q73Wj8-h3mYj"
      },
      "outputs": [],
      "source": [
        "train['Outlet_age']=train['current_year']- train['Outlet_Establishment_Year']\n",
        "new_data['Outlet_age']=new_data['current_year']- new_data['Outlet_Establishment_Year']"
      ],
      "id": "q73Wj8-h3mYj"
    },
    {
      "cell_type": "code",
      "execution_count": 126,
      "metadata": {
        "execution": {
          "iopub.execute_input": "2021-06-09T17:08:02.736939Z",
          "iopub.status.busy": "2021-06-09T17:08:02.736265Z",
          "iopub.status.idle": "2021-06-09T17:08:02.743280Z",
          "shell.execute_reply": "2021-06-09T17:08:02.742769Z",
          "shell.execute_reply.started": "2021-06-09T16:35:09.299981Z"
        },
        "papermill": {
          "duration": 0.106175,
          "end_time": "2021-06-09T17:08:02.743424",
          "exception": false,
          "start_time": "2021-06-09T17:08:02.637249",
          "status": "completed"
        },
        "tags": [],
        "id": "v41v1OUT3mYj"
      },
      "outputs": [],
      "source": [
        "train=train.drop(['current_year','Outlet_Establishment_Year'],axis=1)\n",
        "new_data=new_data.drop(['current_year','Outlet_Establishment_Year'],axis=1)\n",
        "\n",
        "#here, i remove establishment year because i create new columns and get total age of outlet"
      ],
      "id": "v41v1OUT3mYj"
    },
    {
      "cell_type": "code",
      "execution_count": 127,
      "metadata": {
        "colab": {
          "base_uri": "https://localhost:8080/",
          "height": 356
        },
        "id": "JYLLhP6N3mYk",
        "outputId": "06d8705e-7244-40b6-bec7-26076ab2480b"
      },
      "outputs": [
        {
          "output_type": "execute_result",
          "data": {
            "text/html": [
              "\n",
              "  <div id=\"df-383b9af4-ade1-424e-ae87-9ff3794cf17b\">\n",
              "    <div class=\"colab-df-container\">\n",
              "      <div>\n",
              "<style scoped>\n",
              "    .dataframe tbody tr th:only-of-type {\n",
              "        vertical-align: middle;\n",
              "    }\n",
              "\n",
              "    .dataframe tbody tr th {\n",
              "        vertical-align: top;\n",
              "    }\n",
              "\n",
              "    .dataframe thead th {\n",
              "        text-align: right;\n",
              "    }\n",
              "</style>\n",
              "<table border=\"1\" class=\"dataframe\">\n",
              "  <thead>\n",
              "    <tr style=\"text-align: right;\">\n",
              "      <th></th>\n",
              "      <th>Item_Identifier</th>\n",
              "      <th>Item_Weight</th>\n",
              "      <th>Item_Fat_Content</th>\n",
              "      <th>Item_Visibility</th>\n",
              "      <th>Item_Type</th>\n",
              "      <th>Item_MRP</th>\n",
              "      <th>Outlet_Identifier</th>\n",
              "      <th>Outlet_Size</th>\n",
              "      <th>Outlet_Location_Type</th>\n",
              "      <th>Outlet_Type</th>\n",
              "      <th>Item_Outlet_Sales</th>\n",
              "      <th>Outlet_age</th>\n",
              "    </tr>\n",
              "  </thead>\n",
              "  <tbody>\n",
              "    <tr>\n",
              "      <th>0</th>\n",
              "      <td>FDA15</td>\n",
              "      <td>9.30</td>\n",
              "      <td>Low Fat</td>\n",
              "      <td>0.016047</td>\n",
              "      <td>Dairy</td>\n",
              "      <td>249.8092</td>\n",
              "      <td>OUT049</td>\n",
              "      <td>Medium</td>\n",
              "      <td>Tier 1</td>\n",
              "      <td>Supermarket Type1</td>\n",
              "      <td>3735.1380</td>\n",
              "      <td>22</td>\n",
              "    </tr>\n",
              "    <tr>\n",
              "      <th>1</th>\n",
              "      <td>DRC01</td>\n",
              "      <td>5.92</td>\n",
              "      <td>Regular</td>\n",
              "      <td>0.019278</td>\n",
              "      <td>Soft Drinks</td>\n",
              "      <td>48.2692</td>\n",
              "      <td>OUT018</td>\n",
              "      <td>Medium</td>\n",
              "      <td>Tier 3</td>\n",
              "      <td>Supermarket Type2</td>\n",
              "      <td>443.4228</td>\n",
              "      <td>12</td>\n",
              "    </tr>\n",
              "    <tr>\n",
              "      <th>2</th>\n",
              "      <td>FDN15</td>\n",
              "      <td>17.50</td>\n",
              "      <td>Low Fat</td>\n",
              "      <td>0.016760</td>\n",
              "      <td>Meat</td>\n",
              "      <td>141.6180</td>\n",
              "      <td>OUT049</td>\n",
              "      <td>Medium</td>\n",
              "      <td>Tier 1</td>\n",
              "      <td>Supermarket Type1</td>\n",
              "      <td>2097.2700</td>\n",
              "      <td>22</td>\n",
              "    </tr>\n",
              "    <tr>\n",
              "      <th>3</th>\n",
              "      <td>FDX07</td>\n",
              "      <td>19.20</td>\n",
              "      <td>Regular</td>\n",
              "      <td>0.000000</td>\n",
              "      <td>Fruits and Vegetables</td>\n",
              "      <td>182.0950</td>\n",
              "      <td>OUT010</td>\n",
              "      <td>NaN</td>\n",
              "      <td>Tier 3</td>\n",
              "      <td>Grocery Store</td>\n",
              "      <td>732.3800</td>\n",
              "      <td>23</td>\n",
              "    </tr>\n",
              "    <tr>\n",
              "      <th>4</th>\n",
              "      <td>NCD19</td>\n",
              "      <td>8.93</td>\n",
              "      <td>Low Fat</td>\n",
              "      <td>0.000000</td>\n",
              "      <td>Household</td>\n",
              "      <td>53.8614</td>\n",
              "      <td>OUT013</td>\n",
              "      <td>High</td>\n",
              "      <td>Tier 3</td>\n",
              "      <td>Supermarket Type1</td>\n",
              "      <td>994.7052</td>\n",
              "      <td>34</td>\n",
              "    </tr>\n",
              "  </tbody>\n",
              "</table>\n",
              "</div>\n",
              "      <button class=\"colab-df-convert\" onclick=\"convertToInteractive('df-383b9af4-ade1-424e-ae87-9ff3794cf17b')\"\n",
              "              title=\"Convert this dataframe to an interactive table.\"\n",
              "              style=\"display:none;\">\n",
              "        \n",
              "  <svg xmlns=\"http://www.w3.org/2000/svg\" height=\"24px\"viewBox=\"0 0 24 24\"\n",
              "       width=\"24px\">\n",
              "    <path d=\"M0 0h24v24H0V0z\" fill=\"none\"/>\n",
              "    <path d=\"M18.56 5.44l.94 2.06.94-2.06 2.06-.94-2.06-.94-.94-2.06-.94 2.06-2.06.94zm-11 1L8.5 8.5l.94-2.06 2.06-.94-2.06-.94L8.5 2.5l-.94 2.06-2.06.94zm10 10l.94 2.06.94-2.06 2.06-.94-2.06-.94-.94-2.06-.94 2.06-2.06.94z\"/><path d=\"M17.41 7.96l-1.37-1.37c-.4-.4-.92-.59-1.43-.59-.52 0-1.04.2-1.43.59L10.3 9.45l-7.72 7.72c-.78.78-.78 2.05 0 2.83L4 21.41c.39.39.9.59 1.41.59.51 0 1.02-.2 1.41-.59l7.78-7.78 2.81-2.81c.8-.78.8-2.07 0-2.86zM5.41 20L4 18.59l7.72-7.72 1.47 1.35L5.41 20z\"/>\n",
              "  </svg>\n",
              "      </button>\n",
              "      \n",
              "  <style>\n",
              "    .colab-df-container {\n",
              "      display:flex;\n",
              "      flex-wrap:wrap;\n",
              "      gap: 12px;\n",
              "    }\n",
              "\n",
              "    .colab-df-convert {\n",
              "      background-color: #E8F0FE;\n",
              "      border: none;\n",
              "      border-radius: 50%;\n",
              "      cursor: pointer;\n",
              "      display: none;\n",
              "      fill: #1967D2;\n",
              "      height: 32px;\n",
              "      padding: 0 0 0 0;\n",
              "      width: 32px;\n",
              "    }\n",
              "\n",
              "    .colab-df-convert:hover {\n",
              "      background-color: #E2EBFA;\n",
              "      box-shadow: 0px 1px 2px rgba(60, 64, 67, 0.3), 0px 1px 3px 1px rgba(60, 64, 67, 0.15);\n",
              "      fill: #174EA6;\n",
              "    }\n",
              "\n",
              "    [theme=dark] .colab-df-convert {\n",
              "      background-color: #3B4455;\n",
              "      fill: #D2E3FC;\n",
              "    }\n",
              "\n",
              "    [theme=dark] .colab-df-convert:hover {\n",
              "      background-color: #434B5C;\n",
              "      box-shadow: 0px 1px 3px 1px rgba(0, 0, 0, 0.15);\n",
              "      filter: drop-shadow(0px 1px 2px rgba(0, 0, 0, 0.3));\n",
              "      fill: #FFFFFF;\n",
              "    }\n",
              "  </style>\n",
              "\n",
              "      <script>\n",
              "        const buttonEl =\n",
              "          document.querySelector('#df-383b9af4-ade1-424e-ae87-9ff3794cf17b button.colab-df-convert');\n",
              "        buttonEl.style.display =\n",
              "          google.colab.kernel.accessAllowed ? 'block' : 'none';\n",
              "\n",
              "        async function convertToInteractive(key) {\n",
              "          const element = document.querySelector('#df-383b9af4-ade1-424e-ae87-9ff3794cf17b');\n",
              "          const dataTable =\n",
              "            await google.colab.kernel.invokeFunction('convertToInteractive',\n",
              "                                                     [key], {});\n",
              "          if (!dataTable) return;\n",
              "\n",
              "          const docLinkHtml = 'Like what you see? Visit the ' +\n",
              "            '<a target=\"_blank\" href=https://colab.research.google.com/notebooks/data_table.ipynb>data table notebook</a>'\n",
              "            + ' to learn more about interactive tables.';\n",
              "          element.innerHTML = '';\n",
              "          dataTable['output_type'] = 'display_data';\n",
              "          await google.colab.output.renderOutput(dataTable, element);\n",
              "          const docLink = document.createElement('div');\n",
              "          docLink.innerHTML = docLinkHtml;\n",
              "          element.appendChild(docLink);\n",
              "        }\n",
              "      </script>\n",
              "    </div>\n",
              "  </div>\n",
              "  "
            ],
            "text/plain": [
              "  Item_Identifier  Item_Weight  ... Item_Outlet_Sales  Outlet_age\n",
              "0           FDA15         9.30  ...         3735.1380          22\n",
              "1           DRC01         5.92  ...          443.4228          12\n",
              "2           FDN15        17.50  ...         2097.2700          22\n",
              "3           FDX07        19.20  ...          732.3800          23\n",
              "4           NCD19         8.93  ...          994.7052          34\n",
              "\n",
              "[5 rows x 12 columns]"
            ]
          },
          "metadata": {},
          "execution_count": 127
        }
      ],
      "source": [
        "train.head()"
      ],
      "id": "JYLLhP6N3mYk"
    },
    {
      "cell_type": "markdown",
      "metadata": {
        "papermill": {
          "duration": 0.102062,
          "end_time": "2021-06-09T17:08:02.938447",
          "exception": false,
          "start_time": "2021-06-09T17:08:02.836385",
          "status": "completed"
        },
        "tags": [],
        "id": "RaIJlYZZ3mYl"
      },
      "source": [
        "Missing Values"
      ],
      "id": "RaIJlYZZ3mYl"
    },
    {
      "cell_type": "code",
      "execution_count": 128,
      "metadata": {
        "execution": {
          "iopub.execute_input": "2021-06-09T17:08:03.155461Z",
          "iopub.status.busy": "2021-06-09T17:08:03.149409Z",
          "iopub.status.idle": "2021-06-09T17:08:03.161223Z",
          "shell.execute_reply": "2021-06-09T17:08:03.161775Z",
          "shell.execute_reply.started": "2021-06-09T16:35:40.016156Z"
        },
        "papermill": {
          "duration": 0.115752,
          "end_time": "2021-06-09T17:08:03.161954",
          "exception": false,
          "start_time": "2021-06-09T17:08:03.046202",
          "status": "completed"
        },
        "tags": [],
        "colab": {
          "base_uri": "https://localhost:8080/"
        },
        "id": "JOn8YlAk3mYl",
        "outputId": "0ee76eec-fbe4-47c6-b5d6-9331f01d691b"
      },
      "outputs": [
        {
          "output_type": "stream",
          "name": "stdout",
          "text": [
            "Item_Identifier            0\n",
            "Item_Weight             1463\n",
            "Item_Fat_Content           0\n",
            "Item_Visibility            0\n",
            "Item_Type                  0\n",
            "Item_MRP                   0\n",
            "Outlet_Identifier          0\n",
            "Outlet_Size             2410\n",
            "Outlet_Location_Type       0\n",
            "Outlet_Type                0\n",
            "Item_Outlet_Sales          0\n",
            "Outlet_age                 0\n",
            "dtype: int64\n",
            "-------------------------------------\n",
            "Item_Identifier            0\n",
            "Item_Weight              976\n",
            "Item_Fat_Content           0\n",
            "Item_Visibility            0\n",
            "Item_Type                  0\n",
            "Item_MRP                   0\n",
            "Outlet_Identifier          0\n",
            "Outlet_Size             1606\n",
            "Outlet_Location_Type       0\n",
            "Outlet_Type                0\n",
            "Outlet_age                 0\n",
            "dtype: int64\n"
          ]
        }
      ],
      "source": [
        "print(train.isnull().sum())\n",
        "print('-------------------------------------')\n",
        "print(new_data.isnull().sum())"
      ],
      "id": "JOn8YlAk3mYl"
    },
    {
      "cell_type": "code",
      "execution_count": 129,
      "metadata": {
        "execution": {
          "iopub.execute_input": "2021-06-09T17:08:03.352793Z",
          "iopub.status.busy": "2021-06-09T17:08:03.352077Z",
          "iopub.status.idle": "2021-06-09T17:08:03.362876Z",
          "shell.execute_reply": "2021-06-09T17:08:03.363455Z",
          "shell.execute_reply.started": "2021-06-09T16:35:56.314283Z"
        },
        "papermill": {
          "duration": 0.108437,
          "end_time": "2021-06-09T17:08:03.363672",
          "exception": false,
          "start_time": "2021-06-09T17:08:03.255235",
          "status": "completed"
        },
        "tags": [],
        "id": "L-tnZru_3mYm"
      },
      "outputs": [],
      "source": [
        "## replacing the duplicate values in 'Item_Weight'\n",
        "train['Item_Fat_Content']=train['Item_Fat_Content'].replace(['low fat','LF','reg'],['Low Fat','Low Fat','Regular'],inplace = False)\n",
        "new_data['Item_Fat_Content']=new_data['Item_Fat_Content'].replace(['low fat','LF','reg'],['Low Fat','Low Fat','Regular'],inplace = False) "
      ],
      "id": "L-tnZru_3mYm"
    },
    {
      "cell_type": "code",
      "execution_count": 130,
      "metadata": {
        "execution": {
          "iopub.execute_input": "2021-06-09T17:08:03.572382Z",
          "iopub.status.busy": "2021-06-09T17:08:03.571221Z",
          "iopub.status.idle": "2021-06-09T17:08:03.575707Z",
          "shell.execute_reply": "2021-06-09T17:08:03.576249Z",
          "shell.execute_reply.started": "2021-06-09T16:36:02.756659Z"
        },
        "papermill": {
          "duration": 0.118235,
          "end_time": "2021-06-09T17:08:03.576433",
          "exception": false,
          "start_time": "2021-06-09T17:08:03.458198",
          "status": "completed"
        },
        "tags": [],
        "colab": {
          "base_uri": "https://localhost:8080/",
          "height": 356
        },
        "id": "kqVZA9Fa3mYn",
        "outputId": "0cb636c3-9270-40a6-d629-2134aa4c4779"
      },
      "outputs": [
        {
          "output_type": "execute_result",
          "data": {
            "text/html": [
              "\n",
              "  <div id=\"df-b93a2e51-2884-43f4-8997-aacad3ca6af7\">\n",
              "    <div class=\"colab-df-container\">\n",
              "      <div>\n",
              "<style scoped>\n",
              "    .dataframe tbody tr th:only-of-type {\n",
              "        vertical-align: middle;\n",
              "    }\n",
              "\n",
              "    .dataframe tbody tr th {\n",
              "        vertical-align: top;\n",
              "    }\n",
              "\n",
              "    .dataframe thead th {\n",
              "        text-align: right;\n",
              "    }\n",
              "</style>\n",
              "<table border=\"1\" class=\"dataframe\">\n",
              "  <thead>\n",
              "    <tr style=\"text-align: right;\">\n",
              "      <th></th>\n",
              "      <th>Item_Identifier</th>\n",
              "      <th>Item_Weight</th>\n",
              "      <th>Item_Fat_Content</th>\n",
              "      <th>Item_Visibility</th>\n",
              "      <th>Item_Type</th>\n",
              "      <th>Item_MRP</th>\n",
              "      <th>Outlet_Identifier</th>\n",
              "      <th>Outlet_Size</th>\n",
              "      <th>Outlet_Location_Type</th>\n",
              "      <th>Outlet_Type</th>\n",
              "      <th>Item_Outlet_Sales</th>\n",
              "      <th>Outlet_age</th>\n",
              "    </tr>\n",
              "  </thead>\n",
              "  <tbody>\n",
              "    <tr>\n",
              "      <th>0</th>\n",
              "      <td>FDA15</td>\n",
              "      <td>9.30</td>\n",
              "      <td>Low Fat</td>\n",
              "      <td>0.016047</td>\n",
              "      <td>Dairy</td>\n",
              "      <td>249.8092</td>\n",
              "      <td>OUT049</td>\n",
              "      <td>Medium</td>\n",
              "      <td>Tier 1</td>\n",
              "      <td>Supermarket Type1</td>\n",
              "      <td>3735.1380</td>\n",
              "      <td>22</td>\n",
              "    </tr>\n",
              "    <tr>\n",
              "      <th>1</th>\n",
              "      <td>DRC01</td>\n",
              "      <td>5.92</td>\n",
              "      <td>Regular</td>\n",
              "      <td>0.019278</td>\n",
              "      <td>Soft Drinks</td>\n",
              "      <td>48.2692</td>\n",
              "      <td>OUT018</td>\n",
              "      <td>Medium</td>\n",
              "      <td>Tier 3</td>\n",
              "      <td>Supermarket Type2</td>\n",
              "      <td>443.4228</td>\n",
              "      <td>12</td>\n",
              "    </tr>\n",
              "    <tr>\n",
              "      <th>2</th>\n",
              "      <td>FDN15</td>\n",
              "      <td>17.50</td>\n",
              "      <td>Low Fat</td>\n",
              "      <td>0.016760</td>\n",
              "      <td>Meat</td>\n",
              "      <td>141.6180</td>\n",
              "      <td>OUT049</td>\n",
              "      <td>Medium</td>\n",
              "      <td>Tier 1</td>\n",
              "      <td>Supermarket Type1</td>\n",
              "      <td>2097.2700</td>\n",
              "      <td>22</td>\n",
              "    </tr>\n",
              "    <tr>\n",
              "      <th>3</th>\n",
              "      <td>FDX07</td>\n",
              "      <td>19.20</td>\n",
              "      <td>Regular</td>\n",
              "      <td>0.000000</td>\n",
              "      <td>Fruits and Vegetables</td>\n",
              "      <td>182.0950</td>\n",
              "      <td>OUT010</td>\n",
              "      <td>NaN</td>\n",
              "      <td>Tier 3</td>\n",
              "      <td>Grocery Store</td>\n",
              "      <td>732.3800</td>\n",
              "      <td>23</td>\n",
              "    </tr>\n",
              "    <tr>\n",
              "      <th>4</th>\n",
              "      <td>NCD19</td>\n",
              "      <td>8.93</td>\n",
              "      <td>Low Fat</td>\n",
              "      <td>0.000000</td>\n",
              "      <td>Household</td>\n",
              "      <td>53.8614</td>\n",
              "      <td>OUT013</td>\n",
              "      <td>High</td>\n",
              "      <td>Tier 3</td>\n",
              "      <td>Supermarket Type1</td>\n",
              "      <td>994.7052</td>\n",
              "      <td>34</td>\n",
              "    </tr>\n",
              "  </tbody>\n",
              "</table>\n",
              "</div>\n",
              "      <button class=\"colab-df-convert\" onclick=\"convertToInteractive('df-b93a2e51-2884-43f4-8997-aacad3ca6af7')\"\n",
              "              title=\"Convert this dataframe to an interactive table.\"\n",
              "              style=\"display:none;\">\n",
              "        \n",
              "  <svg xmlns=\"http://www.w3.org/2000/svg\" height=\"24px\"viewBox=\"0 0 24 24\"\n",
              "       width=\"24px\">\n",
              "    <path d=\"M0 0h24v24H0V0z\" fill=\"none\"/>\n",
              "    <path d=\"M18.56 5.44l.94 2.06.94-2.06 2.06-.94-2.06-.94-.94-2.06-.94 2.06-2.06.94zm-11 1L8.5 8.5l.94-2.06 2.06-.94-2.06-.94L8.5 2.5l-.94 2.06-2.06.94zm10 10l.94 2.06.94-2.06 2.06-.94-2.06-.94-.94-2.06-.94 2.06-2.06.94z\"/><path d=\"M17.41 7.96l-1.37-1.37c-.4-.4-.92-.59-1.43-.59-.52 0-1.04.2-1.43.59L10.3 9.45l-7.72 7.72c-.78.78-.78 2.05 0 2.83L4 21.41c.39.39.9.59 1.41.59.51 0 1.02-.2 1.41-.59l7.78-7.78 2.81-2.81c.8-.78.8-2.07 0-2.86zM5.41 20L4 18.59l7.72-7.72 1.47 1.35L5.41 20z\"/>\n",
              "  </svg>\n",
              "      </button>\n",
              "      \n",
              "  <style>\n",
              "    .colab-df-container {\n",
              "      display:flex;\n",
              "      flex-wrap:wrap;\n",
              "      gap: 12px;\n",
              "    }\n",
              "\n",
              "    .colab-df-convert {\n",
              "      background-color: #E8F0FE;\n",
              "      border: none;\n",
              "      border-radius: 50%;\n",
              "      cursor: pointer;\n",
              "      display: none;\n",
              "      fill: #1967D2;\n",
              "      height: 32px;\n",
              "      padding: 0 0 0 0;\n",
              "      width: 32px;\n",
              "    }\n",
              "\n",
              "    .colab-df-convert:hover {\n",
              "      background-color: #E2EBFA;\n",
              "      box-shadow: 0px 1px 2px rgba(60, 64, 67, 0.3), 0px 1px 3px 1px rgba(60, 64, 67, 0.15);\n",
              "      fill: #174EA6;\n",
              "    }\n",
              "\n",
              "    [theme=dark] .colab-df-convert {\n",
              "      background-color: #3B4455;\n",
              "      fill: #D2E3FC;\n",
              "    }\n",
              "\n",
              "    [theme=dark] .colab-df-convert:hover {\n",
              "      background-color: #434B5C;\n",
              "      box-shadow: 0px 1px 3px 1px rgba(0, 0, 0, 0.15);\n",
              "      filter: drop-shadow(0px 1px 2px rgba(0, 0, 0, 0.3));\n",
              "      fill: #FFFFFF;\n",
              "    }\n",
              "  </style>\n",
              "\n",
              "      <script>\n",
              "        const buttonEl =\n",
              "          document.querySelector('#df-b93a2e51-2884-43f4-8997-aacad3ca6af7 button.colab-df-convert');\n",
              "        buttonEl.style.display =\n",
              "          google.colab.kernel.accessAllowed ? 'block' : 'none';\n",
              "\n",
              "        async function convertToInteractive(key) {\n",
              "          const element = document.querySelector('#df-b93a2e51-2884-43f4-8997-aacad3ca6af7');\n",
              "          const dataTable =\n",
              "            await google.colab.kernel.invokeFunction('convertToInteractive',\n",
              "                                                     [key], {});\n",
              "          if (!dataTable) return;\n",
              "\n",
              "          const docLinkHtml = 'Like what you see? Visit the ' +\n",
              "            '<a target=\"_blank\" href=https://colab.research.google.com/notebooks/data_table.ipynb>data table notebook</a>'\n",
              "            + ' to learn more about interactive tables.';\n",
              "          element.innerHTML = '';\n",
              "          dataTable['output_type'] = 'display_data';\n",
              "          await google.colab.output.renderOutput(dataTable, element);\n",
              "          const docLink = document.createElement('div');\n",
              "          docLink.innerHTML = docLinkHtml;\n",
              "          element.appendChild(docLink);\n",
              "        }\n",
              "      </script>\n",
              "    </div>\n",
              "  </div>\n",
              "  "
            ],
            "text/plain": [
              "  Item_Identifier  Item_Weight  ... Item_Outlet_Sales  Outlet_age\n",
              "0           FDA15         9.30  ...         3735.1380          22\n",
              "1           DRC01         5.92  ...          443.4228          12\n",
              "2           FDN15        17.50  ...         2097.2700          22\n",
              "3           FDX07        19.20  ...          732.3800          23\n",
              "4           NCD19         8.93  ...          994.7052          34\n",
              "\n",
              "[5 rows x 12 columns]"
            ]
          },
          "metadata": {},
          "execution_count": 130
        }
      ],
      "source": [
        "train.head()"
      ],
      "id": "kqVZA9Fa3mYn"
    },
    {
      "cell_type": "code",
      "execution_count": 131,
      "metadata": {
        "execution": {
          "iopub.execute_input": "2021-06-09T17:08:03.777396Z",
          "iopub.status.busy": "2021-06-09T17:08:03.776434Z",
          "iopub.status.idle": "2021-06-09T17:08:04.116039Z",
          "shell.execute_reply": "2021-06-09T17:08:04.115407Z",
          "shell.execute_reply.started": "2021-06-09T16:36:15.434162Z"
        },
        "papermill": {
          "duration": 0.437042,
          "end_time": "2021-06-09T17:08:04.116190",
          "exception": false,
          "start_time": "2021-06-09T17:08:03.679148",
          "status": "completed"
        },
        "tags": [],
        "colab": {
          "base_uri": "https://localhost:8080/",
          "height": 380
        },
        "id": "r-x1_1KZ3mYo",
        "outputId": "748723fc-2f73-41d1-c857-163f615c84f1"
      },
      "outputs": [
        {
          "output_type": "execute_result",
          "data": {
            "text/plain": [
              "<matplotlib.axes._subplots.AxesSubplot at 0x7fb86fdd59d0>"
            ]
          },
          "metadata": {},
          "execution_count": 131
        },
        {
          "output_type": "display_data",
          "data": {
            "image/png": "[encoded data removed]",
            "text/plain": [
              "<Figure size 432x288 with 1 Axes>"
            ]
          },
          "metadata": {
            "needs_background": "light"
          }
        }
      ],
      "source": [
        "sns.heatmap(train.isnull(),yticklabels=False,cbar=False,cmap='viridis')"
      ],
      "id": "r-x1_1KZ3mYo"
    },
    {
      "cell_type": "markdown",
      "metadata": {
        "id": "3tEPdmNm3mYo"
      },
      "source": [
        "FROM heatment we can visulize that only two columns have null values and now we are going to handle that null values"
      ],
      "id": "3tEPdmNm3mYo"
    },
    {
      "cell_type": "code",
      "execution_count": 132,
      "metadata": {
        "execution": {
          "iopub.execute_input": "2021-06-09T17:08:04.316618Z",
          "iopub.status.busy": "2021-06-09T17:08:04.315852Z",
          "iopub.status.idle": "2021-06-09T17:08:04.535470Z",
          "shell.execute_reply": "2021-06-09T17:08:04.536042Z",
          "shell.execute_reply.started": "2021-06-09T16:36:29.784850Z"
        },
        "papermill": {
          "duration": 0.324736,
          "end_time": "2021-06-09T17:08:04.536224",
          "exception": false,
          "start_time": "2021-06-09T17:08:04.211488",
          "status": "completed"
        },
        "tags": [],
        "colab": {
          "base_uri": "https://localhost:8080/",
          "height": 380
        },
        "id": "_uz_wHQI3mYp",
        "outputId": "f15bffa4-6c39-40e7-f9f9-d63ca630dd43"
      },
      "outputs": [
        {
          "output_type": "execute_result",
          "data": {
            "text/plain": [
              "<matplotlib.axes._subplots.AxesSubplot at 0x7fb8701231d0>"
            ]
          },
          "metadata": {},
          "execution_count": 132
        },
        {
          "output_type": "display_data",
          "data": {
            "image/png": "[encoded data removed]",
            "text/plain": [
              "<Figure size 432x288 with 1 Axes>"
            ]
          },
          "metadata": {
            "needs_background": "light"
          }
        }
      ],
      "source": [
        "sns.heatmap(new_data.isnull(),yticklabels=False,cbar=False,cmap='viridis')"
      ],
      "id": "_uz_wHQI3mYp"
    },
    {
      "cell_type": "markdown",
      "metadata": {
        "papermill": {
          "duration": 0.095993,
          "end_time": "2021-06-09T17:08:04.932059",
          "exception": false,
          "start_time": "2021-06-09T17:08:04.836066",
          "status": "completed"
        },
        "tags": [],
        "id": "IMJ0Xov73mYp"
      },
      "source": [
        "## we have to check if the data is missing completely at random or not\n",
        " for data missing completely at random, there should be equal probability of missing values for every variable and  there should not be any relationship with other variables \n",
        "*  Here, we have 'Item_weight' and 'Outlet_type' which subjectively says that there might not be dependant on each other\n",
        "*  Although it needs domain expert knowledge to make a note why the data is missing , in this case I went with basic subjective knowledge saying that there is no relation\n",
        "* There any many imputation methods for no relation missing values such as mean , median, mode, random imputation , KNN etc..\n",
        "* I went with imputation methods using statistics since and it worked as good as KNN \n",
        "* Compared to KNN , statistical methods are preferably choosable since they do not require more computation and time"
      ],
      "id": "IMJ0Xov73mYp"
    },
    {
      "cell_type": "code",
      "execution_count": 133,
      "metadata": {
        "execution": {
          "iopub.execute_input": "2021-06-09T17:08:05.130001Z",
          "iopub.status.busy": "2021-06-09T17:08:05.129294Z",
          "iopub.status.idle": "2021-06-09T17:08:05.140815Z",
          "shell.execute_reply": "2021-06-09T17:08:05.140229Z",
          "shell.execute_reply.started": "2021-06-09T16:37:10.856774Z"
        },
        "papermill": {
          "duration": 0.111583,
          "end_time": "2021-06-09T17:08:05.140963",
          "exception": false,
          "start_time": "2021-06-09T17:08:05.029380",
          "status": "completed"
        },
        "tags": [],
        "colab": {
          "base_uri": "https://localhost:8080/"
        },
        "id": "-oBhtgMN3mYq",
        "outputId": "a383e73d-8c58-43b4-9749-ccd27e4ad895"
      },
      "outputs": [
        {
          "output_type": "stream",
          "name": "stdout",
          "text": [
            "Medium    2793\n",
            "Small     2388\n",
            "High       932\n",
            "Name: Outlet_Size, dtype: int64\n",
            "Medium    1862\n",
            "Small     1592\n",
            "High       621\n",
            "Name: Outlet_Size, dtype: int64\n"
          ]
        }
      ],
      "source": [
        "\n",
        "## imputing missing values for categorical variable 'Outlet_Size'\n",
        "\n",
        "print(train.Outlet_Size.value_counts())\n",
        "print(new_data.Outlet_Size.value_counts())"
      ],
      "id": "-oBhtgMN3mYq"
    },
    {
      "cell_type": "code",
      "execution_count": 134,
      "metadata": {
        "execution": {
          "iopub.execute_input": "2021-06-09T17:08:05.345290Z",
          "iopub.status.busy": "2021-06-09T17:08:05.344566Z",
          "iopub.status.idle": "2021-06-09T17:08:05.347352Z",
          "shell.execute_reply": "2021-06-09T17:08:05.347805Z",
          "shell.execute_reply.started": "2021-06-09T16:37:23.228707Z"
        },
        "papermill": {
          "duration": 0.110161,
          "end_time": "2021-06-09T17:08:05.347984",
          "exception": false,
          "start_time": "2021-06-09T17:08:05.237823",
          "status": "completed"
        },
        "tags": [],
        "id": "2iLtAMsx3mYr"
      },
      "outputs": [],
      "source": [
        "## imputing categorical variable with the most repeated\n",
        "\n",
        "mode=train['Outlet_Size'].mode().values[0]\n",
        "train['Outlet_Size']=train['Outlet_Size'].replace(np.nan,mode,inplace=False)\n",
        "mode1=new_data['Outlet_Size'].mode().values[0]\n",
        "new_data['Outlet_Size']=new_data['Outlet_Size'].replace(np.nan,mode,inplace=False)"
      ],
      "id": "2iLtAMsx3mYr"
    },
    {
      "cell_type": "code",
      "execution_count": 135,
      "metadata": {
        "execution": {
          "iopub.execute_input": "2021-06-09T17:08:05.543771Z",
          "iopub.status.busy": "2021-06-09T17:08:05.543059Z",
          "iopub.status.idle": "2021-06-09T17:08:05.867724Z",
          "shell.execute_reply": "2021-06-09T17:08:05.867162Z",
          "shell.execute_reply.started": "2021-06-09T16:37:30.912487Z"
        },
        "papermill": {
          "duration": 0.423235,
          "end_time": "2021-06-09T17:08:05.867876",
          "exception": false,
          "start_time": "2021-06-09T17:08:05.444641",
          "status": "completed"
        },
        "tags": [],
        "colab": {
          "base_uri": "https://localhost:8080/",
          "height": 367
        },
        "id": "vgLg3wXK3mYr",
        "outputId": "d1c24442-f4e8-46a8-851a-51ccb2948c1d"
      },
      "outputs": [
        {
          "output_type": "execute_result",
          "data": {
            "text/plain": [
              "<matplotlib.axes._subplots.AxesSubplot at 0x7fb86f571fd0>"
            ]
          },
          "metadata": {},
          "execution_count": 135
        },
        {
          "output_type": "display_data",
          "data": {
            "image/png": "[encoded data removed]",
            "text/plain": [
              "<Figure size 432x288 with 2 Axes>"
            ]
          },
          "metadata": {
            "needs_background": "light"
          }
        }
      ],
      "source": [
        "corr=train.iloc[:,1:].corr()\n",
        "top_features=corr.index\n",
        "sns.heatmap(train[top_features].corr(),annot=True)"
      ],
      "id": "vgLg3wXK3mYr"
    },
    {
      "cell_type": "code",
      "execution_count": 136,
      "metadata": {
        "execution": {
          "iopub.execute_input": "2021-06-09T17:08:06.069266Z",
          "iopub.status.busy": "2021-06-09T17:08:06.068402Z",
          "iopub.status.idle": "2021-06-09T17:08:06.071610Z",
          "shell.execute_reply": "2021-06-09T17:08:06.071013Z",
          "shell.execute_reply.started": "2021-06-09T16:37:45.672501Z"
        },
        "papermill": {
          "duration": 0.105392,
          "end_time": "2021-06-09T17:08:06.071773",
          "exception": false,
          "start_time": "2021-06-09T17:08:05.966381",
          "status": "completed"
        },
        "tags": [],
        "id": "TFIapk3-3mYs"
      },
      "outputs": [],
      "source": [
        "## checking the correlation after imputation of categorical variable to make sure it is not correlating with any other\n",
        "## Also we can clearly see that the only variable correlating high with sales is MRP ."
      ],
      "id": "TFIapk3-3mYs"
    },
    {
      "cell_type": "code",
      "execution_count": 137,
      "metadata": {
        "execution": {
          "iopub.execute_input": "2021-06-09T17:08:06.274739Z",
          "iopub.status.busy": "2021-06-09T17:08:06.274009Z",
          "iopub.status.idle": "2021-06-09T17:08:06.279189Z",
          "shell.execute_reply": "2021-06-09T17:08:06.280236Z",
          "shell.execute_reply.started": "2021-06-09T16:37:52.008149Z"
        },
        "papermill": {
          "duration": 0.10978,
          "end_time": "2021-06-09T17:08:06.280414",
          "exception": false,
          "start_time": "2021-06-09T17:08:06.170634",
          "status": "completed"
        },
        "tags": [],
        "colab": {
          "base_uri": "https://localhost:8080/"
        },
        "id": "vbiP31VX3mYs",
        "outputId": "e9893a1b-edd4-4503-be42-801e40d409c5"
      },
      "outputs": [
        {
          "output_type": "stream",
          "name": "stdout",
          "text": [
            "12.6\n",
            "12.5\n"
          ]
        }
      ],
      "source": [
        "median_train=train['Item_Weight'].median()\n",
        "print(median_train)\n",
        "median_new_data=new_data['Item_Weight'].median()\n",
        "print(median_new_data)"
      ],
      "id": "vbiP31VX3mYs"
    },
    {
      "cell_type": "code",
      "execution_count": 138,
      "metadata": {
        "execution": {
          "iopub.execute_input": "2021-06-09T17:08:06.485286Z",
          "iopub.status.busy": "2021-06-09T17:08:06.484557Z",
          "iopub.status.idle": "2021-06-09T17:08:06.488095Z",
          "shell.execute_reply": "2021-06-09T17:08:06.487512Z",
          "shell.execute_reply.started": "2021-06-09T16:37:57.488270Z"
        },
        "papermill": {
          "duration": 0.109167,
          "end_time": "2021-06-09T17:08:06.488235",
          "exception": false,
          "start_time": "2021-06-09T17:08:06.379068",
          "status": "completed"
        },
        "tags": [],
        "id": "uqkLp8mh3mYt"
      },
      "outputs": [],
      "source": [
        "def impute_nan(train,variable,median_train):\n",
        "    train[variable+\"_median\"]=train[variable].fillna(median_train)\n",
        "    train[variable+\"_random\"]=train[variable]\n",
        "    random_sample=train[variable].dropna().sample(train[variable].isnull().sum(),random_state=0)\n",
        "    random_sample.index=train[train[variable].isnull()].index\n",
        "    train.loc[train[variable].isnull(),variable+'_random']=random_sample"
      ],
      "id": "uqkLp8mh3mYt"
    },
    {
      "cell_type": "code",
      "execution_count": 139,
      "metadata": {
        "execution": {
          "iopub.execute_input": "2021-06-09T17:08:06.694195Z",
          "iopub.status.busy": "2021-06-09T17:08:06.693150Z",
          "iopub.status.idle": "2021-06-09T17:08:06.719196Z",
          "shell.execute_reply": "2021-06-09T17:08:06.719737Z",
          "shell.execute_reply.started": "2021-06-09T16:38:03.765595Z"
        },
        "papermill": {
          "duration": 0.131176,
          "end_time": "2021-06-09T17:08:06.719937",
          "exception": false,
          "start_time": "2021-06-09T17:08:06.588761",
          "status": "completed"
        },
        "tags": [],
        "colab": {
          "base_uri": "https://localhost:8080/",
          "height": 356
        },
        "id": "TxoSsv983mYt",
        "outputId": "68ad725a-466c-493d-d4b9-9b594e00e4ab"
      },
      "outputs": [
        {
          "output_type": "execute_result",
          "data": {
            "text/html": [
              "\n",
              "  <div id=\"df-2743d665-a047-46e1-bc1e-687a3ad2ea73\">\n",
              "    <div class=\"colab-df-container\">\n",
              "      <div>\n",
              "<style scoped>\n",
              "    .dataframe tbody tr th:only-of-type {\n",
              "        vertical-align: middle;\n",
              "    }\n",
              "\n",
              "    .dataframe tbody tr th {\n",
              "        vertical-align: top;\n",
              "    }\n",
              "\n",
              "    .dataframe thead th {\n",
              "        text-align: right;\n",
              "    }\n",
              "</style>\n",
              "<table border=\"1\" class=\"dataframe\">\n",
              "  <thead>\n",
              "    <tr style=\"text-align: right;\">\n",
              "      <th></th>\n",
              "      <th>Item_Identifier</th>\n",
              "      <th>Item_Weight</th>\n",
              "      <th>Item_Fat_Content</th>\n",
              "      <th>Item_Visibility</th>\n",
              "      <th>Item_Type</th>\n",
              "      <th>Item_MRP</th>\n",
              "      <th>Outlet_Identifier</th>\n",
              "      <th>Outlet_Size</th>\n",
              "      <th>Outlet_Location_Type</th>\n",
              "      <th>Outlet_Type</th>\n",
              "      <th>Item_Outlet_Sales</th>\n",
              "      <th>Outlet_age</th>\n",
              "      <th>Item_Weight_median</th>\n",
              "      <th>Item_Weight_random</th>\n",
              "    </tr>\n",
              "  </thead>\n",
              "  <tbody>\n",
              "    <tr>\n",
              "      <th>0</th>\n",
              "      <td>FDA15</td>\n",
              "      <td>9.30</td>\n",
              "      <td>Low Fat</td>\n",
              "      <td>0.016047</td>\n",
              "      <td>Dairy</td>\n",
              "      <td>249.8092</td>\n",
              "      <td>OUT049</td>\n",
              "      <td>Medium</td>\n",
              "      <td>Tier 1</td>\n",
              "      <td>Supermarket Type1</td>\n",
              "      <td>3735.1380</td>\n",
              "      <td>22</td>\n",
              "      <td>9.30</td>\n",
              "      <td>9.30</td>\n",
              "    </tr>\n",
              "    <tr>\n",
              "      <th>1</th>\n",
              "      <td>DRC01</td>\n",
              "      <td>5.92</td>\n",
              "      <td>Regular</td>\n",
              "      <td>0.019278</td>\n",
              "      <td>Soft Drinks</td>\n",
              "      <td>48.2692</td>\n",
              "      <td>OUT018</td>\n",
              "      <td>Medium</td>\n",
              "      <td>Tier 3</td>\n",
              "      <td>Supermarket Type2</td>\n",
              "      <td>443.4228</td>\n",
              "      <td>12</td>\n",
              "      <td>5.92</td>\n",
              "      <td>5.92</td>\n",
              "    </tr>\n",
              "    <tr>\n",
              "      <th>2</th>\n",
              "      <td>FDN15</td>\n",
              "      <td>17.50</td>\n",
              "      <td>Low Fat</td>\n",
              "      <td>0.016760</td>\n",
              "      <td>Meat</td>\n",
              "      <td>141.6180</td>\n",
              "      <td>OUT049</td>\n",
              "      <td>Medium</td>\n",
              "      <td>Tier 1</td>\n",
              "      <td>Supermarket Type1</td>\n",
              "      <td>2097.2700</td>\n",
              "      <td>22</td>\n",
              "      <td>17.50</td>\n",
              "      <td>17.50</td>\n",
              "    </tr>\n",
              "    <tr>\n",
              "      <th>3</th>\n",
              "      <td>FDX07</td>\n",
              "      <td>19.20</td>\n",
              "      <td>Regular</td>\n",
              "      <td>0.000000</td>\n",
              "      <td>Fruits and Vegetables</td>\n",
              "      <td>182.0950</td>\n",
              "      <td>OUT010</td>\n",
              "      <td>Medium</td>\n",
              "      <td>Tier 3</td>\n",
              "      <td>Grocery Store</td>\n",
              "      <td>732.3800</td>\n",
              "      <td>23</td>\n",
              "      <td>19.20</td>\n",
              "      <td>19.20</td>\n",
              "    </tr>\n",
              "    <tr>\n",
              "      <th>4</th>\n",
              "      <td>NCD19</td>\n",
              "      <td>8.93</td>\n",
              "      <td>Low Fat</td>\n",
              "      <td>0.000000</td>\n",
              "      <td>Household</td>\n",
              "      <td>53.8614</td>\n",
              "      <td>OUT013</td>\n",
              "      <td>High</td>\n",
              "      <td>Tier 3</td>\n",
              "      <td>Supermarket Type1</td>\n",
              "      <td>994.7052</td>\n",
              "      <td>34</td>\n",
              "      <td>8.93</td>\n",
              "      <td>8.93</td>\n",
              "    </tr>\n",
              "  </tbody>\n",
              "</table>\n",
              "</div>\n",
              "      <button class=\"colab-df-convert\" onclick=\"convertToInteractive('df-2743d665-a047-46e1-bc1e-687a3ad2ea73')\"\n",
              "              title=\"Convert this dataframe to an interactive table.\"\n",
              "              style=\"display:none;\">\n",
              "        \n",
              "  <svg xmlns=\"http://www.w3.org/2000/svg\" height=\"24px\"viewBox=\"0 0 24 24\"\n",
              "       width=\"24px\">\n",
              "    <path d=\"M0 0h24v24H0V0z\" fill=\"none\"/>\n",
              "    <path d=\"M18.56 5.44l.94 2.06.94-2.06 2.06-.94-2.06-.94-.94-2.06-.94 2.06-2.06.94zm-11 1L8.5 8.5l.94-2.06 2.06-.94-2.06-.94L8.5 2.5l-.94 2.06-2.06.94zm10 10l.94 2.06.94-2.06 2.06-.94-2.06-.94-.94-2.06-.94 2.06-2.06.94z\"/><path d=\"M17.41 7.96l-1.37-1.37c-.4-.4-.92-.59-1.43-.59-.52 0-1.04.2-1.43.59L10.3 9.45l-7.72 7.72c-.78.78-.78 2.05 0 2.83L4 21.41c.39.39.9.59 1.41.59.51 0 1.02-.2 1.41-.59l7.78-7.78 2.81-2.81c.8-.78.8-2.07 0-2.86zM5.41 20L4 18.59l7.72-7.72 1.47 1.35L5.41 20z\"/>\n",
              "  </svg>\n",
              "      </button>\n",
              "      \n",
              "  <style>\n",
              "    .colab-df-container {\n",
              "      display:flex;\n",
              "      flex-wrap:wrap;\n",
              "      gap: 12px;\n",
              "    }\n",
              "\n",
              "    .colab-df-convert {\n",
              "      background-color: #E8F0FE;\n",
              "      border: none;\n",
              "      border-radius: 50%;\n",
              "      cursor: pointer;\n",
              "      display: none;\n",
              "      fill: #1967D2;\n",
              "      height: 32px;\n",
              "      padding: 0 0 0 0;\n",
              "      width: 32px;\n",
              "    }\n",
              "\n",
              "    .colab-df-convert:hover {\n",
              "      background-color: #E2EBFA;\n",
              "      box-shadow: 0px 1px 2px rgba(60, 64, 67, 0.3), 0px 1px 3px 1px rgba(60, 64, 67, 0.15);\n",
              "      fill: #174EA6;\n",
              "    }\n",
              "\n",
              "    [theme=dark] .colab-df-convert {\n",
              "      background-color: #3B4455;\n",
              "      fill: #D2E3FC;\n",
              "    }\n",
              "\n",
              "    [theme=dark] .colab-df-convert:hover {\n",
              "      background-color: #434B5C;\n",
              "      box-shadow: 0px 1px 3px 1px rgba(0, 0, 0, 0.15);\n",
              "      filter: drop-shadow(0px 1px 2px rgba(0, 0, 0, 0.3));\n",
              "      fill: #FFFFFF;\n",
              "    }\n",
              "  </style>\n",
              "\n",
              "      <script>\n",
              "        const buttonEl =\n",
              "          document.querySelector('#df-2743d665-a047-46e1-bc1e-687a3ad2ea73 button.colab-df-convert');\n",
              "        buttonEl.style.display =\n",
              "          google.colab.kernel.accessAllowed ? 'block' : 'none';\n",
              "\n",
              "        async function convertToInteractive(key) {\n",
              "          const element = document.querySelector('#df-2743d665-a047-46e1-bc1e-687a3ad2ea73');\n",
              "          const dataTable =\n",
              "            await google.colab.kernel.invokeFunction('convertToInteractive',\n",
              "                                                     [key], {});\n",
              "          if (!dataTable) return;\n",
              "\n",
              "          const docLinkHtml = 'Like what you see? Visit the ' +\n",
              "            '<a target=\"_blank\" href=https://colab.research.google.com/notebooks/data_table.ipynb>data table notebook</a>'\n",
              "            + ' to learn more about interactive tables.';\n",
              "          element.innerHTML = '';\n",
              "          dataTable['output_type'] = 'display_data';\n",
              "          await google.colab.output.renderOutput(dataTable, element);\n",
              "          const docLink = document.createElement('div');\n",
              "          docLink.innerHTML = docLinkHtml;\n",
              "          element.appendChild(docLink);\n",
              "        }\n",
              "      </script>\n",
              "    </div>\n",
              "  </div>\n",
              "  "
            ],
            "text/plain": [
              "  Item_Identifier  Item_Weight  ... Item_Weight_median  Item_Weight_random\n",
              "0           FDA15         9.30  ...               9.30                9.30\n",
              "1           DRC01         5.92  ...               5.92                5.92\n",
              "2           FDN15        17.50  ...              17.50               17.50\n",
              "3           FDX07        19.20  ...              19.20               19.20\n",
              "4           NCD19         8.93  ...               8.93                8.93\n",
              "\n",
              "[5 rows x 14 columns]"
            ]
          },
          "metadata": {},
          "execution_count": 139
        }
      ],
      "source": [
        "impute_nan(train,'Item_Weight',median_train)\n",
        "train.head()"
      ],
      "id": "TxoSsv983mYt"
    },
    {
      "cell_type": "code",
      "execution_count": 140,
      "metadata": {
        "execution": {
          "iopub.execute_input": "2021-06-09T17:08:06.924704Z",
          "iopub.status.busy": "2021-06-09T17:08:06.924041Z",
          "iopub.status.idle": "2021-06-09T17:08:06.926909Z",
          "shell.execute_reply": "2021-06-09T17:08:06.926273Z",
          "shell.execute_reply.started": "2021-06-09T16:38:19.041138Z"
        },
        "papermill": {
          "duration": 0.105924,
          "end_time": "2021-06-09T17:08:06.927045",
          "exception": false,
          "start_time": "2021-06-09T17:08:06.821121",
          "status": "completed"
        },
        "tags": [],
        "id": "5p8rBNNx3mYu"
      },
      "outputs": [],
      "source": [
        "## imputed numerical variable with both median and random variable in  two different columns to compare"
      ],
      "id": "5p8rBNNx3mYu"
    },
    {
      "cell_type": "code",
      "execution_count": 141,
      "metadata": {
        "execution": {
          "iopub.execute_input": "2021-06-09T17:08:07.129134Z",
          "iopub.status.busy": "2021-06-09T17:08:07.128506Z",
          "iopub.status.idle": "2021-06-09T17:08:07.133763Z",
          "shell.execute_reply": "2021-06-09T17:08:07.134277Z",
          "shell.execute_reply.started": "2021-06-09T16:38:24.948132Z"
        },
        "papermill": {
          "duration": 0.108088,
          "end_time": "2021-06-09T17:08:07.134444",
          "exception": false,
          "start_time": "2021-06-09T17:08:07.026356",
          "status": "completed"
        },
        "tags": [],
        "id": "LnGBP3eo3mYu"
      },
      "outputs": [],
      "source": [
        "import matplotlib.pyplot as plt\n",
        "%matplotlib inline"
      ],
      "id": "LnGBP3eo3mYu"
    },
    {
      "cell_type": "code",
      "execution_count": 142,
      "metadata": {
        "execution": {
          "iopub.execute_input": "2021-06-09T17:08:07.334057Z",
          "iopub.status.busy": "2021-06-09T17:08:07.333419Z",
          "iopub.status.idle": "2021-06-09T17:08:07.920300Z",
          "shell.execute_reply": "2021-06-09T17:08:07.919698Z",
          "shell.execute_reply.started": "2021-06-09T16:38:31.169006Z"
        },
        "papermill": {
          "duration": 0.687686,
          "end_time": "2021-06-09T17:08:07.920454",
          "exception": false,
          "start_time": "2021-06-09T17:08:07.232768",
          "status": "completed"
        },
        "tags": [],
        "colab": {
          "base_uri": "https://localhost:8080/",
          "height": 283
        },
        "id": "qUZlgVI93mYv",
        "outputId": "509ea730-60db-4361-dd18-f53152cfa315"
      },
      "outputs": [
        {
          "output_type": "execute_result",
          "data": {
            "text/plain": [
              "<matplotlib.legend.Legend at 0x7fb86ff788d0>"
            ]
          },
          "metadata": {},
          "execution_count": 142
        },
        {
          "output_type": "display_data",
          "data": {
            "image/png": "[encoded data removed]",
            "text/plain": [
              "<Figure size 432x288 with 1 Axes>"
            ]
          },
          "metadata": {
            "needs_background": "light"
          }
        }
      ],
      "source": [
        "fig = plt.figure()\n",
        "ax = fig.add_subplot(111)\n",
        "train['Item_Weight'].plot(kind='kde', ax=ax)\n",
        "train.Item_Weight_median.plot(kind='kde', ax=ax, color='red')\n",
        "lines, labels = ax.get_legend_handles_labels()\n",
        "ax.legend(lines, labels, loc='best')"
      ],
      "id": "qUZlgVI93mYv"
    },
    {
      "cell_type": "code",
      "execution_count": 143,
      "metadata": {
        "execution": {
          "iopub.execute_input": "2021-06-09T17:08:08.126940Z",
          "iopub.status.busy": "2021-06-09T17:08:08.126209Z",
          "iopub.status.idle": "2021-06-09T17:08:08.129728Z",
          "shell.execute_reply": "2021-06-09T17:08:08.129191Z",
          "shell.execute_reply.started": "2021-06-09T16:38:44.541869Z"
        },
        "papermill": {
          "duration": 0.108528,
          "end_time": "2021-06-09T17:08:08.129883",
          "exception": false,
          "start_time": "2021-06-09T17:08:08.021355",
          "status": "completed"
        },
        "tags": [],
        "id": "k24LHSbR3mYv"
      },
      "outputs": [],
      "source": [
        "## we can observe that there is a deviation in the distribution which leads to outilers"
      ],
      "id": "k24LHSbR3mYv"
    },
    {
      "cell_type": "code",
      "execution_count": 144,
      "metadata": {
        "execution": {
          "iopub.execute_input": "2021-06-09T17:08:08.367843Z",
          "iopub.status.busy": "2021-06-09T17:08:08.367117Z",
          "iopub.status.idle": "2021-06-09T17:08:08.893934Z",
          "shell.execute_reply": "2021-06-09T17:08:08.893375Z",
          "shell.execute_reply.started": "2021-06-09T16:38:51.189849Z"
        },
        "papermill": {
          "duration": 0.663371,
          "end_time": "2021-06-09T17:08:08.894074",
          "exception": false,
          "start_time": "2021-06-09T17:08:08.230703",
          "status": "completed"
        },
        "tags": [],
        "colab": {
          "base_uri": "https://localhost:8080/",
          "height": 283
        },
        "id": "FClXdl683mYw",
        "outputId": "ee1ac06f-4de1-48b4-fd9a-d42ed0875b50"
      },
      "outputs": [
        {
          "output_type": "execute_result",
          "data": {
            "text/plain": [
              "<matplotlib.legend.Legend at 0x7fb86f4693d0>"
            ]
          },
          "metadata": {},
          "execution_count": 144
        },
        {
          "output_type": "display_data",
          "data": {
            "image/png": "[encoded data removed]",
            "text/plain": [
              "<Figure size 432x288 with 1 Axes>"
            ]
          },
          "metadata": {
            "needs_background": "light"
          }
        }
      ],
      "source": [
        "fig = plt.figure()\n",
        "ax = fig.add_subplot(111)\n",
        "train['Item_Weight'].plot(kind='kde', ax=ax)\n",
        "train.Item_Weight_random.plot(kind='kde', ax=ax, color='red')\n",
        "lines, labels = ax.get_legend_handles_labels()\n",
        "ax.legend(lines, labels, loc='best')"
      ],
      "id": "FClXdl683mYw"
    },
    {
      "cell_type": "code",
      "execution_count": 145,
      "metadata": {
        "execution": {
          "iopub.execute_input": "2021-06-09T17:08:09.102031Z",
          "iopub.status.busy": "2021-06-09T17:08:09.101375Z",
          "iopub.status.idle": "2021-06-09T17:08:09.104337Z",
          "shell.execute_reply": "2021-06-09T17:08:09.103799Z",
          "shell.execute_reply.started": "2021-06-09T16:39:08.493038Z"
        },
        "papermill": {
          "duration": 0.109605,
          "end_time": "2021-06-09T17:08:09.104472",
          "exception": false,
          "start_time": "2021-06-09T17:08:08.994867",
          "status": "completed"
        },
        "tags": [],
        "id": "6zZu-TTp3mYw"
      },
      "outputs": [],
      "source": [
        "## clearly, random weight imputation is much closer to item weight distribution"
      ],
      "id": "6zZu-TTp3mYw"
    },
    {
      "cell_type": "code",
      "execution_count": 146,
      "metadata": {
        "execution": {
          "iopub.execute_input": "2021-06-09T17:08:09.311508Z",
          "iopub.status.busy": "2021-06-09T17:08:09.310791Z",
          "iopub.status.idle": "2021-06-09T17:08:10.087127Z",
          "shell.execute_reply": "2021-06-09T17:08:10.086611Z",
          "shell.execute_reply.started": "2021-06-09T16:39:14.510054Z"
        },
        "papermill": {
          "duration": 0.880791,
          "end_time": "2021-06-09T17:08:10.087274",
          "exception": false,
          "start_time": "2021-06-09T17:08:09.206483",
          "status": "completed"
        },
        "tags": [],
        "colab": {
          "base_uri": "https://localhost:8080/",
          "height": 283
        },
        "id": "l5bQnK1B3mYw",
        "outputId": "ab2d989b-9caa-4160-bf21-428894c327b5"
      },
      "outputs": [
        {
          "output_type": "execute_result",
          "data": {
            "text/plain": [
              "<matplotlib.legend.Legend at 0x7fb8700ff9d0>"
            ]
          },
          "metadata": {},
          "execution_count": 146
        },
        {
          "output_type": "display_data",
          "data": {
            "image/png": "[encoded data removed]",
            "text/plain": [
              "<Figure size 432x288 with 1 Axes>"
            ]
          },
          "metadata": {
            "needs_background": "light"
          }
        }
      ],
      "source": [
        "fig = plt.figure()\n",
        "ax = fig.add_subplot(111)\n",
        "train['Item_Weight'].plot(kind='kde', ax=ax)\n",
        "train.Item_Weight_median.plot(kind='kde', ax=ax, color='red')\n",
        "train.Item_Weight_random.plot(kind='kde', ax=ax, color='green')\n",
        "lines, labels = ax.get_legend_handles_labels()\n",
        "ax.legend(lines, labels, loc='best')"
      ],
      "id": "l5bQnK1B3mYw"
    },
    {
      "cell_type": "code",
      "execution_count": 147,
      "metadata": {
        "execution": {
          "iopub.execute_input": "2021-06-09T17:08:10.297106Z",
          "iopub.status.busy": "2021-06-09T17:08:10.296162Z",
          "iopub.status.idle": "2021-06-09T17:08:10.299147Z",
          "shell.execute_reply": "2021-06-09T17:08:10.298487Z",
          "shell.execute_reply.started": "2021-06-09T16:39:29.641744Z"
        },
        "papermill": {
          "duration": 0.109287,
          "end_time": "2021-06-09T17:08:10.299291",
          "exception": false,
          "start_time": "2021-06-09T17:08:10.190004",
          "status": "completed"
        },
        "tags": [],
        "id": "qOarMqjy3mYx"
      },
      "outputs": [],
      "source": [
        "## 'Item_weight' and 'Item_weight_random' are in the same distribution and hence we can drop the imputaion with median"
      ],
      "id": "qOarMqjy3mYx"
    },
    {
      "cell_type": "code",
      "execution_count": 148,
      "metadata": {
        "execution": {
          "iopub.execute_input": "2021-06-09T17:08:10.510506Z",
          "iopub.status.busy": "2021-06-09T17:08:10.509732Z",
          "iopub.status.idle": "2021-06-09T17:08:10.512708Z",
          "shell.execute_reply": "2021-06-09T17:08:10.512187Z",
          "shell.execute_reply.started": "2021-06-09T16:39:36.415832Z"
        },
        "papermill": {
          "duration": 0.111355,
          "end_time": "2021-06-09T17:08:10.512849",
          "exception": false,
          "start_time": "2021-06-09T17:08:10.401494",
          "status": "completed"
        },
        "tags": [],
        "id": "UM4DbzIz3mYx"
      },
      "outputs": [],
      "source": [
        "def impute_nan(test,variable,median_new_data):\n",
        "    new_data[variable+\"_median\"]=new_data[variable].fillna(median_new_data)\n",
        "    new_data[variable+\"_random\"]=new_data[variable]\n",
        "    random_sample=test[variable].dropna().sample(test[variable].isnull().sum(),random_state=0)\n",
        "    random_sample.index=test[test[variable].isnull()].index\n",
        "    new_data.loc[new_data[variable].isnull(),variable+'_random']=random_sample"
      ],
      "id": "UM4DbzIz3mYx"
    },
    {
      "cell_type": "code",
      "execution_count": 149,
      "metadata": {
        "execution": {
          "iopub.execute_input": "2021-06-09T17:08:10.725752Z",
          "iopub.status.busy": "2021-06-09T17:08:10.724928Z",
          "iopub.status.idle": "2021-06-09T17:08:10.750221Z",
          "shell.execute_reply": "2021-06-09T17:08:10.749532Z",
          "shell.execute_reply.started": "2021-06-09T16:39:43.109673Z"
        },
        "papermill": {
          "duration": 0.134581,
          "end_time": "2021-06-09T17:08:10.750369",
          "exception": false,
          "start_time": "2021-06-09T17:08:10.615788",
          "status": "completed"
        },
        "tags": [],
        "colab": {
          "base_uri": "https://localhost:8080/",
          "height": 356
        },
        "id": "7uWRlLGt3mYy",
        "outputId": "3f441143-a180-4361-c0aa-6bc51cf5805a"
      },
      "outputs": [
        {
          "output_type": "execute_result",
          "data": {
            "text/html": [
              "\n",
              "  <div id=\"df-2eb92e6b-a8dc-485d-8830-e65e1b17155f\">\n",
              "    <div class=\"colab-df-container\">\n",
              "      <div>\n",
              "<style scoped>\n",
              "    .dataframe tbody tr th:only-of-type {\n",
              "        vertical-align: middle;\n",
              "    }\n",
              "\n",
              "    .dataframe tbody tr th {\n",
              "        vertical-align: top;\n",
              "    }\n",
              "\n",
              "    .dataframe thead th {\n",
              "        text-align: right;\n",
              "    }\n",
              "</style>\n",
              "<table border=\"1\" class=\"dataframe\">\n",
              "  <thead>\n",
              "    <tr style=\"text-align: right;\">\n",
              "      <th></th>\n",
              "      <th>Item_Identifier</th>\n",
              "      <th>Item_Weight</th>\n",
              "      <th>Item_Fat_Content</th>\n",
              "      <th>Item_Visibility</th>\n",
              "      <th>Item_Type</th>\n",
              "      <th>Item_MRP</th>\n",
              "      <th>Outlet_Identifier</th>\n",
              "      <th>Outlet_Size</th>\n",
              "      <th>Outlet_Location_Type</th>\n",
              "      <th>Outlet_Type</th>\n",
              "      <th>Outlet_age</th>\n",
              "      <th>Item_Weight_median</th>\n",
              "      <th>Item_Weight_random</th>\n",
              "    </tr>\n",
              "  </thead>\n",
              "  <tbody>\n",
              "    <tr>\n",
              "      <th>0</th>\n",
              "      <td>FDW58</td>\n",
              "      <td>20.750</td>\n",
              "      <td>Low Fat</td>\n",
              "      <td>0.007565</td>\n",
              "      <td>Snack Foods</td>\n",
              "      <td>107.8622</td>\n",
              "      <td>OUT049</td>\n",
              "      <td>Medium</td>\n",
              "      <td>Tier 1</td>\n",
              "      <td>Supermarket Type1</td>\n",
              "      <td>22</td>\n",
              "      <td>20.750</td>\n",
              "      <td>20.750</td>\n",
              "    </tr>\n",
              "    <tr>\n",
              "      <th>1</th>\n",
              "      <td>FDW14</td>\n",
              "      <td>8.300</td>\n",
              "      <td>Regular</td>\n",
              "      <td>0.038428</td>\n",
              "      <td>Dairy</td>\n",
              "      <td>87.3198</td>\n",
              "      <td>OUT017</td>\n",
              "      <td>Medium</td>\n",
              "      <td>Tier 2</td>\n",
              "      <td>Supermarket Type1</td>\n",
              "      <td>14</td>\n",
              "      <td>8.300</td>\n",
              "      <td>8.300</td>\n",
              "    </tr>\n",
              "    <tr>\n",
              "      <th>2</th>\n",
              "      <td>NCN55</td>\n",
              "      <td>14.600</td>\n",
              "      <td>Low Fat</td>\n",
              "      <td>0.099575</td>\n",
              "      <td>Others</td>\n",
              "      <td>241.7538</td>\n",
              "      <td>OUT010</td>\n",
              "      <td>Medium</td>\n",
              "      <td>Tier 3</td>\n",
              "      <td>Grocery Store</td>\n",
              "      <td>23</td>\n",
              "      <td>14.600</td>\n",
              "      <td>14.600</td>\n",
              "    </tr>\n",
              "    <tr>\n",
              "      <th>3</th>\n",
              "      <td>FDQ58</td>\n",
              "      <td>7.315</td>\n",
              "      <td>Low Fat</td>\n",
              "      <td>0.015388</td>\n",
              "      <td>Snack Foods</td>\n",
              "      <td>155.0340</td>\n",
              "      <td>OUT017</td>\n",
              "      <td>Medium</td>\n",
              "      <td>Tier 2</td>\n",
              "      <td>Supermarket Type1</td>\n",
              "      <td>14</td>\n",
              "      <td>7.315</td>\n",
              "      <td>7.315</td>\n",
              "    </tr>\n",
              "    <tr>\n",
              "      <th>4</th>\n",
              "      <td>FDY38</td>\n",
              "      <td>NaN</td>\n",
              "      <td>Regular</td>\n",
              "      <td>0.118599</td>\n",
              "      <td>Dairy</td>\n",
              "      <td>234.2300</td>\n",
              "      <td>OUT027</td>\n",
              "      <td>Medium</td>\n",
              "      <td>Tier 3</td>\n",
              "      <td>Supermarket Type3</td>\n",
              "      <td>36</td>\n",
              "      <td>12.500</td>\n",
              "      <td>15.100</td>\n",
              "    </tr>\n",
              "  </tbody>\n",
              "</table>\n",
              "</div>\n",
              "      <button class=\"colab-df-convert\" onclick=\"convertToInteractive('df-2eb92e6b-a8dc-485d-8830-e65e1b17155f')\"\n",
              "              title=\"Convert this dataframe to an interactive table.\"\n",
              "              style=\"display:none;\">\n",
              "        \n",
              "  <svg xmlns=\"http://www.w3.org/2000/svg\" height=\"24px\"viewBox=\"0 0 24 24\"\n",
              "       width=\"24px\">\n",
              "    <path d=\"M0 0h24v24H0V0z\" fill=\"none\"/>\n",
              "    <path d=\"M18.56 5.44l.94 2.06.94-2.06 2.06-.94-2.06-.94-.94-2.06-.94 2.06-2.06.94zm-11 1L8.5 8.5l.94-2.06 2.06-.94-2.06-.94L8.5 2.5l-.94 2.06-2.06.94zm10 10l.94 2.06.94-2.06 2.06-.94-2.06-.94-.94-2.06-.94 2.06-2.06.94z\"/><path d=\"M17.41 7.96l-1.37-1.37c-.4-.4-.92-.59-1.43-.59-.52 0-1.04.2-1.43.59L10.3 9.45l-7.72 7.72c-.78.78-.78 2.05 0 2.83L4 21.41c.39.39.9.59 1.41.59.51 0 1.02-.2 1.41-.59l7.78-7.78 2.81-2.81c.8-.78.8-2.07 0-2.86zM5.41 20L4 18.59l7.72-7.72 1.47 1.35L5.41 20z\"/>\n",
              "  </svg>\n",
              "      </button>\n",
              "      \n",
              "  <style>\n",
              "    .colab-df-container {\n",
              "      display:flex;\n",
              "      flex-wrap:wrap;\n",
              "      gap: 12px;\n",
              "    }\n",
              "\n",
              "    .colab-df-convert {\n",
              "      background-color: #E8F0FE;\n",
              "      border: none;\n",
              "      border-radius: 50%;\n",
              "      cursor: pointer;\n",
              "      display: none;\n",
              "      fill: #1967D2;\n",
              "      height: 32px;\n",
              "      padding: 0 0 0 0;\n",
              "      width: 32px;\n",
              "    }\n",
              "\n",
              "    .colab-df-convert:hover {\n",
              "      background-color: #E2EBFA;\n",
              "      box-shadow: 0px 1px 2px rgba(60, 64, 67, 0.3), 0px 1px 3px 1px rgba(60, 64, 67, 0.15);\n",
              "      fill: #174EA6;\n",
              "    }\n",
              "\n",
              "    [theme=dark] .colab-df-convert {\n",
              "      background-color: #3B4455;\n",
              "      fill: #D2E3FC;\n",
              "    }\n",
              "\n",
              "    [theme=dark] .colab-df-convert:hover {\n",
              "      background-color: #434B5C;\n",
              "      box-shadow: 0px 1px 3px 1px rgba(0, 0, 0, 0.15);\n",
              "      filter: drop-shadow(0px 1px 2px rgba(0, 0, 0, 0.3));\n",
              "      fill: #FFFFFF;\n",
              "    }\n",
              "  </style>\n",
              "\n",
              "      <script>\n",
              "        const buttonEl =\n",
              "          document.querySelector('#df-2eb92e6b-a8dc-485d-8830-e65e1b17155f button.colab-df-convert');\n",
              "        buttonEl.style.display =\n",
              "          google.colab.kernel.accessAllowed ? 'block' : 'none';\n",
              "\n",
              "        async function convertToInteractive(key) {\n",
              "          const element = document.querySelector('#df-2eb92e6b-a8dc-485d-8830-e65e1b17155f');\n",
              "          const dataTable =\n",
              "            await google.colab.kernel.invokeFunction('convertToInteractive',\n",
              "                                                     [key], {});\n",
              "          if (!dataTable) return;\n",
              "\n",
              "          const docLinkHtml = 'Like what you see? Visit the ' +\n",
              "            '<a target=\"_blank\" href=https://colab.research.google.com/notebooks/data_table.ipynb>data table notebook</a>'\n",
              "            + ' to learn more about interactive tables.';\n",
              "          element.innerHTML = '';\n",
              "          dataTable['output_type'] = 'display_data';\n",
              "          await google.colab.output.renderOutput(dataTable, element);\n",
              "          const docLink = document.createElement('div');\n",
              "          docLink.innerHTML = docLinkHtml;\n",
              "          element.appendChild(docLink);\n",
              "        }\n",
              "      </script>\n",
              "    </div>\n",
              "  </div>\n",
              "  "
            ],
            "text/plain": [
              "  Item_Identifier  Item_Weight  ... Item_Weight_median  Item_Weight_random\n",
              "0           FDW58       20.750  ...             20.750              20.750\n",
              "1           FDW14        8.300  ...              8.300               8.300\n",
              "2           NCN55       14.600  ...             14.600              14.600\n",
              "3           FDQ58        7.315  ...              7.315               7.315\n",
              "4           FDY38          NaN  ...             12.500              15.100\n",
              "\n",
              "[5 rows x 13 columns]"
            ]
          },
          "metadata": {},
          "execution_count": 149
        }
      ],
      "source": [
        "impute_nan(new_data,'Item_Weight',median_new_data)\n",
        "new_data.head()"
      ],
      "id": "7uWRlLGt3mYy"
    },
    {
      "cell_type": "code",
      "execution_count": 150,
      "metadata": {
        "execution": {
          "iopub.execute_input": "2021-06-09T17:08:10.985313Z",
          "iopub.status.busy": "2021-06-09T17:08:10.977563Z",
          "iopub.status.idle": "2021-06-09T17:08:11.554312Z",
          "shell.execute_reply": "2021-06-09T17:08:11.553675Z",
          "shell.execute_reply.started": "2021-06-09T16:39:56.906844Z"
        },
        "papermill": {
          "duration": 0.700025,
          "end_time": "2021-06-09T17:08:11.554456",
          "exception": false,
          "start_time": "2021-06-09T17:08:10.854431",
          "status": "completed"
        },
        "tags": [],
        "colab": {
          "base_uri": "https://localhost:8080/",
          "height": 283
        },
        "id": "Ha8KRBrO3mYy",
        "outputId": "82353995-c6b0-415d-c946-776c766cf944"
      },
      "outputs": [
        {
          "output_type": "execute_result",
          "data": {
            "text/plain": [
              "<matplotlib.legend.Legend at 0x7fb86f3ebd10>"
            ]
          },
          "metadata": {},
          "execution_count": 150
        },
        {
          "output_type": "display_data",
          "data": {
            "image/png": "[encoded data removed]",
            "text/plain": [
              "<Figure size 432x288 with 1 Axes>"
            ]
          },
          "metadata": {
            "needs_background": "light"
          }
        }
      ],
      "source": [
        "fig = plt.figure()\n",
        "ax = fig.add_subplot(111)\n",
        "new_data['Item_Weight'].plot(kind='kde', ax=ax)\n",
        "new_data.Item_Weight_median.plot(kind='kde', ax=ax, color='red')\n",
        "new_data.Item_Weight_random.plot(kind='kde', ax=ax, color='green')\n",
        "lines, labels = ax.get_legend_handles_labels()\n",
        "ax.legend(lines, labels, loc='best')"
      ],
      "id": "Ha8KRBrO3mYy"
    },
    {
      "cell_type": "code",
      "execution_count": 151,
      "metadata": {
        "execution": {
          "iopub.execute_input": "2021-06-09T17:08:11.770828Z",
          "iopub.status.busy": "2021-06-09T17:08:11.769859Z",
          "iopub.status.idle": "2021-06-09T17:08:11.773188Z",
          "shell.execute_reply": "2021-06-09T17:08:11.772516Z",
          "shell.execute_reply.started": "2021-06-09T16:40:13.302474Z"
        },
        "papermill": {
          "duration": 0.112996,
          "end_time": "2021-06-09T17:08:11.773328",
          "exception": false,
          "start_time": "2021-06-09T17:08:11.660332",
          "status": "completed"
        },
        "tags": [],
        "id": "RiiYOM1N3mY0"
      },
      "outputs": [],
      "source": [
        "## it worked the same for testing , dropping 'Item_weight_median'"
      ],
      "id": "RiiYOM1N3mY0"
    },
    {
      "cell_type": "code",
      "execution_count": 152,
      "metadata": {
        "execution": {
          "iopub.execute_input": "2021-06-09T17:08:11.991028Z",
          "iopub.status.busy": "2021-06-09T17:08:11.989966Z",
          "iopub.status.idle": "2021-06-09T17:08:11.993229Z",
          "shell.execute_reply": "2021-06-09T17:08:11.992592Z",
          "shell.execute_reply.started": "2021-06-09T16:40:27.052634Z"
        },
        "papermill": {
          "duration": 0.116052,
          "end_time": "2021-06-09T17:08:11.993368",
          "exception": false,
          "start_time": "2021-06-09T17:08:11.877316",
          "status": "completed"
        },
        "tags": [],
        "id": "RFLXFxe53mY1"
      },
      "outputs": [],
      "source": [
        "train=train.drop(['Item_Weight_median','Item_Weight'],axis=1)\n",
        "new_data=new_data.drop(['Item_Weight_median','Item_Weight'],axis=1)"
      ],
      "id": "RFLXFxe53mY1"
    },
    {
      "cell_type": "markdown",
      "metadata": {
        "papermill": {
          "duration": 0.104582,
          "end_time": "2021-06-09T17:08:12.203713",
          "exception": false,
          "start_time": "2021-06-09T17:08:12.099131",
          "status": "completed"
        },
        "tags": [],
        "id": "tVTKSTNb3mY1"
      },
      "source": [
        "Relation of every column with target variable (Analysing data)"
      ],
      "id": "tVTKSTNb3mY1"
    },
    {
      "cell_type": "code",
      "execution_count": 153,
      "metadata": {
        "execution": {
          "iopub.execute_input": "2021-06-09T17:08:12.417766Z",
          "iopub.status.busy": "2021-06-09T17:08:12.417081Z",
          "iopub.status.idle": "2021-06-09T17:08:12.420502Z",
          "shell.execute_reply": "2021-06-09T17:08:12.420010Z",
          "shell.execute_reply.started": "2021-06-09T16:41:16.811186Z"
        },
        "papermill": {
          "duration": 0.111933,
          "end_time": "2021-06-09T17:08:12.420662",
          "exception": false,
          "start_time": "2021-06-09T17:08:12.308729",
          "status": "completed"
        },
        "tags": [],
        "id": "AmYn4s_U3mY1"
      },
      "outputs": [],
      "source": [
        "# Initially, we check if the data is normally distributed or left/right skewed in order to avoid outlier"
      ],
      "id": "AmYn4s_U3mY1"
    },
    {
      "cell_type": "code",
      "execution_count": 154,
      "metadata": {
        "execution": {
          "iopub.execute_input": "2021-06-09T17:08:12.635319Z",
          "iopub.status.busy": "2021-06-09T17:08:12.634683Z",
          "iopub.status.idle": "2021-06-09T17:08:12.970869Z",
          "shell.execute_reply": "2021-06-09T17:08:12.971370Z",
          "shell.execute_reply.started": "2021-06-09T16:41:24.448383Z"
        },
        "papermill": {
          "duration": 0.446625,
          "end_time": "2021-06-09T17:08:12.971624",
          "exception": false,
          "start_time": "2021-06-09T17:08:12.524999",
          "status": "completed"
        },
        "tags": [],
        "colab": {
          "base_uri": "https://localhost:8080/",
          "height": 355
        },
        "id": "8GyfSp4n3mY2",
        "outputId": "4ba8f9ec-b2cf-465f-e868-31c90f45f455"
      },
      "outputs": [
        {
          "output_type": "stream",
          "name": "stderr",
          "text": [
            "/usr/local/lib/python3.7/dist-packages/seaborn/distributions.py:2619: FutureWarning: `distplot` is a deprecated function and will be removed in a future version. Please adapt your code to use either `displot` (a figure-level function with similar flexibility) or `histplot` (an axes-level function for histograms).\n",
            "  warnings.warn(msg, FutureWarning)\n"
          ]
        },
        {
          "output_type": "execute_result",
          "data": {
            "text/plain": [
              "<matplotlib.axes._subplots.AxesSubplot at 0x7fb876924a90>"
            ]
          },
          "metadata": {},
          "execution_count": 154
        },
        {
          "output_type": "display_data",
          "data": {
            "image/png": "[encoded data removed]",
            "text/plain": [
              "<Figure size 432x288 with 1 Axes>"
            ]
          },
          "metadata": {
            "needs_background": "light"
          }
        }
      ],
      "source": [
        "sns.distplot(train['Item_Visibility'])"
      ],
      "id": "8GyfSp4n3mY2"
    },
    {
      "cell_type": "markdown",
      "metadata": {
        "papermill": {
          "duration": 0.106575,
          "end_time": "2021-06-09T17:08:13.189041",
          "exception": false,
          "start_time": "2021-06-09T17:08:13.082466",
          "status": "completed"
        },
        "tags": [],
        "id": "ERMNZ-Hy3mY2"
      },
      "source": [
        "* data is right skewed which shows that it is positively skewed\n",
        "* Although the data is skewed and is touching the peak points, outlier removal might lead to loosing of sensitive information\n",
        "* since this is a sales data , every information which increases/decreases the sales is equally important "
      ],
      "id": "ERMNZ-Hy3mY2"
    },
    {
      "cell_type": "code",
      "execution_count": 155,
      "metadata": {
        "execution": {
          "iopub.execute_input": "2021-06-09T17:08:13.428797Z",
          "iopub.status.busy": "2021-06-09T17:08:13.424768Z",
          "iopub.status.idle": "2021-06-09T17:08:13.678563Z",
          "shell.execute_reply": "2021-06-09T17:08:13.677934Z",
          "shell.execute_reply.started": "2021-06-09T16:42:37.501010Z"
        },
        "papermill": {
          "duration": 0.383725,
          "end_time": "2021-06-09T17:08:13.678725",
          "exception": false,
          "start_time": "2021-06-09T17:08:13.295000",
          "status": "completed"
        },
        "tags": [],
        "colab": {
          "base_uri": "https://localhost:8080/",
          "height": 355
        },
        "id": "tlSx5cVC3mY2",
        "outputId": "7703596c-73f2-4434-80a7-ab082cc4fece"
      },
      "outputs": [
        {
          "output_type": "stream",
          "name": "stderr",
          "text": [
            "/usr/local/lib/python3.7/dist-packages/seaborn/distributions.py:2619: FutureWarning: `distplot` is a deprecated function and will be removed in a future version. Please adapt your code to use either `displot` (a figure-level function with similar flexibility) or `histplot` (an axes-level function for histograms).\n",
            "  warnings.warn(msg, FutureWarning)\n"
          ]
        },
        {
          "output_type": "execute_result",
          "data": {
            "text/plain": [
              "<matplotlib.axes._subplots.AxesSubplot at 0x7fb86f3b3050>"
            ]
          },
          "metadata": {},
          "execution_count": 155
        },
        {
          "output_type": "display_data",
          "data": {
            "image/png": "[encoded data removed]",
            "text/plain": [
              "<Figure size 432x288 with 1 Axes>"
            ]
          },
          "metadata": {
            "needs_background": "light"
          }
        }
      ],
      "source": [
        "sns.distplot(train['Item_MRP'])"
      ],
      "id": "tlSx5cVC3mY2"
    },
    {
      "cell_type": "code",
      "execution_count": 156,
      "metadata": {
        "execution": {
          "iopub.execute_input": "2021-06-09T17:08:13.938724Z",
          "iopub.status.busy": "2021-06-09T17:08:13.911847Z",
          "iopub.status.idle": "2021-06-09T17:08:14.267239Z",
          "shell.execute_reply": "2021-06-09T17:08:14.266550Z",
          "shell.execute_reply.started": "2021-06-09T16:42:53.758008Z"
        },
        "papermill": {
          "duration": 0.480529,
          "end_time": "2021-06-09T17:08:14.267383",
          "exception": false,
          "start_time": "2021-06-09T17:08:13.786854",
          "status": "completed"
        },
        "tags": [],
        "colab": {
          "base_uri": "https://localhost:8080/",
          "height": 355
        },
        "id": "IuVTzVyj3mY3",
        "outputId": "f46ecfed-14fb-4c10-d3c1-5c3c824c6439"
      },
      "outputs": [
        {
          "output_type": "stream",
          "name": "stderr",
          "text": [
            "/usr/local/lib/python3.7/dist-packages/seaborn/distributions.py:2619: FutureWarning: `distplot` is a deprecated function and will be removed in a future version. Please adapt your code to use either `displot` (a figure-level function with similar flexibility) or `histplot` (an axes-level function for histograms).\n",
            "  warnings.warn(msg, FutureWarning)\n"
          ]
        },
        {
          "output_type": "execute_result",
          "data": {
            "text/plain": [
              "<matplotlib.axes._subplots.AxesSubplot at 0x7fb86f261c10>"
            ]
          },
          "metadata": {},
          "execution_count": 156
        },
        {
          "output_type": "display_data",
          "data": {
            "image/png": "[encoded data removed]",
            "text/plain": [
              "<Figure size 432x288 with 1 Axes>"
            ]
          },
          "metadata": {
            "needs_background": "light"
          }
        }
      ],
      "source": [
        "sns.distplot(train['Item_Outlet_Sales'])"
      ],
      "id": "IuVTzVyj3mY3"
    },
    {
      "cell_type": "code",
      "execution_count": 157,
      "metadata": {
        "execution": {
          "iopub.execute_input": "2021-06-09T17:08:14.489444Z",
          "iopub.status.busy": "2021-06-09T17:08:14.488711Z",
          "iopub.status.idle": "2021-06-09T17:08:14.491780Z",
          "shell.execute_reply": "2021-06-09T17:08:14.491231Z",
          "shell.execute_reply.started": "2021-06-09T16:43:08.462318Z"
        },
        "papermill": {
          "duration": 0.116043,
          "end_time": "2021-06-09T17:08:14.491927",
          "exception": false,
          "start_time": "2021-06-09T17:08:14.375884",
          "status": "completed"
        },
        "tags": [],
        "id": "IsWbKRc93mY3"
      },
      "outputs": [],
      "source": [
        "## sales are positively skewed , also shows peakness"
      ],
      "id": "IsWbKRc93mY3"
    },
    {
      "cell_type": "code",
      "execution_count": 158,
      "metadata": {
        "execution": {
          "iopub.execute_input": "2021-06-09T17:08:14.897510Z",
          "iopub.status.busy": "2021-06-09T17:08:14.896057Z",
          "iopub.status.idle": "2021-06-09T17:08:15.115693Z",
          "shell.execute_reply": "2021-06-09T17:08:15.114982Z",
          "shell.execute_reply.started": "2021-06-09T16:43:15.821502Z"
        },
        "papermill": {
          "duration": 0.515464,
          "end_time": "2021-06-09T17:08:15.115834",
          "exception": false,
          "start_time": "2021-06-09T17:08:14.600370",
          "status": "completed"
        },
        "tags": [],
        "colab": {
          "base_uri": "https://localhost:8080/",
          "height": 355
        },
        "id": "BcGmFMwg3mY4",
        "outputId": "23ba64c8-6089-4174-ac64-77c388256319"
      },
      "outputs": [
        {
          "output_type": "stream",
          "name": "stderr",
          "text": [
            "/usr/local/lib/python3.7/dist-packages/seaborn/distributions.py:2619: FutureWarning: `distplot` is a deprecated function and will be removed in a future version. Please adapt your code to use either `displot` (a figure-level function with similar flexibility) or `histplot` (an axes-level function for histograms).\n",
            "  warnings.warn(msg, FutureWarning)\n"
          ]
        },
        {
          "output_type": "execute_result",
          "data": {
            "text/plain": [
              "<matplotlib.axes._subplots.AxesSubplot at 0x7fb86f0e7d10>"
            ]
          },
          "metadata": {},
          "execution_count": 158
        },
        {
          "output_type": "display_data",
          "data": {
            "image/png": "[encoded data removed]",
            "text/plain": [
              "<Figure size 432x288 with 1 Axes>"
            ]
          },
          "metadata": {
            "needs_background": "light"
          }
        }
      ],
      "source": [
        "sns.distplot(train['Outlet_age'])"
      ],
      "id": "BcGmFMwg3mY4"
    },
    {
      "cell_type": "code",
      "execution_count": 159,
      "metadata": {
        "execution": {
          "iopub.execute_input": "2021-06-09T17:08:15.343241Z",
          "iopub.status.busy": "2021-06-09T17:08:15.342621Z",
          "iopub.status.idle": "2021-06-09T17:08:15.664318Z",
          "shell.execute_reply": "2021-06-09T17:08:15.663687Z",
          "shell.execute_reply.started": "2021-06-09T16:43:28.946950Z"
        },
        "papermill": {
          "duration": 0.438727,
          "end_time": "2021-06-09T17:08:15.664461",
          "exception": false,
          "start_time": "2021-06-09T17:08:15.225734",
          "status": "completed"
        },
        "tags": [],
        "colab": {
          "base_uri": "https://localhost:8080/",
          "height": 383
        },
        "id": "ZtWLG4FI3mY4",
        "outputId": "b07d8b94-c892-45af-c260-b658c02de685"
      },
      "outputs": [
        {
          "output_type": "execute_result",
          "data": {
            "text/plain": [
              "<matplotlib.axes._subplots.AxesSubplot at 0x7fb86f062650>"
            ]
          },
          "metadata": {},
          "execution_count": 159
        },
        {
          "output_type": "display_data",
          "data": {
            "image/png": "[encoded data removed]",
            "text/plain": [
              "<Figure size 432x288 with 2 Axes>"
            ]
          },
          "metadata": {
            "needs_background": "light"
          }
        }
      ],
      "source": [
        "import seaborn as sns\n",
        "import matplotlib as plt\n",
        "corr=train.iloc[:,1:].corr()\n",
        "top_features=corr.index\n",
        "sns.heatmap(train[top_features].corr(),annot=True)"
      ],
      "id": "ZtWLG4FI3mY4"
    },
    {
      "cell_type": "code",
      "execution_count": 160,
      "metadata": {
        "execution": {
          "iopub.execute_input": "2021-06-09T17:08:15.897333Z",
          "iopub.status.busy": "2021-06-09T17:08:15.896726Z",
          "iopub.status.idle": "2021-06-09T17:08:15.899896Z",
          "shell.execute_reply": "2021-06-09T17:08:15.899400Z",
          "shell.execute_reply.started": "2021-06-09T16:43:43.616050Z"
        },
        "papermill": {
          "duration": 0.119896,
          "end_time": "2021-06-09T17:08:15.900030",
          "exception": false,
          "start_time": "2021-06-09T17:08:15.780134",
          "status": "completed"
        },
        "tags": [],
        "id": "Okj9dTLN3mY5"
      },
      "outputs": [],
      "source": [
        "## in order to check relation between target variable, picking top correlated features with sales"
      ],
      "id": "Okj9dTLN3mY5"
    },
    {
      "cell_type": "code",
      "execution_count": 161,
      "metadata": {
        "execution": {
          "iopub.execute_input": "2021-06-09T17:08:16.129919Z",
          "iopub.status.busy": "2021-06-09T17:08:16.129254Z",
          "iopub.status.idle": "2021-06-09T17:08:16.947042Z",
          "shell.execute_reply": "2021-06-09T17:08:16.947521Z",
          "shell.execute_reply.started": "2021-06-09T16:43:50.803764Z"
        },
        "papermill": {
          "duration": 0.935593,
          "end_time": "2021-06-09T17:08:16.947717",
          "exception": false,
          "start_time": "2021-06-09T17:08:16.012124",
          "status": "completed"
        },
        "tags": [],
        "colab": {
          "base_uri": "https://localhost:8080/",
          "height": 508
        },
        "id": "rZUO-3SP3mY5",
        "outputId": "5e0f19e1-6ad6-449a-f3df-4ffdc2761bdf"
      },
      "outputs": [
        {
          "output_type": "error",
          "ename": "AttributeError",
          "evalue": "ignored",
          "traceback": [
            "\u001b[0;31m---------------------------------------------------------------------------\u001b[0m",
            "\u001b[0;31mAttributeError\u001b[0m                            Traceback (most recent call last)",
            "\u001b[0;32m<ipython-input-161-372c3ad04549>\u001b[0m in \u001b[0;36m<module>\u001b[0;34m()\u001b[0m\n\u001b[1;32m      1\u001b[0m \u001b[0msns\u001b[0m\u001b[0;34m.\u001b[0m\u001b[0mscatterplot\u001b[0m\u001b[0;34m(\u001b[0m\u001b[0mx\u001b[0m\u001b[0;34m=\u001b[0m\u001b[0;34m'Item_MRP'\u001b[0m\u001b[0;34m,\u001b[0m\u001b[0my\u001b[0m\u001b[0;34m=\u001b[0m\u001b[0;34m'Item_Outlet_Sales'\u001b[0m\u001b[0;34m,\u001b[0m\u001b[0mdata\u001b[0m\u001b[0;34m=\u001b[0m\u001b[0mtrain\u001b[0m\u001b[0;34m)\u001b[0m\u001b[0;34m\u001b[0m\u001b[0;34m\u001b[0m\u001b[0m\n\u001b[1;32m      2\u001b[0m \u001b[0;34m\u001b[0m\u001b[0m\n\u001b[0;32m----> 3\u001b[0;31m \u001b[0mplt\u001b[0m\u001b[0;34m.\u001b[0m\u001b[0mplot\u001b[0m\u001b[0;34m(\u001b[0m\u001b[0;34m[\u001b[0m\u001b[0;36m69\u001b[0m\u001b[0;34m,\u001b[0m\u001b[0;36m69\u001b[0m\u001b[0;34m]\u001b[0m\u001b[0;34m,\u001b[0m\u001b[0;34m[\u001b[0m\u001b[0;36m0\u001b[0m\u001b[0;34m,\u001b[0m\u001b[0;36m5000\u001b[0m\u001b[0;34m]\u001b[0m\u001b[0;34m)\u001b[0m\u001b[0;34m\u001b[0m\u001b[0;34m\u001b[0m\u001b[0m\n\u001b[0m\u001b[1;32m      4\u001b[0m \u001b[0mplt\u001b[0m\u001b[0;34m.\u001b[0m\u001b[0mplot\u001b[0m\u001b[0;34m(\u001b[0m\u001b[0;34m[\u001b[0m\u001b[0;36m137\u001b[0m\u001b[0;34m,\u001b[0m\u001b[0;36m137\u001b[0m\u001b[0;34m]\u001b[0m\u001b[0;34m,\u001b[0m\u001b[0;34m[\u001b[0m\u001b[0;36m0\u001b[0m\u001b[0;34m,\u001b[0m\u001b[0;36m5000\u001b[0m\u001b[0;34m]\u001b[0m\u001b[0;34m)\u001b[0m\u001b[0;34m\u001b[0m\u001b[0;34m\u001b[0m\u001b[0m\n\u001b[1;32m      5\u001b[0m \u001b[0mplt\u001b[0m\u001b[0;34m.\u001b[0m\u001b[0mplot\u001b[0m\u001b[0;34m(\u001b[0m\u001b[0;34m[\u001b[0m\u001b[0;36m203\u001b[0m\u001b[0;34m,\u001b[0m\u001b[0;36m203\u001b[0m\u001b[0;34m]\u001b[0m\u001b[0;34m,\u001b[0m\u001b[0;34m[\u001b[0m\u001b[0;36m0\u001b[0m\u001b[0;34m,\u001b[0m\u001b[0;36m9000\u001b[0m\u001b[0;34m]\u001b[0m\u001b[0;34m)\u001b[0m\u001b[0;34m\u001b[0m\u001b[0;34m\u001b[0m\u001b[0m\n",
            "\u001b[0;31mAttributeError\u001b[0m: module 'matplotlib' has no attribute 'plot'"
          ]
        },
        {
          "output_type": "display_data",
          "data": {
            "image/png": "[encoded data removed]",
            "text/plain": [
              "<Figure size 432x288 with 1 Axes>"
            ]
          },
          "metadata": {
            "needs_background": "light"
          }
        }
      ],
      "source": [
        "sns.scatterplot(x='Item_MRP',y='Item_Outlet_Sales',data=train)\n",
        "\n",
        "plt.plot([69,69],[0,5000])\n",
        "plt.plot([137,137],[0,5000])\n",
        "plt.plot([203,203],[0,9000])"
      ],
      "id": "rZUO-3SP3mY5"
    },
    {
      "cell_type": "code",
      "execution_count": 162,
      "metadata": {
        "execution": {
          "iopub.execute_input": "2021-06-09T17:08:17.184522Z",
          "iopub.status.busy": "2021-06-09T17:08:17.183846Z",
          "iopub.status.idle": "2021-06-09T17:08:17.187057Z",
          "shell.execute_reply": "2021-06-09T17:08:17.187589Z",
          "shell.execute_reply.started": "2021-06-09T16:44:06.644006Z"
        },
        "papermill": {
          "duration": 0.126469,
          "end_time": "2021-06-09T17:08:17.187758",
          "exception": false,
          "start_time": "2021-06-09T17:08:17.061289",
          "status": "completed"
        },
        "tags": [],
        "id": "6mY4Dh8C3mY5"
      },
      "outputs": [],
      "source": [
        "## as correlation said in the heatmap, as the mrp is increasing, sales are gradually increasing which shows good correlation"
      ],
      "id": "6mY4Dh8C3mY5"
    },
    {
      "cell_type": "code",
      "execution_count": 163,
      "metadata": {
        "execution": {
          "iopub.execute_input": "2021-06-09T17:08:17.418481Z",
          "iopub.status.busy": "2021-06-09T17:08:17.417766Z",
          "iopub.status.idle": "2021-06-09T17:08:18.236817Z",
          "shell.execute_reply": "2021-06-09T17:08:18.236251Z",
          "shell.execute_reply.started": "2021-06-09T16:44:14.419210Z"
        },
        "papermill": {
          "duration": 0.935515,
          "end_time": "2021-06-09T17:08:18.236969",
          "exception": false,
          "start_time": "2021-06-09T17:08:17.301454",
          "status": "completed"
        },
        "tags": [],
        "colab": {
          "base_uri": "https://localhost:8080/",
          "height": 298
        },
        "id": "ICTn2CoN3mY6",
        "outputId": "f326e5fd-de48-4684-d82a-785d1bdedd0f"
      },
      "outputs": [
        {
          "output_type": "execute_result",
          "data": {
            "text/plain": [
              "<matplotlib.axes._subplots.AxesSubplot at 0x7fb86eee8a10>"
            ]
          },
          "metadata": {},
          "execution_count": 163
        },
        {
          "output_type": "display_data",
          "data": {
            "image/png": "[encoded data removed]",
            "text/plain": [
              "<Figure size 432x288 with 1 Axes>"
            ]
          },
          "metadata": {
            "needs_background": "light"
          }
        }
      ],
      "source": [
        "sns.scatterplot(x='Item_Visibility',y='Item_Outlet_Sales',data=train)"
      ],
      "id": "ICTn2CoN3mY6"
    },
    {
      "cell_type": "code",
      "execution_count": 164,
      "metadata": {
        "execution": {
          "iopub.execute_input": "2021-06-09T17:08:18.473107Z",
          "iopub.status.busy": "2021-06-09T17:08:18.472318Z",
          "iopub.status.idle": "2021-06-09T17:08:18.475261Z",
          "shell.execute_reply": "2021-06-09T17:08:18.474746Z",
          "shell.execute_reply.started": "2021-06-09T16:44:32.319355Z"
        },
        "papermill": {
          "duration": 0.122033,
          "end_time": "2021-06-09T17:08:18.475395",
          "exception": false,
          "start_time": "2021-06-09T17:08:18.353362",
          "status": "completed"
        },
        "tags": [],
        "id": "2Z4Mtlpv3mY6"
      },
      "outputs": [],
      "source": [
        "##Item_visibility does shows correlation in a negative direction"
      ],
      "id": "2Z4Mtlpv3mY6"
    },
    {
      "cell_type": "code",
      "execution_count": 165,
      "metadata": {
        "execution": {
          "iopub.execute_input": "2021-06-09T17:08:18.712144Z",
          "iopub.status.busy": "2021-06-09T17:08:18.711370Z",
          "iopub.status.idle": "2021-06-09T17:08:19.535855Z",
          "shell.execute_reply": "2021-06-09T17:08:19.535276Z",
          "shell.execute_reply.started": "2021-06-09T16:45:08.568108Z"
        },
        "papermill": {
          "duration": 0.945322,
          "end_time": "2021-06-09T17:08:19.536008",
          "exception": false,
          "start_time": "2021-06-09T17:08:18.590686",
          "status": "completed"
        },
        "tags": [],
        "colab": {
          "base_uri": "https://localhost:8080/",
          "height": 298
        },
        "id": "9zzuDxc03mY7",
        "outputId": "50441cc0-5b00-4210-ddb6-4b96e007e66a"
      },
      "outputs": [
        {
          "output_type": "execute_result",
          "data": {
            "text/plain": [
              "<matplotlib.axes._subplots.AxesSubplot at 0x7fb86ee5a950>"
            ]
          },
          "metadata": {},
          "execution_count": 165
        },
        {
          "output_type": "display_data",
          "data": {
            "image/png": "[encoded data removed]",
            "text/plain": [
              "<Figure size 432x288 with 1 Axes>"
            ]
          },
          "metadata": {
            "needs_background": "light"
          }
        }
      ],
      "source": [
        "sns.scatterplot(x='Item_Weight_random',y='Item_Outlet_Sales',data=train)"
      ],
      "id": "9zzuDxc03mY7"
    },
    {
      "cell_type": "code",
      "execution_count": 166,
      "metadata": {
        "execution": {
          "iopub.execute_input": "2021-06-09T17:08:19.779930Z",
          "iopub.status.busy": "2021-06-09T17:08:19.779208Z",
          "iopub.status.idle": "2021-06-09T17:08:19.782323Z",
          "shell.execute_reply": "2021-06-09T17:08:19.781833Z",
          "shell.execute_reply.started": "2021-06-09T16:45:30.628084Z"
        },
        "papermill": {
          "duration": 0.127004,
          "end_time": "2021-06-09T17:08:19.782470",
          "exception": false,
          "start_time": "2021-06-09T17:08:19.655466",
          "status": "completed"
        },
        "tags": [],
        "id": "Z4e8iDMH3mY7"
      },
      "outputs": [],
      "source": [
        "## very less correlation"
      ],
      "id": "Z4e8iDMH3mY7"
    },
    {
      "cell_type": "code",
      "execution_count": 167,
      "metadata": {
        "execution": {
          "iopub.execute_input": "2021-06-09T17:08:20.020929Z",
          "iopub.status.busy": "2021-06-09T17:08:20.019929Z",
          "iopub.status.idle": "2021-06-09T17:08:20.023195Z",
          "shell.execute_reply": "2021-06-09T17:08:20.022408Z",
          "shell.execute_reply.started": "2021-06-09T16:45:46.018248Z"
        },
        "papermill": {
          "duration": 0.124583,
          "end_time": "2021-06-09T17:08:20.023349",
          "exception": false,
          "start_time": "2021-06-09T17:08:19.898766",
          "status": "completed"
        },
        "tags": [],
        "id": "6hikfYIG3mY7"
      },
      "outputs": [],
      "source": [
        "#ckecking possibilities to reduce dimensionality"
      ],
      "id": "6hikfYIG3mY7"
    },
    {
      "cell_type": "code",
      "execution_count": 168,
      "metadata": {
        "execution": {
          "iopub.execute_input": "2021-06-09T17:08:20.275879Z",
          "iopub.status.busy": "2021-06-09T17:08:20.275173Z",
          "iopub.status.idle": "2021-06-09T17:08:20.278235Z",
          "shell.execute_reply": "2021-06-09T17:08:20.277634Z",
          "shell.execute_reply.started": "2021-06-09T16:45:58.632952Z"
        },
        "papermill": {
          "duration": 0.127716,
          "end_time": "2021-06-09T17:08:20.278370",
          "exception": false,
          "start_time": "2021-06-09T17:08:20.150654",
          "status": "completed"
        },
        "tags": [],
        "id": "94RDe6EQ3mY8"
      },
      "outputs": [],
      "source": [
        "## removing unnecessary columns based on subjective knowledge\n",
        "train=train.drop(['Item_Identifier','Outlet_Identifier'],axis=1)\n",
        "new_data=new_data.drop(['Item_Identifier','Outlet_Identifier'],axis=1)"
      ],
      "id": "94RDe6EQ3mY8"
    },
    {
      "cell_type": "markdown",
      "metadata": {
        "papermill": {
          "duration": 0.117359,
          "end_time": "2021-06-09T17:08:20.513804",
          "exception": false,
          "start_time": "2021-06-09T17:08:20.396445",
          "status": "completed"
        },
        "tags": [],
        "id": "4t5EwH023mY8"
      },
      "source": [
        "handling categorical variables"
      ],
      "id": "4t5EwH023mY8"
    },
    {
      "cell_type": "code",
      "execution_count": 169,
      "metadata": {
        "execution": {
          "iopub.execute_input": "2021-06-09T17:08:20.761959Z",
          "iopub.status.busy": "2021-06-09T17:08:20.761163Z",
          "iopub.status.idle": "2021-06-09T17:08:20.765397Z",
          "shell.execute_reply": "2021-06-09T17:08:20.764796Z",
          "shell.execute_reply.started": "2021-06-09T16:46:27.513920Z"
        },
        "papermill": {
          "duration": 0.129244,
          "end_time": "2021-06-09T17:08:20.765530",
          "exception": false,
          "start_time": "2021-06-09T17:08:20.636286",
          "status": "completed"
        },
        "tags": [],
        "colab": {
          "base_uri": "https://localhost:8080/"
        },
        "id": "DOV1vcyr3mY8",
        "outputId": "109c4f83-6331-47c4-9af4-5ededc925ca6"
      },
      "outputs": [
        {
          "output_type": "execute_result",
          "data": {
            "text/plain": [
              "Fruits and Vegetables    1232\n",
              "Snack Foods              1200\n",
              "Household                 910\n",
              "Frozen Foods              856\n",
              "Dairy                     682\n",
              "Canned                    649\n",
              "Baking Goods              648\n",
              "Health and Hygiene        520\n",
              "Soft Drinks               445\n",
              "Meat                      425\n",
              "Breads                    251\n",
              "Hard Drinks               214\n",
              "Others                    169\n",
              "Starchy Foods             148\n",
              "Breakfast                 110\n",
              "Seafood                    64\n",
              "Name: Item_Type, dtype: int64"
            ]
          },
          "metadata": {},
          "execution_count": 169
        }
      ],
      "source": [
        "train['Item_Type'].value_counts()"
      ],
      "id": "DOV1vcyr3mY8"
    },
    {
      "cell_type": "code",
      "execution_count": 170,
      "metadata": {
        "execution": {
          "iopub.execute_input": "2021-06-09T17:08:21.029992Z",
          "iopub.status.busy": "2021-06-09T17:08:21.021833Z",
          "iopub.status.idle": "2021-06-09T17:08:21.035458Z",
          "shell.execute_reply": "2021-06-09T17:08:21.034864Z",
          "shell.execute_reply.started": "2021-06-09T16:46:41.204277Z"
        },
        "papermill": {
          "duration": 0.152371,
          "end_time": "2021-06-09T17:08:21.035624",
          "exception": false,
          "start_time": "2021-06-09T17:08:20.883253",
          "status": "completed"
        },
        "tags": [],
        "id": "hPSW2rCA3mY9"
      },
      "outputs": [],
      "source": [
        "## Item_type has anyway very less correlation with sales and it has too many categorical variables, we can decrease them into categories which can reduce the dimensionality\n",
        "train['Item_Type']=train['Item_Type'].replace(['Fruits and Vegetables','Snack Foods','Household','Frozen Foods','Dairy','Canned','Baking Goods','Health and Hygiene','Soft Drinks','Meat','Breads','Hard Drinks','Starchy Foods','Breakfast','Seafood','Others'],['edible','edible','non-edible','edible','edible','edible','edible','non-edible','edible','edible','edible','edible','edible','edible','edible','non-edible'],inplace = False)\n",
        "new_data['Item_Type']=new_data['Item_Type'].replace(['Fruits and Vegetables','Snack Foods','Household','Frozen Foods','Dairy','Canned','Baking Goods','Health and Hygiene','Soft Drinks','Meat','Breads','Hard Drinks','Starchy Foods','Breakfast','Seafood','Others'],['edible','edible','non-edible','edible','edible','edible','edible','non-edible','edible','edible','edible','edible','edible','edible','edible','non-edible'],inplace = False)"
      ],
      "id": "hPSW2rCA3mY9"
    },
    {
      "cell_type": "code",
      "execution_count": 171,
      "metadata": {
        "execution": {
          "iopub.execute_input": "2021-06-09T17:08:21.289467Z",
          "iopub.status.busy": "2021-06-09T17:08:21.288547Z",
          "iopub.status.idle": "2021-06-09T17:08:21.293496Z",
          "shell.execute_reply": "2021-06-09T17:08:21.292816Z",
          "shell.execute_reply.started": "2021-06-09T16:46:47.691777Z"
        },
        "papermill": {
          "duration": 0.131338,
          "end_time": "2021-06-09T17:08:21.293677",
          "exception": false,
          "start_time": "2021-06-09T17:08:21.162339",
          "status": "completed"
        },
        "tags": [],
        "colab": {
          "base_uri": "https://localhost:8080/"
        },
        "id": "Le3wN2ll3mY9",
        "outputId": "ac42fc31-3467-43d4-9550-e5354a8915b2"
      },
      "outputs": [
        {
          "output_type": "execute_result",
          "data": {
            "text/plain": [
              "edible        6924\n",
              "non-edible    1599\n",
              "Name: Item_Type, dtype: int64"
            ]
          },
          "metadata": {},
          "execution_count": 171
        }
      ],
      "source": [
        "train['Item_Type'].value_counts()"
      ],
      "id": "Le3wN2ll3mY9"
    },
    {
      "cell_type": "code",
      "execution_count": 172,
      "metadata": {
        "execution": {
          "iopub.execute_input": "2021-06-09T17:08:21.556847Z",
          "iopub.status.busy": "2021-06-09T17:08:21.555895Z",
          "iopub.status.idle": "2021-06-09T17:08:21.560236Z",
          "shell.execute_reply": "2021-06-09T17:08:21.559641Z",
          "shell.execute_reply.started": "2021-06-09T16:47:07.804595Z"
        },
        "papermill": {
          "duration": 0.13815,
          "end_time": "2021-06-09T17:08:21.560380",
          "exception": false,
          "start_time": "2021-06-09T17:08:21.422230",
          "status": "completed"
        },
        "tags": [],
        "colab": {
          "base_uri": "https://localhost:8080/",
          "height": 206
        },
        "id": "3f8Y8agY3mY-",
        "outputId": "f4ccf71a-20f1-4f9a-aab1-28c00bc77188"
      },
      "outputs": [
        {
          "output_type": "execute_result",
          "data": {
            "text/html": [
              "\n",
              "  <div id=\"df-2a297609-42b7-4356-aca1-45d68dc7095a\">\n",
              "    <div class=\"colab-df-container\">\n",
              "      <div>\n",
              "<style scoped>\n",
              "    .dataframe tbody tr th:only-of-type {\n",
              "        vertical-align: middle;\n",
              "    }\n",
              "\n",
              "    .dataframe tbody tr th {\n",
              "        vertical-align: top;\n",
              "    }\n",
              "\n",
              "    .dataframe thead th {\n",
              "        text-align: right;\n",
              "    }\n",
              "</style>\n",
              "<table border=\"1\" class=\"dataframe\">\n",
              "  <thead>\n",
              "    <tr style=\"text-align: right;\">\n",
              "      <th></th>\n",
              "      <th>Item_Fat_Content</th>\n",
              "      <th>Item_Visibility</th>\n",
              "      <th>Item_Type</th>\n",
              "      <th>Item_MRP</th>\n",
              "      <th>Outlet_Size</th>\n",
              "      <th>Outlet_Location_Type</th>\n",
              "      <th>Outlet_Type</th>\n",
              "      <th>Outlet_age</th>\n",
              "      <th>Item_Weight_random</th>\n",
              "    </tr>\n",
              "  </thead>\n",
              "  <tbody>\n",
              "    <tr>\n",
              "      <th>0</th>\n",
              "      <td>Low Fat</td>\n",
              "      <td>0.007565</td>\n",
              "      <td>edible</td>\n",
              "      <td>107.8622</td>\n",
              "      <td>Medium</td>\n",
              "      <td>Tier 1</td>\n",
              "      <td>Supermarket Type1</td>\n",
              "      <td>22</td>\n",
              "      <td>20.750</td>\n",
              "    </tr>\n",
              "    <tr>\n",
              "      <th>1</th>\n",
              "      <td>Regular</td>\n",
              "      <td>0.038428</td>\n",
              "      <td>edible</td>\n",
              "      <td>87.3198</td>\n",
              "      <td>Medium</td>\n",
              "      <td>Tier 2</td>\n",
              "      <td>Supermarket Type1</td>\n",
              "      <td>14</td>\n",
              "      <td>8.300</td>\n",
              "    </tr>\n",
              "    <tr>\n",
              "      <th>2</th>\n",
              "      <td>Low Fat</td>\n",
              "      <td>0.099575</td>\n",
              "      <td>non-edible</td>\n",
              "      <td>241.7538</td>\n",
              "      <td>Medium</td>\n",
              "      <td>Tier 3</td>\n",
              "      <td>Grocery Store</td>\n",
              "      <td>23</td>\n",
              "      <td>14.600</td>\n",
              "    </tr>\n",
              "    <tr>\n",
              "      <th>3</th>\n",
              "      <td>Low Fat</td>\n",
              "      <td>0.015388</td>\n",
              "      <td>edible</td>\n",
              "      <td>155.0340</td>\n",
              "      <td>Medium</td>\n",
              "      <td>Tier 2</td>\n",
              "      <td>Supermarket Type1</td>\n",
              "      <td>14</td>\n",
              "      <td>7.315</td>\n",
              "    </tr>\n",
              "    <tr>\n",
              "      <th>4</th>\n",
              "      <td>Regular</td>\n",
              "      <td>0.118599</td>\n",
              "      <td>edible</td>\n",
              "      <td>234.2300</td>\n",
              "      <td>Medium</td>\n",
              "      <td>Tier 3</td>\n",
              "      <td>Supermarket Type3</td>\n",
              "      <td>36</td>\n",
              "      <td>15.100</td>\n",
              "    </tr>\n",
              "  </tbody>\n",
              "</table>\n",
              "</div>\n",
              "      <button class=\"colab-df-convert\" onclick=\"convertToInteractive('df-2a297609-42b7-4356-aca1-45d68dc7095a')\"\n",
              "              title=\"Convert this dataframe to an interactive table.\"\n",
              "              style=\"display:none;\">\n",
              "        \n",
              "  <svg xmlns=\"http://www.w3.org/2000/svg\" height=\"24px\"viewBox=\"0 0 24 24\"\n",
              "       width=\"24px\">\n",
              "    <path d=\"M0 0h24v24H0V0z\" fill=\"none\"/>\n",
              "    <path d=\"M18.56 5.44l.94 2.06.94-2.06 2.06-.94-2.06-.94-.94-2.06-.94 2.06-2.06.94zm-11 1L8.5 8.5l.94-2.06 2.06-.94-2.06-.94L8.5 2.5l-.94 2.06-2.06.94zm10 10l.94 2.06.94-2.06 2.06-.94-2.06-.94-.94-2.06-.94 2.06-2.06.94z\"/><path d=\"M17.41 7.96l-1.37-1.37c-.4-.4-.92-.59-1.43-.59-.52 0-1.04.2-1.43.59L10.3 9.45l-7.72 7.72c-.78.78-.78 2.05 0 2.83L4 21.41c.39.39.9.59 1.41.59.51 0 1.02-.2 1.41-.59l7.78-7.78 2.81-2.81c.8-.78.8-2.07 0-2.86zM5.41 20L4 18.59l7.72-7.72 1.47 1.35L5.41 20z\"/>\n",
              "  </svg>\n",
              "      </button>\n",
              "      \n",
              "  <style>\n",
              "    .colab-df-container {\n",
              "      display:flex;\n",
              "      flex-wrap:wrap;\n",
              "      gap: 12px;\n",
              "    }\n",
              "\n",
              "    .colab-df-convert {\n",
              "      background-color: #E8F0FE;\n",
              "      border: none;\n",
              "      border-radius: 50%;\n",
              "      cursor: pointer;\n",
              "      display: none;\n",
              "      fill: #1967D2;\n",
              "      height: 32px;\n",
              "      padding: 0 0 0 0;\n",
              "      width: 32px;\n",
              "    }\n",
              "\n",
              "    .colab-df-convert:hover {\n",
              "      background-color: #E2EBFA;\n",
              "      box-shadow: 0px 1px 2px rgba(60, 64, 67, 0.3), 0px 1px 3px 1px rgba(60, 64, 67, 0.15);\n",
              "      fill: #174EA6;\n",
              "    }\n",
              "\n",
              "    [theme=dark] .colab-df-convert {\n",
              "      background-color: #3B4455;\n",
              "      fill: #D2E3FC;\n",
              "    }\n",
              "\n",
              "    [theme=dark] .colab-df-convert:hover {\n",
              "      background-color: #434B5C;\n",
              "      box-shadow: 0px 1px 3px 1px rgba(0, 0, 0, 0.15);\n",
              "      filter: drop-shadow(0px 1px 2px rgba(0, 0, 0, 0.3));\n",
              "      fill: #FFFFFF;\n",
              "    }\n",
              "  </style>\n",
              "\n",
              "      <script>\n",
              "        const buttonEl =\n",
              "          document.querySelector('#df-2a297609-42b7-4356-aca1-45d68dc7095a button.colab-df-convert');\n",
              "        buttonEl.style.display =\n",
              "          google.colab.kernel.accessAllowed ? 'block' : 'none';\n",
              "\n",
              "        async function convertToInteractive(key) {\n",
              "          const element = document.querySelector('#df-2a297609-42b7-4356-aca1-45d68dc7095a');\n",
              "          const dataTable =\n",
              "            await google.colab.kernel.invokeFunction('convertToInteractive',\n",
              "                                                     [key], {});\n",
              "          if (!dataTable) return;\n",
              "\n",
              "          const docLinkHtml = 'Like what you see? Visit the ' +\n",
              "            '<a target=\"_blank\" href=https://colab.research.google.com/notebooks/data_table.ipynb>data table notebook</a>'\n",
              "            + ' to learn more about interactive tables.';\n",
              "          element.innerHTML = '';\n",
              "          dataTable['output_type'] = 'display_data';\n",
              "          await google.colab.output.renderOutput(dataTable, element);\n",
              "          const docLink = document.createElement('div');\n",
              "          docLink.innerHTML = docLinkHtml;\n",
              "          element.appendChild(docLink);\n",
              "        }\n",
              "      </script>\n",
              "    </div>\n",
              "  </div>\n",
              "  "
            ],
            "text/plain": [
              "  Item_Fat_Content  Item_Visibility  ... Outlet_age  Item_Weight_random\n",
              "0          Low Fat         0.007565  ...         22              20.750\n",
              "1          Regular         0.038428  ...         14               8.300\n",
              "2          Low Fat         0.099575  ...         23              14.600\n",
              "3          Low Fat         0.015388  ...         14               7.315\n",
              "4          Regular         0.118599  ...         36              15.100\n",
              "\n",
              "[5 rows x 9 columns]"
            ]
          },
          "metadata": {},
          "execution_count": 172
        }
      ],
      "source": [
        "new_data.head()"
      ],
      "id": "3f8Y8agY3mY-"
    },
    {
      "cell_type": "code",
      "execution_count": 173,
      "metadata": {
        "execution": {
          "iopub.execute_input": "2021-06-09T17:08:21.823687Z",
          "iopub.status.busy": "2021-06-09T17:08:21.822943Z",
          "iopub.status.idle": "2021-06-09T17:08:21.827273Z",
          "shell.execute_reply": "2021-06-09T17:08:21.826685Z",
          "shell.execute_reply.started": "2021-06-09T16:47:20.250742Z"
        },
        "papermill": {
          "duration": 0.140826,
          "end_time": "2021-06-09T17:08:21.827428",
          "exception": false,
          "start_time": "2021-06-09T17:08:21.686602",
          "status": "completed"
        },
        "tags": [],
        "colab": {
          "base_uri": "https://localhost:8080/",
          "height": 206
        },
        "id": "dHpVvs6B3mY-",
        "outputId": "879c3380-e459-4203-c32b-e4541b5f1695"
      },
      "outputs": [
        {
          "output_type": "execute_result",
          "data": {
            "text/html": [
              "\n",
              "  <div id=\"df-97a4420e-d3cb-4c09-b7e1-dd4ad01f1510\">\n",
              "    <div class=\"colab-df-container\">\n",
              "      <div>\n",
              "<style scoped>\n",
              "    .dataframe tbody tr th:only-of-type {\n",
              "        vertical-align: middle;\n",
              "    }\n",
              "\n",
              "    .dataframe tbody tr th {\n",
              "        vertical-align: top;\n",
              "    }\n",
              "\n",
              "    .dataframe thead th {\n",
              "        text-align: right;\n",
              "    }\n",
              "</style>\n",
              "<table border=\"1\" class=\"dataframe\">\n",
              "  <thead>\n",
              "    <tr style=\"text-align: right;\">\n",
              "      <th></th>\n",
              "      <th>Item_Fat_Content</th>\n",
              "      <th>Item_Visibility</th>\n",
              "      <th>Item_Type</th>\n",
              "      <th>Item_MRP</th>\n",
              "      <th>Outlet_Size</th>\n",
              "      <th>Outlet_Location_Type</th>\n",
              "      <th>Outlet_Type</th>\n",
              "      <th>Item_Outlet_Sales</th>\n",
              "      <th>Outlet_age</th>\n",
              "      <th>Item_Weight_random</th>\n",
              "    </tr>\n",
              "  </thead>\n",
              "  <tbody>\n",
              "    <tr>\n",
              "      <th>0</th>\n",
              "      <td>Low Fat</td>\n",
              "      <td>0.016047</td>\n",
              "      <td>edible</td>\n",
              "      <td>249.8092</td>\n",
              "      <td>Medium</td>\n",
              "      <td>Tier 1</td>\n",
              "      <td>Supermarket Type1</td>\n",
              "      <td>3735.1380</td>\n",
              "      <td>22</td>\n",
              "      <td>9.30</td>\n",
              "    </tr>\n",
              "    <tr>\n",
              "      <th>1</th>\n",
              "      <td>Regular</td>\n",
              "      <td>0.019278</td>\n",
              "      <td>edible</td>\n",
              "      <td>48.2692</td>\n",
              "      <td>Medium</td>\n",
              "      <td>Tier 3</td>\n",
              "      <td>Supermarket Type2</td>\n",
              "      <td>443.4228</td>\n",
              "      <td>12</td>\n",
              "      <td>5.92</td>\n",
              "    </tr>\n",
              "    <tr>\n",
              "      <th>2</th>\n",
              "      <td>Low Fat</td>\n",
              "      <td>0.016760</td>\n",
              "      <td>edible</td>\n",
              "      <td>141.6180</td>\n",
              "      <td>Medium</td>\n",
              "      <td>Tier 1</td>\n",
              "      <td>Supermarket Type1</td>\n",
              "      <td>2097.2700</td>\n",
              "      <td>22</td>\n",
              "      <td>17.50</td>\n",
              "    </tr>\n",
              "    <tr>\n",
              "      <th>3</th>\n",
              "      <td>Regular</td>\n",
              "      <td>0.000000</td>\n",
              "      <td>edible</td>\n",
              "      <td>182.0950</td>\n",
              "      <td>Medium</td>\n",
              "      <td>Tier 3</td>\n",
              "      <td>Grocery Store</td>\n",
              "      <td>732.3800</td>\n",
              "      <td>23</td>\n",
              "      <td>19.20</td>\n",
              "    </tr>\n",
              "    <tr>\n",
              "      <th>4</th>\n",
              "      <td>Low Fat</td>\n",
              "      <td>0.000000</td>\n",
              "      <td>non-edible</td>\n",
              "      <td>53.8614</td>\n",
              "      <td>High</td>\n",
              "      <td>Tier 3</td>\n",
              "      <td>Supermarket Type1</td>\n",
              "      <td>994.7052</td>\n",
              "      <td>34</td>\n",
              "      <td>8.93</td>\n",
              "    </tr>\n",
              "  </tbody>\n",
              "</table>\n",
              "</div>\n",
              "      <button class=\"colab-df-convert\" onclick=\"convertToInteractive('df-97a4420e-d3cb-4c09-b7e1-dd4ad01f1510')\"\n",
              "              title=\"Convert this dataframe to an interactive table.\"\n",
              "              style=\"display:none;\">\n",
              "        \n",
              "  <svg xmlns=\"http://www.w3.org/2000/svg\" height=\"24px\"viewBox=\"0 0 24 24\"\n",
              "       width=\"24px\">\n",
              "    <path d=\"M0 0h24v24H0V0z\" fill=\"none\"/>\n",
              "    <path d=\"M18.56 5.44l.94 2.06.94-2.06 2.06-.94-2.06-.94-.94-2.06-.94 2.06-2.06.94zm-11 1L8.5 8.5l.94-2.06 2.06-.94-2.06-.94L8.5 2.5l-.94 2.06-2.06.94zm10 10l.94 2.06.94-2.06 2.06-.94-2.06-.94-.94-2.06-.94 2.06-2.06.94z\"/><path d=\"M17.41 7.96l-1.37-1.37c-.4-.4-.92-.59-1.43-.59-.52 0-1.04.2-1.43.59L10.3 9.45l-7.72 7.72c-.78.78-.78 2.05 0 2.83L4 21.41c.39.39.9.59 1.41.59.51 0 1.02-.2 1.41-.59l7.78-7.78 2.81-2.81c.8-.78.8-2.07 0-2.86zM5.41 20L4 18.59l7.72-7.72 1.47 1.35L5.41 20z\"/>\n",
              "  </svg>\n",
              "      </button>\n",
              "      \n",
              "  <style>\n",
              "    .colab-df-container {\n",
              "      display:flex;\n",
              "      flex-wrap:wrap;\n",
              "      gap: 12px;\n",
              "    }\n",
              "\n",
              "    .colab-df-convert {\n",
              "      background-color: #E8F0FE;\n",
              "      border: none;\n",
              "      border-radius: 50%;\n",
              "      cursor: pointer;\n",
              "      display: none;\n",
              "      fill: #1967D2;\n",
              "      height: 32px;\n",
              "      padding: 0 0 0 0;\n",
              "      width: 32px;\n",
              "    }\n",
              "\n",
              "    .colab-df-convert:hover {\n",
              "      background-color: #E2EBFA;\n",
              "      box-shadow: 0px 1px 2px rgba(60, 64, 67, 0.3), 0px 1px 3px 1px rgba(60, 64, 67, 0.15);\n",
              "      fill: #174EA6;\n",
              "    }\n",
              "\n",
              "    [theme=dark] .colab-df-convert {\n",
              "      background-color: #3B4455;\n",
              "      fill: #D2E3FC;\n",
              "    }\n",
              "\n",
              "    [theme=dark] .colab-df-convert:hover {\n",
              "      background-color: #434B5C;\n",
              "      box-shadow: 0px 1px 3px 1px rgba(0, 0, 0, 0.15);\n",
              "      filter: drop-shadow(0px 1px 2px rgba(0, 0, 0, 0.3));\n",
              "      fill: #FFFFFF;\n",
              "    }\n",
              "  </style>\n",
              "\n",
              "      <script>\n",
              "        const buttonEl =\n",
              "          document.querySelector('#df-97a4420e-d3cb-4c09-b7e1-dd4ad01f1510 button.colab-df-convert');\n",
              "        buttonEl.style.display =\n",
              "          google.colab.kernel.accessAllowed ? 'block' : 'none';\n",
              "\n",
              "        async function convertToInteractive(key) {\n",
              "          const element = document.querySelector('#df-97a4420e-d3cb-4c09-b7e1-dd4ad01f1510');\n",
              "          const dataTable =\n",
              "            await google.colab.kernel.invokeFunction('convertToInteractive',\n",
              "                                                     [key], {});\n",
              "          if (!dataTable) return;\n",
              "\n",
              "          const docLinkHtml = 'Like what you see? Visit the ' +\n",
              "            '<a target=\"_blank\" href=https://colab.research.google.com/notebooks/data_table.ipynb>data table notebook</a>'\n",
              "            + ' to learn more about interactive tables.';\n",
              "          element.innerHTML = '';\n",
              "          dataTable['output_type'] = 'display_data';\n",
              "          await google.colab.output.renderOutput(dataTable, element);\n",
              "          const docLink = document.createElement('div');\n",
              "          docLink.innerHTML = docLinkHtml;\n",
              "          element.appendChild(docLink);\n",
              "        }\n",
              "      </script>\n",
              "    </div>\n",
              "  </div>\n",
              "  "
            ],
            "text/plain": [
              "  Item_Fat_Content  Item_Visibility  ... Outlet_age  Item_Weight_random\n",
              "0          Low Fat         0.016047  ...         22                9.30\n",
              "1          Regular         0.019278  ...         12                5.92\n",
              "2          Low Fat         0.016760  ...         22               17.50\n",
              "3          Regular         0.000000  ...         23               19.20\n",
              "4          Low Fat         0.000000  ...         34                8.93\n",
              "\n",
              "[5 rows x 10 columns]"
            ]
          },
          "metadata": {},
          "execution_count": 173
        }
      ],
      "source": [
        "train.head()"
      ],
      "id": "dHpVvs6B3mY-"
    },
    {
      "cell_type": "code",
      "execution_count": 174,
      "metadata": {
        "execution": {
          "iopub.execute_input": "2021-06-09T17:08:22.077656Z",
          "iopub.status.busy": "2021-06-09T17:08:22.076362Z",
          "iopub.status.idle": "2021-06-09T17:08:22.081407Z",
          "shell.execute_reply": "2021-06-09T17:08:22.080774Z",
          "shell.execute_reply.started": "2021-06-09T16:47:34.789356Z"
        },
        "papermill": {
          "duration": 0.132345,
          "end_time": "2021-06-09T17:08:22.081545",
          "exception": false,
          "start_time": "2021-06-09T17:08:21.949200",
          "status": "completed"
        },
        "tags": [],
        "id": "Yejs9kYX3mY_"
      },
      "outputs": [],
      "source": [
        "X=train[['Item_Fat_Content','Item_Visibility','Item_Type','Item_MRP','Outlet_Size','Outlet_Location_Type','Outlet_Type','Outlet_age','Item_Weight_random']]\n",
        "y=train['Item_Outlet_Sales']"
      ],
      "id": "Yejs9kYX3mY_"
    },
    {
      "cell_type": "code",
      "execution_count": 175,
      "metadata": {
        "execution": {
          "iopub.execute_input": "2021-06-09T17:08:22.331667Z",
          "iopub.status.busy": "2021-06-09T17:08:22.326628Z",
          "iopub.status.idle": "2021-06-09T17:08:22.356779Z",
          "shell.execute_reply": "2021-06-09T17:08:22.356114Z",
          "shell.execute_reply.started": "2021-06-09T16:47:43.976600Z"
        },
        "papermill": {
          "duration": 0.155995,
          "end_time": "2021-06-09T17:08:22.356921",
          "exception": false,
          "start_time": "2021-06-09T17:08:22.200926",
          "status": "completed"
        },
        "tags": [],
        "colab": {
          "base_uri": "https://localhost:8080/"
        },
        "id": "Box98YsJ3mY_",
        "outputId": "eb7e3b02-088f-4a57-df9f-83ab61e62799"
      },
      "outputs": [
        {
          "output_type": "execute_result",
          "data": {
            "text/plain": [
              "['Item_Fat_Content',\n",
              " 'Item_Type',\n",
              " 'Outlet_Size',\n",
              " 'Outlet_Location_Type',\n",
              " 'Outlet_Type']"
            ]
          },
          "metadata": {},
          "execution_count": 175
        }
      ],
      "source": [
        "categorical_columns = X.describe(include='object').columns.to_list()\n",
        "categorical_columns"
      ],
      "id": "Box98YsJ3mY_"
    },
    {
      "cell_type": "code",
      "execution_count": 176,
      "metadata": {
        "execution": {
          "iopub.execute_input": "2021-06-09T17:08:22.606057Z",
          "iopub.status.busy": "2021-06-09T17:08:22.605377Z",
          "iopub.status.idle": "2021-06-09T17:08:22.618337Z",
          "shell.execute_reply": "2021-06-09T17:08:22.617774Z",
          "shell.execute_reply.started": "2021-06-09T16:48:20.528938Z"
        },
        "papermill": {
          "duration": 0.141103,
          "end_time": "2021-06-09T17:08:22.618479",
          "exception": false,
          "start_time": "2021-06-09T17:08:22.477376",
          "status": "completed"
        },
        "tags": [],
        "id": "W2in9i903mY_"
      },
      "outputs": [],
      "source": [
        "X= pd.get_dummies(X,categorical_columns)"
      ],
      "id": "W2in9i903mY_"
    },
    {
      "cell_type": "code",
      "execution_count": 177,
      "metadata": {
        "execution": {
          "iopub.execute_input": "2021-06-09T17:08:22.866091Z",
          "iopub.status.busy": "2021-06-09T17:08:22.865358Z",
          "iopub.status.idle": "2021-06-09T17:08:23.092257Z",
          "shell.execute_reply": "2021-06-09T17:08:23.091563Z",
          "shell.execute_reply.started": "2021-06-09T16:48:32.830741Z"
        },
        "papermill": {
          "duration": 0.353029,
          "end_time": "2021-06-09T17:08:23.092395",
          "exception": false,
          "start_time": "2021-06-09T17:08:22.739366",
          "status": "completed"
        },
        "tags": [],
        "id": "STUbc0bb3mZA"
      },
      "outputs": [],
      "source": [
        "from sklearn.model_selection import train_test_split\n",
        "X_train, X_test, y_train, y_test = train_test_split(X, y, test_size=0.20, random_state=42)"
      ],
      "id": "STUbc0bb3mZA"
    },
    {
      "cell_type": "code",
      "execution_count": 178,
      "metadata": {
        "execution": {
          "iopub.execute_input": "2021-06-09T17:08:23.351434Z",
          "iopub.status.busy": "2021-06-09T17:08:23.349975Z",
          "iopub.status.idle": "2021-06-09T17:08:23.357227Z",
          "shell.execute_reply": "2021-06-09T17:08:23.356485Z",
          "shell.execute_reply.started": "2021-06-09T16:48:41.859896Z"
        },
        "papermill": {
          "duration": 0.143453,
          "end_time": "2021-06-09T17:08:23.357384",
          "exception": false,
          "start_time": "2021-06-09T17:08:23.213931",
          "status": "completed"
        },
        "tags": [],
        "colab": {
          "base_uri": "https://localhost:8080/",
          "height": 287
        },
        "id": "I_XXfT443mZA",
        "outputId": "d60f0fcc-9643-432a-9fca-fac7656fbea2"
      },
      "outputs": [
        {
          "output_type": "execute_result",
          "data": {
            "text/html": [
              "\n",
              "  <div id=\"df-35f73e70-328e-4466-bfcb-9bd3f87ea0c0\">\n",
              "    <div class=\"colab-df-container\">\n",
              "      <div>\n",
              "<style scoped>\n",
              "    .dataframe tbody tr th:only-of-type {\n",
              "        vertical-align: middle;\n",
              "    }\n",
              "\n",
              "    .dataframe tbody tr th {\n",
              "        vertical-align: top;\n",
              "    }\n",
              "\n",
              "    .dataframe thead th {\n",
              "        text-align: right;\n",
              "    }\n",
              "</style>\n",
              "<table border=\"1\" class=\"dataframe\">\n",
              "  <thead>\n",
              "    <tr style=\"text-align: right;\">\n",
              "      <th></th>\n",
              "      <th>Item_Visibility</th>\n",
              "      <th>Item_MRP</th>\n",
              "      <th>Outlet_age</th>\n",
              "      <th>Item_Weight_random</th>\n",
              "      <th>Item_Fat_Content_Low Fat</th>\n",
              "      <th>Item_Fat_Content_Regular</th>\n",
              "      <th>Item_Type_edible</th>\n",
              "      <th>Item_Type_non-edible</th>\n",
              "      <th>Outlet_Size_High</th>\n",
              "      <th>Outlet_Size_Medium</th>\n",
              "      <th>Outlet_Size_Small</th>\n",
              "      <th>Outlet_Location_Type_Tier 1</th>\n",
              "      <th>Outlet_Location_Type_Tier 2</th>\n",
              "      <th>Outlet_Location_Type_Tier 3</th>\n",
              "      <th>Outlet_Type_Grocery Store</th>\n",
              "      <th>Outlet_Type_Supermarket Type1</th>\n",
              "      <th>Outlet_Type_Supermarket Type2</th>\n",
              "      <th>Outlet_Type_Supermarket Type3</th>\n",
              "    </tr>\n",
              "  </thead>\n",
              "  <tbody>\n",
              "    <tr>\n",
              "      <th>0</th>\n",
              "      <td>0.016047</td>\n",
              "      <td>249.8092</td>\n",
              "      <td>22</td>\n",
              "      <td>9.30</td>\n",
              "      <td>1</td>\n",
              "      <td>0</td>\n",
              "      <td>1</td>\n",
              "      <td>0</td>\n",
              "      <td>0</td>\n",
              "      <td>1</td>\n",
              "      <td>0</td>\n",
              "      <td>1</td>\n",
              "      <td>0</td>\n",
              "      <td>0</td>\n",
              "      <td>0</td>\n",
              "      <td>1</td>\n",
              "      <td>0</td>\n",
              "      <td>0</td>\n",
              "    </tr>\n",
              "    <tr>\n",
              "      <th>1</th>\n",
              "      <td>0.019278</td>\n",
              "      <td>48.2692</td>\n",
              "      <td>12</td>\n",
              "      <td>5.92</td>\n",
              "      <td>0</td>\n",
              "      <td>1</td>\n",
              "      <td>1</td>\n",
              "      <td>0</td>\n",
              "      <td>0</td>\n",
              "      <td>1</td>\n",
              "      <td>0</td>\n",
              "      <td>0</td>\n",
              "      <td>0</td>\n",
              "      <td>1</td>\n",
              "      <td>0</td>\n",
              "      <td>0</td>\n",
              "      <td>1</td>\n",
              "      <td>0</td>\n",
              "    </tr>\n",
              "    <tr>\n",
              "      <th>2</th>\n",
              "      <td>0.016760</td>\n",
              "      <td>141.6180</td>\n",
              "      <td>22</td>\n",
              "      <td>17.50</td>\n",
              "      <td>1</td>\n",
              "      <td>0</td>\n",
              "      <td>1</td>\n",
              "      <td>0</td>\n",
              "      <td>0</td>\n",
              "      <td>1</td>\n",
              "      <td>0</td>\n",
              "      <td>1</td>\n",
              "      <td>0</td>\n",
              "      <td>0</td>\n",
              "      <td>0</td>\n",
              "      <td>1</td>\n",
              "      <td>0</td>\n",
              "      <td>0</td>\n",
              "    </tr>\n",
              "    <tr>\n",
              "      <th>3</th>\n",
              "      <td>0.000000</td>\n",
              "      <td>182.0950</td>\n",
              "      <td>23</td>\n",
              "      <td>19.20</td>\n",
              "      <td>0</td>\n",
              "      <td>1</td>\n",
              "      <td>1</td>\n",
              "      <td>0</td>\n",
              "      <td>0</td>\n",
              "      <td>1</td>\n",
              "      <td>0</td>\n",
              "      <td>0</td>\n",
              "      <td>0</td>\n",
              "      <td>1</td>\n",
              "      <td>1</td>\n",
              "      <td>0</td>\n",
              "      <td>0</td>\n",
              "      <td>0</td>\n",
              "    </tr>\n",
              "    <tr>\n",
              "      <th>4</th>\n",
              "      <td>0.000000</td>\n",
              "      <td>53.8614</td>\n",
              "      <td>34</td>\n",
              "      <td>8.93</td>\n",
              "      <td>1</td>\n",
              "      <td>0</td>\n",
              "      <td>0</td>\n",
              "      <td>1</td>\n",
              "      <td>1</td>\n",
              "      <td>0</td>\n",
              "      <td>0</td>\n",
              "      <td>0</td>\n",
              "      <td>0</td>\n",
              "      <td>1</td>\n",
              "      <td>0</td>\n",
              "      <td>1</td>\n",
              "      <td>0</td>\n",
              "      <td>0</td>\n",
              "    </tr>\n",
              "  </tbody>\n",
              "</table>\n",
              "</div>\n",
              "      <button class=\"colab-df-convert\" onclick=\"convertToInteractive('df-35f73e70-328e-4466-bfcb-9bd3f87ea0c0')\"\n",
              "              title=\"Convert this dataframe to an interactive table.\"\n",
              "              style=\"display:none;\">\n",
              "        \n",
              "  <svg xmlns=\"http://www.w3.org/2000/svg\" height=\"24px\"viewBox=\"0 0 24 24\"\n",
              "       width=\"24px\">\n",
              "    <path d=\"M0 0h24v24H0V0z\" fill=\"none\"/>\n",
              "    <path d=\"M18.56 5.44l.94 2.06.94-2.06 2.06-.94-2.06-.94-.94-2.06-.94 2.06-2.06.94zm-11 1L8.5 8.5l.94-2.06 2.06-.94-2.06-.94L8.5 2.5l-.94 2.06-2.06.94zm10 10l.94 2.06.94-2.06 2.06-.94-2.06-.94-.94-2.06-.94 2.06-2.06.94z\"/><path d=\"M17.41 7.96l-1.37-1.37c-.4-.4-.92-.59-1.43-.59-.52 0-1.04.2-1.43.59L10.3 9.45l-7.72 7.72c-.78.78-.78 2.05 0 2.83L4 21.41c.39.39.9.59 1.41.59.51 0 1.02-.2 1.41-.59l7.78-7.78 2.81-2.81c.8-.78.8-2.07 0-2.86zM5.41 20L4 18.59l7.72-7.72 1.47 1.35L5.41 20z\"/>\n",
              "  </svg>\n",
              "      </button>\n",
              "      \n",
              "  <style>\n",
              "    .colab-df-container {\n",
              "      display:flex;\n",
              "      flex-wrap:wrap;\n",
              "      gap: 12px;\n",
              "    }\n",
              "\n",
              "    .colab-df-convert {\n",
              "      background-color: #E8F0FE;\n",
              "      border: none;\n",
              "      border-radius: 50%;\n",
              "      cursor: pointer;\n",
              "      display: none;\n",
              "      fill: #1967D2;\n",
              "      height: 32px;\n",
              "      padding: 0 0 0 0;\n",
              "      width: 32px;\n",
              "    }\n",
              "\n",
              "    .colab-df-convert:hover {\n",
              "      background-color: #E2EBFA;\n",
              "      box-shadow: 0px 1px 2px rgba(60, 64, 67, 0.3), 0px 1px 3px 1px rgba(60, 64, 67, 0.15);\n",
              "      fill: #174EA6;\n",
              "    }\n",
              "\n",
              "    [theme=dark] .colab-df-convert {\n",
              "      background-color: #3B4455;\n",
              "      fill: #D2E3FC;\n",
              "    }\n",
              "\n",
              "    [theme=dark] .colab-df-convert:hover {\n",
              "      background-color: #434B5C;\n",
              "      box-shadow: 0px 1px 3px 1px rgba(0, 0, 0, 0.15);\n",
              "      filter: drop-shadow(0px 1px 2px rgba(0, 0, 0, 0.3));\n",
              "      fill: #FFFFFF;\n",
              "    }\n",
              "  </style>\n",
              "\n",
              "      <script>\n",
              "        const buttonEl =\n",
              "          document.querySelector('#df-35f73e70-328e-4466-bfcb-9bd3f87ea0c0 button.colab-df-convert');\n",
              "        buttonEl.style.display =\n",
              "          google.colab.kernel.accessAllowed ? 'block' : 'none';\n",
              "\n",
              "        async function convertToInteractive(key) {\n",
              "          const element = document.querySelector('#df-35f73e70-328e-4466-bfcb-9bd3f87ea0c0');\n",
              "          const dataTable =\n",
              "            await google.colab.kernel.invokeFunction('convertToInteractive',\n",
              "                                                     [key], {});\n",
              "          if (!dataTable) return;\n",
              "\n",
              "          const docLinkHtml = 'Like what you see? Visit the ' +\n",
              "            '<a target=\"_blank\" href=https://colab.research.google.com/notebooks/data_table.ipynb>data table notebook</a>'\n",
              "            + ' to learn more about interactive tables.';\n",
              "          element.innerHTML = '';\n",
              "          dataTable['output_type'] = 'display_data';\n",
              "          await google.colab.output.renderOutput(dataTable, element);\n",
              "          const docLink = document.createElement('div');\n",
              "          docLink.innerHTML = docLinkHtml;\n",
              "          element.appendChild(docLink);\n",
              "        }\n",
              "      </script>\n",
              "    </div>\n",
              "  </div>\n",
              "  "
            ],
            "text/plain": [
              "   Item_Visibility  ...  Outlet_Type_Supermarket Type3\n",
              "0         0.016047  ...                              0\n",
              "1         0.019278  ...                              0\n",
              "2         0.016760  ...                              0\n",
              "3         0.000000  ...                              0\n",
              "4         0.000000  ...                              0\n",
              "\n",
              "[5 rows x 18 columns]"
            ]
          },
          "metadata": {},
          "execution_count": 178
        }
      ],
      "source": [
        "X.head()"
      ],
      "id": "I_XXfT443mZA"
    },
    {
      "cell_type": "code",
      "execution_count": 179,
      "metadata": {
        "execution": {
          "iopub.execute_input": "2021-06-09T17:08:23.615084Z",
          "iopub.status.busy": "2021-06-09T17:08:23.610725Z",
          "iopub.status.idle": "2021-06-09T17:08:23.636413Z",
          "shell.execute_reply": "2021-06-09T17:08:23.635834Z",
          "shell.execute_reply.started": "2021-06-09T16:49:01.119526Z"
        },
        "papermill": {
          "duration": 0.154431,
          "end_time": "2021-06-09T17:08:23.636561",
          "exception": false,
          "start_time": "2021-06-09T17:08:23.482130",
          "status": "completed"
        },
        "tags": [],
        "colab": {
          "base_uri": "https://localhost:8080/"
        },
        "id": "qGxLvjqT3mZA",
        "outputId": "e81df621-5708-4c68-c99c-92f4d160666e"
      },
      "outputs": [
        {
          "output_type": "execute_result",
          "data": {
            "text/plain": [
              "['Item_Fat_Content',\n",
              " 'Item_Type',\n",
              " 'Outlet_Size',\n",
              " 'Outlet_Location_Type',\n",
              " 'Outlet_Type']"
            ]
          },
          "metadata": {},
          "execution_count": 179
        }
      ],
      "source": [
        "categorical_columns2 = new_data.describe(include='object').columns.to_list()\n",
        "categorical_columns2"
      ],
      "id": "qGxLvjqT3mZA"
    },
    {
      "cell_type": "code",
      "execution_count": 180,
      "metadata": {
        "execution": {
          "iopub.execute_input": "2021-06-09T17:08:23.890386Z",
          "iopub.status.busy": "2021-06-09T17:08:23.888626Z",
          "iopub.status.idle": "2021-06-09T17:08:23.899160Z",
          "shell.execute_reply": "2021-06-09T17:08:23.899751Z",
          "shell.execute_reply.started": "2021-06-09T16:49:14.862012Z"
        },
        "papermill": {
          "duration": 0.143315,
          "end_time": "2021-06-09T17:08:23.899927",
          "exception": false,
          "start_time": "2021-06-09T17:08:23.756612",
          "status": "completed"
        },
        "tags": [],
        "id": "W2pX6rP13mZB"
      },
      "outputs": [],
      "source": [
        "new_data= pd.get_dummies(new_data,categorical_columns2)"
      ],
      "id": "W2pX6rP13mZB"
    },
    {
      "cell_type": "code",
      "execution_count": 181,
      "metadata": {
        "execution": {
          "iopub.execute_input": "2021-06-09T17:08:24.144107Z",
          "iopub.status.busy": "2021-06-09T17:08:24.143155Z",
          "iopub.status.idle": "2021-06-09T17:08:24.162716Z",
          "shell.execute_reply": "2021-06-09T17:08:24.163321Z",
          "shell.execute_reply.started": "2021-06-09T16:49:29.634932Z"
        },
        "papermill": {
          "duration": 0.143455,
          "end_time": "2021-06-09T17:08:24.163508",
          "exception": false,
          "start_time": "2021-06-09T17:08:24.020053",
          "status": "completed"
        },
        "tags": [],
        "colab": {
          "base_uri": "https://localhost:8080/",
          "height": 287
        },
        "id": "CPw2v6tw3mZB",
        "outputId": "5e957214-4cf4-4e15-e388-ea490a6e5f1e"
      },
      "outputs": [
        {
          "output_type": "execute_result",
          "data": {
            "text/html": [
              "\n",
              "  <div id=\"df-8fcd1db1-4bda-430d-b505-9db3ec5a47df\">\n",
              "    <div class=\"colab-df-container\">\n",
              "      <div>\n",
              "<style scoped>\n",
              "    .dataframe tbody tr th:only-of-type {\n",
              "        vertical-align: middle;\n",
              "    }\n",
              "\n",
              "    .dataframe tbody tr th {\n",
              "        vertical-align: top;\n",
              "    }\n",
              "\n",
              "    .dataframe thead th {\n",
              "        text-align: right;\n",
              "    }\n",
              "</style>\n",
              "<table border=\"1\" class=\"dataframe\">\n",
              "  <thead>\n",
              "    <tr style=\"text-align: right;\">\n",
              "      <th></th>\n",
              "      <th>Item_Visibility</th>\n",
              "      <th>Item_MRP</th>\n",
              "      <th>Outlet_age</th>\n",
              "      <th>Item_Weight_random</th>\n",
              "      <th>Item_Fat_Content_Low Fat</th>\n",
              "      <th>Item_Fat_Content_Regular</th>\n",
              "      <th>Item_Type_edible</th>\n",
              "      <th>Item_Type_non-edible</th>\n",
              "      <th>Outlet_Size_High</th>\n",
              "      <th>Outlet_Size_Medium</th>\n",
              "      <th>Outlet_Size_Small</th>\n",
              "      <th>Outlet_Location_Type_Tier 1</th>\n",
              "      <th>Outlet_Location_Type_Tier 2</th>\n",
              "      <th>Outlet_Location_Type_Tier 3</th>\n",
              "      <th>Outlet_Type_Grocery Store</th>\n",
              "      <th>Outlet_Type_Supermarket Type1</th>\n",
              "      <th>Outlet_Type_Supermarket Type2</th>\n",
              "      <th>Outlet_Type_Supermarket Type3</th>\n",
              "    </tr>\n",
              "  </thead>\n",
              "  <tbody>\n",
              "    <tr>\n",
              "      <th>0</th>\n",
              "      <td>0.007565</td>\n",
              "      <td>107.8622</td>\n",
              "      <td>22</td>\n",
              "      <td>20.750</td>\n",
              "      <td>1</td>\n",
              "      <td>0</td>\n",
              "      <td>1</td>\n",
              "      <td>0</td>\n",
              "      <td>0</td>\n",
              "      <td>1</td>\n",
              "      <td>0</td>\n",
              "      <td>1</td>\n",
              "      <td>0</td>\n",
              "      <td>0</td>\n",
              "      <td>0</td>\n",
              "      <td>1</td>\n",
              "      <td>0</td>\n",
              "      <td>0</td>\n",
              "    </tr>\n",
              "    <tr>\n",
              "      <th>1</th>\n",
              "      <td>0.038428</td>\n",
              "      <td>87.3198</td>\n",
              "      <td>14</td>\n",
              "      <td>8.300</td>\n",
              "      <td>0</td>\n",
              "      <td>1</td>\n",
              "      <td>1</td>\n",
              "      <td>0</td>\n",
              "      <td>0</td>\n",
              "      <td>1</td>\n",
              "      <td>0</td>\n",
              "      <td>0</td>\n",
              "      <td>1</td>\n",
              "      <td>0</td>\n",
              "      <td>0</td>\n",
              "      <td>1</td>\n",
              "      <td>0</td>\n",
              "      <td>0</td>\n",
              "    </tr>\n",
              "    <tr>\n",
              "      <th>2</th>\n",
              "      <td>0.099575</td>\n",
              "      <td>241.7538</td>\n",
              "      <td>23</td>\n",
              "      <td>14.600</td>\n",
              "      <td>1</td>\n",
              "      <td>0</td>\n",
              "      <td>0</td>\n",
              "      <td>1</td>\n",
              "      <td>0</td>\n",
              "      <td>1</td>\n",
              "      <td>0</td>\n",
              "      <td>0</td>\n",
              "      <td>0</td>\n",
              "      <td>1</td>\n",
              "      <td>1</td>\n",
              "      <td>0</td>\n",
              "      <td>0</td>\n",
              "      <td>0</td>\n",
              "    </tr>\n",
              "    <tr>\n",
              "      <th>3</th>\n",
              "      <td>0.015388</td>\n",
              "      <td>155.0340</td>\n",
              "      <td>14</td>\n",
              "      <td>7.315</td>\n",
              "      <td>1</td>\n",
              "      <td>0</td>\n",
              "      <td>1</td>\n",
              "      <td>0</td>\n",
              "      <td>0</td>\n",
              "      <td>1</td>\n",
              "      <td>0</td>\n",
              "      <td>0</td>\n",
              "      <td>1</td>\n",
              "      <td>0</td>\n",
              "      <td>0</td>\n",
              "      <td>1</td>\n",
              "      <td>0</td>\n",
              "      <td>0</td>\n",
              "    </tr>\n",
              "    <tr>\n",
              "      <th>4</th>\n",
              "      <td>0.118599</td>\n",
              "      <td>234.2300</td>\n",
              "      <td>36</td>\n",
              "      <td>15.100</td>\n",
              "      <td>0</td>\n",
              "      <td>1</td>\n",
              "      <td>1</td>\n",
              "      <td>0</td>\n",
              "      <td>0</td>\n",
              "      <td>1</td>\n",
              "      <td>0</td>\n",
              "      <td>0</td>\n",
              "      <td>0</td>\n",
              "      <td>1</td>\n",
              "      <td>0</td>\n",
              "      <td>0</td>\n",
              "      <td>0</td>\n",
              "      <td>1</td>\n",
              "    </tr>\n",
              "  </tbody>\n",
              "</table>\n",
              "</div>\n",
              "      <button class=\"colab-df-convert\" onclick=\"convertToInteractive('df-8fcd1db1-4bda-430d-b505-9db3ec5a47df')\"\n",
              "              title=\"Convert this dataframe to an interactive table.\"\n",
              "              style=\"display:none;\">\n",
              "        \n",
              "  <svg xmlns=\"http://www.w3.org/2000/svg\" height=\"24px\"viewBox=\"0 0 24 24\"\n",
              "       width=\"24px\">\n",
              "    <path d=\"M0 0h24v24H0V0z\" fill=\"none\"/>\n",
              "    <path d=\"M18.56 5.44l.94 2.06.94-2.06 2.06-.94-2.06-.94-.94-2.06-.94 2.06-2.06.94zm-11 1L8.5 8.5l.94-2.06 2.06-.94-2.06-.94L8.5 2.5l-.94 2.06-2.06.94zm10 10l.94 2.06.94-2.06 2.06-.94-2.06-.94-.94-2.06-.94 2.06-2.06.94z\"/><path d=\"M17.41 7.96l-1.37-1.37c-.4-.4-.92-.59-1.43-.59-.52 0-1.04.2-1.43.59L10.3 9.45l-7.72 7.72c-.78.78-.78 2.05 0 2.83L4 21.41c.39.39.9.59 1.41.59.51 0 1.02-.2 1.41-.59l7.78-7.78 2.81-2.81c.8-.78.8-2.07 0-2.86zM5.41 20L4 18.59l7.72-7.72 1.47 1.35L5.41 20z\"/>\n",
              "  </svg>\n",
              "      </button>\n",
              "      \n",
              "  <style>\n",
              "    .colab-df-container {\n",
              "      display:flex;\n",
              "      flex-wrap:wrap;\n",
              "      gap: 12px;\n",
              "    }\n",
              "\n",
              "    .colab-df-convert {\n",
              "      background-color: #E8F0FE;\n",
              "      border: none;\n",
              "      border-radius: 50%;\n",
              "      cursor: pointer;\n",
              "      display: none;\n",
              "      fill: #1967D2;\n",
              "      height: 32px;\n",
              "      padding: 0 0 0 0;\n",
              "      width: 32px;\n",
              "    }\n",
              "\n",
              "    .colab-df-convert:hover {\n",
              "      background-color: #E2EBFA;\n",
              "      box-shadow: 0px 1px 2px rgba(60, 64, 67, 0.3), 0px 1px 3px 1px rgba(60, 64, 67, 0.15);\n",
              "      fill: #174EA6;\n",
              "    }\n",
              "\n",
              "    [theme=dark] .colab-df-convert {\n",
              "      background-color: #3B4455;\n",
              "      fill: #D2E3FC;\n",
              "    }\n",
              "\n",
              "    [theme=dark] .colab-df-convert:hover {\n",
              "      background-color: #434B5C;\n",
              "      box-shadow: 0px 1px 3px 1px rgba(0, 0, 0, 0.15);\n",
              "      filter: drop-shadow(0px 1px 2px rgba(0, 0, 0, 0.3));\n",
              "      fill: #FFFFFF;\n",
              "    }\n",
              "  </style>\n",
              "\n",
              "      <script>\n",
              "        const buttonEl =\n",
              "          document.querySelector('#df-8fcd1db1-4bda-430d-b505-9db3ec5a47df button.colab-df-convert');\n",
              "        buttonEl.style.display =\n",
              "          google.colab.kernel.accessAllowed ? 'block' : 'none';\n",
              "\n",
              "        async function convertToInteractive(key) {\n",
              "          const element = document.querySelector('#df-8fcd1db1-4bda-430d-b505-9db3ec5a47df');\n",
              "          const dataTable =\n",
              "            await google.colab.kernel.invokeFunction('convertToInteractive',\n",
              "                                                     [key], {});\n",
              "          if (!dataTable) return;\n",
              "\n",
              "          const docLinkHtml = 'Like what you see? Visit the ' +\n",
              "            '<a target=\"_blank\" href=https://colab.research.google.com/notebooks/data_table.ipynb>data table notebook</a>'\n",
              "            + ' to learn more about interactive tables.';\n",
              "          element.innerHTML = '';\n",
              "          dataTable['output_type'] = 'display_data';\n",
              "          await google.colab.output.renderOutput(dataTable, element);\n",
              "          const docLink = document.createElement('div');\n",
              "          docLink.innerHTML = docLinkHtml;\n",
              "          element.appendChild(docLink);\n",
              "        }\n",
              "      </script>\n",
              "    </div>\n",
              "  </div>\n",
              "  "
            ],
            "text/plain": [
              "   Item_Visibility  ...  Outlet_Type_Supermarket Type3\n",
              "0         0.007565  ...                              0\n",
              "1         0.038428  ...                              0\n",
              "2         0.099575  ...                              0\n",
              "3         0.015388  ...                              0\n",
              "4         0.118599  ...                              1\n",
              "\n",
              "[5 rows x 18 columns]"
            ]
          },
          "metadata": {},
          "execution_count": 181
        }
      ],
      "source": [
        "new_data.head()"
      ],
      "id": "CPw2v6tw3mZB"
    },
    {
      "cell_type": "markdown",
      "metadata": {
        "papermill": {
          "duration": 0.11938,
          "end_time": "2021-06-09T17:08:24.414023",
          "exception": false,
          "start_time": "2021-06-09T17:08:24.294643",
          "status": "completed"
        },
        "tags": [],
        "id": "fhWEs8EH3mZC"
      },
      "source": [
        "FEATURE SELECTION"
      ],
      "id": "fhWEs8EH3mZC"
    },
    {
      "cell_type": "code",
      "execution_count": 182,
      "metadata": {
        "execution": {
          "iopub.execute_input": "2021-06-09T17:08:24.658176Z",
          "iopub.status.busy": "2021-06-09T17:08:24.657193Z",
          "iopub.status.idle": "2021-06-09T17:08:26.991815Z",
          "shell.execute_reply": "2021-06-09T17:08:26.992360Z",
          "shell.execute_reply.started": "2021-06-09T16:50:03.973474Z"
        },
        "papermill": {
          "duration": 2.458328,
          "end_time": "2021-06-09T17:08:26.992542",
          "exception": false,
          "start_time": "2021-06-09T17:08:24.534214",
          "status": "completed"
        },
        "tags": [],
        "colab": {
          "base_uri": "https://localhost:8080/"
        },
        "id": "MlUOyQzL3mZC",
        "outputId": "e68bce80-c7b9-49a4-da7f-57613e4416ce"
      },
      "outputs": [
        {
          "output_type": "execute_result",
          "data": {
            "text/plain": [
              "ExtraTreesRegressor()"
            ]
          },
          "metadata": {},
          "execution_count": 182
        }
      ],
      "source": [
        "from sklearn.ensemble import ExtraTreesRegressor\n",
        "import matplotlib.pyplot as plt\n",
        "model = ExtraTreesRegressor()\n",
        "model.fit(X_train,y_train)"
      ],
      "id": "MlUOyQzL3mZC"
    },
    {
      "cell_type": "code",
      "execution_count": 183,
      "metadata": {
        "execution": {
          "iopub.execute_input": "2021-06-09T17:08:27.240805Z",
          "iopub.status.busy": "2021-06-09T17:08:27.240094Z",
          "iopub.status.idle": "2021-06-09T17:08:27.274369Z",
          "shell.execute_reply": "2021-06-09T17:08:27.273817Z",
          "shell.execute_reply.started": "2021-06-09T16:50:11.872946Z"
        },
        "papermill": {
          "duration": 0.16066,
          "end_time": "2021-06-09T17:08:27.274591",
          "exception": false,
          "start_time": "2021-06-09T17:08:27.113931",
          "status": "completed"
        },
        "tags": [],
        "id": "oqtOVKg53mZD"
      },
      "outputs": [],
      "source": [
        "rank=model.feature_importances_"
      ],
      "id": "oqtOVKg53mZD"
    },
    {
      "cell_type": "code",
      "execution_count": 184,
      "metadata": {
        "execution": {
          "iopub.execute_input": "2021-06-09T17:08:27.522466Z",
          "iopub.status.busy": "2021-06-09T17:08:27.521810Z",
          "iopub.status.idle": "2021-06-09T17:08:27.822739Z",
          "shell.execute_reply": "2021-06-09T17:08:27.822115Z",
          "shell.execute_reply.started": "2021-06-09T16:50:18.810929Z"
        },
        "papermill": {
          "duration": 0.426955,
          "end_time": "2021-06-09T17:08:27.822877",
          "exception": false,
          "start_time": "2021-06-09T17:08:27.395922",
          "status": "completed"
        },
        "tags": [],
        "colab": {
          "base_uri": "https://localhost:8080/",
          "height": 264
        },
        "id": "UIwAzpAR3mZD",
        "outputId": "fa5c4f3e-c227-4012-c17f-ee4cff34cb24"
      },
      "outputs": [
        {
          "output_type": "display_data",
          "data": {
            "image/png": "[encoded data removed]",
            "text/plain": [
              "<Figure size 432x288 with 1 Axes>"
            ]
          },
          "metadata": {
            "needs_background": "light"
          }
        }
      ],
      "source": [
        "feat_importances = pd.Series(model.feature_importances_, index=X_train.columns)\n",
        "feat_importances.nlargest(18).plot(kind='barh')\n",
        "plt.show()"
      ],
      "id": "UIwAzpAR3mZD"
    },
    {
      "cell_type": "code",
      "execution_count": 185,
      "metadata": {
        "execution": {
          "iopub.execute_input": "2021-06-09T17:08:28.073778Z",
          "iopub.status.busy": "2021-06-09T17:08:28.073086Z",
          "iopub.status.idle": "2021-06-09T17:08:28.075767Z",
          "shell.execute_reply": "2021-06-09T17:08:28.075216Z",
          "shell.execute_reply.started": "2021-06-09T16:50:43.033258Z"
        },
        "papermill": {
          "duration": 0.130856,
          "end_time": "2021-06-09T17:08:28.075901",
          "exception": false,
          "start_time": "2021-06-09T17:08:27.945045",
          "status": "completed"
        },
        "tags": [],
        "id": "pFUFUIvH3mZD"
      },
      "outputs": [],
      "source": [
        "#Dropping unnecessary features that have below 0% can be done but in this case, since they are giving 0.002% information , i did not want to loose any minute information as well. \n",
        "#therefore no dropping is perfomed"
      ],
      "id": "pFUFUIvH3mZD"
    },
    {
      "cell_type": "code",
      "execution_count": 186,
      "metadata": {
        "execution": {
          "iopub.execute_input": "2021-06-09T17:08:28.323620Z",
          "iopub.status.busy": "2021-06-09T17:08:28.322961Z",
          "iopub.status.idle": "2021-06-09T17:08:28.327110Z",
          "shell.execute_reply": "2021-06-09T17:08:28.327535Z",
          "shell.execute_reply.started": "2021-06-09T16:50:51.619546Z"
        },
        "papermill": {
          "duration": 0.130583,
          "end_time": "2021-06-09T17:08:28.327738",
          "exception": false,
          "start_time": "2021-06-09T17:08:28.197155",
          "status": "completed"
        },
        "tags": [],
        "colab": {
          "base_uri": "https://localhost:8080/"
        },
        "id": "pFW7QG2D3mZE",
        "outputId": "338bc407-4238-435d-f80b-8881329dd950"
      },
      "outputs": [
        {
          "output_type": "execute_result",
          "data": {
            "text/plain": [
              "(6818, 18)"
            ]
          },
          "metadata": {},
          "execution_count": 186
        }
      ],
      "source": [
        "X_train.shape"
      ],
      "id": "pFW7QG2D3mZE"
    },
    {
      "cell_type": "code",
      "execution_count": 187,
      "metadata": {
        "execution": {
          "iopub.execute_input": "2021-06-09T17:08:28.579168Z",
          "iopub.status.busy": "2021-06-09T17:08:28.578505Z",
          "iopub.status.idle": "2021-06-09T17:08:28.583143Z",
          "shell.execute_reply": "2021-06-09T17:08:28.582481Z",
          "shell.execute_reply.started": "2021-06-09T16:50:58.823490Z"
        },
        "papermill": {
          "duration": 0.133957,
          "end_time": "2021-06-09T17:08:28.583289",
          "exception": false,
          "start_time": "2021-06-09T17:08:28.449332",
          "status": "completed"
        },
        "tags": [],
        "colab": {
          "base_uri": "https://localhost:8080/"
        },
        "id": "4Dcr-TfK3mZE",
        "outputId": "e308efdd-b525-4f18-9375-cebbeac4fc9e"
      },
      "outputs": [
        {
          "output_type": "execute_result",
          "data": {
            "text/plain": [
              "Item_MRP                         0.451455\n",
              "Outlet_Type_Grocery Store        0.177682\n",
              "Item_Visibility                  0.104254\n",
              "Item_Weight_random               0.100219\n",
              "Outlet_Type_Supermarket Type3    0.070595\n",
              "Outlet_age                       0.020501\n",
              "Item_Fat_Content_Low Fat         0.009937\n",
              "Item_Fat_Content_Regular         0.009920\n",
              "Outlet_Size_Small                0.008355\n",
              "Item_Type_edible                 0.007977\n",
              "Item_Type_non-edible             0.007917\n",
              "Outlet_Size_Medium               0.007838\n",
              "Outlet_Location_Type_Tier 2      0.006974\n",
              "Outlet_Location_Type_Tier 1      0.006830\n",
              "Outlet_Location_Type_Tier 3      0.002671\n",
              "Outlet_Type_Supermarket Type2    0.002405\n",
              "Outlet_Size_High                 0.002280\n",
              "Outlet_Type_Supermarket Type1    0.002189\n",
              "dtype: float64"
            ]
          },
          "metadata": {},
          "execution_count": 187
        }
      ],
      "source": [
        "imp_fea=feat_importances.nlargest(18)\n",
        "imp_fea"
      ],
      "id": "4Dcr-TfK3mZE"
    },
    {
      "cell_type": "markdown",
      "metadata": {
        "papermill": {
          "duration": 0.124235,
          "end_time": "2021-06-09T17:08:28.832136",
          "exception": false,
          "start_time": "2021-06-09T17:08:28.707901",
          "status": "completed"
        },
        "tags": [],
        "id": "6N-N0Ii03mZF"
      },
      "source": [
        "SCALING"
      ],
      "id": "6N-N0Ii03mZF"
    },
    {
      "cell_type": "code",
      "execution_count": 188,
      "metadata": {
        "execution": {
          "iopub.execute_input": "2021-06-09T17:08:29.080711Z",
          "iopub.status.busy": "2021-06-09T17:08:29.080042Z",
          "iopub.status.idle": "2021-06-09T17:08:29.082081Z",
          "shell.execute_reply": "2021-06-09T17:08:29.082533Z",
          "shell.execute_reply.started": "2021-06-09T16:51:32.794940Z"
        },
        "papermill": {
          "duration": 0.128519,
          "end_time": "2021-06-09T17:08:29.082720",
          "exception": false,
          "start_time": "2021-06-09T17:08:28.954201",
          "status": "completed"
        },
        "tags": [],
        "id": "DkbIQuTK3mZF"
      },
      "outputs": [],
      "source": [
        "from sklearn.preprocessing import StandardScaler\n",
        "sc=StandardScaler()"
      ],
      "id": "DkbIQuTK3mZF"
    },
    {
      "cell_type": "code",
      "execution_count": 189,
      "metadata": {
        "execution": {
          "iopub.execute_input": "2021-06-09T17:08:29.360989Z",
          "iopub.status.busy": "2021-06-09T17:08:29.360292Z",
          "iopub.status.idle": "2021-06-09T17:08:29.387301Z",
          "shell.execute_reply": "2021-06-09T17:08:29.386733Z",
          "shell.execute_reply.started": "2021-06-09T16:51:41.267158Z"
        },
        "papermill": {
          "duration": 0.179198,
          "end_time": "2021-06-09T17:08:29.387455",
          "exception": false,
          "start_time": "2021-06-09T17:08:29.208257",
          "status": "completed"
        },
        "tags": [],
        "id": "nMqLC_n83mZF"
      },
      "outputs": [],
      "source": [
        "X_train=sc.fit_transform(X_train)\n",
        "X_train=pd.DataFrame(X_train,columns=X_test.columns)\n",
        "\n",
        "X_test=sc.transform(X_test)\n",
        "X_test=pd.DataFrame(X_test,columns=X_train.columns)"
      ],
      "id": "nMqLC_n83mZF"
    },
    {
      "cell_type": "code",
      "execution_count": 190,
      "metadata": {
        "execution": {
          "iopub.execute_input": "2021-06-09T17:08:29.674182Z",
          "iopub.status.busy": "2021-06-09T17:08:29.666802Z",
          "iopub.status.idle": "2021-06-09T17:08:29.684797Z",
          "shell.execute_reply": "2021-06-09T17:08:29.684027Z",
          "shell.execute_reply.started": "2021-06-09T16:51:53.863077Z"
        },
        "papermill": {
          "duration": 0.164507,
          "end_time": "2021-06-09T17:08:29.684966",
          "exception": false,
          "start_time": "2021-06-09T17:08:29.520459",
          "status": "completed"
        },
        "tags": [],
        "colab": {
          "base_uri": "https://localhost:8080/",
          "height": 287
        },
        "id": "uXUQYsVO3mZG",
        "outputId": "7bafafc9-d76d-45a2-8da6-f0cf83cd1c5d"
      },
      "outputs": [
        {
          "output_type": "execute_result",
          "data": {
            "text/html": [
              "\n",
              "  <div id=\"df-b153349c-2e66-40db-937f-f2cbda76f296\">\n",
              "    <div class=\"colab-df-container\">\n",
              "      <div>\n",
              "<style scoped>\n",
              "    .dataframe tbody tr th:only-of-type {\n",
              "        vertical-align: middle;\n",
              "    }\n",
              "\n",
              "    .dataframe tbody tr th {\n",
              "        vertical-align: top;\n",
              "    }\n",
              "\n",
              "    .dataframe thead th {\n",
              "        text-align: right;\n",
              "    }\n",
              "</style>\n",
              "<table border=\"1\" class=\"dataframe\">\n",
              "  <thead>\n",
              "    <tr style=\"text-align: right;\">\n",
              "      <th></th>\n",
              "      <th>Item_Visibility</th>\n",
              "      <th>Item_MRP</th>\n",
              "      <th>Outlet_age</th>\n",
              "      <th>Item_Weight_random</th>\n",
              "      <th>Item_Fat_Content_Low Fat</th>\n",
              "      <th>Item_Fat_Content_Regular</th>\n",
              "      <th>Item_Type_edible</th>\n",
              "      <th>Item_Type_non-edible</th>\n",
              "      <th>Outlet_Size_High</th>\n",
              "      <th>Outlet_Size_Medium</th>\n",
              "      <th>Outlet_Size_Small</th>\n",
              "      <th>Outlet_Location_Type_Tier 1</th>\n",
              "      <th>Outlet_Location_Type_Tier 2</th>\n",
              "      <th>Outlet_Location_Type_Tier 3</th>\n",
              "      <th>Outlet_Type_Grocery Store</th>\n",
              "      <th>Outlet_Type_Supermarket Type1</th>\n",
              "      <th>Outlet_Type_Supermarket Type2</th>\n",
              "      <th>Outlet_Type_Supermarket Type3</th>\n",
              "    </tr>\n",
              "  </thead>\n",
              "  <tbody>\n",
              "    <tr>\n",
              "      <th>0</th>\n",
              "      <td>-0.600703</td>\n",
              "      <td>0.470709</td>\n",
              "      <td>-0.136169</td>\n",
              "      <td>-0.724616</td>\n",
              "      <td>-1.344216</td>\n",
              "      <td>1.344216</td>\n",
              "      <td>0.483533</td>\n",
              "      <td>-0.483533</td>\n",
              "      <td>-0.349985</td>\n",
              "      <td>0.797369</td>\n",
              "      <td>-0.622920</td>\n",
              "      <td>1.623061</td>\n",
              "      <td>-0.699265</td>\n",
              "      <td>-0.810472</td>\n",
              "      <td>-0.379673</td>\n",
              "      <td>0.73042</td>\n",
              "      <td>-0.352093</td>\n",
              "      <td>-0.354457</td>\n",
              "    </tr>\n",
              "    <tr>\n",
              "      <th>1</th>\n",
              "      <td>-0.362159</td>\n",
              "      <td>0.457877</td>\n",
              "      <td>-0.493521</td>\n",
              "      <td>1.111785</td>\n",
              "      <td>0.743928</td>\n",
              "      <td>-0.743928</td>\n",
              "      <td>-2.068113</td>\n",
              "      <td>2.068113</td>\n",
              "      <td>-0.349985</td>\n",
              "      <td>0.797369</td>\n",
              "      <td>-0.622920</td>\n",
              "      <td>-0.616120</td>\n",
              "      <td>1.430073</td>\n",
              "      <td>-0.810472</td>\n",
              "      <td>-0.379673</td>\n",
              "      <td>0.73042</td>\n",
              "      <td>-0.352093</td>\n",
              "      <td>-0.354457</td>\n",
              "    </tr>\n",
              "    <tr>\n",
              "      <th>2</th>\n",
              "      <td>0.194933</td>\n",
              "      <td>-0.482625</td>\n",
              "      <td>0.102066</td>\n",
              "      <td>1.025366</td>\n",
              "      <td>-1.344216</td>\n",
              "      <td>1.344216</td>\n",
              "      <td>0.483533</td>\n",
              "      <td>-0.483533</td>\n",
              "      <td>-0.349985</td>\n",
              "      <td>-1.254125</td>\n",
              "      <td>1.605343</td>\n",
              "      <td>1.623061</td>\n",
              "      <td>-0.699265</td>\n",
              "      <td>-0.810472</td>\n",
              "      <td>-0.379673</td>\n",
              "      <td>0.73042</td>\n",
              "      <td>-0.352093</td>\n",
              "      <td>-0.354457</td>\n",
              "    </tr>\n",
              "    <tr>\n",
              "      <th>3</th>\n",
              "      <td>-0.704944</td>\n",
              "      <td>-1.603553</td>\n",
              "      <td>-0.493521</td>\n",
              "      <td>-0.978471</td>\n",
              "      <td>0.743928</td>\n",
              "      <td>-0.743928</td>\n",
              "      <td>0.483533</td>\n",
              "      <td>-0.483533</td>\n",
              "      <td>-0.349985</td>\n",
              "      <td>0.797369</td>\n",
              "      <td>-0.622920</td>\n",
              "      <td>-0.616120</td>\n",
              "      <td>1.430073</td>\n",
              "      <td>-0.810472</td>\n",
              "      <td>-0.379673</td>\n",
              "      <td>0.73042</td>\n",
              "      <td>-0.352093</td>\n",
              "      <td>-0.354457</td>\n",
              "    </tr>\n",
              "    <tr>\n",
              "      <th>4</th>\n",
              "      <td>1.383177</td>\n",
              "      <td>0.218375</td>\n",
              "      <td>0.102066</td>\n",
              "      <td>-0.000858</td>\n",
              "      <td>0.743928</td>\n",
              "      <td>-0.743928</td>\n",
              "      <td>0.483533</td>\n",
              "      <td>-0.483533</td>\n",
              "      <td>-0.349985</td>\n",
              "      <td>-1.254125</td>\n",
              "      <td>1.605343</td>\n",
              "      <td>1.623061</td>\n",
              "      <td>-0.699265</td>\n",
              "      <td>-0.810472</td>\n",
              "      <td>-0.379673</td>\n",
              "      <td>0.73042</td>\n",
              "      <td>-0.352093</td>\n",
              "      <td>-0.354457</td>\n",
              "    </tr>\n",
              "  </tbody>\n",
              "</table>\n",
              "</div>\n",
              "      <button class=\"colab-df-convert\" onclick=\"convertToInteractive('df-b153349c-2e66-40db-937f-f2cbda76f296')\"\n",
              "              title=\"Convert this dataframe to an interactive table.\"\n",
              "              style=\"display:none;\">\n",
              "        \n",
              "  <svg xmlns=\"http://www.w3.org/2000/svg\" height=\"24px\"viewBox=\"0 0 24 24\"\n",
              "       width=\"24px\">\n",
              "    <path d=\"M0 0h24v24H0V0z\" fill=\"none\"/>\n",
              "    <path d=\"M18.56 5.44l.94 2.06.94-2.06 2.06-.94-2.06-.94-.94-2.06-.94 2.06-2.06.94zm-11 1L8.5 8.5l.94-2.06 2.06-.94-2.06-.94L8.5 2.5l-.94 2.06-2.06.94zm10 10l.94 2.06.94-2.06 2.06-.94-2.06-.94-.94-2.06-.94 2.06-2.06.94z\"/><path d=\"M17.41 7.96l-1.37-1.37c-.4-.4-.92-.59-1.43-.59-.52 0-1.04.2-1.43.59L10.3 9.45l-7.72 7.72c-.78.78-.78 2.05 0 2.83L4 21.41c.39.39.9.59 1.41.59.51 0 1.02-.2 1.41-.59l7.78-7.78 2.81-2.81c.8-.78.8-2.07 0-2.86zM5.41 20L4 18.59l7.72-7.72 1.47 1.35L5.41 20z\"/>\n",
              "  </svg>\n",
              "      </button>\n",
              "      \n",
              "  <style>\n",
              "    .colab-df-container {\n",
              "      display:flex;\n",
              "      flex-wrap:wrap;\n",
              "      gap: 12px;\n",
              "    }\n",
              "\n",
              "    .colab-df-convert {\n",
              "      background-color: #E8F0FE;\n",
              "      border: none;\n",
              "      border-radius: 50%;\n",
              "      cursor: pointer;\n",
              "      display: none;\n",
              "      fill: #1967D2;\n",
              "      height: 32px;\n",
              "      padding: 0 0 0 0;\n",
              "      width: 32px;\n",
              "    }\n",
              "\n",
              "    .colab-df-convert:hover {\n",
              "      background-color: #E2EBFA;\n",
              "      box-shadow: 0px 1px 2px rgba(60, 64, 67, 0.3), 0px 1px 3px 1px rgba(60, 64, 67, 0.15);\n",
              "      fill: #174EA6;\n",
              "    }\n",
              "\n",
              "    [theme=dark] .colab-df-convert {\n",
              "      background-color: #3B4455;\n",
              "      fill: #D2E3FC;\n",
              "    }\n",
              "\n",
              "    [theme=dark] .colab-df-convert:hover {\n",
              "      background-color: #434B5C;\n",
              "      box-shadow: 0px 1px 3px 1px rgba(0, 0, 0, 0.15);\n",
              "      filter: drop-shadow(0px 1px 2px rgba(0, 0, 0, 0.3));\n",
              "      fill: #FFFFFF;\n",
              "    }\n",
              "  </style>\n",
              "\n",
              "      <script>\n",
              "        const buttonEl =\n",
              "          document.querySelector('#df-b153349c-2e66-40db-937f-f2cbda76f296 button.colab-df-convert');\n",
              "        buttonEl.style.display =\n",
              "          google.colab.kernel.accessAllowed ? 'block' : 'none';\n",
              "\n",
              "        async function convertToInteractive(key) {\n",
              "          const element = document.querySelector('#df-b153349c-2e66-40db-937f-f2cbda76f296');\n",
              "          const dataTable =\n",
              "            await google.colab.kernel.invokeFunction('convertToInteractive',\n",
              "                                                     [key], {});\n",
              "          if (!dataTable) return;\n",
              "\n",
              "          const docLinkHtml = 'Like what you see? Visit the ' +\n",
              "            '<a target=\"_blank\" href=https://colab.research.google.com/notebooks/data_table.ipynb>data table notebook</a>'\n",
              "            + ' to learn more about interactive tables.';\n",
              "          element.innerHTML = '';\n",
              "          dataTable['output_type'] = 'display_data';\n",
              "          await google.colab.output.renderOutput(dataTable, element);\n",
              "          const docLink = document.createElement('div');\n",
              "          docLink.innerHTML = docLinkHtml;\n",
              "          element.appendChild(docLink);\n",
              "        }\n",
              "      </script>\n",
              "    </div>\n",
              "  </div>\n",
              "  "
            ],
            "text/plain": [
              "   Item_Visibility  ...  Outlet_Type_Supermarket Type3\n",
              "0        -0.600703  ...                      -0.354457\n",
              "1        -0.362159  ...                      -0.354457\n",
              "2         0.194933  ...                      -0.354457\n",
              "3        -0.704944  ...                      -0.354457\n",
              "4         1.383177  ...                      -0.354457\n",
              "\n",
              "[5 rows x 18 columns]"
            ]
          },
          "metadata": {},
          "execution_count": 190
        }
      ],
      "source": [
        "X_train.head()"
      ],
      "id": "uXUQYsVO3mZG"
    },
    {
      "cell_type": "code",
      "execution_count": 191,
      "metadata": {
        "execution": {
          "iopub.execute_input": "2021-06-09T17:08:29.955788Z",
          "iopub.status.busy": "2021-06-09T17:08:29.954491Z",
          "iopub.status.idle": "2021-06-09T17:08:29.965567Z",
          "shell.execute_reply": "2021-06-09T17:08:29.966734Z",
          "shell.execute_reply.started": "2021-06-09T16:52:13.793635Z"
        },
        "papermill": {
          "duration": 0.145066,
          "end_time": "2021-06-09T17:08:29.966936",
          "exception": false,
          "start_time": "2021-06-09T17:08:29.821870",
          "status": "completed"
        },
        "tags": [],
        "id": "X-NWNPfP3mZG"
      },
      "outputs": [],
      "source": [
        "new_data=sc.fit_transform(new_data)\n",
        "new_data=pd.DataFrame(new_data,columns=X_test.columns)"
      ],
      "id": "X-NWNPfP3mZG"
    },
    {
      "cell_type": "markdown",
      "metadata": {
        "papermill": {
          "duration": 0.128824,
          "end_time": "2021-06-09T17:08:30.229987",
          "exception": false,
          "start_time": "2021-06-09T17:08:30.101163",
          "status": "completed"
        },
        "tags": [],
        "id": "AlNtSR873mZH"
      },
      "source": [
        "MODEL IMPLEMENTATION****"
      ],
      "id": "AlNtSR873mZH"
    },
    {
      "cell_type": "markdown",
      "metadata": {
        "papermill": {
          "duration": 0.12644,
          "end_time": "2021-06-09T17:08:30.483924",
          "exception": false,
          "start_time": "2021-06-09T17:08:30.357484",
          "status": "completed"
        },
        "tags": [],
        "id": "IPoA60O93mZH"
      },
      "source": [
        "LINEAR REGRESSION"
      ],
      "id": "IPoA60O93mZH"
    },
    {
      "cell_type": "code",
      "execution_count": 192,
      "metadata": {
        "execution": {
          "iopub.execute_input": "2021-06-09T17:08:30.738805Z",
          "iopub.status.busy": "2021-06-09T17:08:30.738047Z",
          "iopub.status.idle": "2021-06-09T17:08:30.762871Z",
          "shell.execute_reply": "2021-06-09T17:08:30.761811Z",
          "shell.execute_reply.started": "2021-06-09T16:52:59.622421Z"
        },
        "papermill": {
          "duration": 0.156607,
          "end_time": "2021-06-09T17:08:30.763130",
          "exception": false,
          "start_time": "2021-06-09T17:08:30.606523",
          "status": "completed"
        },
        "tags": [],
        "colab": {
          "base_uri": "https://localhost:8080/"
        },
        "id": "D_nWKp063mZH",
        "outputId": "a81a587e-9003-4df7-a8b8-e4c86831d676"
      },
      "outputs": [
        {
          "output_type": "stream",
          "name": "stderr",
          "text": [
            "/usr/local/lib/python3.7/dist-packages/sklearn/linear_model/_base.py:145: FutureWarning: 'normalize' was deprecated in version 1.0 and will be removed in 1.2.\n",
            "If you wish to scale the data, use Pipeline with a StandardScaler in a preprocessing stage. To reproduce the previous behavior:\n",
            "\n",
            "from sklearn.pipeline import make_pipeline\n",
            "\n",
            "model = make_pipeline(StandardScaler(with_mean=False), LinearRegression())\n",
            "\n",
            "If you wish to pass a sample_weight parameter, you need to pass it as a fit parameter to each step of the pipeline as follows:\n",
            "\n",
            "kwargs = {s[0] + '__sample_weight': sample_weight for s in model.steps}\n",
            "model.fit(X, y, **kwargs)\n",
            "\n",
            "\n",
            "  FutureWarning,\n"
          ]
        },
        {
          "output_type": "execute_result",
          "data": {
            "text/plain": [
              "LinearRegression(normalize=True)"
            ]
          },
          "metadata": {},
          "execution_count": 192
        }
      ],
      "source": [
        "from sklearn.linear_model import LinearRegression\n",
        "model1 = LinearRegression(normalize=True)\n",
        "model1.fit(X_train,y_train)"
      ],
      "id": "D_nWKp063mZH"
    },
    {
      "cell_type": "code",
      "execution_count": 193,
      "metadata": {
        "execution": {
          "iopub.execute_input": "2021-06-09T17:08:31.082956Z",
          "iopub.status.busy": "2021-06-09T17:08:31.081655Z",
          "iopub.status.idle": "2021-06-09T17:08:31.092175Z",
          "shell.execute_reply": "2021-06-09T17:08:31.091089Z",
          "shell.execute_reply.started": "2021-06-09T16:53:08.708528Z"
        },
        "papermill": {
          "duration": 0.143898,
          "end_time": "2021-06-09T17:08:31.092496",
          "exception": false,
          "start_time": "2021-06-09T17:08:30.948598",
          "status": "completed"
        },
        "tags": [],
        "colab": {
          "base_uri": "https://localhost:8080/"
        },
        "id": "u4du8MTc3mZI",
        "outputId": "2d3773cb-4643-42fb-c5cf-520fb60082b3"
      },
      "outputs": [
        {
          "output_type": "stream",
          "name": "stdout",
          "text": [
            "r2 score is : 0.5585188091252584\n"
          ]
        }
      ],
      "source": [
        "y_pred_train_model1 = model1.predict(X_train)\n",
        "from sklearn.metrics import r2_score\n",
        "R2 = r2_score(y_train,y_pred_train_model1)\n",
        "print(\"r2 score is :\",R2)"
      ],
      "id": "u4du8MTc3mZI"
    },
    {
      "cell_type": "code",
      "execution_count": 194,
      "metadata": {
        "execution": {
          "iopub.execute_input": "2021-06-09T17:08:31.427899Z",
          "iopub.status.busy": "2021-06-09T17:08:31.426735Z",
          "iopub.status.idle": "2021-06-09T17:08:31.434323Z",
          "shell.execute_reply": "2021-06-09T17:08:31.435422Z",
          "shell.execute_reply.started": "2021-06-09T16:53:16.803538Z"
        },
        "papermill": {
          "duration": 0.145951,
          "end_time": "2021-06-09T17:08:31.435736",
          "exception": false,
          "start_time": "2021-06-09T17:08:31.289785",
          "status": "completed"
        },
        "tags": [],
        "colab": {
          "base_uri": "https://localhost:8080/"
        },
        "id": "gZKvras63mZI",
        "outputId": "543ccfd0-9668-48a0-e4ed-b2fb488cb987"
      },
      "outputs": [
        {
          "output_type": "stream",
          "name": "stdout",
          "text": [
            "r2 score is : 0.5811664141325197\n"
          ]
        }
      ],
      "source": [
        "y_pred_test_model1 = model1.predict(X_test)\n",
        "from sklearn.metrics import r2_score\n",
        "R2 = r2_score(y_test,y_pred_test_model1)\n",
        "print(\"r2 score is :\",R2)"
      ],
      "id": "gZKvras63mZI"
    },
    {
      "cell_type": "code",
      "execution_count": 195,
      "metadata": {
        "execution": {
          "iopub.execute_input": "2021-06-09T17:08:31.767824Z",
          "iopub.status.busy": "2021-06-09T17:08:31.766663Z",
          "iopub.status.idle": "2021-06-09T17:08:31.774935Z",
          "shell.execute_reply": "2021-06-09T17:08:31.774403Z",
          "shell.execute_reply.started": "2021-06-09T16:53:29.161919Z"
        },
        "papermill": {
          "duration": 0.143636,
          "end_time": "2021-06-09T17:08:31.775080",
          "exception": false,
          "start_time": "2021-06-09T17:08:31.631444",
          "status": "completed"
        },
        "tags": [],
        "colab": {
          "base_uri": "https://localhost:8080/"
        },
        "id": "5Dn8ec7Y3mZJ",
        "outputId": "65ab6a4f-5ca6-4227-8325-bc6f11c9ff65"
      },
      "outputs": [
        {
          "output_type": "stream",
          "name": "stdout",
          "text": [
            "MAE: 848.0295677416265\n",
            "MSE: 1305923.5408108472\n",
            "RMSE: 1142.7701172199277\n"
          ]
        }
      ],
      "source": [
        "from sklearn import metrics\n",
        "print('MAE:', metrics.mean_absolute_error(y_train,y_pred_train_model1))\n",
        "print('MSE:', metrics.mean_squared_error(y_train, y_pred_train_model1))\n",
        "print('RMSE:', np.sqrt(metrics.mean_squared_error(y_train, y_pred_train_model1)))"
      ],
      "id": "5Dn8ec7Y3mZJ"
    },
    {
      "cell_type": "code",
      "execution_count": 196,
      "metadata": {
        "execution": {
          "iopub.execute_input": "2021-06-09T17:08:32.047992Z",
          "iopub.status.busy": "2021-06-09T17:08:32.047292Z",
          "iopub.status.idle": "2021-06-09T17:08:32.056540Z",
          "shell.execute_reply": "2021-06-09T17:08:32.055534Z",
          "shell.execute_reply.started": "2021-06-09T16:53:42.686204Z"
        },
        "papermill": {
          "duration": 0.150038,
          "end_time": "2021-06-09T17:08:32.056764",
          "exception": false,
          "start_time": "2021-06-09T17:08:31.906726",
          "status": "completed"
        },
        "tags": [],
        "colab": {
          "base_uri": "https://localhost:8080/"
        },
        "id": "niGABUx23mZJ",
        "outputId": "e90026be-b131-45df-f8f3-41a1e918577a"
      },
      "outputs": [
        {
          "output_type": "stream",
          "name": "stdout",
          "text": [
            "MAE: 790.7853972677088\n",
            "MSE: 1138377.1492815563\n",
            "RMSE: 1066.9475850675872\n"
          ]
        }
      ],
      "source": [
        "from sklearn import metrics\n",
        "print('MAE:', metrics.mean_absolute_error(y_test,y_pred_test_model1))\n",
        "print('MSE:', metrics.mean_squared_error(y_test, y_pred_test_model1))\n",
        "print('RMSE:', np.sqrt(metrics.mean_squared_error(y_test, y_pred_test_model1)))"
      ],
      "id": "niGABUx23mZJ"
    },
    {
      "cell_type": "markdown",
      "metadata": {
        "papermill": {
          "duration": 0.131826,
          "end_time": "2021-06-09T17:08:34.879353",
          "exception": false,
          "start_time": "2021-06-09T17:08:34.747527",
          "status": "completed"
        },
        "tags": [],
        "id": "1GweAGnv3mZM"
      },
      "source": [
        "GradientBoostingRegressor"
      ],
      "id": "1GweAGnv3mZM"
    },
    {
      "cell_type": "code",
      "execution_count": 197,
      "metadata": {
        "execution": {
          "iopub.execute_input": "2021-06-09T17:08:35.140395Z",
          "iopub.status.busy": "2021-06-09T17:08:35.139353Z",
          "iopub.status.idle": "2021-06-09T17:08:35.142537Z",
          "shell.execute_reply": "2021-06-09T17:08:35.143036Z",
          "shell.execute_reply.started": "2021-06-09T17:05:10.599913Z"
        },
        "papermill": {
          "duration": 0.135988,
          "end_time": "2021-06-09T17:08:35.143218",
          "exception": false,
          "start_time": "2021-06-09T17:08:35.007230",
          "status": "completed"
        },
        "tags": [],
        "id": "VKbY9fUt3mZN"
      },
      "outputs": [],
      "source": [
        "from sklearn.ensemble import GradientBoostingRegressor\n",
        "model3= GradientBoostingRegressor()"
      ],
      "id": "VKbY9fUt3mZN"
    },
    {
      "cell_type": "code",
      "execution_count": 198,
      "metadata": {
        "execution": {
          "iopub.execute_input": "2021-06-09T17:08:35.402486Z",
          "iopub.status.busy": "2021-06-09T17:08:35.401492Z",
          "iopub.status.idle": "2021-06-09T17:08:35.404981Z",
          "shell.execute_reply": "2021-06-09T17:08:35.404406Z",
          "shell.execute_reply.started": "2021-06-09T17:05:11.807888Z"
        },
        "papermill": {
          "duration": 0.134159,
          "end_time": "2021-06-09T17:08:35.405127",
          "exception": false,
          "start_time": "2021-06-09T17:08:35.270968",
          "status": "completed"
        },
        "tags": [],
        "id": "jFwWI6CC3mZN"
      },
      "outputs": [],
      "source": [
        "from scipy.stats import uniform as sp_randFloat\n",
        "from scipy.stats import randint as sp_randInt"
      ],
      "id": "jFwWI6CC3mZN"
    },
    {
      "cell_type": "code",
      "execution_count": 199,
      "metadata": {
        "execution": {
          "iopub.execute_input": "2021-06-09T17:08:35.662153Z",
          "iopub.status.busy": "2021-06-09T17:08:35.661110Z",
          "iopub.status.idle": "2021-06-09T17:08:35.664943Z",
          "shell.execute_reply": "2021-06-09T17:08:35.664156Z",
          "shell.execute_reply.started": "2021-06-09T17:05:12.940531Z"
        },
        "papermill": {
          "duration": 0.134363,
          "end_time": "2021-06-09T17:08:35.665101",
          "exception": false,
          "start_time": "2021-06-09T17:08:35.530738",
          "status": "completed"
        },
        "tags": [],
        "id": "i5E5XHFi3mZN"
      },
      "outputs": [],
      "source": [
        "## implementing randomised search cv to get the best parameters"
      ],
      "id": "i5E5XHFi3mZN"
    },
    {
      "cell_type": "code",
      "execution_count": 200,
      "metadata": {
        "execution": {
          "iopub.execute_input": "2021-06-09T17:08:35.946981Z",
          "iopub.status.busy": "2021-06-09T17:08:35.945826Z",
          "iopub.status.idle": "2021-06-09T17:08:35.950160Z",
          "shell.execute_reply": "2021-06-09T17:08:35.949193Z",
          "shell.execute_reply.started": "2021-06-09T17:05:20.353775Z"
        },
        "papermill": {
          "duration": 0.158517,
          "end_time": "2021-06-09T17:08:35.950630",
          "exception": false,
          "start_time": "2021-06-09T17:08:35.792113",
          "status": "completed"
        },
        "tags": [],
        "id": "EbMUAu4c3mZO"
      },
      "outputs": [],
      "source": [
        "params = {'learning_rate': sp_randFloat(),'subsample'    : sp_randFloat(),'n_estimators' : sp_randInt(100, 1000),'max_depth'    : sp_randInt(4, 10)}"
      ],
      "id": "EbMUAu4c3mZO"
    },
    {
      "cell_type": "code",
      "execution_count": 201,
      "metadata": {
        "execution": {
          "iopub.execute_input": "2021-06-09T17:08:36.234730Z",
          "iopub.status.busy": "2021-06-09T17:08:36.234063Z",
          "iopub.status.idle": "2021-06-09T17:09:03.327107Z",
          "shell.execute_reply": "2021-06-09T17:09:03.325935Z",
          "shell.execute_reply.started": "2021-06-09T17:05:21.952506Z"
        },
        "papermill": {
          "duration": 27.235012,
          "end_time": "2021-06-09T17:09:03.327262",
          "exception": false,
          "start_time": "2021-06-09T17:08:36.092250",
          "status": "completed"
        },
        "tags": [],
        "colab": {
          "base_uri": "https://localhost:8080/"
        },
        "id": "ToLYTC1v3mZO",
        "outputId": "ed76ed0c-aa57-4715-f522-a1ad563e9bc0"
      },
      "outputs": [
        {
          "output_type": "execute_result",
          "data": {
            "text/plain": [
              "RandomizedSearchCV(cv=2, estimator=GradientBoostingRegressor(), n_jobs=-1,\n",
              "                   param_distributions={'learning_rate': <scipy.stats._distn_infrastructure.rv_frozen object at 0x7fb86edbbe50>,\n",
              "                                        'max_depth': <scipy.stats._distn_infrastructure.rv_frozen object at 0x7fb86edc2e50>,\n",
              "                                        'n_estimators': <scipy.stats._distn_infrastructure.rv_frozen object at 0x7fb86ed5ca90>,\n",
              "                                        'subsample': <scipy.stats._distn_infrastructure.rv_frozen object at 0x7fb86edbbe90>})"
            ]
          },
          "metadata": {},
          "execution_count": 201
        }
      ],
      "source": [
        "from sklearn.model_selection import RandomizedSearchCV\n",
        "randm_search = RandomizedSearchCV(estimator=model3, param_distributions = params,\n",
        "                               cv = 2, n_iter = 10, n_jobs=-1)\n",
        "randm_search.fit(X_train, y_train)"
      ],
      "id": "ToLYTC1v3mZO"
    },
    {
      "cell_type": "code",
      "execution_count": 202,
      "metadata": {
        "execution": {
          "iopub.execute_input": "2021-06-09T17:09:03.595278Z",
          "iopub.status.busy": "2021-06-09T17:09:03.594318Z",
          "iopub.status.idle": "2021-06-09T17:09:03.598309Z",
          "shell.execute_reply": "2021-06-09T17:09:03.597781Z",
          "shell.execute_reply.started": "2021-06-09T17:06:13.911474Z"
        },
        "papermill": {
          "duration": 0.137282,
          "end_time": "2021-06-09T17:09:03.598447",
          "exception": false,
          "start_time": "2021-06-09T17:09:03.461165",
          "status": "completed"
        },
        "tags": [],
        "colab": {
          "base_uri": "https://localhost:8080/"
        },
        "id": "3-7fT1xf3mZO",
        "outputId": "613754e5-6138-4d8f-b26f-dfeb6697605d"
      },
      "outputs": [
        {
          "output_type": "stream",
          "name": "stdout",
          "text": [
            "Best estimators GradientBoostingRegressor(learning_rate=0.16984830007405938, max_depth=5,\n",
            "                          n_estimators=282, subsample=0.5929231737786759)\n",
            "Best score 0.4536434775590657\n",
            "Best params {'learning_rate': 0.16984830007405938, 'max_depth': 5, 'n_estimators': 282, 'subsample': 0.5929231737786759}\n"
          ]
        }
      ],
      "source": [
        "print(\"Best estimators\",randm_search.best_estimator_)\n",
        "print(\"Best score\",randm_search.best_score_)\n",
        "print(\"Best params\",randm_search.best_params_)"
      ],
      "id": "3-7fT1xf3mZO"
    },
    {
      "cell_type": "code",
      "execution_count": 203,
      "metadata": {
        "execution": {
          "iopub.execute_input": "2021-06-09T17:09:03.858559Z",
          "iopub.status.busy": "2021-06-09T17:09:03.857926Z",
          "iopub.status.idle": "2021-06-09T17:09:03.861077Z",
          "shell.execute_reply": "2021-06-09T17:09:03.860404Z",
          "shell.execute_reply.started": "2021-06-09T17:00:42.529307Z"
        },
        "papermill": {
          "duration": 0.135275,
          "end_time": "2021-06-09T17:09:03.861219",
          "exception": false,
          "start_time": "2021-06-09T17:09:03.725944",
          "status": "completed"
        },
        "tags": [],
        "id": "Ut2TGeIH3mZP"
      },
      "outputs": [],
      "source": [
        "model3=  GradientBoostingRegressor(learning_rate=0.0154291815347819, max_depth=9,\n",
        "                          n_estimators=165, subsample=0.11550214721325958)"
      ],
      "id": "Ut2TGeIH3mZP"
    },
    {
      "cell_type": "code",
      "execution_count": 204,
      "metadata": {
        "execution": {
          "iopub.execute_input": "2021-06-09T17:09:04.124858Z",
          "iopub.status.busy": "2021-06-09T17:09:04.124191Z",
          "iopub.status.idle": "2021-06-09T17:09:04.834524Z",
          "shell.execute_reply": "2021-06-09T17:09:04.833888Z",
          "shell.execute_reply.started": "2021-06-09T17:00:44.755752Z"
        },
        "papermill": {
          "duration": 0.845748,
          "end_time": "2021-06-09T17:09:04.834700",
          "exception": false,
          "start_time": "2021-06-09T17:09:03.988952",
          "status": "completed"
        },
        "tags": [],
        "colab": {
          "base_uri": "https://localhost:8080/"
        },
        "id": "oBf7kEYQ3mZP",
        "outputId": "31623a3a-c8fe-4b71-ca99-514dcda60c0d"
      },
      "outputs": [
        {
          "output_type": "execute_result",
          "data": {
            "text/plain": [
              "GradientBoostingRegressor(learning_rate=0.0154291815347819, max_depth=9,\n",
              "                          n_estimators=165, subsample=0.11550214721325958)"
            ]
          },
          "metadata": {},
          "execution_count": 204
        }
      ],
      "source": [
        "model3.fit(X_train,y_train)"
      ],
      "id": "oBf7kEYQ3mZP"
    },
    {
      "cell_type": "code",
      "execution_count": 205,
      "metadata": {
        "execution": {
          "iopub.execute_input": "2021-06-09T17:09:05.100526Z",
          "iopub.status.busy": "2021-06-09T17:09:05.099874Z",
          "iopub.status.idle": "2021-06-09T17:09:05.173192Z",
          "shell.execute_reply": "2021-06-09T17:09:05.174248Z",
          "shell.execute_reply.started": "2021-06-09T17:00:46.040705Z"
        },
        "papermill": {
          "duration": 0.210993,
          "end_time": "2021-06-09T17:09:05.174528",
          "exception": false,
          "start_time": "2021-06-09T17:09:04.963535",
          "status": "completed"
        },
        "tags": [],
        "colab": {
          "base_uri": "https://localhost:8080/"
        },
        "id": "FN6-XURZ3mZP",
        "outputId": "5894f610-980e-4e63-b9f2-1c549b38d8c0"
      },
      "outputs": [
        {
          "output_type": "stream",
          "name": "stdout",
          "text": [
            "r2 score is : 0.6759416759130483\n"
          ]
        }
      ],
      "source": [
        "y_pred_train_model3 = model3.predict(X_train)\n",
        "from sklearn.metrics import r2_score\n",
        "R2 = r2_score(y_train,y_pred_train_model3)\n",
        "print(\"r2 score is :\",R2)"
      ],
      "id": "FN6-XURZ3mZP"
    },
    {
      "cell_type": "code",
      "execution_count": 206,
      "metadata": {
        "execution": {
          "iopub.execute_input": "2021-06-09T17:09:05.456786Z",
          "iopub.status.busy": "2021-06-09T17:09:05.436573Z",
          "iopub.status.idle": "2021-06-09T17:09:05.460345Z",
          "shell.execute_reply": "2021-06-09T17:09:05.461198Z",
          "shell.execute_reply.started": "2021-06-09T17:00:47.557573Z"
        },
        "papermill": {
          "duration": 0.159268,
          "end_time": "2021-06-09T17:09:05.461463",
          "exception": false,
          "start_time": "2021-06-09T17:09:05.302195",
          "status": "completed"
        },
        "tags": [],
        "colab": {
          "base_uri": "https://localhost:8080/"
        },
        "id": "I8QTIbiO3mZQ",
        "outputId": "e75009d8-e390-434d-9b62-7783bc92777f"
      },
      "outputs": [
        {
          "output_type": "stream",
          "name": "stdout",
          "text": [
            "r2 score is : 0.5931552136844341\n"
          ]
        }
      ],
      "source": [
        "y_pred_test_model3 = model3.predict(X_test)\n",
        "from sklearn.metrics import r2_score\n",
        "R2 = r2_score(y_test,y_pred_test_model3)\n",
        "print(\"r2 score is :\",R2)"
      ],
      "id": "I8QTIbiO3mZQ"
    },
    {
      "cell_type": "code",
      "execution_count": 207,
      "metadata": {
        "execution": {
          "iopub.execute_input": "2021-06-09T17:09:05.738843Z",
          "iopub.status.busy": "2021-06-09T17:09:05.737689Z",
          "iopub.status.idle": "2021-06-09T17:09:05.742774Z",
          "shell.execute_reply": "2021-06-09T17:09:05.742209Z",
          "shell.execute_reply.started": "2021-06-09T17:01:07.512884Z"
        },
        "papermill": {
          "duration": 0.141133,
          "end_time": "2021-06-09T17:09:05.742912",
          "exception": false,
          "start_time": "2021-06-09T17:09:05.601779",
          "status": "completed"
        },
        "tags": [],
        "colab": {
          "base_uri": "https://localhost:8080/"
        },
        "id": "Nya3pPhL3mZQ",
        "outputId": "8b533733-bb73-419c-fa7e-86fd544d0ede"
      },
      "outputs": [
        {
          "output_type": "stream",
          "name": "stdout",
          "text": [
            "MAE: 706.9850897970463\n",
            "MSE: 958580.8020095956\n",
            "RMSE: 979.0713978099838\n"
          ]
        }
      ],
      "source": [
        "print('MAE:', metrics.mean_absolute_error(y_train,y_pred_train_model3))\n",
        "print('MSE:', metrics.mean_squared_error(y_train, y_pred_train_model3))\n",
        "print('RMSE:', np.sqrt(metrics.mean_squared_error(y_train, y_pred_train_model3)))"
      ],
      "id": "Nya3pPhL3mZQ"
    },
    {
      "cell_type": "code",
      "execution_count": 208,
      "metadata": {
        "execution": {
          "iopub.execute_input": "2021-06-09T17:09:06.010611Z",
          "iopub.status.busy": "2021-06-09T17:09:06.009932Z",
          "iopub.status.idle": "2021-06-09T17:09:06.013420Z",
          "shell.execute_reply": "2021-06-09T17:09:06.014092Z",
          "shell.execute_reply.started": "2021-06-09T17:01:18.129278Z"
        },
        "papermill": {
          "duration": 0.141471,
          "end_time": "2021-06-09T17:09:06.014320",
          "exception": false,
          "start_time": "2021-06-09T17:09:05.872849",
          "status": "completed"
        },
        "tags": [],
        "colab": {
          "base_uri": "https://localhost:8080/"
        },
        "id": "3uPzNnlB3mZQ",
        "outputId": "3ef90d27-5d77-443d-fa1b-22078b63cdd1"
      },
      "outputs": [
        {
          "output_type": "stream",
          "name": "stdout",
          "text": [
            "MAE: 749.17469608315\n",
            "MSE: 1105791.9509647847\n",
            "RMSE: 1051.566427271613\n"
          ]
        }
      ],
      "source": [
        "print('MAE:', metrics.mean_absolute_error(y_test,y_pred_test_model3))\n",
        "print('MSE:', metrics.mean_squared_error(y_test, y_pred_test_model3))\n",
        "print('RMSE:', np.sqrt(metrics.mean_squared_error(y_test, y_pred_test_model3)))"
      ],
      "id": "3uPzNnlB3mZQ"
    },
    {
      "cell_type": "markdown",
      "metadata": {
        "papermill": {
          "duration": 0.12869,
          "end_time": "2021-06-09T17:09:06.273112",
          "exception": false,
          "start_time": "2021-06-09T17:09:06.144422",
          "status": "completed"
        },
        "tags": [],
        "id": "qFWETqjN3mZR"
      },
      "source": [
        "FINAL RESULTS FOR TRAINING and TESTING DATA"
      ],
      "id": "qFWETqjN3mZR"
    },
    {
      "cell_type": "markdown",
      "metadata": {
        "papermill": {
          "duration": 0.127936,
          "end_time": "2021-06-09T17:09:06.529418",
          "exception": false,
          "start_time": "2021-06-09T17:09:06.401482",
          "status": "completed"
        },
        "tags": [],
        "id": "VjhZNPs_3mZR"
      },
      "source": [
        "LINEAR REGRESSION:\n",
        "\n",
        "training:\n",
        "* r2 score is : 0.5584145136909324\n",
        "* MAE: 848.1920611339497\n",
        "* MSE: 1306232.051944958\n",
        "* RMSE: 1142.9050931485772\n",
        " \n",
        "testing\n",
        "* r2 score is : 0.5809991170997183\n",
        "* MAE: 791.1141359649645\n",
        "* MSE: 1138831.8576089442\n",
        "* RMSE: 1067.1606522023496"
      ],
      "id": "VjhZNPs_3mZR"
    },
    {
      "cell_type": "markdown",
      "metadata": {
        "papermill": {
          "duration": 0.135412,
          "end_time": "2021-06-09T17:09:07.055445",
          "exception": false,
          "start_time": "2021-06-09T17:09:06.920033",
          "status": "completed"
        },
        "tags": [],
        "id": "Az9HXIvm3mZS"
      },
      "source": [
        "GRADIENT BOOSTING REGRESSOR:\n",
        "training:\n",
        "* r2 score is : 0.6737769589742313\n",
        "* MAE: 709.2194716729872\n",
        "* MSE: 964984.1434611119\n",
        "* RMSE: 982.3360644204772\n",
        "\n",
        "testing:\n",
        "* r2 score is : 0.6013689251080387\n",
        "* MAE: 744.5459877561524\n",
        "* MSE: 1083467.3291795994\n",
        "* RMSE: 1040.8973672651878"
      ],
      "id": "Az9HXIvm3mZS"
    },
    {
      "cell_type": "code",
      "execution_count": 210,
      "metadata": {
        "execution": {
          "iopub.execute_input": "2021-06-09T17:09:07.589687Z",
          "iopub.status.busy": "2021-06-09T17:09:07.588422Z",
          "iopub.status.idle": "2021-06-09T17:09:07.607129Z",
          "shell.execute_reply": "2021-06-09T17:09:07.606554Z",
          "shell.execute_reply.started": "2021-06-09T17:03:21.490637Z"
        },
        "papermill": {
          "duration": 0.151851,
          "end_time": "2021-06-09T17:09:07.607281",
          "exception": false,
          "start_time": "2021-06-09T17:09:07.455430",
          "status": "completed"
        },
        "tags": [],
        "id": "2E8tZf0M3mZT"
      },
      "outputs": [],
      "source": [
        "import pickle\n",
        "output=open(\"bigmartsales.pickle\",\"wb\")\n",
        "pickle.dump(model3,output)"
      ],
      "id": "2E8tZf0M3mZT"
    },
    {
      "cell_type": "code",
      "execution_count": 211,
      "metadata": {
        "execution": {
          "iopub.execute_input": "2021-06-09T17:09:07.876016Z",
          "iopub.status.busy": "2021-06-09T17:09:07.875333Z",
          "iopub.status.idle": "2021-06-09T17:09:07.878137Z",
          "shell.execute_reply": "2021-06-09T17:09:07.877484Z",
          "shell.execute_reply.started": "2021-06-09T17:03:30.588939Z"
        },
        "papermill": {
          "duration": 0.140293,
          "end_time": "2021-06-09T17:09:07.878280",
          "exception": false,
          "start_time": "2021-06-09T17:09:07.737987",
          "status": "completed"
        },
        "tags": [],
        "id": "cy1EHJqd3mZU"
      },
      "outputs": [],
      "source": [
        "sales_pred=open(\"bigmartsales.pickle\",\"rb\")\n",
        "emp=pickle.load(sales_pred)\n"
      ],
      "id": "cy1EHJqd3mZU"
    },
    {
      "cell_type": "code",
      "execution_count": 212,
      "metadata": {
        "execution": {
          "iopub.execute_input": "2021-06-09T17:09:08.151078Z",
          "iopub.status.busy": "2021-06-09T17:09:08.150320Z",
          "iopub.status.idle": "2021-06-09T17:09:08.165376Z",
          "shell.execute_reply": "2021-06-09T17:09:08.164673Z",
          "shell.execute_reply.started": "2021-06-09T17:03:42.074719Z"
        },
        "papermill": {
          "duration": 0.15247,
          "end_time": "2021-06-09T17:09:08.165542",
          "exception": false,
          "start_time": "2021-06-09T17:09:08.013072",
          "status": "completed"
        },
        "tags": [],
        "id": "xp8vxdYP3mZV",
        "colab": {
          "base_uri": "https://localhost:8080/"
        },
        "outputId": "e16b83c9-672f-4e11-da7b-2481264e0243"
      },
      "outputs": [
        {
          "output_type": "execute_result",
          "data": {
            "text/plain": [
              "array([1767.15667877, 1377.94743757,  629.6094059 , ..., 1968.66757768,\n",
              "       3577.81266814, 1353.68054541])"
            ]
          },
          "metadata": {},
          "execution_count": 212
        }
      ],
      "source": [
        "pred=model3.predict(new_data)\n",
        "pred"
      ],
      "id": "xp8vxdYP3mZV"
    },
    {
      "cell_type": "code",
      "execution_count": 212,
      "metadata": {
        "execution": {
          "iopub.execute_input": "2021-06-09T17:09:08.434184Z",
          "iopub.status.busy": "2021-06-09T17:09:08.433501Z",
          "iopub.status.idle": "2021-06-09T17:09:08.492556Z",
          "shell.execute_reply": "2021-06-09T17:09:08.491986Z",
          "shell.execute_reply.started": "2021-06-09T17:03:49.512676Z"
        },
        "papermill": {
          "duration": 0.196055,
          "end_time": "2021-06-09T17:09:08.492720",
          "exception": false,
          "start_time": "2021-06-09T17:09:08.296665",
          "status": "completed"
        },
        "tags": [],
        "id": "cDAaJb6d3mZV"
      },
      "outputs": [],
      "source": [
        ""
      ],
      "id": "cDAaJb6d3mZV"
    },
    {
      "cell_type": "code",
      "execution_count": 213,
      "metadata": {
        "execution": {
          "iopub.execute_input": "2021-06-09T17:09:08.757908Z",
          "iopub.status.busy": "2021-06-09T17:09:08.756959Z",
          "iopub.status.idle": "2021-06-09T17:09:08.761487Z",
          "shell.execute_reply": "2021-06-09T17:09:08.760872Z",
          "shell.execute_reply.started": "2021-06-09T17:04:02.779338Z"
        },
        "papermill": {
          "duration": 0.139563,
          "end_time": "2021-06-09T17:09:08.761636",
          "exception": false,
          "start_time": "2021-06-09T17:09:08.622073",
          "status": "completed"
        },
        "tags": [],
        "colab": {
          "base_uri": "https://localhost:8080/"
        },
        "id": "GgLsg3D-3mZW",
        "outputId": "8f345d6a-e770-442d-9bd2-e98186774354"
      },
      "outputs": [
        {
          "output_type": "execute_result",
          "data": {
            "text/plain": [
              "array([1767.15667877, 1377.94743757,  629.6094059 , ..., 1968.66757768,\n",
              "       3577.81266814, 1353.68054541])"
            ]
          },
          "metadata": {},
          "execution_count": 213
        }
      ],
      "source": [
        "pred"
      ],
      "id": "GgLsg3D-3mZW"
    },
    {
      "cell_type": "code",
      "execution_count": 214,
      "metadata": {
        "execution": {
          "iopub.execute_input": "2021-06-09T17:09:09.060310Z",
          "iopub.status.busy": "2021-06-09T17:09:09.059670Z",
          "iopub.status.idle": "2021-06-09T17:09:09.062910Z",
          "shell.execute_reply": "2021-06-09T17:09:09.062317Z",
          "shell.execute_reply.started": "2021-06-09T17:04:13.607861Z"
        },
        "papermill": {
          "duration": 0.171263,
          "end_time": "2021-06-09T17:09:09.063051",
          "exception": false,
          "start_time": "2021-06-09T17:09:08.891788",
          "status": "completed"
        },
        "tags": [],
        "id": "KswGgjOj3mZW"
      },
      "outputs": [],
      "source": [
        "new_data['Outlet_Sales']=pred"
      ],
      "id": "KswGgjOj3mZW"
    },
    {
      "cell_type": "code",
      "execution_count": 215,
      "metadata": {
        "execution": {
          "iopub.execute_input": "2021-06-09T17:09:09.348311Z",
          "iopub.status.busy": "2021-06-09T17:09:09.341215Z",
          "iopub.status.idle": "2021-06-09T17:09:09.358274Z",
          "shell.execute_reply": "2021-06-09T17:09:09.357686Z",
          "shell.execute_reply.started": "2021-06-09T17:04:25.775634Z"
        },
        "papermill": {
          "duration": 0.163008,
          "end_time": "2021-06-09T17:09:09.358422",
          "exception": false,
          "start_time": "2021-06-09T17:09:09.195414",
          "status": "completed"
        },
        "tags": [],
        "colab": {
          "base_uri": "https://localhost:8080/",
          "height": 287
        },
        "id": "lBxsi3ER3mZW",
        "outputId": "d83cd74f-1d1e-46f6-fd51-caf51a479a64"
      },
      "outputs": [
        {
          "output_type": "execute_result",
          "data": {
            "text/html": [
              "\n",
              "  <div id=\"df-7730ef8a-270d-454a-be01-3dbfcc09499c\">\n",
              "    <div class=\"colab-df-container\">\n",
              "      <div>\n",
              "<style scoped>\n",
              "    .dataframe tbody tr th:only-of-type {\n",
              "        vertical-align: middle;\n",
              "    }\n",
              "\n",
              "    .dataframe tbody tr th {\n",
              "        vertical-align: top;\n",
              "    }\n",
              "\n",
              "    .dataframe thead th {\n",
              "        text-align: right;\n",
              "    }\n",
              "</style>\n",
              "<table border=\"1\" class=\"dataframe\">\n",
              "  <thead>\n",
              "    <tr style=\"text-align: right;\">\n",
              "      <th></th>\n",
              "      <th>Item_Visibility</th>\n",
              "      <th>Item_MRP</th>\n",
              "      <th>Outlet_age</th>\n",
              "      <th>Item_Weight_random</th>\n",
              "      <th>Item_Fat_Content_Low Fat</th>\n",
              "      <th>Item_Fat_Content_Regular</th>\n",
              "      <th>Item_Type_edible</th>\n",
              "      <th>Item_Type_non-edible</th>\n",
              "      <th>Outlet_Size_High</th>\n",
              "      <th>Outlet_Size_Medium</th>\n",
              "      <th>Outlet_Size_Small</th>\n",
              "      <th>Outlet_Location_Type_Tier 1</th>\n",
              "      <th>Outlet_Location_Type_Tier 2</th>\n",
              "      <th>Outlet_Location_Type_Tier 3</th>\n",
              "      <th>Outlet_Type_Grocery Store</th>\n",
              "      <th>Outlet_Type_Supermarket Type1</th>\n",
              "      <th>Outlet_Type_Supermarket Type2</th>\n",
              "      <th>Outlet_Type_Supermarket Type3</th>\n",
              "      <th>Outlet_Sales</th>\n",
              "    </tr>\n",
              "  </thead>\n",
              "  <tbody>\n",
              "    <tr>\n",
              "      <th>0</th>\n",
              "      <td>-1.134077</td>\n",
              "      <td>-0.536555</td>\n",
              "      <td>-0.139891</td>\n",
              "      <td>1.723127</td>\n",
              "      <td>0.740811</td>\n",
              "      <td>-0.740811</td>\n",
              "      <td>0.486429</td>\n",
              "      <td>-0.486429</td>\n",
              "      <td>-0.350325</td>\n",
              "      <td>0.798824</td>\n",
              "      <td>-0.623969</td>\n",
              "      <td>1.602644</td>\n",
              "      <td>-0.696584</td>\n",
              "      <td>-0.804750</td>\n",
              "      <td>-0.381568</td>\n",
              "      <td>0.726900</td>\n",
              "      <td>-0.349374</td>\n",
              "      <td>-0.351274</td>\n",
              "      <td>1767.156679</td>\n",
              "    </tr>\n",
              "    <tr>\n",
              "      <th>1</th>\n",
              "      <td>-0.531850</td>\n",
              "      <td>-0.868937</td>\n",
              "      <td>-1.095512</td>\n",
              "      <td>-0.943601</td>\n",
              "      <td>-1.349873</td>\n",
              "      <td>1.349873</td>\n",
              "      <td>0.486429</td>\n",
              "      <td>-0.486429</td>\n",
              "      <td>-0.350325</td>\n",
              "      <td>0.798824</td>\n",
              "      <td>-0.623969</td>\n",
              "      <td>-0.623969</td>\n",
              "      <td>1.435578</td>\n",
              "      <td>-0.804750</td>\n",
              "      <td>-0.381568</td>\n",
              "      <td>0.726900</td>\n",
              "      <td>-0.349374</td>\n",
              "      <td>-0.351274</td>\n",
              "      <td>1377.947438</td>\n",
              "    </tr>\n",
              "    <tr>\n",
              "      <th>2</th>\n",
              "      <td>0.661316</td>\n",
              "      <td>1.629848</td>\n",
              "      <td>-0.020438</td>\n",
              "      <td>0.405827</td>\n",
              "      <td>0.740811</td>\n",
              "      <td>-0.740811</td>\n",
              "      <td>-2.055799</td>\n",
              "      <td>2.055799</td>\n",
              "      <td>-0.350325</td>\n",
              "      <td>0.798824</td>\n",
              "      <td>-0.623969</td>\n",
              "      <td>-0.623969</td>\n",
              "      <td>-0.696584</td>\n",
              "      <td>1.242623</td>\n",
              "      <td>2.620767</td>\n",
              "      <td>-1.375706</td>\n",
              "      <td>-0.349374</td>\n",
              "      <td>-0.351274</td>\n",
              "      <td>629.609406</td>\n",
              "    </tr>\n",
              "    <tr>\n",
              "      <th>3</th>\n",
              "      <td>-0.981416</td>\n",
              "      <td>0.226697</td>\n",
              "      <td>-1.095512</td>\n",
              "      <td>-1.154584</td>\n",
              "      <td>0.740811</td>\n",
              "      <td>-0.740811</td>\n",
              "      <td>0.486429</td>\n",
              "      <td>-0.486429</td>\n",
              "      <td>-0.350325</td>\n",
              "      <td>0.798824</td>\n",
              "      <td>-0.623969</td>\n",
              "      <td>-0.623969</td>\n",
              "      <td>1.435578</td>\n",
              "      <td>-0.804750</td>\n",
              "      <td>-0.381568</td>\n",
              "      <td>0.726900</td>\n",
              "      <td>-0.349374</td>\n",
              "      <td>-0.351274</td>\n",
              "      <td>2295.639060</td>\n",
              "    </tr>\n",
              "    <tr>\n",
              "      <th>4</th>\n",
              "      <td>1.032540</td>\n",
              "      <td>1.508110</td>\n",
              "      <td>1.532446</td>\n",
              "      <td>0.512925</td>\n",
              "      <td>-1.349873</td>\n",
              "      <td>1.349873</td>\n",
              "      <td>0.486429</td>\n",
              "      <td>-0.486429</td>\n",
              "      <td>-0.350325</td>\n",
              "      <td>0.798824</td>\n",
              "      <td>-0.623969</td>\n",
              "      <td>-0.623969</td>\n",
              "      <td>-0.696584</td>\n",
              "      <td>1.242623</td>\n",
              "      <td>-0.381568</td>\n",
              "      <td>-1.375706</td>\n",
              "      <td>-0.349374</td>\n",
              "      <td>2.846782</td>\n",
              "      <td>5629.727828</td>\n",
              "    </tr>\n",
              "  </tbody>\n",
              "</table>\n",
              "</div>\n",
              "      <button class=\"colab-df-convert\" onclick=\"convertToInteractive('df-7730ef8a-270d-454a-be01-3dbfcc09499c')\"\n",
              "              title=\"Convert this dataframe to an interactive table.\"\n",
              "              style=\"display:none;\">\n",
              "        \n",
              "  <svg xmlns=\"http://www.w3.org/2000/svg\" height=\"24px\"viewBox=\"0 0 24 24\"\n",
              "       width=\"24px\">\n",
              "    <path d=\"M0 0h24v24H0V0z\" fill=\"none\"/>\n",
              "    <path d=\"M18.56 5.44l.94 2.06.94-2.06 2.06-.94-2.06-.94-.94-2.06-.94 2.06-2.06.94zm-11 1L8.5 8.5l.94-2.06 2.06-.94-2.06-.94L8.5 2.5l-.94 2.06-2.06.94zm10 10l.94 2.06.94-2.06 2.06-.94-2.06-.94-.94-2.06-.94 2.06-2.06.94z\"/><path d=\"M17.41 7.96l-1.37-1.37c-.4-.4-.92-.59-1.43-.59-.52 0-1.04.2-1.43.59L10.3 9.45l-7.72 7.72c-.78.78-.78 2.05 0 2.83L4 21.41c.39.39.9.59 1.41.59.51 0 1.02-.2 1.41-.59l7.78-7.78 2.81-2.81c.8-.78.8-2.07 0-2.86zM5.41 20L4 18.59l7.72-7.72 1.47 1.35L5.41 20z\"/>\n",
              "  </svg>\n",
              "      </button>\n",
              "      \n",
              "  <style>\n",
              "    .colab-df-container {\n",
              "      display:flex;\n",
              "      flex-wrap:wrap;\n",
              "      gap: 12px;\n",
              "    }\n",
              "\n",
              "    .colab-df-convert {\n",
              "      background-color: #E8F0FE;\n",
              "      border: none;\n",
              "      border-radius: 50%;\n",
              "      cursor: pointer;\n",
              "      display: none;\n",
              "      fill: #1967D2;\n",
              "      height: 32px;\n",
              "      padding: 0 0 0 0;\n",
              "      width: 32px;\n",
              "    }\n",
              "\n",
              "    .colab-df-convert:hover {\n",
              "      background-color: #E2EBFA;\n",
              "      box-shadow: 0px 1px 2px rgba(60, 64, 67, 0.3), 0px 1px 3px 1px rgba(60, 64, 67, 0.15);\n",
              "      fill: #174EA6;\n",
              "    }\n",
              "\n",
              "    [theme=dark] .colab-df-convert {\n",
              "      background-color: #3B4455;\n",
              "      fill: #D2E3FC;\n",
              "    }\n",
              "\n",
              "    [theme=dark] .colab-df-convert:hover {\n",
              "      background-color: #434B5C;\n",
              "      box-shadow: 0px 1px 3px 1px rgba(0, 0, 0, 0.15);\n",
              "      filter: drop-shadow(0px 1px 2px rgba(0, 0, 0, 0.3));\n",
              "      fill: #FFFFFF;\n",
              "    }\n",
              "  </style>\n",
              "\n",
              "      <script>\n",
              "        const buttonEl =\n",
              "          document.querySelector('#df-7730ef8a-270d-454a-be01-3dbfcc09499c button.colab-df-convert');\n",
              "        buttonEl.style.display =\n",
              "          google.colab.kernel.accessAllowed ? 'block' : 'none';\n",
              "\n",
              "        async function convertToInteractive(key) {\n",
              "          const element = document.querySelector('#df-7730ef8a-270d-454a-be01-3dbfcc09499c');\n",
              "          const dataTable =\n",
              "            await google.colab.kernel.invokeFunction('convertToInteractive',\n",
              "                                                     [key], {});\n",
              "          if (!dataTable) return;\n",
              "\n",
              "          const docLinkHtml = 'Like what you see? Visit the ' +\n",
              "            '<a target=\"_blank\" href=https://colab.research.google.com/notebooks/data_table.ipynb>data table notebook</a>'\n",
              "            + ' to learn more about interactive tables.';\n",
              "          element.innerHTML = '';\n",
              "          dataTable['output_type'] = 'display_data';\n",
              "          await google.colab.output.renderOutput(dataTable, element);\n",
              "          const docLink = document.createElement('div');\n",
              "          docLink.innerHTML = docLinkHtml;\n",
              "          element.appendChild(docLink);\n",
              "        }\n",
              "      </script>\n",
              "    </div>\n",
              "  </div>\n",
              "  "
            ],
            "text/plain": [
              "   Item_Visibility  Item_MRP  ...  Outlet_Type_Supermarket Type3  Outlet_Sales\n",
              "0        -1.134077 -0.536555  ...                      -0.351274   1767.156679\n",
              "1        -0.531850 -0.868937  ...                      -0.351274   1377.947438\n",
              "2         0.661316  1.629848  ...                      -0.351274    629.609406\n",
              "3        -0.981416  0.226697  ...                      -0.351274   2295.639060\n",
              "4         1.032540  1.508110  ...                       2.846782   5629.727828\n",
              "\n",
              "[5 rows x 19 columns]"
            ]
          },
          "metadata": {},
          "execution_count": 215
        }
      ],
      "source": [
        "new_data.head()"
      ],
      "id": "lBxsi3ER3mZW"
    },
    {
      "cell_type": "code",
      "execution_count": 216,
      "metadata": {
        "execution": {
          "iopub.execute_input": "2021-06-09T17:09:09.634769Z",
          "iopub.status.busy": "2021-06-09T17:09:09.633838Z",
          "iopub.status.idle": "2021-06-09T17:09:09.637165Z",
          "shell.execute_reply": "2021-06-09T17:09:09.636601Z",
          "shell.execute_reply.started": "2021-06-09T17:04:42.910736Z"
        },
        "papermill": {
          "duration": 0.137321,
          "end_time": "2021-06-09T17:09:09.637302",
          "exception": false,
          "start_time": "2021-06-09T17:09:09.499981",
          "status": "completed"
        },
        "tags": [],
        "id": "TjiZZd9y3mZX"
      },
      "outputs": [],
      "source": [
        "## we have predicted sales using GRADIENT BOOST REGRESSOR by loading it into pickle and predicting the new data\n",
        "## the new_data 'Outlet_Sales' is now loaded into the new_data file"
      ],
      "id": "TjiZZd9y3mZX"
    },
    {
      "cell_type": "code",
      "source": [
        ""
      ],
      "metadata": {
        "id": "nj6RK0IW4SpR"
      },
      "id": "nj6RK0IW4SpR",
      "execution_count": null,
      "outputs": []
    }
  ],
  "metadata": {
    "kernelspec": {
      "display_name": "Python 3",
      "language": "python",
      "name": "python3"
    },
    "language_info": {
      "codemirror_mode": {
        "name": "ipython",
        "version": 3
      },
      "file_extension": ".py",
      "mimetype": "text/x-python",
      "name": "python",
      "nbconvert_exporter": "python",
      "pygments_lexer": "ipython3",
      "version": "3.8.3"
    },
    "papermill": {
      "default_parameters": {},
      "duration": 78.109358,
      "end_time": "2021-06-09T17:09:10.777717",
      "environment_variables": {},
      "exception": null,
      "input_path": "__notebook__.ipynb",
      "output_path": "__notebook__.ipynb",
      "parameters": {},
      "start_time": "2021-06-09T17:07:52.668359",
      "version": "2.3.2"
    },
    "colab": {
      "name": "BIGMART-Final.ipynb",
      "provenance": []
    }
  },
  "nbformat": 4,
  "nbformat_minor": 5
}