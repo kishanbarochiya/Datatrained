{
 "cells": [
  {
   "cell_type": "markdown",
   "metadata": {},
   "source": [
    "IMPORT LIBRARIES"
   ]
  },
  {
   "cell_type": "code",
   "execution_count": 1,
   "metadata": {},
   "outputs": [],
   "source": [
    "import warnings\n",
    "warnings.filterwarnings('ignore')\n",
    "\n",
    "# for some basic operations\n",
    "import numpy as np \n",
    "import pandas as pd \n",
    "\n",
    "# for visualizations\n",
    "import matplotlib.pyplot as plt\n",
    "import seaborn as sns\n",
    "from pandas import plotting\n",
    "\n",
    "# for modelling\n",
    "import sklearn\n",
    "import imblearn\n"
   ]
  },
  {
   "cell_type": "markdown",
   "metadata": {},
   "source": [
    "LOAD DATASET"
   ]
  },
  {
   "cell_type": "code",
   "execution_count": 2,
   "metadata": {},
   "outputs": [
    {
     "data": {
      "text/html": [
       "<div>\n",
       "<style scoped>\n",
       "    .dataframe tbody tr th:only-of-type {\n",
       "        vertical-align: middle;\n",
       "    }\n",
       "\n",
       "    .dataframe tbody tr th {\n",
       "        vertical-align: top;\n",
       "    }\n",
       "\n",
       "    .dataframe thead th {\n",
       "        text-align: right;\n",
       "    }\n",
       "</style>\n",
       "<table border=\"1\" class=\"dataframe\">\n",
       "  <thead>\n",
       "    <tr style=\"text-align: right;\">\n",
       "      <th></th>\n",
       "      <th>objid</th>\n",
       "      <th>ra</th>\n",
       "      <th>dec</th>\n",
       "      <th>u</th>\n",
       "      <th>g</th>\n",
       "      <th>r</th>\n",
       "      <th>i</th>\n",
       "      <th>z</th>\n",
       "      <th>run</th>\n",
       "      <th>rerun</th>\n",
       "      <th>camcol</th>\n",
       "      <th>field</th>\n",
       "      <th>specobjid</th>\n",
       "      <th>class</th>\n",
       "      <th>redshift</th>\n",
       "      <th>plate</th>\n",
       "      <th>mjd</th>\n",
       "      <th>fiberid</th>\n",
       "    </tr>\n",
       "  </thead>\n",
       "  <tbody>\n",
       "    <tr>\n",
       "      <th>0</th>\n",
       "      <td>1.237650e+18</td>\n",
       "      <td>183.531326</td>\n",
       "      <td>0.089693</td>\n",
       "      <td>19.47406</td>\n",
       "      <td>17.04240</td>\n",
       "      <td>15.94699</td>\n",
       "      <td>15.50342</td>\n",
       "      <td>15.22531</td>\n",
       "      <td>752</td>\n",
       "      <td>301</td>\n",
       "      <td>4</td>\n",
       "      <td>267</td>\n",
       "      <td>3.722360e+18</td>\n",
       "      <td>STAR</td>\n",
       "      <td>-0.000009</td>\n",
       "      <td>3306</td>\n",
       "      <td>54922</td>\n",
       "      <td>491</td>\n",
       "    </tr>\n",
       "    <tr>\n",
       "      <th>1</th>\n",
       "      <td>1.237650e+18</td>\n",
       "      <td>183.598371</td>\n",
       "      <td>0.135285</td>\n",
       "      <td>18.66280</td>\n",
       "      <td>17.21449</td>\n",
       "      <td>16.67637</td>\n",
       "      <td>16.48922</td>\n",
       "      <td>16.39150</td>\n",
       "      <td>752</td>\n",
       "      <td>301</td>\n",
       "      <td>4</td>\n",
       "      <td>267</td>\n",
       "      <td>3.638140e+17</td>\n",
       "      <td>STAR</td>\n",
       "      <td>-0.000055</td>\n",
       "      <td>323</td>\n",
       "      <td>51615</td>\n",
       "      <td>541</td>\n",
       "    </tr>\n",
       "    <tr>\n",
       "      <th>2</th>\n",
       "      <td>1.237650e+18</td>\n",
       "      <td>183.680207</td>\n",
       "      <td>0.126185</td>\n",
       "      <td>19.38298</td>\n",
       "      <td>18.19169</td>\n",
       "      <td>17.47428</td>\n",
       "      <td>17.08732</td>\n",
       "      <td>16.80125</td>\n",
       "      <td>752</td>\n",
       "      <td>301</td>\n",
       "      <td>4</td>\n",
       "      <td>268</td>\n",
       "      <td>3.232740e+17</td>\n",
       "      <td>GALAXY</td>\n",
       "      <td>0.123111</td>\n",
       "      <td>287</td>\n",
       "      <td>52023</td>\n",
       "      <td>513</td>\n",
       "    </tr>\n",
       "    <tr>\n",
       "      <th>3</th>\n",
       "      <td>1.237650e+18</td>\n",
       "      <td>183.870529</td>\n",
       "      <td>0.049911</td>\n",
       "      <td>17.76536</td>\n",
       "      <td>16.60272</td>\n",
       "      <td>16.16116</td>\n",
       "      <td>15.98233</td>\n",
       "      <td>15.90438</td>\n",
       "      <td>752</td>\n",
       "      <td>301</td>\n",
       "      <td>4</td>\n",
       "      <td>269</td>\n",
       "      <td>3.722370e+18</td>\n",
       "      <td>STAR</td>\n",
       "      <td>-0.000111</td>\n",
       "      <td>3306</td>\n",
       "      <td>54922</td>\n",
       "      <td>510</td>\n",
       "    </tr>\n",
       "    <tr>\n",
       "      <th>4</th>\n",
       "      <td>1.237650e+18</td>\n",
       "      <td>183.883288</td>\n",
       "      <td>0.102557</td>\n",
       "      <td>17.55025</td>\n",
       "      <td>16.26342</td>\n",
       "      <td>16.43869</td>\n",
       "      <td>16.55492</td>\n",
       "      <td>16.61326</td>\n",
       "      <td>752</td>\n",
       "      <td>301</td>\n",
       "      <td>4</td>\n",
       "      <td>269</td>\n",
       "      <td>3.722370e+18</td>\n",
       "      <td>STAR</td>\n",
       "      <td>0.000590</td>\n",
       "      <td>3306</td>\n",
       "      <td>54922</td>\n",
       "      <td>512</td>\n",
       "    </tr>\n",
       "  </tbody>\n",
       "</table>\n",
       "</div>"
      ],
      "text/plain": [
       "          objid          ra       dec         u         g         r         i  \\\n",
       "0  1.237650e+18  183.531326  0.089693  19.47406  17.04240  15.94699  15.50342   \n",
       "1  1.237650e+18  183.598371  0.135285  18.66280  17.21449  16.67637  16.48922   \n",
       "2  1.237650e+18  183.680207  0.126185  19.38298  18.19169  17.47428  17.08732   \n",
       "3  1.237650e+18  183.870529  0.049911  17.76536  16.60272  16.16116  15.98233   \n",
       "4  1.237650e+18  183.883288  0.102557  17.55025  16.26342  16.43869  16.55492   \n",
       "\n",
       "          z  run  rerun  camcol  field     specobjid   class  redshift  plate  \\\n",
       "0  15.22531  752    301       4    267  3.722360e+18    STAR -0.000009   3306   \n",
       "1  16.39150  752    301       4    267  3.638140e+17    STAR -0.000055    323   \n",
       "2  16.80125  752    301       4    268  3.232740e+17  GALAXY  0.123111    287   \n",
       "3  15.90438  752    301       4    269  3.722370e+18    STAR -0.000111   3306   \n",
       "4  16.61326  752    301       4    269  3.722370e+18    STAR  0.000590   3306   \n",
       "\n",
       "     mjd  fiberid  \n",
       "0  54922      491  \n",
       "1  51615      541  \n",
       "2  52023      513  \n",
       "3  54922      510  \n",
       "4  54922      512  "
      ]
     },
     "execution_count": 2,
     "metadata": {},
     "output_type": "execute_result"
    }
   ],
   "source": [
    "# let's import the data\n",
    "data = pd.read_csv('Skyserver.csv')\n",
    "\n",
    "# let's take a look at the data\n",
    "pd.set_option('display.max_columns', None)\n",
    "data.head()"
   ]
  },
  {
   "cell_type": "code",
   "execution_count": 3,
   "metadata": {},
   "outputs": [
    {
     "name": "stdout",
     "output_type": "stream",
     "text": [
      "shape of the dataset is  (10000, 18)\n"
     ]
    }
   ],
   "source": [
    "# let's check the shape of the dataset\n",
    "\n",
    "print(\"shape of the dataset is \", data.shape)"
   ]
  },
  {
   "cell_type": "code",
   "execution_count": 4,
   "metadata": {},
   "outputs": [
    {
     "name": "stdout",
     "output_type": "stream",
     "text": [
      "<class 'pandas.core.frame.DataFrame'>\n",
      "RangeIndex: 10000 entries, 0 to 9999\n",
      "Data columns (total 18 columns):\n",
      " #   Column     Non-Null Count  Dtype  \n",
      "---  ------     --------------  -----  \n",
      " 0   objid      10000 non-null  float64\n",
      " 1   ra         10000 non-null  float64\n",
      " 2   dec        10000 non-null  float64\n",
      " 3   u          10000 non-null  float64\n",
      " 4   g          10000 non-null  float64\n",
      " 5   r          10000 non-null  float64\n",
      " 6   i          10000 non-null  float64\n",
      " 7   z          10000 non-null  float64\n",
      " 8   run        10000 non-null  int64  \n",
      " 9   rerun      10000 non-null  int64  \n",
      " 10  camcol     10000 non-null  int64  \n",
      " 11  field      10000 non-null  int64  \n",
      " 12  specobjid  10000 non-null  float64\n",
      " 13  class      10000 non-null  object \n",
      " 14  redshift   10000 non-null  float64\n",
      " 15  plate      10000 non-null  int64  \n",
      " 16  mjd        10000 non-null  int64  \n",
      " 17  fiberid    10000 non-null  int64  \n",
      "dtypes: float64(10), int64(7), object(1)\n",
      "memory usage: 1.4+ MB\n"
     ]
    }
   ],
   "source": [
    "# let's get the information about the dataset\n",
    "\n",
    "data.info()"
   ]
  },
  {
   "cell_type": "code",
   "execution_count": 5,
   "metadata": {},
   "outputs": [
    {
     "data": {
      "text/plain": [
       "objid            1\n",
       "ra           10000\n",
       "dec          10000\n",
       "u             9730\n",
       "g             9817\n",
       "r             9852\n",
       "i             9890\n",
       "z             9896\n",
       "run             23\n",
       "rerun            1\n",
       "camcol           6\n",
       "field          703\n",
       "specobjid     6349\n",
       "class            3\n",
       "redshift      9637\n",
       "plate          487\n",
       "mjd            355\n",
       "fiberid        892\n",
       "dtype: int64"
      ]
     },
     "execution_count": 5,
     "metadata": {},
     "output_type": "execute_result"
    }
   ],
   "source": [
    "data.nunique()"
   ]
  },
  {
   "cell_type": "code",
   "execution_count": 6,
   "metadata": {},
   "outputs": [
    {
     "name": "stdout",
     "output_type": "stream",
     "text": [
      "run [ 752  756  308  727  745 1035 1045 1140 1231 1332 1334 1302 1239 1119\n",
      " 1331 1345 1350 1404 1412 1336 1402 1411 1356]\n",
      "camcol [4 2 1 5 6 3]\n",
      "class ['STAR' 'GALAXY' 'QSO']\n"
     ]
    }
   ],
   "source": [
    "print(\"run\",data.run.unique())\n",
    "print(\"camcol\",data.camcol.unique())\n",
    "print(\"class\",data['class'].unique())"
   ]
  },
  {
   "cell_type": "code",
   "execution_count": 7,
   "metadata": {},
   "outputs": [
    {
     "data": {
      "text/plain": [
       "(10000, 18)"
      ]
     },
     "execution_count": 7,
     "metadata": {},
     "output_type": "execute_result"
    }
   ],
   "source": [
    "data.drop_duplicates(inplace=True)\n",
    "data.shape"
   ]
  },
  {
   "cell_type": "code",
   "execution_count": 8,
   "metadata": {},
   "outputs": [
    {
     "data": {
      "text/plain": [
       "objid        0\n",
       "plate        0\n",
       "redshift     0\n",
       "class        0\n",
       "specobjid    0\n",
       "field        0\n",
       "camcol       0\n",
       "rerun        0\n",
       "run          0\n",
       "z            0\n",
       "i            0\n",
       "r            0\n",
       "g            0\n",
       "u            0\n",
       "dec          0\n",
       "ra           0\n",
       "mjd          0\n",
       "fiberid      0\n",
       "dtype: int64"
      ]
     },
     "execution_count": 8,
     "metadata": {},
     "output_type": "execute_result"
    }
   ],
   "source": [
    "data.isnull().sum(axis=0).sort_values()\n",
    "\n",
    "#NO ANY NULL VALUES IN DATASET"
   ]
  },
  {
   "cell_type": "code",
   "execution_count": 9,
   "metadata": {},
   "outputs": [
    {
     "data": {
      "text/html": [
       "<div>\n",
       "<style scoped>\n",
       "    .dataframe tbody tr th:only-of-type {\n",
       "        vertical-align: middle;\n",
       "    }\n",
       "\n",
       "    .dataframe tbody tr th {\n",
       "        vertical-align: top;\n",
       "    }\n",
       "\n",
       "    .dataframe thead th {\n",
       "        text-align: right;\n",
       "    }\n",
       "</style>\n",
       "<table border=\"1\" class=\"dataframe\">\n",
       "  <thead>\n",
       "    <tr style=\"text-align: right;\">\n",
       "      <th></th>\n",
       "      <th>objid</th>\n",
       "      <th>ra</th>\n",
       "      <th>dec</th>\n",
       "      <th>u</th>\n",
       "      <th>g</th>\n",
       "      <th>r</th>\n",
       "      <th>i</th>\n",
       "      <th>z</th>\n",
       "      <th>run</th>\n",
       "      <th>rerun</th>\n",
       "      <th>camcol</th>\n",
       "      <th>field</th>\n",
       "      <th>specobjid</th>\n",
       "      <th>class</th>\n",
       "      <th>redshift</th>\n",
       "      <th>plate</th>\n",
       "      <th>mjd</th>\n",
       "      <th>fiberid</th>\n",
       "    </tr>\n",
       "  </thead>\n",
       "  <tbody>\n",
       "    <tr>\n",
       "      <th>0</th>\n",
       "      <td>1.237650e+18</td>\n",
       "      <td>183.531326</td>\n",
       "      <td>0.089693</td>\n",
       "      <td>19.47406</td>\n",
       "      <td>17.04240</td>\n",
       "      <td>15.94699</td>\n",
       "      <td>15.50342</td>\n",
       "      <td>15.22531</td>\n",
       "      <td>752</td>\n",
       "      <td>301</td>\n",
       "      <td>4</td>\n",
       "      <td>267</td>\n",
       "      <td>3.722360e+18</td>\n",
       "      <td>STAR</td>\n",
       "      <td>-0.000009</td>\n",
       "      <td>3306</td>\n",
       "      <td>54922</td>\n",
       "      <td>491</td>\n",
       "    </tr>\n",
       "    <tr>\n",
       "      <th>1</th>\n",
       "      <td>1.237650e+18</td>\n",
       "      <td>183.598371</td>\n",
       "      <td>0.135285</td>\n",
       "      <td>18.66280</td>\n",
       "      <td>17.21449</td>\n",
       "      <td>16.67637</td>\n",
       "      <td>16.48922</td>\n",
       "      <td>16.39150</td>\n",
       "      <td>752</td>\n",
       "      <td>301</td>\n",
       "      <td>4</td>\n",
       "      <td>267</td>\n",
       "      <td>3.638140e+17</td>\n",
       "      <td>STAR</td>\n",
       "      <td>-0.000055</td>\n",
       "      <td>323</td>\n",
       "      <td>51615</td>\n",
       "      <td>541</td>\n",
       "    </tr>\n",
       "    <tr>\n",
       "      <th>2</th>\n",
       "      <td>1.237650e+18</td>\n",
       "      <td>183.680207</td>\n",
       "      <td>0.126185</td>\n",
       "      <td>19.38298</td>\n",
       "      <td>18.19169</td>\n",
       "      <td>17.47428</td>\n",
       "      <td>17.08732</td>\n",
       "      <td>16.80125</td>\n",
       "      <td>752</td>\n",
       "      <td>301</td>\n",
       "      <td>4</td>\n",
       "      <td>268</td>\n",
       "      <td>3.232740e+17</td>\n",
       "      <td>GALAXY</td>\n",
       "      <td>0.123111</td>\n",
       "      <td>287</td>\n",
       "      <td>52023</td>\n",
       "      <td>513</td>\n",
       "    </tr>\n",
       "    <tr>\n",
       "      <th>3</th>\n",
       "      <td>1.237650e+18</td>\n",
       "      <td>183.870529</td>\n",
       "      <td>0.049911</td>\n",
       "      <td>17.76536</td>\n",
       "      <td>16.60272</td>\n",
       "      <td>16.16116</td>\n",
       "      <td>15.98233</td>\n",
       "      <td>15.90438</td>\n",
       "      <td>752</td>\n",
       "      <td>301</td>\n",
       "      <td>4</td>\n",
       "      <td>269</td>\n",
       "      <td>3.722370e+18</td>\n",
       "      <td>STAR</td>\n",
       "      <td>-0.000111</td>\n",
       "      <td>3306</td>\n",
       "      <td>54922</td>\n",
       "      <td>510</td>\n",
       "    </tr>\n",
       "    <tr>\n",
       "      <th>4</th>\n",
       "      <td>1.237650e+18</td>\n",
       "      <td>183.883288</td>\n",
       "      <td>0.102557</td>\n",
       "      <td>17.55025</td>\n",
       "      <td>16.26342</td>\n",
       "      <td>16.43869</td>\n",
       "      <td>16.55492</td>\n",
       "      <td>16.61326</td>\n",
       "      <td>752</td>\n",
       "      <td>301</td>\n",
       "      <td>4</td>\n",
       "      <td>269</td>\n",
       "      <td>3.722370e+18</td>\n",
       "      <td>STAR</td>\n",
       "      <td>0.000590</td>\n",
       "      <td>3306</td>\n",
       "      <td>54922</td>\n",
       "      <td>512</td>\n",
       "    </tr>\n",
       "  </tbody>\n",
       "</table>\n",
       "</div>"
      ],
      "text/plain": [
       "          objid          ra       dec         u         g         r         i  \\\n",
       "0  1.237650e+18  183.531326  0.089693  19.47406  17.04240  15.94699  15.50342   \n",
       "1  1.237650e+18  183.598371  0.135285  18.66280  17.21449  16.67637  16.48922   \n",
       "2  1.237650e+18  183.680207  0.126185  19.38298  18.19169  17.47428  17.08732   \n",
       "3  1.237650e+18  183.870529  0.049911  17.76536  16.60272  16.16116  15.98233   \n",
       "4  1.237650e+18  183.883288  0.102557  17.55025  16.26342  16.43869  16.55492   \n",
       "\n",
       "          z  run  rerun  camcol  field     specobjid   class  redshift  plate  \\\n",
       "0  15.22531  752    301       4    267  3.722360e+18    STAR -0.000009   3306   \n",
       "1  16.39150  752    301       4    267  3.638140e+17    STAR -0.000055    323   \n",
       "2  16.80125  752    301       4    268  3.232740e+17  GALAXY  0.123111    287   \n",
       "3  15.90438  752    301       4    269  3.722370e+18    STAR -0.000111   3306   \n",
       "4  16.61326  752    301       4    269  3.722370e+18    STAR  0.000590   3306   \n",
       "\n",
       "     mjd  fiberid  \n",
       "0  54922      491  \n",
       "1  51615      541  \n",
       "2  52023      513  \n",
       "3  54922      510  \n",
       "4  54922      512  "
      ]
     },
     "execution_count": 9,
     "metadata": {},
     "output_type": "execute_result"
    }
   ],
   "source": [
    "data1=data.copy()\n",
    "data1.head()"
   ]
  },
  {
   "cell_type": "code",
   "execution_count": 10,
   "metadata": {},
   "outputs": [
    {
     "data": {
      "text/html": [
       "<div>\n",
       "<style scoped>\n",
       "    .dataframe tbody tr th:only-of-type {\n",
       "        vertical-align: middle;\n",
       "    }\n",
       "\n",
       "    .dataframe tbody tr th {\n",
       "        vertical-align: top;\n",
       "    }\n",
       "\n",
       "    .dataframe thead th {\n",
       "        text-align: right;\n",
       "    }\n",
       "</style>\n",
       "<table border=\"1\" class=\"dataframe\">\n",
       "  <thead>\n",
       "    <tr style=\"text-align: right;\">\n",
       "      <th></th>\n",
       "      <th>objid</th>\n",
       "      <th>ra</th>\n",
       "      <th>dec</th>\n",
       "      <th>u</th>\n",
       "      <th>g</th>\n",
       "      <th>r</th>\n",
       "      <th>i</th>\n",
       "      <th>z</th>\n",
       "      <th>run</th>\n",
       "      <th>rerun</th>\n",
       "      <th>camcol</th>\n",
       "      <th>field</th>\n",
       "      <th>specobjid</th>\n",
       "      <th>class</th>\n",
       "      <th>redshift</th>\n",
       "      <th>plate</th>\n",
       "      <th>mjd</th>\n",
       "      <th>fiberid</th>\n",
       "    </tr>\n",
       "  </thead>\n",
       "  <tbody>\n",
       "    <tr>\n",
       "      <th>0</th>\n",
       "      <td>0</td>\n",
       "      <td>5378</td>\n",
       "      <td>4030</td>\n",
       "      <td>8818</td>\n",
       "      <td>3143</td>\n",
       "      <td>1853</td>\n",
       "      <td>1594</td>\n",
       "      <td>1474</td>\n",
       "      <td>3</td>\n",
       "      <td>0</td>\n",
       "      <td>3</td>\n",
       "      <td>256</td>\n",
       "      <td>5641</td>\n",
       "      <td>2</td>\n",
       "      <td>1681</td>\n",
       "      <td>267</td>\n",
       "      <td>182</td>\n",
       "      <td>490</td>\n",
       "    </tr>\n",
       "    <tr>\n",
       "      <th>1</th>\n",
       "      <td>0</td>\n",
       "      <td>5392</td>\n",
       "      <td>4145</td>\n",
       "      <td>4066</td>\n",
       "      <td>3722</td>\n",
       "      <td>4220</td>\n",
       "      <td>4703</td>\n",
       "      <td>4956</td>\n",
       "      <td>3</td>\n",
       "      <td>0</td>\n",
       "      <td>3</td>\n",
       "      <td>256</td>\n",
       "      <td>2267</td>\n",
       "      <td>2</td>\n",
       "      <td>1437</td>\n",
       "      <td>49</td>\n",
       "      <td>6</td>\n",
       "      <td>540</td>\n",
       "    </tr>\n",
       "    <tr>\n",
       "      <th>2</th>\n",
       "      <td>0</td>\n",
       "      <td>5405</td>\n",
       "      <td>4118</td>\n",
       "      <td>8203</td>\n",
       "      <td>8155</td>\n",
       "      <td>7210</td>\n",
       "      <td>6793</td>\n",
       "      <td>6350</td>\n",
       "      <td>3</td>\n",
       "      <td>0</td>\n",
       "      <td>3</td>\n",
       "      <td>257</td>\n",
       "      <td>1289</td>\n",
       "      <td>0</td>\n",
       "      <td>8222</td>\n",
       "      <td>21</td>\n",
       "      <td>80</td>\n",
       "      <td>512</td>\n",
       "    </tr>\n",
       "    <tr>\n",
       "      <th>3</th>\n",
       "      <td>0</td>\n",
       "      <td>5458</td>\n",
       "      <td>3910</td>\n",
       "      <td>1569</td>\n",
       "      <td>1960</td>\n",
       "      <td>2431</td>\n",
       "      <td>2897</td>\n",
       "      <td>3415</td>\n",
       "      <td>3</td>\n",
       "      <td>0</td>\n",
       "      <td>3</td>\n",
       "      <td>258</td>\n",
       "      <td>5642</td>\n",
       "      <td>2</td>\n",
       "      <td>1162</td>\n",
       "      <td>267</td>\n",
       "      <td>182</td>\n",
       "      <td>509</td>\n",
       "    </tr>\n",
       "    <tr>\n",
       "      <th>4</th>\n",
       "      <td>0</td>\n",
       "      <td>5462</td>\n",
       "      <td>4064</td>\n",
       "      <td>1206</td>\n",
       "      <td>1255</td>\n",
       "      <td>3347</td>\n",
       "      <td>4943</td>\n",
       "      <td>5701</td>\n",
       "      <td>3</td>\n",
       "      <td>0</td>\n",
       "      <td>3</td>\n",
       "      <td>258</td>\n",
       "      <td>5642</td>\n",
       "      <td>2</td>\n",
       "      <td>3501</td>\n",
       "      <td>267</td>\n",
       "      <td>182</td>\n",
       "      <td>511</td>\n",
       "    </tr>\n",
       "  </tbody>\n",
       "</table>\n",
       "</div>"
      ],
      "text/plain": [
       "   objid    ra   dec     u     g     r     i     z  run  rerun  camcol  field  \\\n",
       "0      0  5378  4030  8818  3143  1853  1594  1474    3      0       3    256   \n",
       "1      0  5392  4145  4066  3722  4220  4703  4956    3      0       3    256   \n",
       "2      0  5405  4118  8203  8155  7210  6793  6350    3      0       3    257   \n",
       "3      0  5458  3910  1569  1960  2431  2897  3415    3      0       3    258   \n",
       "4      0  5462  4064  1206  1255  3347  4943  5701    3      0       3    258   \n",
       "\n",
       "   specobjid  class  redshift  plate  mjd  fiberid  \n",
       "0       5641      2      1681    267  182      490  \n",
       "1       2267      2      1437     49    6      540  \n",
       "2       1289      0      8222     21   80      512  \n",
       "3       5642      2      1162    267  182      509  \n",
       "4       5642      2      3501    267  182      511  "
      ]
     },
     "execution_count": 10,
     "metadata": {},
     "output_type": "execute_result"
    }
   ],
   "source": [
    "from sklearn.preprocessing import LabelEncoder\n",
    "L_model=LabelEncoder()\n",
    "\n",
    "for col in data1.columns:\n",
    "    data1[col] = L_model.fit_transform(data1[col]) \n",
    "    \n",
    "data1.head()"
   ]
  },
  {
   "cell_type": "code",
   "execution_count": 11,
   "metadata": {},
   "outputs": [
    {
     "data": {
      "text/plain": [
       "<matplotlib.axes._subplots.AxesSubplot at 0x1329fa69a30>"
      ]
     },
     "execution_count": 11,
     "metadata": {},
     "output_type": "execute_result"
    },
    {
     "data": {
      "image/png": "[encoded data removed]",
      "text/plain": [
       "<Figure size 1080x1080 with 2 Axes>"
      ]
     },
     "metadata": {
      "needs_background": "light"
     },
     "output_type": "display_data"
    }
   ],
   "source": [
    "fig, ax = plt.subplots(figsize=(15,15))\n",
    "sns.heatmap(data1.corr(),annot=True,cmap='Greens')"
   ]
  },
  {
   "cell_type": "code",
   "execution_count": 12,
   "metadata": {},
   "outputs": [
    {
     "data": {
      "image/png": "[encoded data removed]",
      "text/plain": [
       "<Figure size 864x864 with 2 Axes>"
      ]
     },
     "metadata": {
      "needs_background": "light"
     },
     "output_type": "display_data"
    }
   ],
   "source": [
    "corrmat = data1.corr()\n",
    "plt.figure(figsize=(12,12))\n",
    "top_corr_features = corrmat.index[abs(corrmat[\"class\"])>0.4]\n",
    "g = sns.heatmap(data1[top_corr_features].corr(),annot=True,cmap=\"RdYlGn\")"
   ]
  },
  {
   "cell_type": "code",
   "execution_count": 13,
   "metadata": {},
   "outputs": [
    {
     "data": {
      "text/html": [
       "<div>\n",
       "<style scoped>\n",
       "    .dataframe tbody tr th:only-of-type {\n",
       "        vertical-align: middle;\n",
       "    }\n",
       "\n",
       "    .dataframe tbody tr th {\n",
       "        vertical-align: top;\n",
       "    }\n",
       "\n",
       "    .dataframe thead th {\n",
       "        text-align: right;\n",
       "    }\n",
       "</style>\n",
       "<table border=\"1\" class=\"dataframe\">\n",
       "  <thead>\n",
       "    <tr style=\"text-align: right;\">\n",
       "      <th></th>\n",
       "      <th>ra</th>\n",
       "      <th>dec</th>\n",
       "      <th>u</th>\n",
       "      <th>g</th>\n",
       "      <th>r</th>\n",
       "      <th>i</th>\n",
       "      <th>z</th>\n",
       "      <th>run</th>\n",
       "      <th>camcol</th>\n",
       "      <th>field</th>\n",
       "      <th>specobjid</th>\n",
       "      <th>class</th>\n",
       "      <th>redshift</th>\n",
       "      <th>plate</th>\n",
       "      <th>mjd</th>\n",
       "      <th>fiberid</th>\n",
       "    </tr>\n",
       "  </thead>\n",
       "  <tbody>\n",
       "    <tr>\n",
       "      <th>0</th>\n",
       "      <td>5378</td>\n",
       "      <td>4030</td>\n",
       "      <td>8818</td>\n",
       "      <td>3143</td>\n",
       "      <td>1853</td>\n",
       "      <td>1594</td>\n",
       "      <td>1474</td>\n",
       "      <td>3</td>\n",
       "      <td>3</td>\n",
       "      <td>256</td>\n",
       "      <td>5641</td>\n",
       "      <td>2</td>\n",
       "      <td>1681</td>\n",
       "      <td>267</td>\n",
       "      <td>182</td>\n",
       "      <td>490</td>\n",
       "    </tr>\n",
       "    <tr>\n",
       "      <th>1</th>\n",
       "      <td>5392</td>\n",
       "      <td>4145</td>\n",
       "      <td>4066</td>\n",
       "      <td>3722</td>\n",
       "      <td>4220</td>\n",
       "      <td>4703</td>\n",
       "      <td>4956</td>\n",
       "      <td>3</td>\n",
       "      <td>3</td>\n",
       "      <td>256</td>\n",
       "      <td>2267</td>\n",
       "      <td>2</td>\n",
       "      <td>1437</td>\n",
       "      <td>49</td>\n",
       "      <td>6</td>\n",
       "      <td>540</td>\n",
       "    </tr>\n",
       "    <tr>\n",
       "      <th>2</th>\n",
       "      <td>5405</td>\n",
       "      <td>4118</td>\n",
       "      <td>8203</td>\n",
       "      <td>8155</td>\n",
       "      <td>7210</td>\n",
       "      <td>6793</td>\n",
       "      <td>6350</td>\n",
       "      <td>3</td>\n",
       "      <td>3</td>\n",
       "      <td>257</td>\n",
       "      <td>1289</td>\n",
       "      <td>0</td>\n",
       "      <td>8222</td>\n",
       "      <td>21</td>\n",
       "      <td>80</td>\n",
       "      <td>512</td>\n",
       "    </tr>\n",
       "    <tr>\n",
       "      <th>3</th>\n",
       "      <td>5458</td>\n",
       "      <td>3910</td>\n",
       "      <td>1569</td>\n",
       "      <td>1960</td>\n",
       "      <td>2431</td>\n",
       "      <td>2897</td>\n",
       "      <td>3415</td>\n",
       "      <td>3</td>\n",
       "      <td>3</td>\n",
       "      <td>258</td>\n",
       "      <td>5642</td>\n",
       "      <td>2</td>\n",
       "      <td>1162</td>\n",
       "      <td>267</td>\n",
       "      <td>182</td>\n",
       "      <td>509</td>\n",
       "    </tr>\n",
       "    <tr>\n",
       "      <th>4</th>\n",
       "      <td>5462</td>\n",
       "      <td>4064</td>\n",
       "      <td>1206</td>\n",
       "      <td>1255</td>\n",
       "      <td>3347</td>\n",
       "      <td>4943</td>\n",
       "      <td>5701</td>\n",
       "      <td>3</td>\n",
       "      <td>3</td>\n",
       "      <td>258</td>\n",
       "      <td>5642</td>\n",
       "      <td>2</td>\n",
       "      <td>3501</td>\n",
       "      <td>267</td>\n",
       "      <td>182</td>\n",
       "      <td>511</td>\n",
       "    </tr>\n",
       "  </tbody>\n",
       "</table>\n",
       "</div>"
      ],
      "text/plain": [
       "     ra   dec     u     g     r     i     z  run  camcol  field  specobjid  \\\n",
       "0  5378  4030  8818  3143  1853  1594  1474    3       3    256       5641   \n",
       "1  5392  4145  4066  3722  4220  4703  4956    3       3    256       2267   \n",
       "2  5405  4118  8203  8155  7210  6793  6350    3       3    257       1289   \n",
       "3  5458  3910  1569  1960  2431  2897  3415    3       3    258       5642   \n",
       "4  5462  4064  1206  1255  3347  4943  5701    3       3    258       5642   \n",
       "\n",
       "   class  redshift  plate  mjd  fiberid  \n",
       "0      2      1681    267  182      490  \n",
       "1      2      1437     49    6      540  \n",
       "2      0      8222     21   80      512  \n",
       "3      2      1162    267  182      509  \n",
       "4      2      3501    267  182      511  "
      ]
     },
     "execution_count": 13,
     "metadata": {},
     "output_type": "execute_result"
    }
   ],
   "source": [
    "data1.drop(['objid','rerun'],1,inplace=True)\n",
    "data1.head()"
   ]
  },
  {
   "cell_type": "code",
   "execution_count": 14,
   "metadata": {},
   "outputs": [
    {
     "data": {
      "text/html": [
       "<div>\n",
       "<style scoped>\n",
       "    .dataframe tbody tr th:only-of-type {\n",
       "        vertical-align: middle;\n",
       "    }\n",
       "\n",
       "    .dataframe tbody tr th {\n",
       "        vertical-align: top;\n",
       "    }\n",
       "\n",
       "    .dataframe thead th {\n",
       "        text-align: right;\n",
       "    }\n",
       "</style>\n",
       "<table border=\"1\" class=\"dataframe\">\n",
       "  <thead>\n",
       "    <tr style=\"text-align: right;\">\n",
       "      <th></th>\n",
       "      <th>ra</th>\n",
       "      <th>dec</th>\n",
       "      <th>u</th>\n",
       "      <th>g</th>\n",
       "      <th>r</th>\n",
       "      <th>i</th>\n",
       "      <th>z</th>\n",
       "      <th>run</th>\n",
       "      <th>camcol</th>\n",
       "      <th>field</th>\n",
       "      <th>specobjid</th>\n",
       "      <th>class</th>\n",
       "      <th>redshift</th>\n",
       "      <th>plate</th>\n",
       "      <th>mjd</th>\n",
       "      <th>fiberid</th>\n",
       "    </tr>\n",
       "  </thead>\n",
       "  <tbody>\n",
       "    <tr>\n",
       "      <th>ra</th>\n",
       "      <td>1.000000</td>\n",
       "      <td>-0.099025</td>\n",
       "      <td>0.025992</td>\n",
       "      <td>0.034531</td>\n",
       "      <td>0.034917</td>\n",
       "      <td>0.034367</td>\n",
       "      <td>0.034826</td>\n",
       "      <td>0.015367</td>\n",
       "      <td>-0.060535</td>\n",
       "      <td>0.587106</td>\n",
       "      <td>0.015224</td>\n",
       "      <td>-0.010821</td>\n",
       "      <td>0.003844</td>\n",
       "      <td>-0.043891</td>\n",
       "      <td>-0.053590</td>\n",
       "      <td>0.009121</td>\n",
       "    </tr>\n",
       "    <tr>\n",
       "      <th>dec</th>\n",
       "      <td>-0.099025</td>\n",
       "      <td>1.000000</td>\n",
       "      <td>0.027279</td>\n",
       "      <td>0.033889</td>\n",
       "      <td>0.029393</td>\n",
       "      <td>0.024513</td>\n",
       "      <td>0.021956</td>\n",
       "      <td>0.625318</td>\n",
       "      <td>0.392055</td>\n",
       "      <td>-0.142701</td>\n",
       "      <td>0.287271</td>\n",
       "      <td>-0.043486</td>\n",
       "      <td>-0.003288</td>\n",
       "      <td>0.206556</td>\n",
       "      <td>0.050285</td>\n",
       "      <td>0.295278</td>\n",
       "    </tr>\n",
       "    <tr>\n",
       "      <th>u</th>\n",
       "      <td>0.025992</td>\n",
       "      <td>0.027279</td>\n",
       "      <td>1.000000</td>\n",
       "      <td>0.798355</td>\n",
       "      <td>0.644857</td>\n",
       "      <td>0.570774</td>\n",
       "      <td>0.507525</td>\n",
       "      <td>0.024785</td>\n",
       "      <td>0.009872</td>\n",
       "      <td>0.010133</td>\n",
       "      <td>-0.149325</td>\n",
       "      <td>-0.251365</td>\n",
       "      <td>0.381865</td>\n",
       "      <td>-0.132412</td>\n",
       "      <td>-0.117060</td>\n",
       "      <td>0.007498</td>\n",
       "    </tr>\n",
       "    <tr>\n",
       "      <th>g</th>\n",
       "      <td>0.034531</td>\n",
       "      <td>0.033889</td>\n",
       "      <td>0.798355</td>\n",
       "      <td>1.000000</td>\n",
       "      <td>0.959572</td>\n",
       "      <td>0.917869</td>\n",
       "      <td>0.878222</td>\n",
       "      <td>0.047607</td>\n",
       "      <td>0.004443</td>\n",
       "      <td>0.014709</td>\n",
       "      <td>-0.090095</td>\n",
       "      <td>-0.082563</td>\n",
       "      <td>0.376605</td>\n",
       "      <td>-0.057879</td>\n",
       "      <td>-0.036545</td>\n",
       "      <td>0.041139</td>\n",
       "    </tr>\n",
       "    <tr>\n",
       "      <th>r</th>\n",
       "      <td>0.034917</td>\n",
       "      <td>0.029393</td>\n",
       "      <td>0.644857</td>\n",
       "      <td>0.959572</td>\n",
       "      <td>1.000000</td>\n",
       "      <td>0.988125</td>\n",
       "      <td>0.969963</td>\n",
       "      <td>0.046570</td>\n",
       "      <td>0.003740</td>\n",
       "      <td>0.015729</td>\n",
       "      <td>-0.024030</td>\n",
       "      <td>0.052573</td>\n",
       "      <td>0.252699</td>\n",
       "      <td>0.014348</td>\n",
       "      <td>0.033596</td>\n",
       "      <td>0.053719</td>\n",
       "    </tr>\n",
       "    <tr>\n",
       "      <th>i</th>\n",
       "      <td>0.034367</td>\n",
       "      <td>0.024513</td>\n",
       "      <td>0.570774</td>\n",
       "      <td>0.917869</td>\n",
       "      <td>0.988125</td>\n",
       "      <td>1.000000</td>\n",
       "      <td>0.992448</td>\n",
       "      <td>0.041314</td>\n",
       "      <td>0.005200</td>\n",
       "      <td>0.017771</td>\n",
       "      <td>0.025687</td>\n",
       "      <td>0.146682</td>\n",
       "      <td>0.167707</td>\n",
       "      <td>0.067876</td>\n",
       "      <td>0.084789</td>\n",
       "      <td>0.059608</td>\n",
       "    </tr>\n",
       "    <tr>\n",
       "      <th>z</th>\n",
       "      <td>0.034826</td>\n",
       "      <td>0.021956</td>\n",
       "      <td>0.507525</td>\n",
       "      <td>0.878222</td>\n",
       "      <td>0.969963</td>\n",
       "      <td>0.992448</td>\n",
       "      <td>1.000000</td>\n",
       "      <td>0.039402</td>\n",
       "      <td>0.004185</td>\n",
       "      <td>0.018176</td>\n",
       "      <td>0.065854</td>\n",
       "      <td>0.216925</td>\n",
       "      <td>0.103689</td>\n",
       "      <td>0.108868</td>\n",
       "      <td>0.122772</td>\n",
       "      <td>0.059731</td>\n",
       "    </tr>\n",
       "    <tr>\n",
       "      <th>run</th>\n",
       "      <td>0.015367</td>\n",
       "      <td>0.625318</td>\n",
       "      <td>0.024785</td>\n",
       "      <td>0.047607</td>\n",
       "      <td>0.046570</td>\n",
       "      <td>0.041314</td>\n",
       "      <td>0.039402</td>\n",
       "      <td>1.000000</td>\n",
       "      <td>0.148442</td>\n",
       "      <td>-0.382701</td>\n",
       "      <td>0.323883</td>\n",
       "      <td>-0.066380</td>\n",
       "      <td>0.042437</td>\n",
       "      <td>0.232605</td>\n",
       "      <td>0.147413</td>\n",
       "      <td>0.144918</td>\n",
       "    </tr>\n",
       "    <tr>\n",
       "      <th>camcol</th>\n",
       "      <td>-0.060535</td>\n",
       "      <td>0.392055</td>\n",
       "      <td>0.009872</td>\n",
       "      <td>0.004443</td>\n",
       "      <td>0.003740</td>\n",
       "      <td>0.005200</td>\n",
       "      <td>0.004185</td>\n",
       "      <td>0.148442</td>\n",
       "      <td>1.000000</td>\n",
       "      <td>-0.066996</td>\n",
       "      <td>0.076472</td>\n",
       "      <td>-0.006186</td>\n",
       "      <td>0.005289</td>\n",
       "      <td>0.080126</td>\n",
       "      <td>0.067925</td>\n",
       "      <td>0.546223</td>\n",
       "    </tr>\n",
       "    <tr>\n",
       "      <th>field</th>\n",
       "      <td>0.587106</td>\n",
       "      <td>-0.142701</td>\n",
       "      <td>0.010133</td>\n",
       "      <td>0.014709</td>\n",
       "      <td>0.015729</td>\n",
       "      <td>0.017771</td>\n",
       "      <td>0.018176</td>\n",
       "      <td>-0.382701</td>\n",
       "      <td>-0.066996</td>\n",
       "      <td>1.000000</td>\n",
       "      <td>-0.057377</td>\n",
       "      <td>0.007005</td>\n",
       "      <td>-0.021382</td>\n",
       "      <td>-0.079826</td>\n",
       "      <td>-0.118489</td>\n",
       "      <td>-0.037365</td>\n",
       "    </tr>\n",
       "    <tr>\n",
       "      <th>specobjid</th>\n",
       "      <td>0.015224</td>\n",
       "      <td>0.287271</td>\n",
       "      <td>-0.149325</td>\n",
       "      <td>-0.090095</td>\n",
       "      <td>-0.024030</td>\n",
       "      <td>0.025687</td>\n",
       "      <td>0.065854</td>\n",
       "      <td>0.323883</td>\n",
       "      <td>0.076472</td>\n",
       "      <td>-0.057377</td>\n",
       "      <td>1.000000</td>\n",
       "      <td>0.565908</td>\n",
       "      <td>-0.449096</td>\n",
       "      <td>0.909686</td>\n",
       "      <td>0.743049</td>\n",
       "      <td>0.113185</td>\n",
       "    </tr>\n",
       "    <tr>\n",
       "      <th>class</th>\n",
       "      <td>-0.010821</td>\n",
       "      <td>-0.043486</td>\n",
       "      <td>-0.251365</td>\n",
       "      <td>-0.082563</td>\n",
       "      <td>0.052573</td>\n",
       "      <td>0.146682</td>\n",
       "      <td>0.216925</td>\n",
       "      <td>-0.066380</td>\n",
       "      <td>-0.006186</td>\n",
       "      <td>0.007005</td>\n",
       "      <td>0.565908</td>\n",
       "      <td>1.000000</td>\n",
       "      <td>-0.736648</td>\n",
       "      <td>0.598131</td>\n",
       "      <td>0.561797</td>\n",
       "      <td>0.045830</td>\n",
       "    </tr>\n",
       "    <tr>\n",
       "      <th>redshift</th>\n",
       "      <td>0.003844</td>\n",
       "      <td>-0.003288</td>\n",
       "      <td>0.381865</td>\n",
       "      <td>0.376605</td>\n",
       "      <td>0.252699</td>\n",
       "      <td>0.167707</td>\n",
       "      <td>0.103689</td>\n",
       "      <td>0.042437</td>\n",
       "      <td>0.005289</td>\n",
       "      <td>-0.021382</td>\n",
       "      <td>-0.449096</td>\n",
       "      <td>-0.736648</td>\n",
       "      <td>1.000000</td>\n",
       "      <td>-0.458514</td>\n",
       "      <td>-0.414052</td>\n",
       "      <td>-0.011767</td>\n",
       "    </tr>\n",
       "    <tr>\n",
       "      <th>plate</th>\n",
       "      <td>-0.043891</td>\n",
       "      <td>0.206556</td>\n",
       "      <td>-0.132412</td>\n",
       "      <td>-0.057879</td>\n",
       "      <td>0.014348</td>\n",
       "      <td>0.067876</td>\n",
       "      <td>0.108868</td>\n",
       "      <td>0.232605</td>\n",
       "      <td>0.080126</td>\n",
       "      <td>-0.079826</td>\n",
       "      <td>0.909686</td>\n",
       "      <td>0.598131</td>\n",
       "      <td>-0.458514</td>\n",
       "      <td>1.000000</td>\n",
       "      <td>0.924727</td>\n",
       "      <td>0.192632</td>\n",
       "    </tr>\n",
       "    <tr>\n",
       "      <th>mjd</th>\n",
       "      <td>-0.053590</td>\n",
       "      <td>0.050285</td>\n",
       "      <td>-0.117060</td>\n",
       "      <td>-0.036545</td>\n",
       "      <td>0.033596</td>\n",
       "      <td>0.084789</td>\n",
       "      <td>0.122772</td>\n",
       "      <td>0.147413</td>\n",
       "      <td>0.067925</td>\n",
       "      <td>-0.118489</td>\n",
       "      <td>0.743049</td>\n",
       "      <td>0.561797</td>\n",
       "      <td>-0.414052</td>\n",
       "      <td>0.924727</td>\n",
       "      <td>1.000000</td>\n",
       "      <td>0.205380</td>\n",
       "    </tr>\n",
       "    <tr>\n",
       "      <th>fiberid</th>\n",
       "      <td>0.009121</td>\n",
       "      <td>0.295278</td>\n",
       "      <td>0.007498</td>\n",
       "      <td>0.041139</td>\n",
       "      <td>0.053719</td>\n",
       "      <td>0.059608</td>\n",
       "      <td>0.059731</td>\n",
       "      <td>0.144918</td>\n",
       "      <td>0.546223</td>\n",
       "      <td>-0.037365</td>\n",
       "      <td>0.113185</td>\n",
       "      <td>0.045830</td>\n",
       "      <td>-0.011767</td>\n",
       "      <td>0.192632</td>\n",
       "      <td>0.205380</td>\n",
       "      <td>1.000000</td>\n",
       "    </tr>\n",
       "  </tbody>\n",
       "</table>\n",
       "</div>"
      ],
      "text/plain": [
       "                 ra       dec         u         g         r         i  \\\n",
       "ra         1.000000 -0.099025  0.025992  0.034531  0.034917  0.034367   \n",
       "dec       -0.099025  1.000000  0.027279  0.033889  0.029393  0.024513   \n",
       "u          0.025992  0.027279  1.000000  0.798355  0.644857  0.570774   \n",
       "g          0.034531  0.033889  0.798355  1.000000  0.959572  0.917869   \n",
       "r          0.034917  0.029393  0.644857  0.959572  1.000000  0.988125   \n",
       "i          0.034367  0.024513  0.570774  0.917869  0.988125  1.000000   \n",
       "z          0.034826  0.021956  0.507525  0.878222  0.969963  0.992448   \n",
       "run        0.015367  0.625318  0.024785  0.047607  0.046570  0.041314   \n",
       "camcol    -0.060535  0.392055  0.009872  0.004443  0.003740  0.005200   \n",
       "field      0.587106 -0.142701  0.010133  0.014709  0.015729  0.017771   \n",
       "specobjid  0.015224  0.287271 -0.149325 -0.090095 -0.024030  0.025687   \n",
       "class     -0.010821 -0.043486 -0.251365 -0.082563  0.052573  0.146682   \n",
       "redshift   0.003844 -0.003288  0.381865  0.376605  0.252699  0.167707   \n",
       "plate     -0.043891  0.206556 -0.132412 -0.057879  0.014348  0.067876   \n",
       "mjd       -0.053590  0.050285 -0.117060 -0.036545  0.033596  0.084789   \n",
       "fiberid    0.009121  0.295278  0.007498  0.041139  0.053719  0.059608   \n",
       "\n",
       "                  z       run    camcol     field  specobjid     class  \\\n",
       "ra         0.034826  0.015367 -0.060535  0.587106   0.015224 -0.010821   \n",
       "dec        0.021956  0.625318  0.392055 -0.142701   0.287271 -0.043486   \n",
       "u          0.507525  0.024785  0.009872  0.010133  -0.149325 -0.251365   \n",
       "g          0.878222  0.047607  0.004443  0.014709  -0.090095 -0.082563   \n",
       "r          0.969963  0.046570  0.003740  0.015729  -0.024030  0.052573   \n",
       "i          0.992448  0.041314  0.005200  0.017771   0.025687  0.146682   \n",
       "z          1.000000  0.039402  0.004185  0.018176   0.065854  0.216925   \n",
       "run        0.039402  1.000000  0.148442 -0.382701   0.323883 -0.066380   \n",
       "camcol     0.004185  0.148442  1.000000 -0.066996   0.076472 -0.006186   \n",
       "field      0.018176 -0.382701 -0.066996  1.000000  -0.057377  0.007005   \n",
       "specobjid  0.065854  0.323883  0.076472 -0.057377   1.000000  0.565908   \n",
       "class      0.216925 -0.066380 -0.006186  0.007005   0.565908  1.000000   \n",
       "redshift   0.103689  0.042437  0.005289 -0.021382  -0.449096 -0.736648   \n",
       "plate      0.108868  0.232605  0.080126 -0.079826   0.909686  0.598131   \n",
       "mjd        0.122772  0.147413  0.067925 -0.118489   0.743049  0.561797   \n",
       "fiberid    0.059731  0.144918  0.546223 -0.037365   0.113185  0.045830   \n",
       "\n",
       "           redshift     plate       mjd   fiberid  \n",
       "ra         0.003844 -0.043891 -0.053590  0.009121  \n",
       "dec       -0.003288  0.206556  0.050285  0.295278  \n",
       "u          0.381865 -0.132412 -0.117060  0.007498  \n",
       "g          0.376605 -0.057879 -0.036545  0.041139  \n",
       "r          0.252699  0.014348  0.033596  0.053719  \n",
       "i          0.167707  0.067876  0.084789  0.059608  \n",
       "z          0.103689  0.108868  0.122772  0.059731  \n",
       "run        0.042437  0.232605  0.147413  0.144918  \n",
       "camcol     0.005289  0.080126  0.067925  0.546223  \n",
       "field     -0.021382 -0.079826 -0.118489 -0.037365  \n",
       "specobjid -0.449096  0.909686  0.743049  0.113185  \n",
       "class     -0.736648  0.598131  0.561797  0.045830  \n",
       "redshift   1.000000 -0.458514 -0.414052 -0.011767  \n",
       "plate     -0.458514  1.000000  0.924727  0.192632  \n",
       "mjd       -0.414052  0.924727  1.000000  0.205380  \n",
       "fiberid   -0.011767  0.192632  0.205380  1.000000  "
      ]
     },
     "execution_count": 14,
     "metadata": {},
     "output_type": "execute_result"
    }
   ],
   "source": [
    "data1.corr()"
   ]
  },
  {
   "cell_type": "code",
   "execution_count": 15,
   "metadata": {},
   "outputs": [
    {
     "data": {
      "text/plain": [
       "0    4998\n",
       "2    4152\n",
       "1     850\n",
       "Name: class, dtype: int64"
      ]
     },
     "execution_count": 15,
     "metadata": {},
     "output_type": "execute_result"
    }
   ],
   "source": [
    "data1['class'].value_counts()\n",
    "\n",
    "#GALAXY = 4998, star = 4152, qso = 850"
   ]
  },
  {
   "cell_type": "code",
   "execution_count": 16,
   "metadata": {},
   "outputs": [
    {
     "data": {
      "text/plain": [
       "<matplotlib.axes._subplots.AxesSubplot at 0x132a10f2eb0>"
      ]
     },
     "execution_count": 16,
     "metadata": {},
     "output_type": "execute_result"
    },
    {
     "data": {
      "image/png": "[encoded data removed]",
      "text/plain": [
       "<Figure size 432x288 with 1 Axes>"
      ]
     },
     "metadata": {
      "needs_background": "light"
     },
     "output_type": "display_data"
    }
   ],
   "source": [
    "sns.countplot(x=data1['class'])"
   ]
  },
  {
   "cell_type": "code",
   "execution_count": 17,
   "metadata": {},
   "outputs": [
    {
     "data": {
      "text/plain": [
       "<matplotlib.axes._subplots.AxesSubplot at 0x132a0473a30>"
      ]
     },
     "execution_count": 17,
     "metadata": {},
     "output_type": "execute_result"
    },
    {
     "data": {
      "image/png": "[encoded data removed]",
      "text/plain": [
       "<Figure size 432x288 with 1 Axes>"
      ]
     },
     "metadata": {},
     "output_type": "display_data"
    }
   ],
   "source": [
    "data1['class'].value_counts().plot.pie(y='class')"
   ]
  },
  {
   "cell_type": "code",
   "execution_count": 18,
   "metadata": {},
   "outputs": [
    {
     "data": {
      "text/plain": [
       "Text(0.5, 1.0, 'MJD of observation')"
      ]
     },
     "execution_count": 18,
     "metadata": {},
     "output_type": "execute_result"
    },
    {
     "data": {
      "image/png": "[encoded data removed]",
      "text/plain": [
       "<Figure size 1224x720 with 1 Axes>"
      ]
     },
     "metadata": {
      "needs_background": "light"
     },
     "output_type": "display_data"
    },
    {
     "data": {
      "image/png": "[encoded data removed]",
      "text/plain": [
       "<Figure size 1224x720 with 10 Axes>"
      ]
     },
     "metadata": {},
     "output_type": "display_data"
    }
   ],
   "source": [
    "plt.figure(figsize = (17, 10))\n",
    "plt.style.use('seaborn-white')\n",
    "ax=plt.subplot(2,5,1)\n",
    "sns.boxplot(x='class',y='dec',data=data1)\n",
    "ax.set_title('Declination (r-band)')\n",
    "plt.figure(figsize = (17, 10))\n",
    "plt.style.use('seaborn-white')\n",
    "ax=plt.subplot(2,5,1)\n",
    "sns.boxplot(x='class',y='dec',data=data1)\n",
    "ax.set_title('Declination (r-band)')\n",
    "ax=plt.subplot(2,5,2)\n",
    "sns.boxplot(x='class',y='u',data=data1)\n",
    "ax.set_title('u')\n",
    "ax=plt.subplot(2,5,3)\n",
    "sns.boxplot(x='class',y='g',data=data1)\n",
    "ax.set_title('g')\n",
    "ax=plt.subplot(2,5,4)\n",
    "sns.boxplot(x='class',y='r',data=data1)\n",
    "ax.set_title('r')\n",
    "ax=plt.subplot(2,5,5)\n",
    "sns.boxplot(x='class',y='i',data=data1)\n",
    "ax.set_title('i')\n",
    "ax=plt.subplot(2,5,6)\n",
    "sns.boxplot(x='class',y='z',data=data1)\n",
    "ax.set_title('z')\n",
    "ax=plt.subplot(2,5,7)\n",
    "sns.boxplot(x='class',y='run',data=data1)\n",
    "ax.set_title('Run Number')\n",
    "ax=plt.subplot(2,5,8)\n",
    "sns.boxplot(x='class',y='camcol',data=data1)\n",
    "ax.set_title('Camera Column')\n",
    "ax=plt.subplot(2,5,9)\n",
    "sns.boxplot(x='class',y='redshift',data=data1)\n",
    "ax.set_title('Final Red Shift')\n",
    "ax=plt.subplot(2,5,10)\n",
    "sns.boxplot(x='class',y='mjd',data=data1)\n",
    "ax.set_title('MJD of observation')"
   ]
  },
  {
   "cell_type": "code",
   "execution_count": 21,
   "metadata": {},
   "outputs": [
    {
     "name": "stdout",
     "output_type": "stream",
     "text": [
      "(10000, 16)\n",
      "(9941, 16)\n"
     ]
    }
   ],
   "source": [
    "from scipy.stats import zscore\n",
    "\n",
    "#di=df.columns\n",
    "z_score=zscore(data1)\n",
    "print(data1.shape)\n",
    "df=data1.loc[(z_score<3).all(axis=1)]\n",
    "print(df.shape)"
   ]
  },
  {
   "cell_type": "code",
   "execution_count": 24,
   "metadata": {},
   "outputs": [
    {
     "data": {
      "text/plain": [
       "0    4998\n",
       "2    4105\n",
       "1     838\n",
       "Name: class, dtype: int64"
      ]
     },
     "execution_count": 24,
     "metadata": {},
     "output_type": "execute_result"
    }
   ],
   "source": [
    "df['class'].value_counts()"
   ]
  },
  {
   "cell_type": "code",
   "execution_count": 25,
   "metadata": {},
   "outputs": [
    {
     "data": {
      "text/plain": [
       "<matplotlib.axes._subplots.AxesSubplot at 0x132a0865df0>"
      ]
     },
     "execution_count": 25,
     "metadata": {},
     "output_type": "execute_result"
    },
    {
     "data": {
      "image/png": "[encoded data removed]",
      "text/plain": [
       "<Figure size 432x288 with 1 Axes>"
      ]
     },
     "metadata": {},
     "output_type": "display_data"
    }
   ],
   "source": [
    "sns.countplot(x=df['run'])"
   ]
  },
  {
   "cell_type": "code",
   "execution_count": 32,
   "metadata": {},
   "outputs": [
    {
     "data": {
      "text/plain": [
       "ra          -0.009026\n",
       "dec          0.011356\n",
       "u           -0.025228\n",
       "g           -0.005179\n",
       "r            0.004489\n",
       "i            0.005829\n",
       "z            0.005715\n",
       "run          0.998582\n",
       "camcol      -0.098666\n",
       "field        0.220502\n",
       "specobjid   -0.320677\n",
       "class        0.179850\n",
       "redshift     0.065062\n",
       "plate        0.869370\n",
       "mjd          1.145583\n",
       "fiberid      0.147784\n",
       "dtype: float64"
      ]
     },
     "execution_count": 32,
     "metadata": {},
     "output_type": "execute_result"
    }
   ],
   "source": [
    "df.skew()"
   ]
  },
  {
   "cell_type": "code",
   "execution_count": 33,
   "metadata": {},
   "outputs": [],
   "source": [
    "x = df.drop(['class'], axis = 1)\n",
    "y = df['class']"
   ]
  },
  {
   "cell_type": "code",
   "execution_count": 26,
   "metadata": {},
   "outputs": [
    {
     "data": {
      "text/plain": [
       "<matplotlib.axes._subplots.AxesSubplot at 0x132a0928c40>"
      ]
     },
     "execution_count": 26,
     "metadata": {},
     "output_type": "execute_result"
    },
    {
     "data": {
      "image/png": "[encoded data removed]",
      "text/plain": [
       "<Figure size 432x288 with 1 Axes>"
      ]
     },
     "metadata": {},
     "output_type": "display_data"
    }
   ],
   "source": [
    "sns.countplot(x=df['class'])"
   ]
  },
  {
   "cell_type": "code",
   "execution_count": 35,
   "metadata": {},
   "outputs": [],
   "source": [
    "class0 = df[df['class']==0]\n",
    "class1 = df[df['class']==1]\n",
    "class2 = df[df['class']==2]"
   ]
  },
  {
   "cell_type": "code",
   "execution_count": 36,
   "metadata": {},
   "outputs": [],
   "source": [
    "from imblearn.under_sampling import NearMiss\n",
    "\n",
    "nm = NearMiss(sampling_strategy='auto')\n",
    "x,y = nm.fit_sample(x,y)\n"
   ]
  },
  {
   "cell_type": "code",
   "execution_count": 37,
   "metadata": {},
   "outputs": [
    {
     "data": {
      "text/plain": [
       "((2514, 15), (2514,))"
      ]
     },
     "execution_count": 37,
     "metadata": {},
     "output_type": "execute_result"
    }
   ],
   "source": [
    "x.shape, y.shape"
   ]
  },
  {
   "cell_type": "code",
   "execution_count": 38,
   "metadata": {},
   "outputs": [],
   "source": [
    "from sklearn.preprocessing import StandardScaler \n",
    "STD=StandardScaler()\n",
    "x=STD.fit_transform(x)"
   ]
  },
  {
   "cell_type": "code",
   "execution_count": 39,
   "metadata": {},
   "outputs": [],
   "source": [
    "from sklearn.model_selection import train_test_split\n",
    "\n",
    "x_train, x_test, y_train, y_test = train_test_split(x, y, test_size = 0.2, random_state = 0)"
   ]
  },
  {
   "cell_type": "code",
   "execution_count": 40,
   "metadata": {},
   "outputs": [
    {
     "data": {
      "image/png": "[encoded data removed]",
      "text/plain": [
       "<Figure size 432x288 with 1 Axes>"
      ]
     },
     "metadata": {},
     "output_type": "display_data"
    }
   ],
   "source": [
    "from sklearn.decomposition import PCA\n",
    "pca = PCA()\n",
    "PrincipalComponents = pca.fit_transform(x)\n",
    "plt.figure()\n",
    "plt.plot(np.cumsum(pca.explained_variance_ratio_))\n",
    "plt.xlabel('Number of Components')\n",
    "plt.ylabel('Variance(%)')\n",
    "plt.title('Explained Variance')\n",
    "plt.show()"
   ]
  },
  {
   "cell_type": "code",
   "execution_count": 42,
   "metadata": {},
   "outputs": [
    {
     "data": {
      "text/html": [
       "<div>\n",
       "<style scoped>\n",
       "    .dataframe tbody tr th:only-of-type {\n",
       "        vertical-align: middle;\n",
       "    }\n",
       "\n",
       "    .dataframe tbody tr th {\n",
       "        vertical-align: top;\n",
       "    }\n",
       "\n",
       "    .dataframe thead th {\n",
       "        text-align: right;\n",
       "    }\n",
       "</style>\n",
       "<table border=\"1\" class=\"dataframe\">\n",
       "  <thead>\n",
       "    <tr style=\"text-align: right;\">\n",
       "      <th></th>\n",
       "      <th>0</th>\n",
       "      <th>1</th>\n",
       "      <th>2</th>\n",
       "      <th>3</th>\n",
       "      <th>4</th>\n",
       "      <th>5</th>\n",
       "      <th>6</th>\n",
       "      <th>7</th>\n",
       "      <th>8</th>\n",
       "      <th>9</th>\n",
       "      <th>10</th>\n",
       "    </tr>\n",
       "  </thead>\n",
       "  <tbody>\n",
       "    <tr>\n",
       "      <th>0</th>\n",
       "      <td>-3.328420</td>\n",
       "      <td>1.424400</td>\n",
       "      <td>0.903703</td>\n",
       "      <td>2.234072</td>\n",
       "      <td>1.288575</td>\n",
       "      <td>-0.397395</td>\n",
       "      <td>-0.208722</td>\n",
       "      <td>-0.475782</td>\n",
       "      <td>0.274960</td>\n",
       "      <td>0.263309</td>\n",
       "      <td>-0.597747</td>\n",
       "    </tr>\n",
       "    <tr>\n",
       "      <th>1</th>\n",
       "      <td>-2.190961</td>\n",
       "      <td>-0.560431</td>\n",
       "      <td>-0.823518</td>\n",
       "      <td>-1.865586</td>\n",
       "      <td>-0.524312</td>\n",
       "      <td>-0.907363</td>\n",
       "      <td>0.236296</td>\n",
       "      <td>0.251069</td>\n",
       "      <td>-0.698168</td>\n",
       "      <td>0.189384</td>\n",
       "      <td>0.770921</td>\n",
       "    </tr>\n",
       "    <tr>\n",
       "      <th>2</th>\n",
       "      <td>-2.369545</td>\n",
       "      <td>1.280659</td>\n",
       "      <td>-0.314127</td>\n",
       "      <td>2.312733</td>\n",
       "      <td>1.592420</td>\n",
       "      <td>0.172999</td>\n",
       "      <td>-0.319283</td>\n",
       "      <td>0.857685</td>\n",
       "      <td>-0.116270</td>\n",
       "      <td>0.259778</td>\n",
       "      <td>-0.279165</td>\n",
       "    </tr>\n",
       "    <tr>\n",
       "      <th>3</th>\n",
       "      <td>-1.764390</td>\n",
       "      <td>0.727784</td>\n",
       "      <td>-1.500223</td>\n",
       "      <td>-0.229693</td>\n",
       "      <td>-0.710049</td>\n",
       "      <td>0.589438</td>\n",
       "      <td>0.138547</td>\n",
       "      <td>1.087446</td>\n",
       "      <td>-0.148967</td>\n",
       "      <td>0.796619</td>\n",
       "      <td>0.124383</td>\n",
       "    </tr>\n",
       "    <tr>\n",
       "      <th>4</th>\n",
       "      <td>-2.576690</td>\n",
       "      <td>0.500902</td>\n",
       "      <td>-1.478253</td>\n",
       "      <td>-1.000938</td>\n",
       "      <td>0.752958</td>\n",
       "      <td>-0.079748</td>\n",
       "      <td>-0.464643</td>\n",
       "      <td>1.267858</td>\n",
       "      <td>-0.323990</td>\n",
       "      <td>0.341999</td>\n",
       "      <td>-0.327828</td>\n",
       "    </tr>\n",
       "    <tr>\n",
       "      <th>...</th>\n",
       "      <td>...</td>\n",
       "      <td>...</td>\n",
       "      <td>...</td>\n",
       "      <td>...</td>\n",
       "      <td>...</td>\n",
       "      <td>...</td>\n",
       "      <td>...</td>\n",
       "      <td>...</td>\n",
       "      <td>...</td>\n",
       "      <td>...</td>\n",
       "      <td>...</td>\n",
       "    </tr>\n",
       "    <tr>\n",
       "      <th>2509</th>\n",
       "      <td>1.177229</td>\n",
       "      <td>4.127312</td>\n",
       "      <td>2.358068</td>\n",
       "      <td>0.815256</td>\n",
       "      <td>-1.409855</td>\n",
       "      <td>0.587156</td>\n",
       "      <td>0.327460</td>\n",
       "      <td>-0.093011</td>\n",
       "      <td>-0.418141</td>\n",
       "      <td>-0.698111</td>\n",
       "      <td>0.134140</td>\n",
       "    </tr>\n",
       "    <tr>\n",
       "      <th>2510</th>\n",
       "      <td>1.130713</td>\n",
       "      <td>1.587663</td>\n",
       "      <td>0.879289</td>\n",
       "      <td>0.513250</td>\n",
       "      <td>-1.001399</td>\n",
       "      <td>0.445131</td>\n",
       "      <td>-1.085200</td>\n",
       "      <td>0.127737</td>\n",
       "      <td>-0.805852</td>\n",
       "      <td>0.164099</td>\n",
       "      <td>0.457675</td>\n",
       "    </tr>\n",
       "    <tr>\n",
       "      <th>2511</th>\n",
       "      <td>0.775329</td>\n",
       "      <td>3.827167</td>\n",
       "      <td>1.871743</td>\n",
       "      <td>-2.559024</td>\n",
       "      <td>0.422359</td>\n",
       "      <td>1.967377</td>\n",
       "      <td>-0.974424</td>\n",
       "      <td>-0.576067</td>\n",
       "      <td>0.425571</td>\n",
       "      <td>-1.145744</td>\n",
       "      <td>-0.120432</td>\n",
       "    </tr>\n",
       "    <tr>\n",
       "      <th>2512</th>\n",
       "      <td>1.335952</td>\n",
       "      <td>1.352829</td>\n",
       "      <td>1.592827</td>\n",
       "      <td>-0.300395</td>\n",
       "      <td>-0.708361</td>\n",
       "      <td>0.530093</td>\n",
       "      <td>-1.119525</td>\n",
       "      <td>0.299249</td>\n",
       "      <td>-0.514372</td>\n",
       "      <td>0.036677</td>\n",
       "      <td>0.323611</td>\n",
       "    </tr>\n",
       "    <tr>\n",
       "      <th>2513</th>\n",
       "      <td>1.273609</td>\n",
       "      <td>0.822465</td>\n",
       "      <td>2.069239</td>\n",
       "      <td>-1.067656</td>\n",
       "      <td>-0.367879</td>\n",
       "      <td>0.040855</td>\n",
       "      <td>-1.170626</td>\n",
       "      <td>1.074967</td>\n",
       "      <td>-0.581403</td>\n",
       "      <td>0.186566</td>\n",
       "      <td>-0.287442</td>\n",
       "    </tr>\n",
       "  </tbody>\n",
       "</table>\n",
       "<p>2514 rows × 11 columns</p>\n",
       "</div>"
      ],
      "text/plain": [
       "             0         1         2         3         4         5         6  \\\n",
       "0    -3.328420  1.424400  0.903703  2.234072  1.288575 -0.397395 -0.208722   \n",
       "1    -2.190961 -0.560431 -0.823518 -1.865586 -0.524312 -0.907363  0.236296   \n",
       "2    -2.369545  1.280659 -0.314127  2.312733  1.592420  0.172999 -0.319283   \n",
       "3    -1.764390  0.727784 -1.500223 -0.229693 -0.710049  0.589438  0.138547   \n",
       "4    -2.576690  0.500902 -1.478253 -1.000938  0.752958 -0.079748 -0.464643   \n",
       "...        ...       ...       ...       ...       ...       ...       ...   \n",
       "2509  1.177229  4.127312  2.358068  0.815256 -1.409855  0.587156  0.327460   \n",
       "2510  1.130713  1.587663  0.879289  0.513250 -1.001399  0.445131 -1.085200   \n",
       "2511  0.775329  3.827167  1.871743 -2.559024  0.422359  1.967377 -0.974424   \n",
       "2512  1.335952  1.352829  1.592827 -0.300395 -0.708361  0.530093 -1.119525   \n",
       "2513  1.273609  0.822465  2.069239 -1.067656 -0.367879  0.040855 -1.170626   \n",
       "\n",
       "             7         8         9        10  \n",
       "0    -0.475782  0.274960  0.263309 -0.597747  \n",
       "1     0.251069 -0.698168  0.189384  0.770921  \n",
       "2     0.857685 -0.116270  0.259778 -0.279165  \n",
       "3     1.087446 -0.148967  0.796619  0.124383  \n",
       "4     1.267858 -0.323990  0.341999 -0.327828  \n",
       "...        ...       ...       ...       ...  \n",
       "2509 -0.093011 -0.418141 -0.698111  0.134140  \n",
       "2510  0.127737 -0.805852  0.164099  0.457675  \n",
       "2511 -0.576067  0.425571 -1.145744 -0.120432  \n",
       "2512  0.299249 -0.514372  0.036677  0.323611  \n",
       "2513  1.074967 -0.581403  0.186566 -0.287442  \n",
       "\n",
       "[2514 rows x 11 columns]"
      ]
     },
     "execution_count": 42,
     "metadata": {},
     "output_type": "execute_result"
    }
   ],
   "source": [
    "pca = PCA(n_components = 11)\n",
    "new_data = pca.fit_transform(x)\n",
    "pri_x = pd.DataFrame(new_data)\n",
    "pri_x"
   ]
  },
  {
   "cell_type": "code",
   "execution_count": 43,
   "metadata": {},
   "outputs": [
    {
     "data": {
      "text/plain": [
       "((1759, 11), (755, 11), (1759,), (755,))"
      ]
     },
     "execution_count": 43,
     "metadata": {},
     "output_type": "execute_result"
    }
   ],
   "source": [
    "x_train,x_test,y_train,y_test = train_test_split(pri_x,y,train_size = 0.7)\n",
    "x_train.shape,x_test.shape,y_train.shape,y_test.shape"
   ]
  },
  {
   "cell_type": "code",
   "execution_count": 51,
   "metadata": {},
   "outputs": [],
   "source": [
    "from sklearn.linear_model import LogisticRegression #models to perform on data\n",
    "from sklearn.metrics import accuracy_score,confusion_matrix,classification_report,f1_score\n",
    "from sklearn.svm import SVC\n",
    "from sklearn.ensemble import RandomForestClassifier\n",
    "from sklearn.neighbors import KNeighborsClassifier\n",
    "from sklearn.naive_bayes import GaussianNB\n",
    "from sklearn.linear_model import Perceptron\n",
    "from sklearn.linear_model import SGDClassifier\n",
    "from sklearn.tree import DecisionTreeClassifier\n",
    "from sklearn.ensemble import AdaBoostClassifier,GradientBoostingClassifier\n",
    "from sklearn.model_selection import GridSearchCV\n",
    "from sklearn.model_selection import cross_val_score\n",
    "from sklearn.ensemble import VotingClassifier\n",
    "from sklearn.metrics import roc_curve,roc_auc_score\n",
    "lg=LogisticRegression()\n",
    "svc=SVC()\n",
    "rndf = RandomForestClassifier()\n",
    "dtc=DecisionTreeClassifier()\n",
    "gb=GaussianNB()\n",
    "knn=KNeighborsClassifier()\n",
    "sgdc = SGDClassifier()"
   ]
  },
  {
   "cell_type": "code",
   "execution_count": 59,
   "metadata": {},
   "outputs": [],
   "source": [
    "def fun(f):\n",
    "    f.fit(x_train,y_train)\n",
    "    pred=f.predict(x_test)\n",
    "    print('Score',f.score(x_train,y_train))\n",
    "    print('Accuracy Score',accuracy_score(y_test,pred)*100)\n",
    "    print('Confusion Matrix\\n',confusion_matrix(y_test,pred))\n",
    "    print('Classification Report\\n',classification_report(y_test,pred))\n",
    "    \n",
    "    plt.rcParams['figure.figsize'] = (5, 5)\n",
    "    cm = confusion_matrix(y_test,pred)\n",
    "    sns.heatmap(cm, annot = True, cmap = 'copper')\n",
    "    plt.show()"
   ]
  },
  {
   "cell_type": "code",
   "execution_count": 60,
   "metadata": {},
   "outputs": [
    {
     "name": "stdout",
     "output_type": "stream",
     "text": [
      "Score 0.9681637293916998\n",
      "Accuracy Score 95.76158940397352\n",
      "Confusion Matrix\n",
      " [[246  12   0]\n",
      " [ 19 210   0]\n",
      " [  1   0 267]]\n",
      "Classification Report\n",
      "               precision    recall  f1-score   support\n",
      "\n",
      "           0       0.92      0.95      0.94       258\n",
      "           1       0.95      0.92      0.93       229\n",
      "           2       1.00      1.00      1.00       268\n",
      "\n",
      "    accuracy                           0.96       755\n",
      "   macro avg       0.96      0.96      0.96       755\n",
      "weighted avg       0.96      0.96      0.96       755\n",
      "\n"
     ]
    },
    {
     "data": {
      "image/png": "[encoded data removed]",
      "text/plain": [
       "<Figure size 360x360 with 2 Axes>"
      ]
     },
     "metadata": {},
     "output_type": "display_data"
    }
   ],
   "source": [
    "fun(lg)"
   ]
  },
  {
   "cell_type": "code",
   "execution_count": 61,
   "metadata": {},
   "outputs": [
    {
     "name": "stdout",
     "output_type": "stream",
     "text": [
      "Score 0.9715747583854463\n",
      "Accuracy Score 95.62913907284768\n",
      "Confusion Matrix\n",
      " [[246  12   0]\n",
      " [ 20 209   0]\n",
      " [  1   0 267]]\n",
      "Classification Report\n",
      "               precision    recall  f1-score   support\n",
      "\n",
      "           0       0.92      0.95      0.94       258\n",
      "           1       0.95      0.91      0.93       229\n",
      "           2       1.00      1.00      1.00       268\n",
      "\n",
      "    accuracy                           0.96       755\n",
      "   macro avg       0.96      0.95      0.95       755\n",
      "weighted avg       0.96      0.96      0.96       755\n",
      "\n"
     ]
    },
    {
     "data": {
      "image/png": "[encoded data removed]",
      "text/plain": [
       "<Figure size 360x360 with 2 Axes>"
      ]
     },
     "metadata": {},
     "output_type": "display_data"
    }
   ],
   "source": [
    "fun(svc)"
   ]
  },
  {
   "cell_type": "code",
   "execution_count": 62,
   "metadata": {},
   "outputs": [
    {
     "name": "stdout",
     "output_type": "stream",
     "text": [
      "Score 1.0\n",
      "Accuracy Score 90.72847682119205\n",
      "Confusion Matrix\n",
      " [[226  26   6]\n",
      " [ 25 202   2]\n",
      " [ 10   1 257]]\n",
      "Classification Report\n",
      "               precision    recall  f1-score   support\n",
      "\n",
      "           0       0.87      0.88      0.87       258\n",
      "           1       0.88      0.88      0.88       229\n",
      "           2       0.97      0.96      0.96       268\n",
      "\n",
      "    accuracy                           0.91       755\n",
      "   macro avg       0.91      0.91      0.91       755\n",
      "weighted avg       0.91      0.91      0.91       755\n",
      "\n"
     ]
    },
    {
     "data": {
      "image/png": "[encoded data removed]",
      "text/plain": [
       "<Figure size 360x360 with 2 Axes>"
      ]
     },
     "metadata": {},
     "output_type": "display_data"
    }
   ],
   "source": [
    "fun(dtc)"
   ]
  },
  {
   "cell_type": "code",
   "execution_count": 63,
   "metadata": {},
   "outputs": [
    {
     "name": "stdout",
     "output_type": "stream",
     "text": [
      "Score 0.9107447413303013\n",
      "Accuracy Score 89.00662251655629\n",
      "Confusion Matrix\n",
      " [[207  51   0]\n",
      " [ 23 206   0]\n",
      " [  3   6 259]]\n",
      "Classification Report\n",
      "               precision    recall  f1-score   support\n",
      "\n",
      "           0       0.89      0.80      0.84       258\n",
      "           1       0.78      0.90      0.84       229\n",
      "           2       1.00      0.97      0.98       268\n",
      "\n",
      "    accuracy                           0.89       755\n",
      "   macro avg       0.89      0.89      0.89       755\n",
      "weighted avg       0.90      0.89      0.89       755\n",
      "\n"
     ]
    },
    {
     "data": {
      "image/png": "[encoded data removed]",
      "text/plain": [
       "<Figure size 360x360 with 2 Axes>"
      ]
     },
     "metadata": {},
     "output_type": "display_data"
    }
   ],
   "source": [
    "fun(gb)"
   ]
  },
  {
   "cell_type": "code",
   "execution_count": 64,
   "metadata": {},
   "outputs": [
    {
     "name": "stdout",
     "output_type": "stream",
     "text": [
      "Score 0.9471290505969301\n",
      "Accuracy Score 92.18543046357615\n",
      "Confusion Matrix\n",
      " [[227  29   2]\n",
      " [ 19 209   1]\n",
      " [  7   1 260]]\n",
      "Classification Report\n",
      "               precision    recall  f1-score   support\n",
      "\n",
      "           0       0.90      0.88      0.89       258\n",
      "           1       0.87      0.91      0.89       229\n",
      "           2       0.99      0.97      0.98       268\n",
      "\n",
      "    accuracy                           0.92       755\n",
      "   macro avg       0.92      0.92      0.92       755\n",
      "weighted avg       0.92      0.92      0.92       755\n",
      "\n"
     ]
    },
    {
     "data": {
      "image/png": "[encoded data removed]",
      "text/plain": [
       "<Figure size 360x360 with 2 Axes>"
      ]
     },
     "metadata": {},
     "output_type": "display_data"
    }
   ],
   "source": [
    "fun(knn)"
   ]
  },
  {
   "cell_type": "code",
   "execution_count": 65,
   "metadata": {},
   "outputs": [
    {
     "name": "stdout",
     "output_type": "stream",
     "text": [
      "Score 0.9499715747583855\n",
      "Accuracy Score 93.37748344370861\n",
      "Confusion Matrix\n",
      " [[240  18   0]\n",
      " [ 32 197   0]\n",
      " [  0   0 268]]\n",
      "Classification Report\n",
      "               precision    recall  f1-score   support\n",
      "\n",
      "           0       0.88      0.93      0.91       258\n",
      "           1       0.92      0.86      0.89       229\n",
      "           2       1.00      1.00      1.00       268\n",
      "\n",
      "    accuracy                           0.93       755\n",
      "   macro avg       0.93      0.93      0.93       755\n",
      "weighted avg       0.93      0.93      0.93       755\n",
      "\n"
     ]
    },
    {
     "data": {
      "image/png": "[encoded data removed]",
      "text/plain": [
       "<Figure size 360x360 with 2 Axes>"
      ]
     },
     "metadata": {},
     "output_type": "display_data"
    }
   ],
   "source": [
    "fun(sgdc)"
   ]
  },
  {
   "cell_type": "code",
   "execution_count": 66,
   "metadata": {},
   "outputs": [
    {
     "name": "stdout",
     "output_type": "stream",
     "text": [
      "Score 1.0\n",
      "Accuracy Score 93.64238410596026\n",
      "Confusion Matrix\n",
      " [[233  22   3]\n",
      " [ 19 209   1]\n",
      " [  2   1 265]]\n",
      "Classification Report\n",
      "               precision    recall  f1-score   support\n",
      "\n",
      "           0       0.92      0.90      0.91       258\n",
      "           1       0.90      0.91      0.91       229\n",
      "           2       0.99      0.99      0.99       268\n",
      "\n",
      "    accuracy                           0.94       755\n",
      "   macro avg       0.93      0.93      0.93       755\n",
      "weighted avg       0.94      0.94      0.94       755\n",
      "\n"
     ]
    },
    {
     "data": {
      "image/png": "[encoded data removed]",
      "text/plain": [
       "<Figure size 360x360 with 2 Axes>"
      ]
     },
     "metadata": {},
     "output_type": "display_data"
    }
   ],
   "source": [
    "fun(rndf)\n",
    "pred=rndf.predict(x_test)"
   ]
  },
  {
   "cell_type": "code",
   "execution_count": 67,
   "metadata": {},
   "outputs": [],
   "source": [
    "gd=GradientBoostingClassifier()\n",
    "ad=AdaBoostClassifier()"
   ]
  },
  {
   "cell_type": "code",
   "execution_count": 68,
   "metadata": {},
   "outputs": [
    {
     "name": "stdout",
     "output_type": "stream",
     "text": [
      "Score 0.8953951108584423\n",
      "Accuracy Score 87.54966887417218\n",
      "Confusion Matrix\n",
      " [[241  17   0]\n",
      " [ 67 162   0]\n",
      " [ 10   0 258]]\n",
      "Classification Report\n",
      "               precision    recall  f1-score   support\n",
      "\n",
      "           0       0.76      0.93      0.84       258\n",
      "           1       0.91      0.71      0.79       229\n",
      "           2       1.00      0.96      0.98       268\n",
      "\n",
      "    accuracy                           0.88       755\n",
      "   macro avg       0.89      0.87      0.87       755\n",
      "weighted avg       0.89      0.88      0.88       755\n",
      "\n"
     ]
    },
    {
     "data": {
      "image/png": "[encoded data removed]",
      "text/plain": [
       "<Figure size 360x360 with 2 Axes>"
      ]
     },
     "metadata": {},
     "output_type": "display_data"
    }
   ],
   "source": [
    "fun(ad)\n",
    "pred=ad.predict(x_test)"
   ]
  },
  {
   "cell_type": "code",
   "execution_count": 69,
   "metadata": {},
   "outputs": [
    {
     "name": "stdout",
     "output_type": "stream",
     "text": [
      "Score 0.9909039226833428\n",
      "Accuracy Score 94.43708609271523\n",
      "Confusion Matrix\n",
      " [[237  19   2]\n",
      " [ 19 210   0]\n",
      " [  2   0 266]]\n",
      "Classification Report\n",
      "               precision    recall  f1-score   support\n",
      "\n",
      "           0       0.92      0.92      0.92       258\n",
      "           1       0.92      0.92      0.92       229\n",
      "           2       0.99      0.99      0.99       268\n",
      "\n",
      "    accuracy                           0.94       755\n",
      "   macro avg       0.94      0.94      0.94       755\n",
      "weighted avg       0.94      0.94      0.94       755\n",
      "\n"
     ]
    },
    {
     "data": {
      "image/png": "[encoded data removed]",
      "text/plain": [
       "<Figure size 360x360 with 2 Axes>"
      ]
     },
     "metadata": {},
     "output_type": "display_data"
    }
   ],
   "source": [
    "fun(gd)\n",
    "pred=gd.predict(x_test)"
   ]
  },
  {
   "cell_type": "code",
   "execution_count": 70,
   "metadata": {},
   "outputs": [
    {
     "name": "stdout",
     "output_type": "stream",
     "text": [
      "score of cross validation score for svc 95.90354288610963\n",
      "score of cross validation score for Decisiontreeclassifier 94.62990978432195\n",
      "score of cross validation score for knn 90.17583740584382\n",
      "score of cross validation score for GausianNB classifier 89.57822784409085\n",
      "score of cross validation score for Randomforest classifier 95.58709608822011\n",
      "score of cross validation score for Adaboost classifier 88.2290917744271\n",
      "score of cross validation score for Gradientboost classifier 96.46187963909956\n"
     ]
    }
   ],
   "source": [
    "score=cross_val_score(svc,x,y,cv=5)\n",
    "print(\"score of cross validation score for svc\", score.mean()*100)\n",
    "score=cross_val_score(dtc,x,y,cv=5)\n",
    "print(\"score of cross validation score for Decisiontreeclassifier\",score.mean()*100)\n",
    "score=cross_val_score(knn,x,y,cv=5)\n",
    "print(\"score of cross validation score for knn\",score.mean()*100)\n",
    "score=cross_val_score(gb,x,y,cv=5)\n",
    "print(\"score of cross validation score for GausianNB classifier\",score.mean()*100)\n",
    "score=cross_val_score(rndf,x,y,cv=4)\n",
    "print(\"score of cross validation score for Randomforest classifier\",score.mean()*100)\n",
    "score=cross_val_score(ad,x,y,cv=4)\n",
    "print('score of cross validation score for Adaboost classifier',score.mean()*100)\n",
    "score=cross_val_score(gd,x,y,cv=4)\n",
    "print(\"score of cross validation score for Gradientboost classifier\",score.mean()*100)"
   ]
  },
  {
   "cell_type": "code",
   "execution_count": 71,
   "metadata": {},
   "outputs": [
    {
     "name": "stdout",
     "output_type": "stream",
     "text": [
      "{'criterion': 'entropy', 'max_depth': 11, 'min_samples_leaf': 5, 'min_samples_split': 6, 'splitter': 'best'}\n"
     ]
    },
    {
     "data": {
      "text/plain": [
       "0.9016559829059829"
      ]
     },
     "execution_count": 71,
     "metadata": {},
     "output_type": "execute_result"
    }
   ],
   "source": [
    "grid_param = {\n",
    "    'criterion' : ['gini','entropy'],\n",
    "    'max_depth' : range(2,40,3),\n",
    "    'min_samples_leaf' : range(1,20,2),\n",
    "    'min_samples_split' : range(2,30,2),\n",
    "    'splitter' : ['best','random']\n",
    "}\n",
    "\n",
    "\n",
    "grid_search = GridSearchCV(estimator = dtc,\n",
    "                     param_grid = grid_param,\n",
    "                     cv = 5,\n",
    "                     n_jobs =-1)\n",
    "\n",
    "grid_search.fit(x_train,y_train)\n",
    "\n",
    "\n",
    "best_parameters = grid_search.best_params_\n",
    "print(best_parameters)\n",
    "\n",
    "grid_search.best_score_"
   ]
  },
  {
   "cell_type": "code",
   "execution_count": 78,
   "metadata": {},
   "outputs": [
    {
     "data": {
      "text/plain": [
       "0.9072847682119205"
      ]
     },
     "execution_count": 78,
     "metadata": {},
     "output_type": "execute_result"
    }
   ],
   "source": [
    "dtc1 = DecisionTreeClassifier(criterion= 'entropy', max_depth= 7, min_samples_leaf= 3, min_samples_split= 3, splitter= 'best')\n",
    "dtc1.fit(x_train,y_train)\n",
    "\n",
    "dtc1.score(x_test,y_test)"
   ]
  },
  {
   "cell_type": "code",
   "execution_count": 79,
   "metadata": {},
   "outputs": [
    {
     "name": "stdout",
     "output_type": "stream",
     "text": [
      "{'learning_rate': 0.1, 'max_depth': 1, 'n_estimators': 250}\n"
     ]
    }
   ],
   "source": [
    "gd1 = GradientBoostingClassifier()\n",
    "parameters = {\n",
    "    \"n_estimators\":[5,50,250,500],\n",
    "    \"max_depth\":[1,3,5,7,9],\n",
    "    \"learning_rate\":[0.01,0.1,1,10,100]\n",
    "}\n",
    "\n",
    "grid_search = GridSearchCV(estimator = gd1,\n",
    "                     param_grid = parameters,\n",
    "                     cv = 5,\n",
    "                     n_jobs =-1)\n",
    "\n",
    "grid_search.fit(x_train,y_train)\n",
    "\n",
    "\n",
    "best_parameters = grid_search.best_params_\n",
    "print(best_parameters)\n"
   ]
  },
  {
   "cell_type": "code",
   "execution_count": 80,
   "metadata": {},
   "outputs": [
    {
     "data": {
      "text/plain": [
       "0.937748344370861"
      ]
     },
     "execution_count": 80,
     "metadata": {},
     "output_type": "execute_result"
    }
   ],
   "source": [
    "gd1 = GradientBoostingClassifier(n_estimators= 250, max_depth= 1, learning_rate= 0.1)\n",
    "gd1.fit(x_train,y_train)\n",
    "\n",
    "gd1.score(x_test,y_test)"
   ]
  },
  {
   "cell_type": "code",
   "execution_count": 81,
   "metadata": {},
   "outputs": [
    {
     "name": "stdout",
     "output_type": "stream",
     "text": [
      "{'max_depth': 5, 'max_features': 'auto', 'n_estimators': 10}\n"
     ]
    }
   ],
   "source": [
    "p2={'n_estimators':[10,50,100,250,500],'max_depth':[1,2,3,4,5],'max_features':['auto','sqrt','log2']}\n",
    "rf1=GridSearchCV(rndf,p2)\n",
    "rf1.fit(x,y)\n",
    "print(rf1.best_params_)"
   ]
  },
  {
   "cell_type": "code",
   "execution_count": 82,
   "metadata": {},
   "outputs": [
    {
     "name": "stdout",
     "output_type": "stream",
     "text": [
      "Score 0.9948834565093804\n",
      "Accuracy Score 93.37748344370861\n",
      "Confusion Matrix\n",
      " [[235  19   4]\n",
      " [ 23 205   1]\n",
      " [  3   0 265]]\n",
      "Classification Report\n",
      "               precision    recall  f1-score   support\n",
      "\n",
      "           0       0.90      0.91      0.91       258\n",
      "           1       0.92      0.90      0.91       229\n",
      "           2       0.98      0.99      0.99       268\n",
      "\n",
      "    accuracy                           0.93       755\n",
      "   macro avg       0.93      0.93      0.93       755\n",
      "weighted avg       0.93      0.93      0.93       755\n",
      "\n"
     ]
    },
    {
     "data": {
      "image/png": "[encoded data removed]",
      "text/plain": [
       "<Figure size 360x360 with 2 Axes>"
      ]
     },
     "metadata": {},
     "output_type": "display_data"
    }
   ],
   "source": [
    "rndf1=RandomForestClassifier(max_depth=100,max_features='auto',n_estimators=10)\n",
    "fun(rndf1)"
   ]
  },
  {
   "cell_type": "code",
   "execution_count": 85,
   "metadata": {},
   "outputs": [
    {
     "name": "stdout",
     "output_type": "stream",
     "text": [
      "Fitting 5 folds for each of 25 candidates, totalling 125 fits\n",
      "[CV] C=0.1, gamma=1, kernel=rbf ......................................\n",
      "[CV] .......... C=0.1, gamma=1, kernel=rbf, score=0.534, total=   0.2s\n",
      "[CV] C=0.1, gamma=1, kernel=rbf ......................................\n"
     ]
    },
    {
     "name": "stderr",
     "output_type": "stream",
     "text": [
      "[Parallel(n_jobs=1)]: Using backend SequentialBackend with 1 concurrent workers.\n",
      "[Parallel(n_jobs=1)]: Done   1 out of   1 | elapsed:    0.1s remaining:    0.0s\n"
     ]
    },
    {
     "name": "stdout",
     "output_type": "stream",
     "text": [
      "[CV] .......... C=0.1, gamma=1, kernel=rbf, score=0.554, total=   0.2s\n",
      "[CV] C=0.1, gamma=1, kernel=rbf ......................................\n",
      "[CV] .......... C=0.1, gamma=1, kernel=rbf, score=0.560, total=   0.2s\n",
      "[CV] C=0.1, gamma=1, kernel=rbf ......................................\n"
     ]
    },
    {
     "name": "stderr",
     "output_type": "stream",
     "text": [
      "[Parallel(n_jobs=1)]: Done   2 out of   2 | elapsed:    0.3s remaining:    0.0s\n"
     ]
    },
    {
     "name": "stdout",
     "output_type": "stream",
     "text": [
      "[CV] .......... C=0.1, gamma=1, kernel=rbf, score=0.526, total=   0.2s\n",
      "[CV] C=0.1, gamma=1, kernel=rbf ......................................\n",
      "[CV] .......... C=0.1, gamma=1, kernel=rbf, score=0.550, total=   0.2s\n",
      "[CV] C=0.1, gamma=0.1, kernel=rbf ....................................\n",
      "[CV] ........ C=0.1, gamma=0.1, kernel=rbf, score=0.935, total=   0.1s\n",
      "[CV] C=0.1, gamma=0.1, kernel=rbf ....................................\n",
      "[CV] ........ C=0.1, gamma=0.1, kernel=rbf, score=0.932, total=   0.1s\n",
      "[CV] C=0.1, gamma=0.1, kernel=rbf ....................................\n",
      "[CV] ........ C=0.1, gamma=0.1, kernel=rbf, score=0.966, total=   0.1s\n",
      "[CV] C=0.1, gamma=0.1, kernel=rbf ....................................\n",
      "[CV] ........ C=0.1, gamma=0.1, kernel=rbf, score=0.932, total=   0.1s\n",
      "[CV] C=0.1, gamma=0.1, kernel=rbf ....................................\n",
      "[CV] ........ C=0.1, gamma=0.1, kernel=rbf, score=0.943, total=   0.1s\n",
      "[CV] C=0.1, gamma=0.01, kernel=rbf ...................................\n",
      "[CV] ....... C=0.1, gamma=0.01, kernel=rbf, score=0.878, total=   0.1s\n",
      "[CV] C=0.1, gamma=0.01, kernel=rbf ...................................\n",
      "[CV] ....... C=0.1, gamma=0.01, kernel=rbf, score=0.895, total=   0.2s\n",
      "[CV] C=0.1, gamma=0.01, kernel=rbf ...................................\n",
      "[CV] ....... C=0.1, gamma=0.01, kernel=rbf, score=0.898, total=   0.1s\n",
      "[CV] C=0.1, gamma=0.01, kernel=rbf ...................................\n",
      "[CV] ....... C=0.1, gamma=0.01, kernel=rbf, score=0.886, total=   0.2s\n",
      "[CV] C=0.1, gamma=0.01, kernel=rbf ...................................\n",
      "[CV] ....... C=0.1, gamma=0.01, kernel=rbf, score=0.869, total=   0.2s\n",
      "[CV] C=0.1, gamma=0.001, kernel=rbf ..................................\n",
      "[CV] ...... C=0.1, gamma=0.001, kernel=rbf, score=0.636, total=   0.3s\n",
      "[CV] C=0.1, gamma=0.001, kernel=rbf ..................................\n",
      "[CV] ...... C=0.1, gamma=0.001, kernel=rbf, score=0.668, total=   0.2s\n",
      "[CV] C=0.1, gamma=0.001, kernel=rbf ..................................\n",
      "[CV] ...... C=0.1, gamma=0.001, kernel=rbf, score=0.656, total=   0.2s\n",
      "[CV] C=0.1, gamma=0.001, kernel=rbf ..................................\n",
      "[CV] ...... C=0.1, gamma=0.001, kernel=rbf, score=0.668, total=   0.2s\n",
      "[CV] C=0.1, gamma=0.001, kernel=rbf ..................................\n",
      "[CV] ...... C=0.1, gamma=0.001, kernel=rbf, score=0.650, total=   0.2s\n",
      "[CV] C=0.1, gamma=0.0001, kernel=rbf .................................\n",
      "[CV] ..... C=0.1, gamma=0.0001, kernel=rbf, score=0.347, total=   0.2s\n",
      "[CV] C=0.1, gamma=0.0001, kernel=rbf .................................\n",
      "[CV] ..... C=0.1, gamma=0.0001, kernel=rbf, score=0.347, total=   0.2s\n",
      "[CV] C=0.1, gamma=0.0001, kernel=rbf .................................\n",
      "[CV] ..... C=0.1, gamma=0.0001, kernel=rbf, score=0.347, total=   0.2s\n",
      "[CV] C=0.1, gamma=0.0001, kernel=rbf .................................\n",
      "[CV] ..... C=0.1, gamma=0.0001, kernel=rbf, score=0.347, total=   0.2s\n",
      "[CV] C=0.1, gamma=0.0001, kernel=rbf .................................\n",
      "[CV] ..... C=0.1, gamma=0.0001, kernel=rbf, score=0.345, total=   0.2s\n",
      "[CV] C=1, gamma=1, kernel=rbf ........................................\n",
      "[CV] ............ C=1, gamma=1, kernel=rbf, score=0.943, total=   0.2s\n",
      "[CV] C=1, gamma=1, kernel=rbf ........................................\n",
      "[CV] ............ C=1, gamma=1, kernel=rbf, score=0.938, total=   0.2s\n",
      "[CV] C=1, gamma=1, kernel=rbf ........................................\n",
      "[CV] ............ C=1, gamma=1, kernel=rbf, score=0.932, total=   0.2s\n",
      "[CV] C=1, gamma=1, kernel=rbf ........................................\n",
      "[CV] ............ C=1, gamma=1, kernel=rbf, score=0.918, total=   0.2s\n",
      "[CV] C=1, gamma=1, kernel=rbf ........................................\n",
      "[CV] ............ C=1, gamma=1, kernel=rbf, score=0.940, total=   0.2s\n",
      "[CV] C=1, gamma=0.1, kernel=rbf ......................................\n",
      "[CV] .......... C=1, gamma=0.1, kernel=rbf, score=0.972, total=   0.1s\n",
      "[CV] C=1, gamma=0.1, kernel=rbf ......................................\n",
      "[CV] .......... C=1, gamma=0.1, kernel=rbf, score=0.960, total=   0.1s\n",
      "[CV] C=1, gamma=0.1, kernel=rbf ......................................\n",
      "[CV] .......... C=1, gamma=0.1, kernel=rbf, score=0.980, total=   0.1s\n",
      "[CV] C=1, gamma=0.1, kernel=rbf ......................................\n",
      "[CV] .......... C=1, gamma=0.1, kernel=rbf, score=0.940, total=   0.1s\n",
      "[CV] C=1, gamma=0.1, kernel=rbf ......................................\n",
      "[CV] .......... C=1, gamma=0.1, kernel=rbf, score=0.963, total=   0.0s\n",
      "[CV] C=1, gamma=0.01, kernel=rbf .....................................\n",
      "[CV] ......... C=1, gamma=0.01, kernel=rbf, score=0.977, total=   0.0s\n",
      "[CV] C=1, gamma=0.01, kernel=rbf .....................................\n",
      "[CV] ......... C=1, gamma=0.01, kernel=rbf, score=0.969, total=   0.1s\n",
      "[CV] C=1, gamma=0.01, kernel=rbf .....................................\n",
      "[CV] ......... C=1, gamma=0.01, kernel=rbf, score=0.974, total=   0.1s\n",
      "[CV] C=1, gamma=0.01, kernel=rbf .....................................\n",
      "[CV] ......... C=1, gamma=0.01, kernel=rbf, score=0.946, total=   0.0s\n",
      "[CV] C=1, gamma=0.01, kernel=rbf .....................................\n",
      "[CV] ......... C=1, gamma=0.01, kernel=rbf, score=0.957, total=   0.1s\n",
      "[CV] C=1, gamma=0.001, kernel=rbf ....................................\n",
      "[CV] ........ C=1, gamma=0.001, kernel=rbf, score=0.886, total=   0.1s\n",
      "[CV] C=1, gamma=0.001, kernel=rbf ....................................\n",
      "[CV] ........ C=1, gamma=0.001, kernel=rbf, score=0.901, total=   0.1s\n",
      "[CV] C=1, gamma=0.001, kernel=rbf ....................................\n",
      "[CV] ........ C=1, gamma=0.001, kernel=rbf, score=0.906, total=   0.1s\n",
      "[CV] C=1, gamma=0.001, kernel=rbf ....................................\n",
      "[CV] ........ C=1, gamma=0.001, kernel=rbf, score=0.889, total=   0.1s\n",
      "[CV] C=1, gamma=0.001, kernel=rbf ....................................\n",
      "[CV] ........ C=1, gamma=0.001, kernel=rbf, score=0.886, total=   0.1s\n",
      "[CV] C=1, gamma=0.0001, kernel=rbf ...................................\n",
      "[CV] ....... C=1, gamma=0.0001, kernel=rbf, score=0.645, total=   0.2s\n",
      "[CV] C=1, gamma=0.0001, kernel=rbf ...................................\n",
      "[CV] ....... C=1, gamma=0.0001, kernel=rbf, score=0.679, total=   0.2s\n",
      "[CV] C=1, gamma=0.0001, kernel=rbf ...................................\n",
      "[CV] ....... C=1, gamma=0.0001, kernel=rbf, score=0.665, total=   0.2s\n",
      "[CV] C=1, gamma=0.0001, kernel=rbf ...................................\n",
      "[CV] ....... C=1, gamma=0.0001, kernel=rbf, score=0.685, total=   0.2s\n",
      "[CV] C=1, gamma=0.0001, kernel=rbf ...................................\n",
      "[CV] ....... C=1, gamma=0.0001, kernel=rbf, score=0.652, total=   0.2s\n",
      "[CV] C=10, gamma=1, kernel=rbf .......................................\n",
      "[CV] ........... C=10, gamma=1, kernel=rbf, score=0.935, total=   0.2s\n",
      "[CV] C=10, gamma=1, kernel=rbf .......................................\n",
      "[CV] ........... C=10, gamma=1, kernel=rbf, score=0.932, total=   0.2s\n",
      "[CV] C=10, gamma=1, kernel=rbf .......................................\n",
      "[CV] ........... C=10, gamma=1, kernel=rbf, score=0.935, total=   0.2s\n",
      "[CV] C=10, gamma=1, kernel=rbf .......................................\n",
      "[CV] ........... C=10, gamma=1, kernel=rbf, score=0.915, total=   0.2s\n",
      "[CV] C=10, gamma=1, kernel=rbf .......................................\n",
      "[CV] ........... C=10, gamma=1, kernel=rbf, score=0.937, total=   0.2s\n",
      "[CV] C=10, gamma=0.1, kernel=rbf .....................................\n",
      "[CV] ......... C=10, gamma=0.1, kernel=rbf, score=0.966, total=   0.1s\n",
      "[CV] C=10, gamma=0.1, kernel=rbf .....................................\n",
      "[CV] ......... C=10, gamma=0.1, kernel=rbf, score=0.966, total=   0.1s\n",
      "[CV] C=10, gamma=0.1, kernel=rbf .....................................\n",
      "[CV] ......... C=10, gamma=0.1, kernel=rbf, score=0.980, total=   0.1s\n",
      "[CV] C=10, gamma=0.1, kernel=rbf .....................................\n",
      "[CV] ......... C=10, gamma=0.1, kernel=rbf, score=0.940, total=   0.1s\n",
      "[CV] C=10, gamma=0.1, kernel=rbf .....................................\n",
      "[CV] ......... C=10, gamma=0.1, kernel=rbf, score=0.957, total=   0.1s\n",
      "[CV] C=10, gamma=0.01, kernel=rbf ....................................\n",
      "[CV] ........ C=10, gamma=0.01, kernel=rbf, score=0.980, total=   0.0s\n",
      "[CV] C=10, gamma=0.01, kernel=rbf ....................................\n",
      "[CV] ........ C=10, gamma=0.01, kernel=rbf, score=0.966, total=   0.0s\n",
      "[CV] C=10, gamma=0.01, kernel=rbf ....................................\n",
      "[CV] ........ C=10, gamma=0.01, kernel=rbf, score=0.980, total=   0.0s\n",
      "[CV] C=10, gamma=0.01, kernel=rbf ....................................\n",
      "[CV] ........ C=10, gamma=0.01, kernel=rbf, score=0.955, total=   0.1s\n",
      "[CV] C=10, gamma=0.01, kernel=rbf ....................................\n",
      "[CV] ........ C=10, gamma=0.01, kernel=rbf, score=0.972, total=   0.0s\n",
      "[CV] C=10, gamma=0.001, kernel=rbf ...................................\n",
      "[CV] ....... C=10, gamma=0.001, kernel=rbf, score=0.974, total=   0.1s\n",
      "[CV] C=10, gamma=0.001, kernel=rbf ...................................\n",
      "[CV] ....... C=10, gamma=0.001, kernel=rbf, score=0.963, total=   0.1s\n",
      "[CV] C=10, gamma=0.001, kernel=rbf ...................................\n",
      "[CV] ....... C=10, gamma=0.001, kernel=rbf, score=0.969, total=   0.1s\n",
      "[CV] C=10, gamma=0.001, kernel=rbf ...................................\n",
      "[CV] ....... C=10, gamma=0.001, kernel=rbf, score=0.949, total=   0.1s\n",
      "[CV] C=10, gamma=0.001, kernel=rbf ...................................\n",
      "[CV] ....... C=10, gamma=0.001, kernel=rbf, score=0.949, total=   0.1s\n",
      "[CV] C=10, gamma=0.0001, kernel=rbf ..................................\n",
      "[CV] ...... C=10, gamma=0.0001, kernel=rbf, score=0.889, total=   0.1s\n",
      "[CV] C=10, gamma=0.0001, kernel=rbf ..................................\n",
      "[CV] ...... C=10, gamma=0.0001, kernel=rbf, score=0.901, total=   0.1s\n",
      "[CV] C=10, gamma=0.0001, kernel=rbf ..................................\n",
      "[CV] ...... C=10, gamma=0.0001, kernel=rbf, score=0.909, total=   0.1s\n",
      "[CV] C=10, gamma=0.0001, kernel=rbf ..................................\n",
      "[CV] ...... C=10, gamma=0.0001, kernel=rbf, score=0.889, total=   0.1s\n",
      "[CV] C=10, gamma=0.0001, kernel=rbf ..................................\n",
      "[CV] ...... C=10, gamma=0.0001, kernel=rbf, score=0.886, total=   0.1s\n",
      "[CV] C=100, gamma=1, kernel=rbf ......................................\n",
      "[CV] .......... C=100, gamma=1, kernel=rbf, score=0.935, total=   0.2s\n",
      "[CV] C=100, gamma=1, kernel=rbf ......................................\n",
      "[CV] .......... C=100, gamma=1, kernel=rbf, score=0.932, total=   0.2s\n",
      "[CV] C=100, gamma=1, kernel=rbf ......................................\n",
      "[CV] .......... C=100, gamma=1, kernel=rbf, score=0.935, total=   0.2s\n",
      "[CV] C=100, gamma=1, kernel=rbf ......................................\n",
      "[CV] .......... C=100, gamma=1, kernel=rbf, score=0.915, total=   0.2s\n",
      "[CV] C=100, gamma=1, kernel=rbf ......................................\n",
      "[CV] .......... C=100, gamma=1, kernel=rbf, score=0.937, total=   0.2s\n",
      "[CV] C=100, gamma=0.1, kernel=rbf ....................................\n",
      "[CV] ........ C=100, gamma=0.1, kernel=rbf, score=0.952, total=   0.1s\n",
      "[CV] C=100, gamma=0.1, kernel=rbf ....................................\n",
      "[CV] ........ C=100, gamma=0.1, kernel=rbf, score=0.946, total=   0.1s\n",
      "[CV] C=100, gamma=0.1, kernel=rbf ....................................\n",
      "[CV] ........ C=100, gamma=0.1, kernel=rbf, score=0.974, total=   0.1s\n",
      "[CV] C=100, gamma=0.1, kernel=rbf ....................................\n",
      "[CV] ........ C=100, gamma=0.1, kernel=rbf, score=0.923, total=   0.1s\n",
      "[CV] C=100, gamma=0.1, kernel=rbf ....................................\n",
      "[CV] ........ C=100, gamma=0.1, kernel=rbf, score=0.954, total=   0.1s\n",
      "[CV] C=100, gamma=0.01, kernel=rbf ...................................\n",
      "[CV] ....... C=100, gamma=0.01, kernel=rbf, score=0.977, total=   0.0s\n",
      "[CV] C=100, gamma=0.01, kernel=rbf ...................................\n",
      "[CV] ....... C=100, gamma=0.01, kernel=rbf, score=0.972, total=   0.0s\n",
      "[CV] C=100, gamma=0.01, kernel=rbf ...................................\n",
      "[CV] ....... C=100, gamma=0.01, kernel=rbf, score=0.977, total=   0.1s\n",
      "[CV] C=100, gamma=0.01, kernel=rbf ...................................\n",
      "[CV] ....... C=100, gamma=0.01, kernel=rbf, score=0.957, total=   0.0s\n",
      "[CV] C=100, gamma=0.01, kernel=rbf ...................................\n",
      "[CV] ....... C=100, gamma=0.01, kernel=rbf, score=0.966, total=   0.1s\n",
      "[CV] C=100, gamma=0.001, kernel=rbf ..................................\n",
      "[CV] ...... C=100, gamma=0.001, kernel=rbf, score=0.980, total=   0.1s\n",
      "[CV] C=100, gamma=0.001, kernel=rbf ..................................\n",
      "[CV] ...... C=100, gamma=0.001, kernel=rbf, score=0.972, total=   0.1s\n",
      "[CV] C=100, gamma=0.001, kernel=rbf ..................................\n",
      "[CV] ...... C=100, gamma=0.001, kernel=rbf, score=0.977, total=   0.1s\n",
      "[CV] C=100, gamma=0.001, kernel=rbf ..................................\n",
      "[CV] ...... C=100, gamma=0.001, kernel=rbf, score=0.957, total=   0.1s\n",
      "[CV] C=100, gamma=0.001, kernel=rbf ..................................\n",
      "[CV] ...... C=100, gamma=0.001, kernel=rbf, score=0.957, total=   0.1s\n",
      "[CV] C=100, gamma=0.0001, kernel=rbf .................................\n",
      "[CV] ..... C=100, gamma=0.0001, kernel=rbf, score=0.972, total=   0.1s\n",
      "[CV] C=100, gamma=0.0001, kernel=rbf .................................\n",
      "[CV] ..... C=100, gamma=0.0001, kernel=rbf, score=0.960, total=   0.0s\n",
      "[CV] C=100, gamma=0.0001, kernel=rbf .................................\n",
      "[CV] ..... C=100, gamma=0.0001, kernel=rbf, score=0.969, total=   0.1s\n",
      "[CV] C=100, gamma=0.0001, kernel=rbf .................................\n",
      "[CV] ..... C=100, gamma=0.0001, kernel=rbf, score=0.949, total=   0.1s\n",
      "[CV] C=100, gamma=0.0001, kernel=rbf .................................\n",
      "[CV] ..... C=100, gamma=0.0001, kernel=rbf, score=0.949, total=   0.1s\n",
      "[CV] C=1000, gamma=1, kernel=rbf .....................................\n",
      "[CV] ......... C=1000, gamma=1, kernel=rbf, score=0.935, total=   0.2s\n",
      "[CV] C=1000, gamma=1, kernel=rbf .....................................\n",
      "[CV] ......... C=1000, gamma=1, kernel=rbf, score=0.932, total=   0.2s\n",
      "[CV] C=1000, gamma=1, kernel=rbf .....................................\n",
      "[CV] ......... C=1000, gamma=1, kernel=rbf, score=0.935, total=   0.2s\n",
      "[CV] C=1000, gamma=1, kernel=rbf .....................................\n",
      "[CV] ......... C=1000, gamma=1, kernel=rbf, score=0.915, total=   0.2s\n",
      "[CV] C=1000, gamma=1, kernel=rbf .....................................\n",
      "[CV] ......... C=1000, gamma=1, kernel=rbf, score=0.937, total=   0.2s\n",
      "[CV] C=1000, gamma=0.1, kernel=rbf ...................................\n",
      "[CV] ....... C=1000, gamma=0.1, kernel=rbf, score=0.935, total=   0.1s\n",
      "[CV] C=1000, gamma=0.1, kernel=rbf ...................................\n",
      "[CV] ....... C=1000, gamma=0.1, kernel=rbf, score=0.938, total=   0.1s\n",
      "[CV] C=1000, gamma=0.1, kernel=rbf ...................................\n",
      "[CV] ....... C=1000, gamma=0.1, kernel=rbf, score=0.960, total=   0.1s\n",
      "[CV] C=1000, gamma=0.1, kernel=rbf ...................................\n",
      "[CV] ....... C=1000, gamma=0.1, kernel=rbf, score=0.912, total=   0.1s\n",
      "[CV] C=1000, gamma=0.1, kernel=rbf ...................................\n",
      "[CV] ....... C=1000, gamma=0.1, kernel=rbf, score=0.946, total=   0.1s\n",
      "[CV] C=1000, gamma=0.01, kernel=rbf ..................................\n",
      "[CV] ...... C=1000, gamma=0.01, kernel=rbf, score=0.966, total=   0.1s\n",
      "[CV] C=1000, gamma=0.01, kernel=rbf ..................................\n",
      "[CV] ...... C=1000, gamma=0.01, kernel=rbf, score=0.966, total=   0.1s\n",
      "[CV] C=1000, gamma=0.01, kernel=rbf ..................................\n",
      "[CV] ...... C=1000, gamma=0.01, kernel=rbf, score=0.980, total=   0.1s\n",
      "[CV] C=1000, gamma=0.01, kernel=rbf ..................................\n",
      "[CV] ...... C=1000, gamma=0.01, kernel=rbf, score=0.952, total=   0.1s\n",
      "[CV] C=1000, gamma=0.01, kernel=rbf ..................................\n",
      "[CV] ...... C=1000, gamma=0.01, kernel=rbf, score=0.974, total=   0.1s\n",
      "[CV] C=1000, gamma=0.001, kernel=rbf .................................\n",
      "[CV] ..... C=1000, gamma=0.001, kernel=rbf, score=0.980, total=   0.1s\n",
      "[CV] C=1000, gamma=0.001, kernel=rbf .................................\n",
      "[CV] ..... C=1000, gamma=0.001, kernel=rbf, score=0.974, total=   0.0s\n",
      "[CV] C=1000, gamma=0.001, kernel=rbf .................................\n",
      "[CV] ..... C=1000, gamma=0.001, kernel=rbf, score=0.977, total=   0.1s\n",
      "[CV] C=1000, gamma=0.001, kernel=rbf .................................\n",
      "[CV] ..... C=1000, gamma=0.001, kernel=rbf, score=0.963, total=   0.0s\n",
      "[CV] C=1000, gamma=0.001, kernel=rbf .................................\n",
      "[CV] ..... C=1000, gamma=0.001, kernel=rbf, score=0.972, total=   0.1s\n",
      "[CV] C=1000, gamma=0.0001, kernel=rbf ................................\n",
      "[CV] .... C=1000, gamma=0.0001, kernel=rbf, score=0.980, total=   0.1s\n",
      "[CV] C=1000, gamma=0.0001, kernel=rbf ................................\n",
      "[CV] .... C=1000, gamma=0.0001, kernel=rbf, score=0.969, total=   0.1s\n",
      "[CV] C=1000, gamma=0.0001, kernel=rbf ................................\n",
      "[CV] .... C=1000, gamma=0.0001, kernel=rbf, score=0.974, total=   0.1s\n",
      "[CV] C=1000, gamma=0.0001, kernel=rbf ................................\n",
      "[CV] .... C=1000, gamma=0.0001, kernel=rbf, score=0.952, total=   0.0s\n",
      "[CV] C=1000, gamma=0.0001, kernel=rbf ................................\n",
      "[CV] .... C=1000, gamma=0.0001, kernel=rbf, score=0.960, total=   0.0s\n",
      "{'C': 1000, 'gamma': 0.001, 'kernel': 'rbf'}\n",
      "SVC(C=1000, gamma=0.001)\n"
     ]
    },
    {
     "name": "stderr",
     "output_type": "stream",
     "text": [
      "[Parallel(n_jobs=1)]: Done 125 out of 125 | elapsed:   14.6s finished\n"
     ]
    }
   ],
   "source": [
    "param_grid = {'C': [0.1, 1, 10, 100, 1000],\n",
    "              'gamma': [1, 0.1, 0.01, 0.001, 0.0001],\n",
    "              'kernel': ['rbf']}\n",
    " \n",
    "grid = GridSearchCV(SVC(), param_grid, refit = True, verbose = 3)\n",
    " \n",
    "# fitting the model for grid search\n",
    "grid.fit(x_train, y_train)\n",
    "print(grid.best_params_)\n",
    "print(grid.best_estimator_)"
   ]
  },
  {
   "cell_type": "code",
   "execution_count": 90,
   "metadata": {},
   "outputs": [
    {
     "name": "stdout",
     "output_type": "stream",
     "text": [
      "Score 0.961910176236498\n",
      "Accuracy Score 95.09933774834437\n",
      "Confusion Matrix\n",
      " [[239  19   0]\n",
      " [ 18 211   0]\n",
      " [  0   0 268]]\n",
      "Classification Report\n",
      "               precision    recall  f1-score   support\n",
      "\n",
      "           0       0.93      0.93      0.93       258\n",
      "           1       0.92      0.92      0.92       229\n",
      "           2       1.00      1.00      1.00       268\n",
      "\n",
      "    accuracy                           0.95       755\n",
      "   macro avg       0.95      0.95      0.95       755\n",
      "weighted avg       0.95      0.95      0.95       755\n",
      "\n"
     ]
    },
    {
     "data": {
      "image/png": "[encoded data removed]",
      "text/plain": [
       "<Figure size 360x360 with 2 Axes>"
      ]
     },
     "metadata": {},
     "output_type": "display_data"
    }
   ],
   "source": [
    "svc1=SVC(C=100,gamma=0.0001,kernel='rbf')\n",
    "fun(svc1)"
   ]
  },
  {
   "cell_type": "code",
   "execution_count": 91,
   "metadata": {},
   "outputs": [
    {
     "name": "stdout",
     "output_type": "stream",
     "text": [
      "score of cross validation score for DecisonTreeclassifier 95.38760847771714\n",
      "score of cross validation score for GradientBoostingClassifier 96.22340587121403\n",
      "score of cross validation score for RandomForestClassifier 94.83110639676768\n",
      "score of cross validation score for svc Classifier 95.22875254422651\n"
     ]
    }
   ],
   "source": [
    "score=cross_val_score(dtc1,x,y,cv=4)\n",
    "print(\"score of cross validation score for DecisonTreeclassifier\",score.mean()*100)\n",
    "score=cross_val_score(gd1,x,y,cv=4)\n",
    "print('score of cross validation score for GradientBoostingClassifier',score.mean()*100)\n",
    "score=cross_val_score(rndf1,x,y,cv=4)\n",
    "print(\"score of cross validation score for RandomForestClassifier\",score.mean()*100)\n",
    "score=cross_val_score(svc1,x,y,cv=4)\n",
    "print(\"score of cross validation score for svc Classifier\",score.mean()*100)"
   ]
  },
  {
   "cell_type": "code",
   "execution_count": 96,
   "metadata": {},
   "outputs": [],
   "source": [
    "import pickle\n",
    "filename='skyserver.pkl'\n",
    "pickle.dump(gd1,open(filename,'wb'))"
   ]
  },
  {
   "cell_type": "code",
   "execution_count": 97,
   "metadata": {},
   "outputs": [
    {
     "name": "stdout",
     "output_type": "stream",
     "text": [
      "      Actual  Predict\n",
      "1321       1        1\n",
      "242        0        0\n",
      "2484       2        2\n",
      "1709       2        2\n",
      "280        0        0\n",
      "...      ...      ...\n",
      "1112       1        1\n",
      "1869       2        2\n",
      "2421       2        2\n",
      "2300       2        2\n",
      "1104       1        1\n",
      "\n",
      "[755 rows x 2 columns]\n"
     ]
    },
    {
     "data": {
      "text/plain": [
       "<seaborn.axisgrid.FacetGrid at 0x132a0a843d0>"
      ]
     },
     "execution_count": 97,
     "metadata": {},
     "output_type": "execute_result"
    },
    {
     "data": {
      "image/png": "[encoded data removed]",
      "text/plain": [
       "<Figure size 360x360 with 1 Axes>"
      ]
     },
     "metadata": {},
     "output_type": "display_data"
    }
   ],
   "source": [
    "res=pd.DataFrame()\n",
    "res['Actual']=y_test\n",
    "res['Predict']=svc.predict(x_test)\n",
    "print(res)\n",
    "sns.catplot(data=res)"
   ]
  },
  {
   "cell_type": "markdown",
   "metadata": {},
   "source": [
    "### THANK YOU"
   ]
  },
  {
   "cell_type": "code",
   "execution_count": null,
   "metadata": {},
   "outputs": [],
   "source": []
  }
 ],
 "metadata": {
  "kernelspec": {
   "display_name": "Python 3",
   "language": "python",
   "name": "python3"
  },
  "language_info": {
   "codemirror_mode": {
    "name": "ipython",
    "version": 3
   },
   "file_extension": ".py",
   "mimetype": "text/x-python",
   "name": "python",
   "nbconvert_exporter": "python",
   "pygments_lexer": "ipython3",
   "version": "3.8.3"
  }
 },
 "nbformat": 4,
 "nbformat_minor": 4
}
